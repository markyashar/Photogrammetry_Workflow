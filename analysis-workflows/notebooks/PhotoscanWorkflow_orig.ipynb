{
 "cells": [
  {
   "cell_type": "markdown",
   "metadata": {
    "collapsed": true
   },
   "source": [
    "# Overview\n",
    "This Jupyter notebook helps you create a 3D model using the Photoscan photogrammetry software, leveraging the computing power of a high-performance compute cluster. It assumes that your photographs are stored in a folder on [Box](http://berkeley.box.com), and the results of each step are saved back to Box.\n",
    "\n",
    "If you want to manually edit the results of any step in the process, you can sync or download the project file and photos from Box to any computer with Photoscan installed (version 1.5 or higher), make your edits, and move the changes back to Box before proceeding with the next computationally-intensive processing step."
   ]
  },
  {
   "cell_type": "markdown",
   "metadata": {
    "collapsed": true
   },
   "source": [
    "### Software versions\n",
    "This notebook has been tested using:\n",
    "* python 3.5 kernel\n",
    "* boxsdk (2.0.0a2)\n",
    "* Photoscan 1.3 or later"
   ]
  },
  {
   "cell_type": "markdown",
   "metadata": {},
   "source": [
    "## Workflow at a glance\n",
    "The photogrammetry workflow laid out here involves the following steps. Each listed step has its own section in the notebook. \n",
    "1. **Overview**: the overview that you're currently reading\n",
    "2. **Source Files**: defines where various source files are located.\n",
    "3. **Box Setup**: connects this notebook to Box so it can access the photos you've stored there. \n",
    "4. **Project Setup**: pulls your images into the computing cluster, and creates a new Photoscan (psx) file if needed.\n",
    "5. **Align Photos**: arranges the photos you've taken, relative to one another. 1% to 8% of the expected processing time.\n",
    "6. **Build Dense Cloud**: creates the a point cloud from the photographs. The most computationally-intensive step, which can take 50%-96% of the total model generation time, depending on your settings. This step is run using GPU nodes on the cluster, which improve performance.\n",
    "7. **Build Mesh**: connecting the point cloud together to build a mesh takes around 30% of the processing time on lower quality settings, or as little as 2% on higher quality settings.\n",
    "8. **Build Texture**: building the texture takes between 8% (medium quality) and 1% (ultra high quality) of the processing time.\n",
    "9. **Export Results**: exporting the photomosaic and OBJ files, and moving them to Box."
   ]
  },
  {
   "cell_type": "markdown",
   "metadata": {
    "collapsed": true
   },
   "source": [
    "# Project Setup\n",
    "This step connects the notebook to Box. Before you get started, make sure you have a folder in Box for your project. That folder should have a folder inside it called \"images\" that has all the photos you want to use for your 3D model. This workflow will also create a new folder, \"files\", that contains the project files-- you don't have to set that up in advance.\n",
    "\n",
    "Click the code box below, and then click the \"run cell\" button in the toolbar. This will run the code and move to the next box.\n",
    "\n",
    "After you run the next code box, your user name on the cluster should appear at the bottom."
   ]
  },
  {
   "cell_type": "code",
   "execution_count": null,
   "metadata": {
    "code_folding": [
     1
    ],
    "collapsed": false,
    "scrolled": true
   },
   "outputs": [],
   "source": [
    "# widget imports\n",
    "from __future__ import print_function\n",
    "from ipywidgets import interact, interactive, fixed, VBox\n",
    "import ipywidgets as widgets\n",
    "from IPython.display import display\n",
    "\n",
    "usernamearray = %sx whoami\n",
    "username = usernamearray[0]\n",
    "print('user name: ', username)\n",
    "\n",
    "def f(x):\n",
    "    return x\n",
    "\n",
    "def pn(projectName):\n",
    "    return projectName\n",
    "\n",
    "def smf(mountFolder):\n",
    "    return mountFolder\n",
    "\n",
    "def bpf(boxFolder):\n",
    "    return boxFolder\n",
    "\n",
    "def scp(containerPath):\n",
    "    return containerPath\n",
    "\n",
    "def idd(imageDataPath):\n",
    "    return imageDataPath\n",
    "\n",
    "def hfp(homePath):\n",
    "    return homePath\n",
    "\n",
    "def rf(runPath):\n",
    "    return runPath\n",
    "\n",
    "\n",
    "#Define widgets and defaults\n",
    "pntextbox=widgets.Text(value='projectname', description='Project Name')\n",
    "#singularitymountfoldertextbox =widgets.Text(value='/scratch/', description='Singularity Mount Folder') \n",
    "singularitymountfoldertextbox =widgets.Text(value='/scratch/') \n",
    "boxfoldertextbox =widgets.Text(value='myBoxFolderName', description='Box Project Folder') \n",
    "scptextbox=widgets.Text(value='/global/scratch/groups/dh/photoscan13.img', description='Path to Container')\n",
    "#iddtextbox=widgets.Text(value='/global/scratch/' + username + '/imageData', description='Image Data')\n",
    "hometextbox=widgets.Text(value='/global/home/users/' + username + '/', description='Home Folder')\n",
    "runtextbox=widgets.Text(value='/global/scratch/' + username + '/'  + pntextbox.value + '/', description='Run Folder')"
   ]
  },
  {
   "cell_type": "markdown",
   "metadata": {},
   "source": [
    "## Project set up\n",
    "After you run the code box below, a set of text boxes will appear. Click in the text boxes and enter the following values:\n",
    "* **Project name**: The name of your project. Will be used for some of the folders on the cluster that will be created to process the project.\n",
    "* **Mount folder**: Where your photos will be uploaded for processing. Unless you know specifically this should be somewhere else, leave this as /scratch/\n",
    "* **Box project folder**: The name of the folder on Box that has your photos in it.\n",
    "* **Path to container**: The location on the cluster where the container with the Photoscan software is installed. At Berkeley, this container is at /global/scratch/groups/dh/photoscan13.img.\n",
    "* **Home folder**: Your home folder on the cluster. \n",
    "* **Run folder**: The folder where the various job scripts to trigger the processing steps will be stored. Default: /global/scratch/your-user-name/your-project-name/\n",
    "\n",
    "When you're done filling in the text boxes, hit the \"run cell\" button again.\n"
   ]
  },
  {
   "cell_type": "code",
   "execution_count": null,
   "metadata": {
    "code_folding": [
     0
    ],
    "collapsed": false,
    "scrolled": true
   },
   "outputs": [],
   "source": [
    "# Enter the projectname\n",
    "interact(pn, projectName=pntextbox)\n",
    "\n",
    "# Enter the Singularity Mount Folder here, this is defined inside the Singularity container:\n",
    "interact(smf, mountFolder=singularitymountfoldertextbox)\n",
    "\n",
    "# Enter the Box Project folder\n",
    "interact(bpf, boxFolder=boxfoldertextbox)\n",
    "\n",
    "# Enter the path to the Singularity container hosting Photoscan\n",
    "interact(scp, containerPath=scptextbox)\n",
    "\n",
    "# Enter the path to where the iamge files from Box should be place on the scrath drive\n",
    "#interact(idd, imageDataPath=iddtextbox)\n",
    "\n",
    "# Enter the path to the user home folder where Box oauth information is stored in files.\n",
    "interact(hfp, homePath=hometextbox)\n",
    "\n",
    "# Enter the path to the run home folder where processing will be conducted and intermediate files created.\n",
    "interact(rf, runPath=runtextbox)"
   ]
  },
  {
   "cell_type": "markdown",
   "metadata": {},
   "source": [
    "## Creating project folders\n",
    "The code box below creates the project folders (e.g. run folder, scratch images directory) on the cluster if they don't already exist."
   ]
  },
  {
   "cell_type": "code",
   "execution_count": null,
   "metadata": {
    "code_folding": [],
    "collapsed": false,
    "scrolled": true
   },
   "outputs": [],
   "source": [
    "projectname =  pntextbox.value\n",
    "\n",
    "# Defines all paths and filenames\n",
    "import os\n",
    "\n",
    "usernamearray = %sx whoami\n",
    "username = usernamearray[0]\n",
    "print('user name: ', username)\n",
    "print('project name: ', projectname)\n",
    "\n",
    "runFolder = os.path.join(runtextbox.value, '')\n",
    "homeFolder =  os.path.join(hometextbox.value, '')\n",
    "print('run folder: ', runFolder)\n",
    "\n",
    "# Creates the run folder if it does not exist\n",
    "if ( not os.path.isdir(runFolder)):\n",
    "    print('run folder does not exist, creating.')\n",
    "    os.mkdir(runFolder)\n",
    "\n",
    "singularitymountfolder = os.path.join(singularitymountfoldertextbox.value, '')\n",
    "\n",
    "boxProjectFolder = boxfoldertextbox.value\n",
    "projectFile = '/' + projectname + '.psx'\n",
    "datazipFile = '/' + projectname + '.files.zip'\n",
    "dataFolder = '/' + projectname + '.files'\n",
    "\n",
    "projectfileid = ''\n",
    "jpgFile = projectname + '.jpg'\n",
    "\n",
    "scratchImageDataDirectory = runFolder + 'images/'\n",
    "print('scratchImageDataDirectory: ', scratchImageDataDirectory)\n",
    "# Creates the image folder if it does not exist\n",
    "if ( not os.path.isdir(scratchImageDataDirectory)):\n",
    "    print('images folder does not exist, creating.')\n",
    "    os.mkdir(scratchImageDataDirectory)\n",
    "\n",
    "slurmScript = runFolder + 'slurmscript.sh'\n",
    "execScript = runFolder + 'execscript.sh'\n",
    "scratchExecScript = singularitymountfolder + 'execscript.sh'\n",
    "commandScript = runFolder + 'commandscript.sh'\n",
    "\n",
    "singularityContainerPath = scptextbox.value\n",
    "#/global/scratch/groups/dh/photoscan13.img"
   ]
  },
  {
   "cell_type": "markdown",
   "metadata": {},
   "source": [
    "## Box setup\n",
    "\n",
    "To connect Box with this notebook, you need to go through some one-time configuration steps the first time you use this notebook for any project. Please run the *BoxAuthenticationBootstrap.ipynb* notebook, then return to the code cells below to finish setup. After you finish the last cell, you should see *Folder name:  All Files*.\n",
    "\n",
    "If you run this notebook again for another project, you won't have to run *BoxAuthenticationBootstrap.ipynb* again, and can just continue to the code below."
   ]
  },
  {
   "cell_type": "code",
   "execution_count": null,
   "metadata": {
    "collapsed": true,
    "scrolled": false
   },
   "outputs": [],
   "source": [
    "def store_tokens(access_token, refresh_token):\n",
    "    \n",
    "    \"\"\"Callback for storing refresh tokens. (For now we ignore access tokens).\"\"\"\n",
    "    with open(homeFolder + 'apptoken.cfg', 'w') as f:\n",
    "     f.write(refresh_token.strip())"
   ]
  },
  {
   "cell_type": "code",
   "execution_count": null,
   "metadata": {
    "collapsed": false,
    "scrolled": false
   },
   "outputs": [],
   "source": [
    "import os\n",
    "\n",
    "CLIENT_ID = None\n",
    "CLIENT_SECRET = None\n",
    "REDIRECT_URI = None\n",
    "# Read app info from text file\n",
    "with open(homeFolder + 'app.cfg', 'r') as app_cfg:\n",
    "    CLIENT_ID = app_cfg.readline()\n",
    "    CLIENT_SECRET = app_cfg.readline()\n",
    "    REDIRECT_URI = app_cfg.readline()\n"
   ]
  },
  {
   "cell_type": "code",
   "execution_count": null,
   "metadata": {
    "collapsed": true,
    "scrolled": false
   },
   "outputs": [],
   "source": [
    "REFRESH_TOKEN = None\n",
    "\n",
    "# Read app info from text file\n",
    "with open(homeFolder + 'apptoken.cfg', 'r') as apptoken_cfg:\n",
    "    REFRESH_TOKEN = apptoken_cfg.readline()"
   ]
  },
  {
   "cell_type": "code",
   "execution_count": null,
   "metadata": {
    "collapsed": false,
    "scrolled": false
   },
   "outputs": [],
   "source": [
    "from boxsdk import OAuth2\n",
    "from boxsdk import Client\n",
    "\n",
    "# Do OAuth2 authorization.\n",
    "oauth = OAuth2(\n",
    "    client_id=CLIENT_ID.strip(),\n",
    "    client_secret=CLIENT_SECRET.strip(),\n",
    "    refresh_token=REFRESH_TOKEN.strip(),\n",
    "    store_tokens=store_tokens\n",
    ")\n",
    "\n",
    "client = Client(oauth)\n",
    "\n",
    "root_folder = client.folder(folder_id='0').get()\n",
    "print (\"Folder name: \", root_folder['name'] )\n",
    "\n",
    "items = client.folder(folder_id='0').get_items(limit=100, offset=0)\n",
    "#print (\"items: \", items )\n",
    "\n"
   ]
  },
  {
   "cell_type": "markdown",
   "metadata": {},
   "source": [
    "## Finding folder on box\n",
    "The function below looks for your project folder on Box."
   ]
  },
  {
   "cell_type": "code",
   "execution_count": null,
   "metadata": {
    "collapsed": false,
    "scrolled": false
   },
   "outputs": [],
   "source": [
    "def find_folder_id(folder_name):\n",
    "    print ('find_folder_id folder_name: ', folder_name)\n",
    "    folderlist = client.search(query=folder_name, result_type='folder', limit=100, offset=0)\n",
    "    \n",
    "    print ('find_folder_id folderlist: ', folderlist)\n",
    "    \n",
    "    if len(folderlist) == 0:\n",
    "        print('folder not found: ', folder_name)\n",
    "        return 0\n",
    "    else:\n",
    "        for fldr in folderlist:\n",
    "            if fldr['name'] == folder_name :\n",
    "                return fldr['id']\n",
    "            \n",
    "        return 0"
   ]
  },
  {
   "cell_type": "markdown",
   "metadata": {},
   "source": [
    "## Create command scripts template\n",
    "This code writes out a execute file that includes the license install as the first step each time to enable any HPC node. This is a temporary workaround until release 1.3 is installed on Savio and a license server is configured."
   ]
  },
  {
   "cell_type": "code",
   "execution_count": null,
   "metadata": {
    "collapsed": false,
    "scrolled": false
   },
   "outputs": [],
   "source": [
    "# script for singularity to run\n",
    "import os, stat\n",
    "\n",
    "execScriptTemplate = 'export RLM_LICENSE=5053@lmgr0.brc.berkeley.edu \\n\\\n",
    "/opt/photoscan-pro/photoscan.sh -r  /scratch/commandscript.sh \\n'\n",
    "\n",
    "\n",
    "with open(execScript, 'w') as f:\n",
    "    f.write(execScriptTemplate)\n",
    "    \n",
    "os.chmod(execScript,  0o755)    \n"
   ]
  },
  {
   "cell_type": "code",
   "execution_count": null,
   "metadata": {
    "collapsed": false
   },
   "outputs": [],
   "source": [
    "# batch script\n",
    "batchtemplate = '#!/bin/bash  \\n\\\n",
    "# Job name: \\n\\\n",
    "#SBATCH --job-name=' + projectname + '\\n\\\n",
    "# \\n\\\n",
    "# Account: \\n\\\n",
    "#SBATCH --account=ac_scsguest \\n\\\n",
    "# \\n\\\n",
    "# Partition: \\n\\\n",
    "#SBATCH --partition=savio \\n\\\n",
    "# \\n\\\n",
    "# Wall clock limit: \\n\\\n",
    "#SBATCH --time={} \\n\\\n",
    "# \\n\\\n",
    "## Command(s) to run: \\n\\\n",
    "singularity exec --writable -B ' + runFolder + ':' + singularitymountfolder + '  ' + singularityContainerPath + '  ' + scratchExecScript + '\\n' \n",
    "  \n",
    "    "
   ]
  },
  {
   "cell_type": "markdown",
   "metadata": {},
   "source": [
    "## Function for updating project file\n",
    "Multiple times in the workflow, the project folder needs to be updated on Box in order to enable making edits through the desktop version of Photoscan. This sets up a utility funcation that pushes the project \n",
    "file into the working directory on Savio. It assumes that the project folder will only contain one project file and one zipped archive."
   ]
  },
  {
   "cell_type": "code",
   "execution_count": null,
   "metadata": {
    "collapsed": false,
    "scrolled": false
   },
   "outputs": [],
   "source": [
    "import os\n",
    "import shutil\n",
    "\n",
    "def update_project_file_in_box():\n",
    "\n",
    "    newFolderId = find_folder_id(boxProjectFolder)\n",
    "    print (\"Box folder id: \", newFolderId  )\n",
    "    \n",
    "    # create a zipped archive of the data folder\n",
    "    shutil.make_archive(runFolder + dataFolder, 'zip', runFolder + dataFolder)\n",
    "    \n",
    "    projectfilelist = client.search(query=projectFile, result_type='file', limit=10, \n",
    "                                offset=0, ancestor_folders=[client.folder(folder_id=newFolderId)],\n",
    "                                file_extensions=['psx'] )  \n",
    "    \n",
    "    print (\"project file list: \", projectfilelist  )\n",
    "    \n",
    "    # if project file is not yet in folder, upload both the project file and the data zip file\n",
    "    if len(projectfilelist) == 0 or len(projectfilelist) > 1: \n",
    "        print (\"project file not found. \" )\n",
    "        upload_folder = client.folder(folder_id=newFolderId).get()\n",
    "        projectpsx = upload_folder.upload(runFolder + projectFile)  \n",
    "        print (\"project file id: \", projectpsx['id'] )\n",
    "        projectzip = upload_folder.upload(runFolder + datazipFile)  \n",
    "        print (\"data zip file id: \", projectzip['id'] )\n",
    "        return\n",
    "    else:\n",
    "        datazipfilelist = client.search(query=datazipFile, result_type='file', limit=10, \n",
    "                                offset=0, ancestor_folders=[client.folder(folder_id=newFolderId)])\n",
    "                                #file_extensions=['zip'] )  \n",
    "        print (\"datazip file list: \", datazipfilelist  )\n",
    "        \n",
    "        projectfileid = projectfilelist[0]['id']\n",
    "        print (\"project file id: \", projectfileid )\n",
    "        datazipfileid = datazipfilelist[0]['id']\n",
    "        print (\"data zip file list: \", datazipfileid  )\n",
    "    \n",
    "        update_file = client.file(file_id=projectfileid).get()\n",
    "        update_zip_file = client.file(file_id=datazipfileid).get()\n",
    "\n",
    "        # upload a new version of the project file\n",
    "        print ('begin project file update.' )\n",
    "        psxfile = update_file.update_contents(runFolder + projectFile)  \n",
    "        zipfile = update_zip_file.update_contents(runFolder + datazipFile)\n",
    "        print ('update psx result: ', psxfile ,'   update zip result: ', zipfile )"
   ]
  },
  {
   "cell_type": "markdown",
   "metadata": {},
   "source": [
    "## Fetching images from Box\n",
    "The code below retrieves the images from your project directory on Box, and puts them in the project folder on the cluster that you specified above.\n",
    "\n",
    "When you run it, it will check for the number of files in the folder on Box, and list each of them as it downloads. Please wait until you see *Download complete* before moving to the next step -- this can take some time if you have a lot of images, or large images."
   ]
  },
  {
   "cell_type": "code",
   "execution_count": null,
   "metadata": {
    "collapsed": false,
    "scrolled": false
   },
   "outputs": [],
   "source": [
    "import os\n",
    "import shutil \n",
    "\n",
    "\n",
    "os.chdir(scratchImageDataDirectory)\n",
    "print ('retrieving images from folder: ', boxProjectFolder)\n",
    "print ('downloading images to directory: ', scratchImageDataDirectory)\n",
    "\n",
    "# test folder contents\n",
    "items = client.folder(folder_id='0').get_items(limit=20, offset=0)\n",
    "if type(items) is list:\n",
    "    #print ('number of files in top folder: ', len(items) )\n",
    "    \n",
    "    targetfolderId = ''\n",
    "    for item in items:\n",
    "        if item['type'] == 'folder':\n",
    "            #print('folder name: ', item['name'])\n",
    "            if item['name'] == boxProjectFolder:\n",
    "                targetfolderId = item['id']\n",
    "                print('targetfolderId: ', targetfolderId)\n",
    "        \n",
    "    if targetfolderId is not None:\n",
    "        tgtitems = client.folder(folder_id=targetfolderId).get_items(limit=200, offset=0)\n",
    "        if type(tgtitems) is list:\n",
    "            print ('number of files in target folder: ', len(tgtitems) ) \n",
    "        \n",
    "        # download all image files\n",
    "        for tgtitem in tgtitems:\n",
    "            if  not tgtitem['type'] == 'folder' and tgtitem['name'].endswith('.JPG'):\n",
    "                print('downloading: ', tgtitem['name'])\n",
    "                imagecontent = client.file(file_id=tgtitem['id']).content()\n",
    "                newfile = open(scratchImageDataDirectory + tgtitem['name'], 'wb')\n",
    "                newfile.write(imagecontent)\n",
    "                newfile.close()\n",
    "        print ('Download complete')"
   ]
  },
  {
   "cell_type": "markdown",
   "metadata": {},
   "source": [
    "## Function for retrieving project file\n",
    "This code sets up a function to bring an updated project file back from Box, e.g. after you've made changes using the desktop version of Photoscan, and you want to run a subsequent processing step on a cluster."
   ]
  },
  {
   "cell_type": "code",
   "execution_count": null,
   "metadata": {
    "collapsed": false,
    "scrolled": false
   },
   "outputs": [],
   "source": [
    "\n",
    "import os\n",
    "import shutil \n",
    "def retrieve_project_file():\n",
    "    newFolderId = find_folder_id(boxProjectFolder)\n",
    "    tgtitems = client.folder(folder_id=newFolderId).get_items(limit=1000, offset=0)\n",
    "\n",
    "    # download the project file\n",
    "    for tgtitem in tgtitems:\n",
    "        if  not tgtitem['type'] == 'folder' and tgtitem['name'].endswith('.psx'):\n",
    "            print('downloading: ', tgtitem['name'])\n",
    "            imagecontent = client.file(file_id=tgtitem['id']).content()\n",
    "            newfile = open(runFolder + tgtitem['name'], 'wb')\n",
    "            newfile.write(imagecontent)\n",
    "            newfile.close()\n",
    "            print('project file download complete.')\n",
    "            \n",
    "        if  not tgtitem['type'] == 'folder' and tgtitem['name'].endswith('.zip'):\n",
    "            \n",
    "            # delete the old folder\n",
    "            !rm -rf $runFolder$dataFolder\n",
    "            \n",
    "            print('downloading: ', tgtitem['name'])\n",
    "            imagecontent = client.file(file_id=tgtitem['id']).content()\n",
    "            newfile = open(runFolder + tgtitem['name'], 'wb')\n",
    "            newfile.write(imagecontent)\n",
    "            newfile.close()\n",
    "            \n",
    "            shutil.unpack_archive(runFolder + datazipFile, runFolder + dataFolder ,'zip')\n",
    "            \n",
    "            print('data zip file download complete.')"
   ]
  },
  {
   "cell_type": "markdown",
   "metadata": {},
   "source": [
    "# Project setup\n",
    "\n",
    "This section pulls your images onto the computing cluster and creates and uploads a Photoscan .psx file if it doesn't already exist.\n",
    "\n"
   ]
  },
  {
   "cell_type": "markdown",
   "metadata": {},
   "source": [
    "## Set up job script\n",
    "\n",
    "This code sets up the job script that will be run on the cluster, in order to pull in your images."
   ]
  },
  {
   "cell_type": "code",
   "execution_count": null,
   "metadata": {
    "collapsed": false
   },
   "outputs": [],
   "source": [
    "def hrs(xhrs):\n",
    "    return xhrs\n",
    "def mins(xmins):\n",
    "    return xmins\n",
    "\n",
    "#Define widgets and defaults\n",
    "hrslider=widgets.IntSlider(description='Estimated Hours:',  value=1, min=0, max=23,step=1)\n",
    "minslider=widgets.IntSlider(description='Estimated Minutes:',  value=0, min=0, max=59,step=1)\n"
   ]
  },
  {
   "cell_type": "code",
   "execution_count": null,
   "metadata": {
    "collapsed": false
   },
   "outputs": [],
   "source": [
    "# Enter the estimated hours and minutes to create the project and add photos\n",
    "interact(hrs, xhrs=hrslider)\n",
    "interact(mins, xmins=minslider)"
   ]
  },
  {
   "cell_type": "code",
   "execution_count": null,
   "metadata": {
    "collapsed": false,
    "scrolled": false
   },
   "outputs": [],
   "source": [
    "import os, stat\n",
    "\n",
    "files = [ singularitymountfolder + 'images/' + f for f in os.listdir(scratchImageDataDirectory) ] \n",
    "\n",
    "template = '#!/usr/bin/env python3 \\n\\\n",
    "import PhotoScan \\n\\\n",
    "import time \\n\\\n",
    "doc = PhotoScan.app.document \\n\\\n",
    "chunk = PhotoScan.app.document.addChunk() \\n\\\n",
    "chunk.addPhotos( {} ) \\n\\\n",
    "doc.save(path=\\\"{}\\\", chunks = [doc.chunk])\\n '\n",
    "\n",
    "output = template.format(str(files), singularitymountfolder + projectFile)\n",
    "print('output: ', output)\n",
    "\n",
    "with open(commandScript, 'w') as f:  \n",
    "    f.write(output)\n",
    "\n",
    "os.chmod(commandScript,  0o755)\n",
    "\n",
    "#set time limit for this batch run\n",
    "minstring = str(minslider.value)\n",
    "if minslider.value < 10:\n",
    "    minstring = '0' + str(minslider.value)\n",
    "estimateTime = str(hrslider.value) + ':' + minstring + ':00'\n",
    "print('estimateTime: ', estimateTime)\n",
    "outputbatchscript = batchtemplate.format(estimateTime)\n",
    "with open(slurmScript, 'w') as f:  \n",
    "    f.write(outputbatchscript)\n",
    "    \n",
    "os.chmod(slurmScript,  0o755)"
   ]
  },
  {
   "cell_type": "markdown",
   "metadata": {},
   "source": [
    "## Run job\n",
    "The code below will run the job on the cluster, pulling in your images from Box, and will display the job ID."
   ]
  },
  {
   "cell_type": "code",
   "execution_count": null,
   "metadata": {
    "collapsed": false,
    "scrolled": false
   },
   "outputs": [],
   "source": [
    "os.chdir(runFolder)\n",
    "\n",
    "out = !sbatch slurmscript.sh   \n",
    "    \n",
    "print ('Execute image loading output: ', out ) \n",
    "jobId =  out[0].split()[3]\n",
    "print (jobId)"
   ]
  },
  {
   "cell_type": "code",
   "execution_count": null,
   "metadata": {
    "collapsed": false
   },
   "outputs": [],
   "source": [
    "# print the users queue and the job status by id\n",
    "!squeue -u $username\n",
    "print('--------------------------------')\n",
    "!scontrol show job $jobId"
   ]
  },
  {
   "cell_type": "markdown",
   "metadata": {},
   "source": [
    "## Upload project file\n",
    "If there isn't a \"data\" subfolder inside your project folder on Box already, the code below will first create it. The code will then upload a new Photoscan project file and associated data files to Box. \n",
    "\n",
    "If a Photoscan project file with the same name already exists in the folder on Box, this code will *not* overwrite it.\n",
    "\n",
    "Please note: New folders in Box can take several minutes to register, so this step may take a few minutes. If you get a \"file not found\" error in the next step, wait a minute or two and retry."
   ]
  },
  {
   "cell_type": "code",
   "execution_count": null,
   "metadata": {
    "collapsed": false,
    "scrolled": true
   },
   "outputs": [],
   "source": [
    "from boxsdk.exception import BoxAPIException\n",
    "\n",
    "newFolderId = find_folder_id(boxProjectFolder)\n",
    "print('folder id: ', newFolderId)\n",
    "\n",
    "if newFolderId == 0:\n",
    "    newFolder = client.folder(folder_id='0').create_subfolder(boxProjectFolder)\n",
    "    newFolderId = newFolder['id']\n",
    "    print (\"folder created\" )\n",
    "else: \n",
    "    print (\"folder exists\" )\n",
    "    \n",
    "print (\"folder id: \", newFolderId )\n",
    "\n",
    "update_project_file_in_box()"
   ]
  },
  {
   "cell_type": "markdown",
   "metadata": {},
   "source": [
    "## OFFLINE: Image masking\n",
    "If you need to mask any images before building the dense cloud, please launch your desktop version of Photoscan, make those changes, and save the modified .psx file back to your folder on Box before proceeding with the next step."
   ]
  },
  {
   "cell_type": "markdown",
   "metadata": {},
   "source": [
    "# Align photos and Build Dense Cloud\n",
    "\n",
    "The code below will retrieve the project file from Box. This will ensure that you're working with the latest version, even if you've made changes offline (such as image masking)."
   ]
  },
  {
   "cell_type": "code",
   "execution_count": null,
   "metadata": {
    "collapsed": false,
    "scrolled": true
   },
   "outputs": [],
   "source": [
    "retrieve_project_file()"
   ]
  },
  {
   "cell_type": "markdown",
   "metadata": {},
   "source": [
    "## Set up job script\n",
    "\n",
    "Run the code box below, then choose your estimated run time for the job. The default run time is 3 hours, which should cover most projects with under 75 photos. If you have more photos, please increase the run time.\n",
    "\n",
    "**Maurice: make this a different widget with default run time of 3 hours**"
   ]
  },
  {
   "cell_type": "code",
   "execution_count": null,
   "metadata": {
    "collapsed": false
   },
   "outputs": [],
   "source": [
    "# Enter the estimated hours and minutes to create the project and add photos\n",
    "interact(hrs, xhrs=hrslider)\n",
    "interact(mins, xmins=minslider)"
   ]
  },
  {
   "cell_type": "markdown",
   "metadata": {},
   "source": [
    "## Set up parameters\n",
    "Choose the quality settings for the dense cloud build after running the cells below."
   ]
  },
  {
   "cell_type": "code",
   "execution_count": null,
   "metadata": {
    "collapsed": true
   },
   "outputs": [],
   "source": [
    "def chc(txt):\n",
    "    return txt\n",
    "\n",
    "pselchoice=widgets.Dropdown(description='Preselection', value='GenericPreselection', options=['GenericPreselection', 'ReferencePreselection'])\n",
    "qualchoice=widgets.Dropdown(description='Quality', value='MediumQuality', options=['UltraQuality', 'HighQuality', 'MediumQuality',  'LowQuality', 'LowestQuality'] )\n",
    "fltrchoice=widgets.Dropdown(description='Filter', value='ModerateFiltering', options=['NoFiltering', 'MildFiltering', 'ModerateFiltering',  'AggressiveFiltering']  )\n",
    "accchoice=widgets.Dropdown(description='Accuracy', value='MediumAccuracy', options= ['HighestAccuracy', 'HighAccuracy', 'MediumAccuracy',  'LowAccuracy', 'LowestAccuracy']  )\n",
    "afchoice=widgets.Dropdown(description='Adaptive Fitting', options=['True', 'False'])"
   ]
  },
  {
   "cell_type": "code",
   "execution_count": null,
   "metadata": {
    "collapsed": false
   },
   "outputs": [],
   "source": [
    "interact(chc, txt=pselchoice)\n",
    "interact(chc, txt=qualchoice)\n",
    "interact(chc, txt=fltrchoice)\n",
    "interact(chc, txt=accchoice)\n",
    "interact(chc, txt=afchoice)"
   ]
  },
  {
   "cell_type": "markdown",
   "metadata": {},
   "source": [
    "## Create job script\n",
    "The next cell will create and display the job script that will be run on the cluster."
   ]
  },
  {
   "cell_type": "code",
   "execution_count": null,
   "metadata": {
    "collapsed": false,
    "scrolled": false
   },
   "outputs": [],
   "source": [
    "# Creates job script for building dense cloud\n",
    "import os, stat\n",
    "\n",
    "template = '#!/usr/bin/env python3 \\n\\\n",
    "import PhotoScan \\n\\\n",
    "import time \\n\\\n",
    "print( \"start time: \", time.time()) \\n\\\n",
    "doc = PhotoScan.app.document \\n\\\n",
    "doc.open(\\\"{}\\\") \\n\\\n",
    "chunk = doc.chunk \\n\\\n",
    "chunk.matchPhotos(accuracy=PhotoScan.{}, preselection=PhotoScan.{}) \\n\\\n",
    "chunk.alignCameras(adaptive_fitting={}) \\n\\\n",
    "chunk.buildDenseCloud(quality=PhotoScan.{},  filter=PhotoScan.{} ) \\n\\\n",
    "doc.save(\\\"{}\\\") \\n\\\n",
    "print( \"stop time: \", time.time()) \\n'\n",
    "\n",
    "output = template.format(singularitymountfolder + projectFile, accchoice.value, pselchoice.value, afchoice.value, qualchoice.value, fltrchoice.value, singularitymountfolder + projectFile)\n",
    "\n",
    "print('output: ', output)\n",
    "\n",
    "with open(commandScript, 'w') as f:  \n",
    "    f.write(output)\n",
    "\n",
    "    \n",
    "#Set time limit for this batch run\n",
    "minstring = str(minslider.value)\n",
    "if minslider.value < 10:\n",
    "    minstring = '0' + str(minslider.value)\n",
    "estimateTime = str(hrslider.value) + ':' + minstring + ':00'\n",
    "print('estimateTime: ', estimateTime)\n",
    "outputbatchscript = batchtemplate.format(estimateTime)\n",
    "#outputbatchscript = batchtemplate.format('01:30:00')\n",
    "with open(slurmScript, 'w') as f:  \n",
    "    f.write(outputbatchscript)\n",
    "    "
   ]
  },
  {
   "cell_type": "markdown",
   "metadata": {},
   "source": [
    "## Run dense cloud build\n",
    "Running the following code box will submit your job to the cluster. Your job ID will be printed below."
   ]
  },
  {
   "cell_type": "code",
   "execution_count": null,
   "metadata": {
    "collapsed": false,
    "scrolled": true
   },
   "outputs": [],
   "source": [
    "out = !sbatch slurmscript.sh   \n",
    "    \n",
    "print ('Execute the dense cloud build output: ', out ) \n",
    "jobId =  out[0].split()[3]\n",
    "print (jobId)"
   ]
  },
  {
   "cell_type": "markdown",
   "metadata": {},
   "source": [
    "## Check on job status\n",
    "Building the dense cloud is the longest-running phase of the photogrammetry process. Depending on how many photos you have, and the quality settings you've chosen, the job could run for anywhere from minutes to hours. Run the following code box to check on the status of the dense cloud build. You can run it multiple times for new updates."
   ]
  },
  {
   "cell_type": "code",
   "execution_count": null,
   "metadata": {
    "code_folding": [],
    "collapsed": false
   },
   "outputs": [],
   "source": [
    "# print the users queue and the job status by id\n",
    "!squeue -u $username\n",
    "print('--------------------------------')\n",
    "!scontrol show job $jobId"
   ]
  },
  {
   "cell_type": "markdown",
   "metadata": {},
   "source": [
    "## Display log message\n",
    "As an optional step, you can run the code below to see the log file once the job is done. It includes technical information about the points that were found in each photo, rectifying disparities between photos, etc."
   ]
  },
  {
   "cell_type": "code",
   "execution_count": null,
   "metadata": {
    "code_folding": [
     0
    ],
    "collapsed": false
   },
   "outputs": [],
   "source": [
    "# print the log file if necessary\n",
    "slurmlogfilename = 'slurm-' + jobId + '.out'\n",
    "with open(slurmlogfilename, 'r') as fin:\n",
    "    print(fin.read(), end=\"\")"
   ]
  },
  {
   "cell_type": "markdown",
   "metadata": {},
   "source": [
    "## Export dense cloud\n",
    "If you want to export the dense cloud for use in other software, you can run the code boxes below. If you want to just continue with the next step in the photogrammetry process, you can skip it."
   ]
  },
  {
   "cell_type": "code",
   "execution_count": null,
   "metadata": {
    "collapsed": true
   },
   "outputs": [],
   "source": [
    "# Quinn - Im guessing at these extenstions, I have only used oc3\n",
    "pointsFormatExt = { 'PointsFormatOBJ':'.obj', 'PointsFormatPLY':'.ply', 'PointsFormatXYZ':'.xyz', 'PointsFormatLAS':'.las', 'PointsFormatExpe':'.???',\n",
    "'PointsFormatU3D':'.u3d', 'PointsFormatPDF':'.pdf', 'PointsFormatE57':'.e57', 'PointsFormatOC3':'.oc3', 'PointsFormatPotree':'.???',\n",
    "'PointsFormatLAZ':'.laz', 'PointsFormatCL3':'.cl3', 'PointsFormatPTS':'.pts', 'PointsFormatDXF':'.dxf' }\n",
    "\n",
    "ptsfchoice=widgets.Dropdown(description='Points Format', value='PointsFormatOC3', options= ['PointsFormatOBJ', 'PointsFormatPLY', 'PointsFormatXYZ', 'PointsFormatLAS', 'PointsFormatExpe',\n",
    "'PointsFormatU3D', 'PointsFormatPDF', 'PointsFormatE57', 'PointsFormatOC3', 'PointsFormatPotree',\n",
    "'PointsFormatLAZ', 'PointsFormatCL3', 'PointsFormatPTS', 'PointsFormatDXF']   )\n"
   ]
  },
  {
   "cell_type": "code",
   "execution_count": null,
   "metadata": {
    "collapsed": false
   },
   "outputs": [],
   "source": [
    "interact(chc, txt=ptsfchoice)"
   ]
  },
  {
   "cell_type": "code",
   "execution_count": null,
   "metadata": {
    "collapsed": false
   },
   "outputs": [],
   "source": [
    "template = '#!/usr/bin/env python3 \\n\\\n",
    "import PhotoScan \\n\\\n",
    "doc = PhotoScan.app.document \\n\\\n",
    "doc.open(\\\"{}\\\") \\n\\\n",
    "chunk = doc.chunk \\n\\\n",
    "chunk.exportPoints(path=\\\"{}\\\", format=PhotoScan.PointsFormat.{})  \\n' \n",
    "\n",
    "output = template.format(singularitymountfolder + projectFile,  singularitymountfolder + 'photoscandemo' + pointsFormatExt[ptsfchoice.value], ptsfchoice.value)\n",
    "\n",
    "print('output:', output)\n",
    "\n",
    "with open(commandScript, 'w') as f:\n",
    "    f.write(output)"
   ]
  },
  {
   "cell_type": "code",
   "execution_count": null,
   "metadata": {
    "collapsed": false
   },
   "outputs": [],
   "source": [
    "out = !sbatch slurmscript.sh   \n",
    "        \n",
    "print (' Export the points  output: ', out ) \n",
    "jobId =  out[0].split()[3]\n",
    "print (jobId)"
   ]
  },
  {
   "cell_type": "code",
   "execution_count": null,
   "metadata": {
    "collapsed": false
   },
   "outputs": [],
   "source": [
    "# print the users queue and the job status by id\n",
    "!squeue -u $username\n",
    "print('--------------------------------')\n",
    "!scontrol show job $jobId"
   ]
  },
  {
   "cell_type": "markdown",
   "metadata": {},
   "source": [
    "## Update project on Box\n",
    "After generating the dense cloud, the .psx file will be much larger and this may take a moment.\n",
    "**Maurice: add success message**"
   ]
  },
  {
   "cell_type": "code",
   "execution_count": null,
   "metadata": {
    "collapsed": false,
    "scrolled": true
   },
   "outputs": [],
   "source": [
    "update_project_file_in_box()"
   ]
  },
  {
   "cell_type": "markdown",
   "metadata": {},
   "source": [
    "## OFFLINE: Dense cloud clean-up\n",
    "At this point, you may want to clean up the dense point cloud by removing stray points (e.g. for objects that have not been photographed in a lightbox, where there might be artifacts from the background, etc.) This should be done using the desktop version of Photoscan. \n",
    "\n",
    "Be sure to save the updated project file back to the same place in Box if you want to run the next processing steps through this notebook."
   ]
  },
  {
   "cell_type": "markdown",
   "metadata": {},
   "source": [
    "# Build Mesh\n",
    "\n",
    "First, retrieve the project file (.psx) from Box, in case it has been updated."
   ]
  },
  {
   "cell_type": "code",
   "execution_count": null,
   "metadata": {
    "collapsed": false,
    "scrolled": false
   },
   "outputs": [],
   "source": [
    "retrieve_project_file()"
   ]
  },
  {
   "cell_type": "markdown",
   "metadata": {},
   "source": [
    "## Choose parameters\n",
    "Running the code box below will create three sets of drop-downs where you can choose the surface type, face count, and data source."
   ]
  },
  {
   "cell_type": "code",
   "execution_count": null,
   "metadata": {
    "collapsed": true
   },
   "outputs": [],
   "source": [
    "stchoice=widgets.Dropdown(description='Surface type', value='Arbitrary', options=['Arbitrary', 'HeightField'])\n",
    "fcchoice=widgets.Dropdown(description='Face count', value='HighFaceCount', options= ['LowFaceCount', 'MediumFaceCount', 'HighFaceCount'] )\n",
    "dschoice=widgets.Dropdown(description='Data source', value='DenseCloudData', options=['PointCloudData', 'DenseCloudData', 'DepthMapsData', 'ModelData', 'TiledModelData', 'ElevationData',\n",
    "'OrthomosaicData']  )\n"
   ]
  },
  {
   "cell_type": "code",
   "execution_count": null,
   "metadata": {
    "collapsed": false
   },
   "outputs": [],
   "source": [
    "interact(chc, txt=stchoice)\n",
    "interact(chc, txt=fcchoice)\n",
    "interact(chc, txt=dschoice)"
   ]
  },
  {
   "cell_type": "code",
   "execution_count": null,
   "metadata": {
    "collapsed": false,
    "scrolled": false
   },
   "outputs": [],
   "source": [
    "template = '#!/usr/bin/env python3 \\n\\\n",
    "import PhotoScan \\n\\\n",
    "import time \\n\\\n",
    "print( \"start time: \", time.time()) \\n\\\n",
    "doc = PhotoScan.app.document \\n\\\n",
    "doc.open(\\\"{}\\\") \\n\\\n",
    "chunk = doc.chunk \\n\\\n",
    "chunk.buildModel(surface=PhotoScan.{}, source=PhotoScan.{}, face_count=PhotoScan.{} ) \\n\\\n",
    "doc.save(\\\"{}\\\") \\n\\\n",
    "print( \"stop time: \", time.time()) \\n'\n",
    "\n",
    "output = template.format(singularitymountfolder + projectFile, stchoice.value, dschoice.value, fcchoice.value, singularitymountfolder + projectFile)\n",
    "\n",
    "print('output:', output)\n",
    "\n",
    "with open(commandScript, 'w') as f:  \n",
    "    f.write(output)\n",
    "\n",
    "\n",
    "#set time limit for this batch run\n",
    "outputbatchscript = batchtemplate.format('00:30:00')\n",
    "with open(slurmScript, 'w') as f:  \n",
    "    f.write(outputbatchscript)\n",
    "    "
   ]
  },
  {
   "cell_type": "markdown",
   "metadata": {},
   "source": [
    "## Run mesh build\n",
    "The code box below will submit your job and print out your job ID."
   ]
  },
  {
   "cell_type": "code",
   "execution_count": null,
   "metadata": {
    "collapsed": false,
    "scrolled": false
   },
   "outputs": [],
   "source": [
    "out = !sbatch slurmscript.sh   \n",
    "    \n",
    "print ('Execute the mesh build output: ', out ) \n",
    "jobId =  out[0].split()[3]\n",
    "print (jobId) "
   ]
  },
  {
   "cell_type": "markdown",
   "metadata": {},
   "source": [
    "## Check on mesh build status\n",
    "Run the code box below to get the current status of the mesh build job. You can run it multiple times for the most recent status."
   ]
  },
  {
   "cell_type": "code",
   "execution_count": null,
   "metadata": {
    "collapsed": false
   },
   "outputs": [],
   "source": [
    "# print the users queue and the job status by id\n",
    "!squeue -u $username\n",
    "print('--------------------------------')\n",
    "!scontrol show job $jobId"
   ]
  },
  {
   "cell_type": "markdown",
   "metadata": {},
   "source": [
    "## Display log message\n",
    "\n",
    "As an optional step, you can run the code below to see the log file once the job is done."
   ]
  },
  {
   "cell_type": "code",
   "execution_count": null,
   "metadata": {
    "collapsed": false
   },
   "outputs": [],
   "source": [
    "# print the log file if necessary\n",
    "slurmlogfilename = 'slurm-' + jobId + '.out'\n",
    "with open(slurmlogfilename, 'r') as fin:\n",
    "    print(fin.read(), end=\"\")"
   ]
  },
  {
   "cell_type": "markdown",
   "metadata": {},
   "source": [
    "## Update project on Box\n",
    "The next code box will return the project file to Box so you can make additional tweaks and changes offline."
   ]
  },
  {
   "cell_type": "code",
   "execution_count": null,
   "metadata": {
    "collapsed": false,
    "scrolled": false
   },
   "outputs": [],
   "source": [
    "update_project_file_in_box()"
   ]
  },
  {
   "cell_type": "markdown",
   "metadata": {},
   "source": [
    "## OFFLINE: Mesh cleanup\n",
    "If you need to add marker points in the Photoscan file (.psx), download the latest project file from Box, make the changes, and upload the edited .psx file back to Box."
   ]
  },
  {
   "cell_type": "markdown",
   "metadata": {},
   "source": [
    "# Build Texture\n",
    "\n",
    "First, retrieve the project file from Box in case it has been updated."
   ]
  },
  {
   "cell_type": "code",
   "execution_count": null,
   "metadata": {
    "collapsed": false,
    "scrolled": false
   },
   "outputs": [],
   "source": [
    "retrieve_project_file()"
   ]
  },
  {
   "cell_type": "markdown",
   "metadata": {},
   "source": [
    "## Choose parameters\n",
    "Choose the data source, and specify a coordinate system if desired, after running the next code box."
   ]
  },
  {
   "cell_type": "code",
   "execution_count": null,
   "metadata": {
    "collapsed": false
   },
   "outputs": [],
   "source": [
    "gmchoice=widgets.Dropdown(description='UV Mapping Mode', value='GenericMapping', options= ['GenericMapping', 'OrthophotoMapping', 'AdaptiveOrthophotoMapping', 'SphericalMapping',\n",
    "'CameraMapping'])\n",
    "ccchoice=widgets.Dropdown(description='Color Correction', value='True', options= ['True', 'False'] )\n",
    "ds2choice=widgets.Dropdown(description='Data source', value='ModelData', options=['PointCloudData', 'DenseCloudData', 'DepthMapsData', 'ModelData', 'TiledModelData', 'ElevationData',\n",
    "'OrthomosaicData']  )"
   ]
  },
  {
   "cell_type": "code",
   "execution_count": null,
   "metadata": {
    "collapsed": false
   },
   "outputs": [],
   "source": [
    "interact(chc, txt=gmchoice)\n",
    "interact(chc, txt=ccchoice)\n",
    "interact(chc, txt=ds2choice)"
   ]
  },
  {
   "cell_type": "code",
   "execution_count": null,
   "metadata": {
    "collapsed": false,
    "scrolled": false
   },
   "outputs": [],
   "source": [
    "template = '#!/usr/bin/env python3 \\n\\\n",
    "import PhotoScan \\n\\\n",
    "import time \\n\\\n",
    "print( \"start time: \", time.time()) \\n\\\n",
    "doc = PhotoScan.app.document \\n\\\n",
    "doc.open(\\\"{}\\\") \\n\\\n",
    "chunk = doc.chunk \\n\\\n",
    "chunk.buildUV(mapping=PhotoScan.{}) \\n\\\n",
    "chunk.buildTexture( color_correction={} ) \\n\\\n",
    "doc.save(\\\"{}\\\") \\n\\\n",
    "doc.open(\\\"{}\\\") \\n\\\n",
    "chunk = doc.chunk \\n\\\n",
    "chunk.buildOrthomosaic( surface=PhotoScan.DataSource.{} ) \\n\\\n",
    "doc.save(\\\"{}\\\") \\n\\\n",
    "print( \"stop time: \", time.time()) \\n'\n",
    "\n",
    "output = template.format(singularitymountfolder + projectFile, gmchoice.value, ccchoice.value,  singularitymountfolder + projectFile, singularitymountfolder + projectFile, ds2choice.value, singularitymountfolder + projectFile)\n",
    "\n",
    "print('output:', output)\n",
    "\n",
    "with open(commandScript, 'w') as f:  \n",
    "    f.write(output)\n"
   ]
  },
  {
   "cell_type": "markdown",
   "metadata": {},
   "source": [
    "## Run texture build"
   ]
  },
  {
   "cell_type": "code",
   "execution_count": null,
   "metadata": {
    "collapsed": false,
    "scrolled": false
   },
   "outputs": [],
   "source": [
    "out = !sbatch slurmscript.sh   \n",
    "    \n",
    "print ('  texture and orthomosaic build output: ', out ) \n",
    "jobId =  out[0].split()[3]\n",
    "print (jobId)    "
   ]
  },
  {
   "cell_type": "code",
   "execution_count": null,
   "metadata": {
    "collapsed": false
   },
   "outputs": [],
   "source": [
    "# print the users queue and the job status by id\n",
    "!squeue -u $username\n",
    "print('--------------------------------')\n",
    "!scontrol show job $jobId"
   ]
  },
  {
   "cell_type": "markdown",
   "metadata": {},
   "source": [
    "## Update project on Box"
   ]
  },
  {
   "cell_type": "code",
   "execution_count": null,
   "metadata": {
    "collapsed": false,
    "scrolled": false
   },
   "outputs": [],
   "source": [
    "update_project_file_in_box()"
   ]
  },
  {
   "cell_type": "markdown",
   "metadata": {},
   "source": [
    "# Export results"
   ]
  },
  {
   "cell_type": "markdown",
   "metadata": {},
   "source": [
    "## Export the orthomosaic"
   ]
  },
  {
   "cell_type": "code",
   "execution_count": null,
   "metadata": {
    "collapsed": true
   },
   "outputs": [],
   "source": [
    "# QUINN guessing at some of these extensions\n",
    "ifextension = {'ImageFormatJPEG':'.jpg', 'ImageFormatTIFF':'.tiff', 'ImageFormatPNG':'.png', 'ImageFormatBMP':'.bmp', 'ImageFormatEXR':'.exr',\n",
    "'ImageFormatPNM':'.pnm', 'ImageFormatSGI':'.sgi', 'ImageFormatCR2':'.cr2', 'ImageFormatSEQ':'.seq', 'ImageFormatARA':'.ara'}\n",
    "\n",
    "ifchoice=widgets.Dropdown(description='Image Format', value='ImageFormatTIFF', options=['ImageFormatJPEG', 'ImageFormatTIFF', 'ImageFormatPNG', 'ImageFormatBMP', 'ImageFormatEXR',\n",
    "'ImageFormatPNM', 'ImageFormatSGI', 'ImageFormatCR2', 'ImageFormatSEQ', 'ImageFormatARA'] )"
   ]
  },
  {
   "cell_type": "code",
   "execution_count": null,
   "metadata": {
    "collapsed": false
   },
   "outputs": [],
   "source": [
    "interact(chc, txt=ifchoice)"
   ]
  },
  {
   "cell_type": "code",
   "execution_count": null,
   "metadata": {
    "collapsed": false,
    "scrolled": false
   },
   "outputs": [],
   "source": [
    "template = '#!/usr/bin/env python3 \\n\\\n",
    "import PhotoScan \\n\\\n",
    "doc = PhotoScan.app.document \\n\\\n",
    "doc.open(\\\"{}\\\") \\n\\\n",
    "chunk = doc.chunk \\n\\\n",
    "chunk.exportOrthomosaic(path=\\\"{}\\\", image_format=PhotoScan.ImageFormat.{},)  \\n' \n",
    "\n",
    "orthoFile = projectname + ifextension[ifchoice.value]\n",
    "output = template.format(singularitymountfolder + projectFile,  singularitymountfolder + orthoFile, ifchoice.value)\n",
    "\n",
    "print('output:', output)\n",
    "\n",
    "with open(commandScript, 'w') as f:\n",
    "    f.write(output)\n"
   ]
  },
  {
   "cell_type": "code",
   "execution_count": null,
   "metadata": {
    "collapsed": false,
    "scrolled": false
   },
   "outputs": [],
   "source": [
    "out = !sbatch slurmscript.sh   \n",
    "        \n",
    "print (' Export the orthomosaic format output: ', out ) \n",
    "jobId =  out[0].split()[3]\n",
    "print (jobId)  "
   ]
  },
  {
   "cell_type": "code",
   "execution_count": null,
   "metadata": {
    "collapsed": false
   },
   "outputs": [],
   "source": [
    "# print the users queue and the job status by id\n",
    "!squeue -u $username\n",
    "print('--------------------------------')\n",
    "!scontrol show job $jobId"
   ]
  },
  {
   "cell_type": "markdown",
   "metadata": {},
   "source": [
    "## Move the orthomosaic file to Box"
   ]
  },
  {
   "cell_type": "code",
   "execution_count": null,
   "metadata": {
    "collapsed": false,
    "scrolled": false
   },
   "outputs": [],
   "source": [
    "newFolderId = find_folder_id(boxProjectFolder)\n",
    "upload_folder = client.folder(folder_id=newFolderId).get()\n",
    "orthoUploaded = upload_folder.upload( runFolder + orthoFile)  \n",
    "print (\"orthomosaic file id: \", orthoUploaded['id'] )"
   ]
  },
  {
   "cell_type": "markdown",
   "metadata": {},
   "source": [
    "## Generate the Model export\n"
   ]
  },
  {
   "cell_type": "code",
   "execution_count": null,
   "metadata": {
    "collapsed": true
   },
   "outputs": [],
   "source": [
    "\n",
    "# QUINN guessing at some of these extensions\n",
    "mfextension = { 'ModelFormatOBJ':'.obj', 'ModelFormat3DS':'.3ds', 'ModelFormatVRML':'.vrml', 'ModelFormatPLY':'.ply', 'ModelFormatCOLLADA':'.col',\n",
    "'ModelFormatU3D':'.u3d', 'ModelFormatPDF':'.pdf', 'ModelFormatDXF':'.dxf', 'ModelFormatFBX':'.fbx', 'ModelFormatKMZ':'.kmz',\n",
    "'ModelFormatCTM':'.ctm', 'ModelFormatSTL':'.stl', 'ModelFormatDXF_3DF':'.3df', 'ModelFormatTLS':'.tls' }\n",
    "\n",
    "mfchoice=widgets.Dropdown(description='Model Format', value='ModelFormatOBJ', options= ['ModelFormatOBJ', 'ModelFormat3DS', 'ModelFormatVRML', 'ModelFormatPLY', 'ModelFormatCOLLADA',\n",
    "'ModelFormatU3D', 'ModelFormatPDF', 'ModelFormatDXF', 'ModelFormatFBX', 'ModelFormatKMZ',\n",
    "'ModelFormatCTM', 'ModelFormatSTL', 'ModelFormatDXF_3DF', 'ModelFormatTLS'] )"
   ]
  },
  {
   "cell_type": "code",
   "execution_count": null,
   "metadata": {
    "collapsed": false
   },
   "outputs": [],
   "source": [
    "interact(chc, txt=mfchoice)"
   ]
  },
  {
   "cell_type": "code",
   "execution_count": null,
   "metadata": {
    "collapsed": false,
    "scrolled": false
   },
   "outputs": [],
   "source": [
    "template = '#!/usr/bin/env python3 \\n\\\n",
    "import PhotoScan \\n\\\n",
    "doc = PhotoScan.app.document \\n\\\n",
    "doc.open(\\\"{}\\\") \\n\\\n",
    "chunk = doc.chunk \\n\\\n",
    "chunk.exportModel(path=\\\"{}\\\", format=PhotoScan.ModelFormat.{})  \\n' \n",
    "\n",
    "modelFile = projectname + mfextension[mfchoice.value]\n",
    "output = template.format(singularitymountfolder + projectFile, singularitymountfolder + modelFile, mfchoice.value)\n",
    "print('output:', output)\n",
    "\n",
    "with open(commandScript, 'w') as f:\n",
    "    f.write(output)\n"
   ]
  },
  {
   "cell_type": "code",
   "execution_count": null,
   "metadata": {
    "collapsed": false,
    "scrolled": false
   },
   "outputs": [],
   "source": [
    "out = !sbatch slurmscript.sh   \n",
    "        \n",
    "print (' Generate model output: ', out ) \n",
    "jobId =  out[0].split()[3]\n",
    "print (jobId)         \n"
   ]
  },
  {
   "cell_type": "code",
   "execution_count": null,
   "metadata": {
    "collapsed": false
   },
   "outputs": [],
   "source": [
    "# print the users queue and the job status by id\n",
    "!squeue -u $username\n",
    "print('--------------------------------')\n",
    "!scontrol show job $jobId"
   ]
  },
  {
   "cell_type": "markdown",
   "metadata": {},
   "source": [
    "## Move the OBJ and associated JPG to Box\n",
    "You can download the files from Box and preview using http://3dviewer.net/"
   ]
  },
  {
   "cell_type": "code",
   "execution_count": null,
   "metadata": {
    "collapsed": false,
    "scrolled": false
   },
   "outputs": [],
   "source": [
    "newFolderId = find_folder_id(boxProjectFolder)\n",
    "upload_folder = client.folder(folder_id=newFolderId).get()\n",
    "objUploaded = upload_folder.upload(runFolder + modelFile)  \n",
    "print (\"obj file id: \", objUploaded['id'] )\n",
    "jpgUploaded = upload_folder.upload(runFolder + jpgFile)  \n",
    "print (\"jpeg file id: \", jpgUploaded['id'] )"
   ]
  },
  {
   "cell_type": "markdown",
   "metadata": {},
   "source": [
    "# Software license\n",
    "This software is available under the terms of the Educational Community License, Version 2.0 (ECL 2.0). This software is Copyright 2016 The Regents of the University of California, Berkeley (\"Berkeley\").\n",
    "\n",
    "The text of the ECL license is reproduced below.\n",
    "\n",
    "Educational Community License, Version 2.0\n",
    "*************************************\n",
    "Copyright 2016 The Regents of the University of California, Berkeley (\"Berkeley\")\n",
    "\n",
    "Educational Community License, Version 2.0, April 2007\n",
    "\n",
    "The Educational Community License version 2.0 (\"ECL\") consists of the\n",
    "Apache 2.0 license, modified to change the scope of the patent grant in\n",
    "section 3 to be specific to the needs of the education communities using\n",
    "this license. The original Apache 2.0 license can be found at:[http://www.apache.org/licenses/LICENSE-2.0]"
   ]
  }
 ],
 "metadata": {
  "celltoolbar": "Edit Metadata",
  "kernelspec": {
   "display_name": "Python 3",
   "language": "python",
   "name": "python3"
  },
  "language_info": {
   "codemirror_mode": {
    "name": "ipython",
    "version": 3
   },
   "file_extension": ".py",
   "mimetype": "text/x-python",
   "name": "python",
   "nbconvert_exporter": "python",
   "pygments_lexer": "ipython3",
   "version": "3.5.1"
  },
  "toc": {
   "colors": {
    "hover_highlight": "#DAA520",
    "running_highlight": "#FF0000",
    "selected_highlight": "#FFD700"
   },
   "moveMenuLeft": true,
   "nav_menu": {
    "height": "512px",
    "width": "252px"
   },
   "navigate_menu": true,
   "number_sections": true,
   "sideBar": true,
   "threshold": "6",
   "toc_cell": false,
   "toc_section_display": "block",
   "toc_window_display": true
  }
 },
 "nbformat": 4,
 "nbformat_minor": 0
}
