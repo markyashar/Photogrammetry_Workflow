{
 "cells": [
  {
   "cell_type": "markdown",
   "metadata": {
    "collapsed": true
   },
   "source": [
    "# Overview\n",
    "This Jupyter notebook helps you create a 3D model using the Photoscan photogrammetry software, leveraging the computing power of a high-performance compute cluster. It assumes that your photographs are stored in a folder on [Box](http://berkeley.box.com), and the results of each step are saved back to Box.\n",
    "\n",
    "If you want to manually edit the results of any step in the process, you can sync or download the project file and photos from Box to any computer with Photoscan installed (version 1.5 or higher), make your edits, and move the changes back to Box before proceeding with the next computationally-intensive processing step."
   ]
  },
  {
   "cell_type": "markdown",
   "metadata": {
    "collapsed": true
   },
   "source": [
    "### Software versions\n",
    "This notebook has been tested using:\n",
    "* python 3.5 kernel\n",
    "* boxsdk (2.0.0a2)\n",
    "* Photoscan 1.3 or later (for example, Photoscan 1.4.3)"
   ]
  },
  {
   "cell_type": "markdown",
   "metadata": {},
   "source": [
    "## Workflow at a glance\n",
    "The photogrammetry workflow laid out here involves the following steps. Each listed step has its own section in the notebook. \n",
    "1. **Overview**: the overview that you're currently reading\n",
    "2. **Source Files**: defines where various source files are located.\n",
    "3. **Box Setup**: connects this notebook to Box so it can access the photos you've stored there. \n",
    "4. **Project Setup**: pulls your images into the computing cluster, and creates a new Photoscan (psx) file if needed.\n",
    "5. **Align Photos**: arranges the photos you've taken, relative to one another. 1% to 8% of the expected processing time.\n",
    "6. **Build Dense Cloud**: creates the a point cloud from the photographs. The most computationally-intensive step, which can take 50%-96% of the total model generation time, depending on your settings. This step is run using GPU nodes on the cluster, which improve performance.\n",
    "7. **Build Mesh**: connecting the point cloud together to build a mesh takes around 30% of the processing time on lower quality settings, or as little as 2% on higher quality settings.\n",
    "8. **Build Texture**: building the texture takes between 8% (medium quality) and 1% (ultra high quality) of the processing time.\n",
    "9. **Export Results**: exporting the photomosaic and OBJ files, and moving them to Box."
   ]
  },
  {
   "cell_type": "markdown",
   "metadata": {
    "collapsed": true
   },
   "source": [
    "# Project Setup\n",
    "This step connects the notebook to Box. Before you get started, make sure you have a folder in Box for your project. That folder should have a folder inside it called \"images\" that has all the photos you want to use for your 3D model. This workflow will also create a new folder, \"files\", that contains the project files-- you don't have to set that up in advance.\n",
    "\n",
    "**M.Y.: In Box, I created a folder called Photogrammetry_Workflow_Tests/images/, and in the images folder I have the following 4 test image files: coffeecup-1.jpg, coffeecup-2.jpg, coffeecup-3.jpg, coffeecup-4.jpg.**\n",
    "\n",
    "Click the code box below, and then click the \"run cell\" button in the toolbar. This will run the code and move to the next box.\n",
    "\n",
    "After you run the next code box, your user name on the cluster should appear at the bottom."
   ]
  },
  {
   "cell_type": "code",
   "execution_count": 1,
   "metadata": {
    "code_folding": [
     1
    ],
    "scrolled": true
   },
   "outputs": [
    {
     "name": "stdout",
     "output_type": "stream",
     "text": [
      "Python 2.7.5\n",
      "/bin/python\n",
      "/global/software/sl-7.x86_64/modules/langs/python/3.5/bin/python3\n",
      "Python 3.5.4 :: Anaconda custom (64-bit)\n",
      "/global/software/sl-7.x86_64/modules/langs/python/3.5/bin/jupyter\n",
      "/global/home/users/myashar/.conda/envs/py3.5/bin/python\n",
      "3.5.5 |Anaconda, Inc.| (default, May 13 2018, 21:12:35) \n",
      "[GCC 7.2.0]\n",
      "sys.version_info(major=3, minor=5, micro=5, releaselevel='final', serial=0)\n",
      "user name:  myashar\n"
     ]
    }
   ],
   "source": [
    "# !conda create -n py3.5 python=3.5\n",
    "# !conda install -n py3.5 pip\n",
    "# !module load python/3.5\n",
    "# !conda list\n",
    "!source activate py3.5\n",
    "# !pip install --user boxsdk==2.0.0a2\n",
    "!python --version\n",
    "!which python\n",
    "!which python3\n",
    "!python3 --version\n",
    "!which jupyter\n",
    "import sys\n",
    "print(sys.executable)\n",
    "print(sys.version)\n",
    "print(sys.version_info)\n",
    "# !pip install boxsdk==2.0.0a2\n",
    "# widget imports\n",
    "from __future__ import print_function\n",
    "from ipywidgets import interact, interactive, fixed, VBox\n",
    "import ipywidgets as widgets\n",
    "from IPython.display import display\n",
    "\n",
    "usernamearray = %sx whoami\n",
    "username = usernamearray[0]\n",
    "print('user name: ', username)\n",
    "\n",
    "def f(x):\n",
    "    return x\n",
    "\n",
    "def pn(projectName):\n",
    "    return projectName\n",
    "\n",
    "def smf(mountFolder):\n",
    "    return mountFolder\n",
    "\n",
    "def bpf(boxFolder):\n",
    "    return boxFolder\n",
    "\n",
    "def scp(containerPath):\n",
    "    return containerPath\n",
    "\n",
    "def idd(imageDataPath):\n",
    "    return imageDataPath\n",
    "\n",
    "def hfp(homePath):\n",
    "    return homePath\n",
    "\n",
    "def rf(runPath):\n",
    "    return runPath\n",
    "\n",
    "\n",
    "#Define widgets and defaults\n",
    "pntextbox=widgets.Text(value='projectname', description='Project Name')\n",
    "singularitymountfoldertextbox =widgets.Text(value='/scratch/', description='Singularity Mount Folder') \n",
    "# singularitymountfoldertextbox =widgets.Text(value='/scratch/') \n",
    "boxfoldertextbox =widgets.Text(value='myBoxFolderName', description='Box Project Folder') \n",
    "# scptextbox=widgets.Text(value='/global/scratch/groups/dh/photoscan13.img', description='Path to Container')\n",
    "scptextbox=widgets.Text(value='/global/scratch/groups/dh/photoscan_1_4_3.simg', description='Path to Container')\n",
    "iddtextbox=widgets.Text(value='/global/scratch/' + username + '/imageData', description='Image Data')\n",
    "hometextbox=widgets.Text(value='/global/home/users/' + username + '/', description='Home Folder')\n",
    "runtextbox=widgets.Text(value='/global/scratch/' + username + '/'  + pntextbox.value + '/', description='Run Folder')"
   ]
  },
  {
   "cell_type": "code",
   "execution_count": 2,
   "metadata": {},
   "outputs": [
    {
     "name": "stdout",
     "output_type": "stream",
     "text": [
      "/global/home/users/myashar/.conda/envs/py3.5/bin/python\n",
      "['', '/global/home/users/myashar/.conda/envs/py3.5/lib/python35.zip', '/global/home/users/myashar/.conda/envs/py3.5/lib/python3.5', '/global/home/users/myashar/.conda/envs/py3.5/lib/python3.5/plat-linux', '/global/home/users/myashar/.conda/envs/py3.5/lib/python3.5/lib-dynload', '/global/home/users/myashar/.local/lib/python3.5/site-packages', '/global/home/users/myashar/.conda/envs/py3.5/lib/python3.5/site-packages', '/global/home/users/myashar/.local/lib/python3.5/site-packages/IPython/extensions', '/global/home/users/myashar/.ipython']\n",
      "3.5.5 |Anaconda, Inc.| (default, May 13 2018, 21:12:35) \n",
      "[GCC 7.2.0]\n",
      "# packages in environment at /global/software/sl-7.x86_64/modules/langs/python/3.5:\n",
      "#\n",
      "# Name                    Version                   Build  Channel\n",
      "_license                  1.1                      py35_1  \n",
      "alabaster                 0.7.10           py35h6fb19ab_0  \n",
      "alembic                   0.9.2                     <pip>\n",
      "anaconda                  custom           py35h104c396_0  \n",
      "anaconda-client           1.6.9                    py35_0  \n",
      "anaconda-navigator        1.5.0                    py35_0  \n",
      "anaconda-project          0.8.2            py35h7d62c80_0  \n",
      "argcomplete               1.0.0                    py35_1  \n",
      "asn1crypto                0.24.0                   py35_0  \n",
      "astroid                   1.6.1                    py35_0  \n",
      "astropy                   2.0.3            py35h14c3975_0  \n",
      "attrs                     17.4.0                   py35_0  \n",
      "automat                   0.5.0                    py35_0  \n",
      "babel                     2.5.3                    py35_0  \n",
      "backports                 1.0              py35hd471ac7_1  \n",
      "backports.shutil_get_terminal_size 1.0.0            py35h40844db_2  \n",
      "batchspawner              0.0.1.dev0                <pip>\n",
      "beautifulsoup4            4.6.0            py35h442a8c9_1  \n",
      "bitarray                  0.8.1            py35h14c3975_1  \n",
      "bkcharts                  0.2              py35he4f7e30_0  \n",
      "blaze                     0.11.3           py35ha2c9137_0  \n",
      "bleach                    2.1.2                    py35_0  \n",
      "bokeh                     0.12.13          py35h2f9c1c0_0  \n",
      "boto                      2.48.0           py35h2cfd601_1  \n",
      "bottleneck                1.2.1            py35he1b16f1_0  \n",
      "bzip2                     1.0.6                h9a117a8_4  \n",
      "ca-certificates           2018.03.07                    0  \n",
      "cairo                     1.14.12              h77bcde2_0  \n",
      "certifi                   2018.1.18                py35_0  \n",
      "cffi                      1.11.4           py35h9745a5d_0  \n",
      "chardet                   3.0.4            py35hb6e9ddf_1  \n",
      "chest                     0.2.3                    py35_0  \n",
      "click                     6.7              py35h353a69f_0  \n",
      "cloudpickle               0.5.2                    py35_1  \n",
      "clyent                    1.2.2            py35h491ffcb_1  \n",
      "colorama                  0.3.9            py35h81e2b6c_0  \n",
      "conda                     4.5.1                    py35_0  \n",
      "conda-env                 2.6.0                h36134e3_1  \n",
      "configobj                 5.0.6                    py35_0  \n",
      "constantly                15.1.0                   py35_0  \n",
      "contextlib2               0.5.5            py35h6690dba_0  \n",
      "cryptography              2.1.4            py35hbeb2da1_0  \n",
      "cssselect                 1.0.0                    py35_0  \n",
      "curl                      7.58.0               h84994c4_0  \n",
      "cycler                    0.10.0           py35hc4d5149_0  \n",
      "cython                    0.27.3           py35h6cdc64b_0  \n",
      "cytoolz                   0.9.0            py35h14c3975_0  \n",
      "dask                      0.16.1                   py35_0  \n",
      "dask-core                 0.16.1                   py35_0  \n",
      "datashape                 0.5.4            py35h5b068ae_0  \n",
      "dbus                      1.12.2               hc3f9b76_1  \n",
      "decorator                 4.2.1                    py35_0  \n",
      "dill                      0.2.5                    py35_0  \n",
      "distributed               1.20.2                   py35_0  \n",
      "docutils                  0.14             py35hd11081d_0  \n",
      "entrypoints               0.2.3            py35h48174a2_2  \n",
      "et_xmlfile                1.0.1            py35hde8d43e_0  \n",
      "expat                     2.2.5                he0dffb1_0  \n",
      "fastcache                 1.0.2            py35h14c3975_2  \n",
      "filelock                  2.0.13           py35h4160c53_0  \n",
      "flask                     0.12.2           py35h679e90e_0  \n",
      "flask-cors                3.0.3            py35h9b2065d_0  \n",
      "fontconfig                2.12.4               h88586e7_1  \n",
      "freetype                  2.8                  hab7d2ae_1  \n",
      "future                    0.16.0                   py35_1  \n",
      "get_terminal_size         1.0.0                haa9412d_0  \n",
      "gevent                    1.2.2            py35he064abf_0  \n",
      "glib                      2.53.6               h5d9569c_2  \n",
      "glob2                     0.6              py35hff66265_0  \n",
      "gmp                       6.1.2                h6c8ec71_1  \n",
      "gmpy2                     2.0.8            py35hd0a1c9a_2  \n",
      "graphite2                 1.3.10               hf63cedd_1  \n",
      "greenlet                  0.4.12           py35h2547b41_0  \n",
      "gst-plugins-base          1.12.4               h33fb286_0  \n",
      "gstreamer                 1.12.4               hb53b477_0  \n",
      "h2o                       3.10.0.9                      0  \n",
      "h2o-py                    3.10.0.9                 py35_0  \n",
      "h5py                      2.7.1            py35h8d53cdc_0  \n",
      "harfbuzz                  1.7.4                hc5b324e_0  \n",
      "hdf5                      1.10.1               h9caa474_1  \n",
      "heapdict                  1.0.0                    py35_2  \n",
      "html5lib                  1.0.1            py35h2f9c1c0_0  \n",
      "icu                       58.2                 h9c2bf20_1  \n",
      "idna                      2.6              py35h8605a33_1  \n",
      "imageio                   2.2.0            py35hd0a6de2_0  \n",
      "imagesize                 0.7.1            py35hf008fae_0  \n",
      "incremental               16.10.1                  py35_0  \n",
      "intel-openmp              2018.0.0             hc7b2577_8  \n",
      "ipykernel                 4.8.0                    py35_0  \n",
      "ipyparallel               6.0.2                    py35_0  \n",
      "ipython                   6.2.1            py35hd850d2a_1  \n",
      "ipython_genutils          0.2.0            py35hc9e07d0_0  \n",
      "ipywidgets                7.1.1                    py35_0  \n",
      "isort                     4.2.15           py35h44a00d2_0  \n",
      "itsdangerous              0.24             py35h7c46880_1  \n",
      "jbig                      2.1                  hdba287a_0  \n",
      "jdcal                     1.3              py35hf1f7175_0  \n",
      "jedi                      0.11.1                   py35_0  \n",
      "jinja2                    2.10             py35h480ab6d_0  \n",
      "jpeg                      9b                   h024ee3a_2  \n",
      "jsonschema                2.6.0            py35h4395190_0  \n",
      "jupyter                   1.0.0                    py35_4  \n",
      "jupyter_client            5.2.2                    py35_0  \n",
      "jupyter_console           5.2.0            py35h4044a63_1  \n",
      "jupyter_core              4.4.0            py35ha89e94b_0  \n",
      "jupyterhub                0.7.2                     <pip>\n",
      "jupyterlab                0.31.5                   py35_0  \n",
      "jupyterlab_launcher       0.10.2                   py35_0  \n",
      "lazy-object-proxy         1.3.1            py35h4c720c6_0  \n",
      "libcurl                   7.58.0               h1ad7b7a_0  \n",
      "libedit                   3.1                  heed3624_0  \n",
      "libffi                    3.2.1                hd88cf55_4  \n",
      "libgcc                    4.8.5                         2  \n",
      "libgcc-ng                 7.2.0                h7cc24e2_2  \n",
      "libgfortran               3.0.0                         1  \n",
      "libgfortran-ng            7.2.0                h9f7466a_2  \n",
      "libgpuarray               0.6.4                         0  \n",
      "libiconv                  1.14                          0  \n",
      "libpng                    1.6.34               hb9fc6fc_0  \n",
      "libsodium                 1.0.15               hf101ebd_0  \n",
      "libssh2                   1.8.0                h9cfc8f7_4  \n",
      "libstdcxx-ng              7.2.0                h7a57d05_2  \n",
      "libtiff                   4.0.9                h28f6b97_0  \n",
      "libtool                   2.4.6                h544aabb_3  \n",
      "libxcb                    1.12                 hcd93eb1_4  \n",
      "libxml2                   2.9.7                h26e45fe_0  \n",
      "libxslt                   1.1.32               h1312cb7_0  \n",
      "llvmlite                  0.21.0           py35hcfd7307_0  \n",
      "locket                    0.2.0            py35h170bc82_1  \n",
      "lxml                      4.1.1            py35hf71bdeb_1  \n",
      "lzo                       2.10                 h49e0be7_2  \n",
      "mako                      1.0.6                    py35_0  \n",
      "markupsafe                1.0              py35h4f4fcf6_1  \n",
      "matplotlib                2.1.2            py35h0e671d2_0  \n",
      "mccabe                    0.6.1            py35hd8c1f23_1  \n",
      "mistune                   0.8.3                    py35_0  \n",
      "mkl                       2018.0.1             h19d6760_4  \n",
      "mkl-service               1.1.2            py35h0fc7090_4  \n",
      "mpc                       1.0.3                hec55b23_5  \n",
      "mpfr                      3.1.5                h11a74b3_2  \n",
      "mpi4py                    2.0.0                     <pip>\n",
      "mpmath                    1.0.0            py35h7ce6e34_2  \n",
      "msgpack-python            0.5.1            py35h6bb024c_0  \n",
      "multipledispatch          0.4.9            py35h2ff591a_0  \n",
      "nbconvert                 5.3.1            py35hc5194e3_0  \n",
      "nbformat                  4.4.0            py35h12e6e07_0  \n",
      "ncurses                   6.0                  h9df7e31_2  \n",
      "netifaces                 0.10.6                   py35_0    conda-forge\n",
      "networkx                  2.1                      py35_0  \n",
      "nltk                      3.2.5            py35h09ad193_0  \n",
      "nodejs                    6.10.3                        0  \n",
      "nose                      1.3.7            py35hdc64897_2  \n",
      "notebook                  5.4.0                    py35_0  \n",
      "numba                     0.36.2          np114py35ha126a20_0  \n",
      "numexpr                   2.6.4            py35h119f745_0  \n",
      "numpy                     1.14.0           py35h3dfced4_1  \n",
      "numpydoc                  0.7.0            py35he089a57_0  \n",
      "odo                       0.5.1            py35h102315f_0  \n",
      "olefile                   0.45.1                   py35_0  \n",
      "openjdk                   8.17.0.3                      1  \n",
      "openpyxl                  2.4.10                   py35_0  \n",
      "openssl                   1.0.2o               h20670df_0  \n",
      "packaging                 16.8             py35h2260b46_1  \n",
      "pamela                    0.3.0                     <pip>\n",
      "pandas                    0.22.0           py35hf484d3e_0  \n",
      "pandoc                    1.19.2.1             hea2e7c5_1  \n",
      "pandocfilters             1.4.2            py35h1565a15_1  \n",
      "pango                     1.41.0               hd475d92_0  \n",
      "parsel                    1.1.0                    py35_0  \n",
      "parso                     0.1.1            py35h1b200a3_0  \n",
      "partd                     0.3.8            py35h68187f2_0  \n",
      "patchelf                  0.9                  hf79760b_2  \n",
      "path.py                   10.5             py35h39c98c1_0  \n",
      "pathlib2                  2.3.0            py35hd637de4_0  \n",
      "patsy                     0.5.0                    py35_0  \n",
      "pcre                      8.41                 hc27e229_1  \n",
      "pep8                      1.7.1                    py35_0  \n",
      "pexpect                   4.3.1                    py35_0  \n",
      "pickleshare               0.7.4            py35hd57304d_0  \n",
      "pillow                    5.0.0            py35h3deb7b8_0  \n",
      "pip                       9.0.1            py35h7e7da9d_4  \n",
      "pixman                    0.34.0               hceecf20_3  \n",
      "pkginfo                   1.4.1            py35hb526c55_1  \n",
      "pluggy                    0.6.0            py35hb428803_0  \n",
      "ply                       3.10             py35h459f1a0_0  \n",
      "prompt_toolkit            1.0.15           py35hc09de7a_0  \n",
      "psutil                    5.4.3            py35h14c3975_0  \n",
      "ptyprocess                0.5.2            py35h38ce0a3_0  \n",
      "py                        1.5.2            py35hfe8c5ce_0  \n",
      "pyasn1                    0.1.9                    py35_0  \n",
      "pyasn1-modules            0.0.8                    py35_0  \n",
      "pycodestyle               2.3.1            py35h8d2105a_0  \n",
      "pycosat                   0.6.3            py35h6b6bb97_0  \n",
      "pycparser                 2.18             py35h61b3040_1  \n",
      "pycrypto                  2.6.1            py35h14c3975_7  \n",
      "pycurl                    7.43.0.1         py35hb7f436b_0  \n",
      "pydispatcher              2.0.5                    py35_0  \n",
      "pyflakes                  1.6.0            py35hd1da72e_0  \n",
      "pygments                  2.2.0            py35h0f41973_0  \n",
      "pygpu                     0.6.4                    py35_0  \n",
      "pylint                    1.8.2                    py35_0  \n",
      "pyodbc                    4.0.22           py35hf484d3e_0  \n",
      "pyopenssl                 17.5.0           py35h4f8b8c8_0  \n",
      "pyparsing                 2.2.0            py35h041ed72_1  \n",
      "pyqt                      5.6.0            py35h0e41ada_5  \n",
      "pysocks                   1.6.7            py35h6aefbb0_1  \n",
      "pytables                  3.4.2            py35hfa98db7_2  \n",
      "pytest                    3.3.2                    py35_0  \n",
      "python                    3.5.4               h417fded_24  \n",
      "python-dateutil           2.6.1            py35h90d5b31_1  \n",
      "python-editor             1.0.3                     <pip>\n",
      "pytz                      2017.3           py35hb13c558_0  \n",
      "pywavelets                0.5.2            py35h53ec731_0  \n",
      "pyyaml                    3.12             py35h46ef4ae_1  \n",
      "pyzmq                     16.0.3           py35ha889422_0  \n",
      "qt                        5.6.2               h974d657_12  \n",
      "qtawesome                 0.4.4            py35hd68ff89_0  \n",
      "qtconsole                 4.3.1            py35h4626a06_0  \n",
      "qtpy                      1.3.1            py35h881af26_0  \n",
      "queuelib                  1.4.2                    py35_0  \n",
      "readline                  7.0                  ha6073c6_4  \n",
      "redis                     3.2.0                         0  \n",
      "redis-py                  2.10.5                   py35_0  \n",
      "requests                  2.18.4           py35hb9e6ad1_1  \n",
      "rope                      0.10.7           py35h986144c_0  \n",
      "ruamel_yaml               0.15.35          py35h14c3975_1  \n",
      "scikit-image              0.13.1           py35h14c3975_1  \n",
      "scikit-learn              0.19.1           py35hbf1f462_0  \n",
      "scipy                     1.0.0            py35hcbbe4a2_0  \n",
      "scrapy                    1.1.1                    py35_0  \n",
      "seaborn                   0.8.1            py35h04cba02_0  \n",
      "send2trash                1.4.2                    py35_0  \n",
      "service_identity          16.0.0                   py35_0  \n",
      "setuptools                38.4.0                   py35_0  \n",
      "simplegeneric             0.8.1                    py35_2  \n",
      "singledispatch            3.4.0.3          py35h0cd4ec3_0  \n",
      "sip                       4.18.1           py35h9eaea60_2  \n",
      "six                       1.11.0           py35h423b573_1  \n",
      "snowballstemmer           1.2.1            py35h5435977_0  \n",
      "sockjs-tornado            1.0.3                    py35_0  \n",
      "sortedcollections         0.5.3            py35hb2f60ff_0  \n",
      "sortedcontainers          1.5.9                    py35_0  \n",
      "sphinx                    1.6.6                    py35_0  \n",
      "sphinxcontrib             1.0              py35hcb7efd2_1  \n",
      "sphinxcontrib-websupport  1.0.1            py35h3537809_1  \n",
      "spyder                    3.2.6                    py35_0  \n",
      "sqlalchemy                1.2.1            py35h14c3975_0  \n",
      "sqlite                    3.22.0               h1bed415_0  \n",
      "statsmodels               0.8.0            py35haa9d50b_0  \n",
      "sympy                     1.1.1            py35h919b29a_0  \n",
      "tabulate                  0.7.5                    py35_0  \n",
      "tblib                     1.3.2            py35hf1eb0b4_0  \n",
      "terminado                 0.8.1                    py35_1  \n",
      "testpath                  0.3.1            py35had42eaf_0  \n",
      "theano                    0.9.0                    py35_0  \n",
      "tk                        8.6.7                hc745277_3  \n",
      "toolz                     0.9.0                    py35_0  \n",
      "tornado                   4.5.3                    py35_0  \n",
      "traitlets                 4.3.2            py35ha522a97_0  \n",
      "twisted                   17.1.0                   py35_0  \n",
      "typing                    3.6.2            py35hcadae7e_0  \n",
      "unicodecsv                0.14.1           py35h4805c0c_0  \n",
      "unixodbc                  2.3.4                hc36303a_1  \n",
      "urllib3                   1.22             py35h2ab6e29_0  \n",
      "virtualenv                15.1.0                   py35_0  \n",
      "w3lib                     1.16.0                   py35_0  \n",
      "wcwidth                   0.1.7            py35hcd08066_0  \n",
      "webencodings              0.5.1            py35hb6cf162_1  \n",
      "werkzeug                  0.14.1                   py35_0  \n",
      "wheel                     0.30.0           py35hd3883cf_1  \n",
      "widgetsnbextension        3.1.0                    py35_0  \n",
      "wrapspawner               0.0.1.dev0                <pip>\n",
      "wrapt                     1.10.11          py35hfdafd39_0  \n",
      "xlrd                      1.1.0            py35h45a0a2a_1  \n",
      "xlsxwriter                1.0.2            py35h8ee9321_0  \n",
      "xlwt                      1.3.0            py35h884a0cf_0  \n",
      "xz                        5.2.3                h55aa19d_2  \n",
      "yaml                      0.1.7                had09818_2  \n",
      "zeromq                    4.2.2                hbedb6e5_2  \n",
      "zict                      0.1.3            py35h29275ca_0  \n",
      "zlib                      1.2.11               ha838bed_2  \n",
      "zope                      1.0                      py35_0  \n",
      "zope.interface            4.3.3                    py35_0  \n"
     ]
    }
   ],
   "source": [
    "import sys\n",
    "print(sys.executable)\n",
    "print(sys.path)\n",
    "print(sys.version)\n",
    "!conda list"
   ]
  },
  {
   "cell_type": "markdown",
   "metadata": {},
   "source": [
    "## Project set up\n",
    "After you run the code box below, a set of text boxes will appear. Click in the text boxes and enter the following values:\n",
    "* **Project name**: The name of your project. Will be used for some of the folders on the cluster that will be created to process the project.\n",
    "* **Mount folder**: Where your photos will be uploaded for processing. Unless you know specifically this should be somewhere else, leave this as /scratch/\n",
    "* **Box project folder**: The name of the folder on Box that has your photos in it.\n",
    "* **Path to container**: The location on the cluster where the container with the Photoscan software is installed. At Berkeley, this container is at /global/scratch/groups/dh/photoscan13.img --> photoscan_1_4_3.simg\n",
    "* **Home folder**: Your home folder on the cluster. \n",
    "* **Run folder**: The folder where the various job scripts to trigger the processing steps will be stored. Default: /global/scratch/your-user-name/your-project-name/\n",
    "\n",
    "When you're done filling in the text boxes, hit the \"run cell\" button again.\n"
   ]
  },
  {
   "cell_type": "code",
   "execution_count": 3,
   "metadata": {
    "code_folding": [
     0
    ],
    "scrolled": true
   },
   "outputs": [
    {
     "data": {
      "text/plain": [
       "'/global/scratch/myashar/projectname/'"
      ]
     },
     "metadata": {},
     "output_type": "display_data"
    },
    {
     "data": {
      "text/plain": [
       "<function __main__.rf(runPath)>"
      ]
     },
     "execution_count": 3,
     "metadata": {},
     "output_type": "execute_result"
    }
   ],
   "source": [
    "# Enter the projectname\n",
    "interact(pn, projectName=pntextbox)\n",
    "\n",
    "# Enter the Singularity Mount Folder here, this is defined inside the Singularity container:\n",
    "interact(smf, mountFolder=singularitymountfoldertextbox)\n",
    "\n",
    "# Enter the Box Project folder\n",
    "interact(bpf, boxFolder=boxfoldertextbox)\n",
    "\n",
    "# Enter the path to the Singularity container hosting Photoscan\n",
    "interact(scp, containerPath=scptextbox)\n",
    "\n",
    "# Enter the path to where the iamge files from Box should be place on the scrath drive\n",
    "interact(idd, imageDataPath=iddtextbox)\n",
    "\n",
    "# Enter the path to the user home folder where Box oauth information is stored in files.\n",
    "interact(hfp, homePath=hometextbox)\n",
    "\n",
    "# Enter the path to the run home folder where processing will be conducted and intermediate files created.\n",
    "interact(rf, runPath=runtextbox)"
   ]
  },
  {
   "cell_type": "markdown",
   "metadata": {},
   "source": [
    "## Creating project folders\n",
    "The code box below creates the project folders (e.g. run folder, scratch images directory) on the cluster if they don't already exist."
   ]
  },
  {
   "cell_type": "code",
   "execution_count": 4,
   "metadata": {
    "code_folding": [],
    "scrolled": false
   },
   "outputs": [
    {
     "name": "stdout",
     "output_type": "stream",
     "text": [
      "user name:  myashar\n",
      "project name:  projectname\n",
      "run folder:  /global/scratch/myashar/projectname/\n",
      "home folder:  /global/home/users/myashar/\n",
      "Singulariy Mount Folder:  /scratch/\n",
      "Box Project Folder:  myBoxFolderName\n",
      "project file:  /projectname.psx\n",
      "data zip file:  /projectname.files.zip\n",
      "data folder:  /projectname.files\n",
      "jpg file:  projectname.jpg\n",
      "Scratch Image Data Directory:  /global/scratch/myashar/projectname/images/\n",
      "Slurm script:  /global/scratch/myashar/projectname/slurmscript.sh\n",
      "exec script:  /global/scratch/myashar/projectname/execscript.sh\n",
      "scratch exec script:  /scratch/execscript.sh\n",
      "command script:  /global/scratch/myashar/projectname/commandscript.sh\n",
      "Singularity Container Path /global/scratch/groups/dh/photoscan_1_4_3.simg\n"
     ]
    }
   ],
   "source": [
    "projectname =  pntextbox.value\n",
    "\n",
    "# Defines all paths and filenames\n",
    "import os\n",
    "\n",
    "usernamearray = %sx whoami\n",
    "username = usernamearray[0]\n",
    "print('user name: ', username)\n",
    "print('project name: ', projectname)\n",
    "\n",
    "runFolder = os.path.join(runtextbox.value, '')\n",
    "homeFolder =  os.path.join(hometextbox.value, '')\n",
    "print('run folder: ', runFolder)\n",
    "print('home folder: ', homeFolder)\n",
    "\n",
    "# Creates the run folder if it does not exist\n",
    "if ( not os.path.isdir(runFolder)):\n",
    "    print('run folder does not exist, creating.')\n",
    "    os.mkdir(runFolder)\n",
    "\n",
    "singularitymountfolder = os.path.join(singularitymountfoldertextbox.value, '')\n",
    "print('Singulariy Mount Folder: ', singularitymountfolder)\n",
    "boxProjectFolder = boxfoldertextbox.value\n",
    "projectFile = '/' + projectname + '.psx'\n",
    "datazipFile = '/' + projectname + '.files.zip'\n",
    "dataFolder = '/' + projectname + '.files'\n",
    "print('Box Project Folder: ',boxProjectFolder)\n",
    "print('project file: ', projectFile)\n",
    "print('data zip file: ', datazipFile)\n",
    "print('data folder: ', dataFolder)\n",
    "\n",
    "projectfileid = ''\n",
    "jpgFile = projectname + '.jpg'\n",
    "print('jpg file: ',jpgFile)\n",
    "\n",
    "scratchImageDataDirectory = runFolder + 'images/'\n",
    "print('Scratch Image Data Directory: ', scratchImageDataDirectory)\n",
    "# Creates the image folder if it does not exist\n",
    "if ( not os.path.isdir(scratchImageDataDirectory)):\n",
    "    print('images folder does not exist, creating.')\n",
    "    os.mkdir(scratchImageDataDirectory)\n",
    "\n",
    "slurmScript = runFolder + 'slurmscript.sh'\n",
    "execScript = runFolder + 'execscript.sh'\n",
    "scratchExecScript = singularitymountfolder + 'execscript.sh'\n",
    "commandScript = runFolder + 'commandscript.sh'\n",
    "print('Slurm script: ', slurmScript)\n",
    "print('exec script: ', execScript)\n",
    "print('scratch exec script: ', scratchExecScript)\n",
    "print('command script: ', commandScript)\n",
    "\n",
    "\n",
    "singularityContainerPath = scptextbox.value\n",
    "#/global/scratch/groups/dh/photoscan13.img\n",
    "print(\"Singularity Container Path\", singularityContainerPath)"
   ]
  },
  {
   "cell_type": "markdown",
   "metadata": {},
   "source": [
    "## Box setup\n",
    "\n",
    "To connect Box with this notebook, you need to go through some one-time configuration steps the first time you use this notebook for any project. Please run the *BoxAuthenticationBootstrap.ipynb* notebook, then return to the code cells below to finish setup. After you finish the last cell, you should see *Folder name:  All Files*.\n",
    "\n",
    "If you run this notebook again for another project, you won't have to run *BoxAuthenticationBootstrap.ipynb* again, and can just continue to the code below."
   ]
  },
  {
   "cell_type": "code",
   "execution_count": 5,
   "metadata": {
    "scrolled": false
   },
   "outputs": [],
   "source": [
    "def store_tokens(access_token, refresh_token):\n",
    "    \n",
    "    \"\"\"Callback for storing refresh tokens. (For now we ignore access tokens).\"\"\"\n",
    "    with open('apptoken.cfg', 'w') as f:\n",
    "     f.write(refresh_token.strip())"
   ]
  },
  {
   "cell_type": "code",
   "execution_count": 6,
   "metadata": {},
   "outputs": [
    {
     "name": "stdout",
     "output_type": "stream",
     "text": [
      "/global/home/users/myashar/photogramm_workflow/brc-cyberinfrastructure/analysis-workflows/notebooks\r\n"
     ]
    }
   ],
   "source": [
    "!pwd"
   ]
  },
  {
   "cell_type": "code",
   "execution_count": 7,
   "metadata": {
    "scrolled": false
   },
   "outputs": [],
   "source": [
    "import os\n",
    "\n",
    "CLIENT_ID = None\n",
    "CLIENT_SECRET = None\n",
    "REDIRECT_URI = None\n",
    "\n",
    "# CLIENT_ID = '7fv9qix8gzo77vhwidetl426az41xneg'\n",
    "# CLIENT_SECRET = 'agzSPeOv8Zmmj8iupLJFcl9lWolaBqtY'\n",
    "# REDIRECT_URI ='https://berkeley.app.box.com/folder/0'\n",
    "\n",
    "# Read app info from text file\n",
    "# with open(homeFolder + 'app.cfg', 'r') as app_cfg:\n",
    "with open('app.cfg', 'r') as app_cfg:    \n",
    "    CLIENT_ID = app_cfg.readline()\n",
    "    CLIENT_SECRET = app_cfg.readline()\n",
    "    REDIRECT_URI = app_cfg.readline()\n"
   ]
  },
  {
   "cell_type": "code",
   "execution_count": 8,
   "metadata": {
    "scrolled": false
   },
   "outputs": [],
   "source": [
    "REFRESH_TOKEN = None\n",
    "\n",
    "# Read app info from text file\n",
    "# with open(homeFolder + 'apptoken.cfg', 'r') as apptoken_cfg:\n",
    "with open('apptoken.cfg', 'r') as apptoken_cfg:\n",
    "    REFRESH_TOKEN = apptoken_cfg.readline()"
   ]
  },
  {
   "cell_type": "code",
   "execution_count": 9,
   "metadata": {
    "scrolled": false
   },
   "outputs": [
    {
     "name": "stdout",
     "output_type": "stream",
     "text": [
      "Folder name:  All Files\n"
     ]
    }
   ],
   "source": [
    "from boxsdk import OAuth2\n",
    "from boxsdk import Client\n",
    "\n",
    "# Do OAuth2 authorization.\n",
    "oauth = OAuth2(\n",
    "    client_id=CLIENT_ID.strip(),\n",
    "    client_secret=CLIENT_SECRET.strip(),\n",
    "    refresh_token=REFRESH_TOKEN.strip(),\n",
    "    store_tokens=store_tokens\n",
    ")\n",
    "\n",
    "client = Client(oauth)\n",
    "\n",
    "root_folder = client.folder(folder_id='0').get()\n",
    "print (\"Folder name: \", root_folder['name'] )\n",
    "\n",
    "items = client.folder(folder_id='0').get_items(limit=100, offset=0)\n",
    "#print (\"items: \", items )\n",
    "\n"
   ]
  },
  {
   "cell_type": "markdown",
   "metadata": {},
   "source": [
    "## Finding folder on box\n",
    "The function below looks for your project folder on Box."
   ]
  },
  {
   "cell_type": "code",
   "execution_count": 10,
   "metadata": {
    "scrolled": false
   },
   "outputs": [],
   "source": [
    "def find_folder_id(folder_name):\n",
    "    print ('find_folder_id folder_name: ', folder_name)\n",
    "    folderlist = client.search(query=folder_name, result_type='folder', limit=100, offset=0)\n",
    "    \n",
    "    print ('find_folder_id folderlist: ', folderlist)\n",
    "    \n",
    "    if len(folderlist) == 0:\n",
    "        print('folder not found: ', folder_name)\n",
    "        return 0\n",
    "    else:\n",
    "        for fldr in folderlist:\n",
    "            if fldr['name'] == folder_name :\n",
    "                return fldr['id']\n",
    "            \n",
    "        return 0\n"
   ]
  },
  {
   "cell_type": "markdown",
   "metadata": {},
   "source": [
    "## Create command scripts template\n",
    "This code writes out a execute file that includes the license install as the first step each time to enable any HPC node. This is a temporary workaround until release 1.3 is installed on Savio and a license server is configured."
   ]
  },
  {
   "cell_type": "code",
   "execution_count": 11,
   "metadata": {
    "scrolled": false
   },
   "outputs": [],
   "source": [
    "# script for singularity to run\n",
    "import os, stat\n",
    "\n",
    "# execScriptTemplate = 'export RLM_LICENSE=5053@lmgr0.brc.berkeley.edu \\n\\\n",
    "# /opt/photoscan-pro/photoscan.sh -r  /scratch/commandscript.sh \\n'\n",
    "\n",
    "execScriptTemplate = 'export RLM_LICENSE=5053@lmgr0.brc.berkeley.edu \\n\\\n",
    "/global/scratch/groups/dh/photoscan-pro/photoscan.sh -r /global/scratch/myashar/projectname/commandscript.sh \\n'\n",
    "\n",
    "with open(execScript, 'w') as f:\n",
    "    f.write(execScriptTemplate)\n",
    "    \n",
    "os.chmod(execScript,  0o755)    \n"
   ]
  },
  {
   "cell_type": "code",
   "execution_count": null,
   "metadata": {},
   "outputs": [],
   "source": [
    "# batch script\n",
    "batchtemplate = '#!/bin/bash  \\n\\\n",
    "# Job name: \\n\\\n",
    "#SBATCH --job-name=' + projectname + '\\n\\\n",
    "# \\n\\\n",
    "# Account: \\n\\\n",
    "#SBATCH --account=ac_scsguest \\n\\\n",
    "# \\n\\\n",
    "# Partition: \\n\\\n",
    "#SBATCH --partition=savio \\n\\\n",
    "# \\n\\\n",
    "# Wall clock limit: \\n\\\n",
    "#SBATCH --time={} \\n\\\n",
    "# \\n\\\n",
    "## Command(s) to run: \\n\\\n",
    "singularity exec --writable -B ' + runFolder + ':' + singularitymountfolder + '  ' + singularityContainerPath + '  ' + scratchExecScript + '\\n' \n",
    "  \n",
    "    "
   ]
  },
  {
   "cell_type": "markdown",
   "metadata": {},
   "source": [
    "## Function for updating project file\n",
    "Multiple times in the workflow, the project folder needs to be updated on Box in order to enable making edits through the desktop version of Photoscan. This sets up a utility funcation that pushes the project \n",
    "file into the working directory on Savio. It assumes that the project folder will only contain one project file and one zipped archive."
   ]
  },
  {
   "cell_type": "code",
   "execution_count": null,
   "metadata": {
    "scrolled": false
   },
   "outputs": [],
   "source": [
    "import os\n",
    "import shutil\n",
    "\n",
    "def update_project_file_in_box():\n",
    "\n",
    "    newFolderId = find_folder_id(boxProjectFolder)\n",
    "    print (\"Box folder id: \", newFolderId  )\n",
    "    \n",
    "    # create a zipped archive of the data folder\n",
    "    shutil.make_archive(runFolder + dataFolder, 'zip', runFolder + dataFolder)\n",
    "    \n",
    "    projectfilelist = client.search(query=projectFile, result_type='file', limit=10, \n",
    "                                offset=0, ancestor_folders=[client.folder(folder_id=newFolderId)],\n",
    "                                file_extensions=['psx'] )  \n",
    "    \n",
    "    print (\"project file list: \", projectfilelist  )\n",
    "    \n",
    "    # if project file is not yet in folder, upload both the project file and the data zip file\n",
    "    if len(projectfilelist) == 0 or len(projectfilelist) > 1: \n",
    "        print (\"project file not found. \" )\n",
    "        upload_folder = client.folder(folder_id=newFolderId).get()\n",
    "        projectpsx = upload_folder.upload(runFolder + projectFile)  \n",
    "        print (\"project file id: \", projectpsx['id'] )\n",
    "        projectzip = upload_folder.upload(runFolder + datazipFile)  \n",
    "        print (\"data zip file id: \", projectzip['id'] )\n",
    "        return\n",
    "    else:\n",
    "        datazipfilelist = client.search(query=datazipFile, result_type='file', limit=10, \n",
    "                                offset=0, ancestor_folders=[client.folder(folder_id=newFolderId)])\n",
    "                                #file_extensions=['zip'] )  \n",
    "        print (\"datazip file list: \", datazipfilelist  )\n",
    "        \n",
    "        projectfileid = projectfilelist[0]['id']\n",
    "        print (\"project file id: \", projectfileid )\n",
    "        datazipfileid = datazipfilelist[0]['id']\n",
    "        print (\"data zip file list: \", datazipfileid  )\n",
    "    \n",
    "        update_file = client.file(file_id=projectfileid).get()\n",
    "        update_zip_file = client.file(file_id=datazipfileid).get()\n",
    "\n",
    "        # upload a new version of the project file\n",
    "        print ('begin project file update.' )\n",
    "        psxfile = update_file.update_contents(runFolder + projectFile)  \n",
    "        zipfile = update_zip_file.update_contents(runFolder + datazipFile)\n",
    "        print ('update psx result: ', psxfile ,'   update zip result: ', zipfile )"
   ]
  },
  {
   "cell_type": "markdown",
   "metadata": {},
   "source": [
    "## Fetching images from Box\n",
    "The code below retrieves the images from your project directory on Box, and puts them in the project folder on the cluster that you specified above.\n",
    "\n",
    "When you run it, it will check for the number of files in the folder on Box, and list each of them as it downloads. Please wait until you see *Download complete* before moving to the next step -- this can take some time if you have a lot of images, or large images."
   ]
  },
  {
   "cell_type": "code",
   "execution_count": null,
   "metadata": {
    "scrolled": false
   },
   "outputs": [],
   "source": [
    "import os\n",
    "import shutil \n",
    "\n",
    "\n",
    "os.chdir(scratchImageDataDirectory)\n",
    "print ('retrieving images from folder: ', boxProjectFolder)\n",
    "print ('downloading images to directory: ', scratchImageDataDirectory)\n",
    "\n",
    "# test folder contents\n",
    "items = client.folder(folder_id='0').get_items(limit=20, offset=0)\n",
    "if type(items) is list:\n",
    "    #print ('number of files in top folder: ', len(items) )\n",
    "    \n",
    "    targetfolderId = ''\n",
    "    for item in items:\n",
    "        if item['type'] == 'folder':\n",
    "            #print('folder name: ', item['name'])\n",
    "            if item['name'] == boxProjectFolder:\n",
    "                targetfolderId = item['id']\n",
    "                print('targetfolderId: ', targetfolderId)\n",
    "        \n",
    "    if targetfolderId is not None:\n",
    "        tgtitems = client.folder(folder_id=targetfolderId).get_items(limit=200, offset=0)\n",
    "        if type(tgtitems) is list:\n",
    "            print ('number of files in target folder: ', len(tgtitems) ) \n",
    "        \n",
    "        # download all image files\n",
    "        for tgtitem in tgtitems:\n",
    "            if  not tgtitem['type'] == 'folder' and tgtitem['name'].endswith('.JPG'):\n",
    "                print('downloading: ', tgtitem['name'])\n",
    "                imagecontent = client.file(file_id=tgtitem['id']).content()\n",
    "                newfile = open(scratchImageDataDirectory + tgtitem['name'], 'wb')\n",
    "                newfile.write(imagecontent)\n",
    "                newfile.close()\n",
    "        print ('Download complete')"
   ]
  },
  {
   "cell_type": "markdown",
   "metadata": {},
   "source": [
    "## Function for retrieving project file\n",
    "This code sets up a function to bring an updated project file back from Box, e.g. after you've made changes using the desktop version of Photoscan, and you want to run a subsequent processing step on a cluster."
   ]
  },
  {
   "cell_type": "code",
   "execution_count": null,
   "metadata": {
    "scrolled": false
   },
   "outputs": [],
   "source": [
    "\n",
    "import os\n",
    "import shutil \n",
    "def retrieve_project_file():\n",
    "    newFolderId = find_folder_id(boxProjectFolder)\n",
    "    tgtitems = client.folder(folder_id=newFolderId).get_items(limit=1000, offset=0)\n",
    "\n",
    "    # download the project file\n",
    "    for tgtitem in tgtitems:\n",
    "        if  not tgtitem['type'] == 'folder' and tgtitem['name'].endswith('.psx'):\n",
    "            print('downloading: ', tgtitem['name'])\n",
    "            imagecontent = client.file(file_id=tgtitem['id']).content()\n",
    "            newfile = open(runFolder + tgtitem['name'], 'wb')\n",
    "            newfile.write(imagecontent)\n",
    "            newfile.close()\n",
    "            print('project file download complete.')\n",
    "            \n",
    "        if  not tgtitem['type'] == 'folder' and tgtitem['name'].endswith('.zip'):\n",
    "            \n",
    "            # delete the old folder\n",
    "            !rm -rf $runFolder$dataFolder\n",
    "            \n",
    "            print('downloading: ', tgtitem['name'])\n",
    "            imagecontent = client.file(file_id=tgtitem['id']).content()\n",
    "            newfile = open(runFolder + tgtitem['name'], 'wb')\n",
    "            newfile.write(imagecontent)\n",
    "            newfile.close()\n",
    "            \n",
    "            shutil.unpack_archive(runFolder + datazipFile, runFolder + dataFolder ,'zip')\n",
    "            \n",
    "            print('data zip file download complete.')"
   ]
  },
  {
   "cell_type": "markdown",
   "metadata": {},
   "source": [
    "# Project setup\n",
    "\n",
    "This section pulls your images onto the computing cluster and creates and uploads a Photoscan .psx file if it doesn't already exist.\n",
    "\n"
   ]
  },
  {
   "cell_type": "markdown",
   "metadata": {},
   "source": [
    "## Set up job script\n",
    "\n",
    "This code sets up the job script that will be run on the cluster, in order to pull in your images."
   ]
  },
  {
   "cell_type": "code",
   "execution_count": null,
   "metadata": {},
   "outputs": [],
   "source": [
    "def hrs(xhrs):\n",
    "    return xhrs\n",
    "def mins(xmins):\n",
    "    return xmins\n",
    "\n",
    "#Define widgets and defaults\n",
    "hrslider=widgets.IntSlider(description='Estimated Hours:',  value=1, min=0, max=23,step=1)\n",
    "minslider=widgets.IntSlider(description='Estimated Minutes:',  value=0, min=0, max=59,step=1)\n"
   ]
  },
  {
   "cell_type": "code",
   "execution_count": null,
   "metadata": {},
   "outputs": [],
   "source": [
    "# Enter the estimated hours and minutes to create the project and add photos\n",
    "interact(hrs, xhrs=hrslider)\n",
    "interact(mins, xmins=minslider)"
   ]
  },
  {
   "cell_type": "code",
   "execution_count": null,
   "metadata": {
    "scrolled": false
   },
   "outputs": [],
   "source": [
    "import os, stat\n",
    "\n",
    "files = [ singularitymountfolder + 'images/' + f for f in os.listdir(scratchImageDataDirectory) ] \n",
    "\n",
    "template = '#!/usr/bin/env python3 \\n\\\n",
    "import PhotoScan \\n\\\n",
    "import time \\n\\\n",
    "doc = PhotoScan.app.document \\n\\\n",
    "chunk = PhotoScan.app.document.addChunk() \\n\\\n",
    "chunk.addPhotos( {} ) \\n\\\n",
    "doc.save(path=\\\"{}\\\", chunks = [doc.chunk])\\n '\n",
    "\n",
    "output = template.format(str(files), singularitymountfolder + projectFile)\n",
    "print('output: ', output)\n",
    "\n",
    "with open(commandScript, 'w') as f:  \n",
    "    f.write(output)\n",
    "\n",
    "os.chmod(commandScript,  0o755)\n",
    "\n",
    "#set time limit for this batch run\n",
    "minstring = str(minslider.value)\n",
    "if minslider.value < 10:\n",
    "    minstring = '0' + str(minslider.value)\n",
    "estimateTime = str(hrslider.value) + ':' + minstring + ':00'\n",
    "print('estimateTime: ', estimateTime)\n",
    "outputbatchscript = batchtemplate.format(estimateTime)\n",
    "with open(slurmScript, 'w') as f:  \n",
    "    f.write(outputbatchscript)\n",
    "    \n",
    "os.chmod(slurmScript,  0o755)"
   ]
  },
  {
   "cell_type": "markdown",
   "metadata": {},
   "source": [
    "## Run job\n",
    "The code below will run the job on the cluster, pulling in your images from Box, and will display the job ID."
   ]
  },
  {
   "cell_type": "code",
   "execution_count": null,
   "metadata": {
    "scrolled": false
   },
   "outputs": [],
   "source": [
    "os.chdir(runFolder)\n",
    "\n",
    "out = !sbatch slurmscript.sh   \n",
    "    \n",
    "print ('Execute image loading output: ', out ) \n",
    "jobId =  out[0].split()[3]\n",
    "print (jobId)"
   ]
  },
  {
   "cell_type": "code",
   "execution_count": null,
   "metadata": {},
   "outputs": [],
   "source": [
    "# print the users queue and the job status by id\n",
    "!squeue -u $username\n",
    "print('--------------------------------')\n",
    "!scontrol show job $jobId"
   ]
  },
  {
   "cell_type": "markdown",
   "metadata": {},
   "source": [
    "## Upload project file\n",
    "If there isn't a \"data\" subfolder inside your project folder on Box already, the code below will first create it. The code will then upload a new Photoscan project file and associated data files to Box. \n",
    "\n",
    "If a Photoscan project file with the same name already exists in the folder on Box, this code will *not* overwrite it.\n",
    "\n",
    "Please note: New folders in Box can take several minutes to register, so this step may take a few minutes. If you get a \"file not found\" error in the next step, wait a minute or two and retry."
   ]
  },
  {
   "cell_type": "code",
   "execution_count": null,
   "metadata": {
    "scrolled": true
   },
   "outputs": [],
   "source": [
    "from boxsdk.exception import BoxAPIException\n",
    "\n",
    "newFolderId = find_folder_id(boxProjectFolder)\n",
    "print('folder id: ', newFolderId)\n",
    "\n",
    "if newFolderId == 0:\n",
    "    newFolder = client.folder(folder_id='0').create_subfolder(boxProjectFolder)\n",
    "    newFolderId = newFolder['id']\n",
    "    print (\"folder created\" )\n",
    "else: \n",
    "    print (\"folder exists\" )\n",
    "    \n",
    "print (\"folder id: \", newFolderId )\n",
    "\n",
    "update_project_file_in_box()"
   ]
  },
  {
   "cell_type": "markdown",
   "metadata": {},
   "source": [
    "## OFFLINE: Image masking\n",
    "If you need to mask any images before building the dense cloud, please launch your desktop version of Photoscan, make those changes, and save the modified .psx file back to your folder on Box before proceeding with the next step."
   ]
  },
  {
   "cell_type": "markdown",
   "metadata": {},
   "source": [
    "# Align photos and Build Dense Cloud\n",
    "\n",
    "The code below will retrieve the project file from Box. This will ensure that you're working with the latest version, even if you've made changes offline (such as image masking)."
   ]
  },
  {
   "cell_type": "code",
   "execution_count": null,
   "metadata": {
    "scrolled": true
   },
   "outputs": [],
   "source": [
    "retrieve_project_file()"
   ]
  },
  {
   "cell_type": "markdown",
   "metadata": {},
   "source": [
    "## Set up job script\n",
    "\n",
    "Run the code box below, then choose your estimated run time for the job. The default run time is 3 hours, which should cover most projects with under 75 photos. If you have more photos, please increase the run time.\n",
    "\n",
    "**Maurice: make this a different widget with default run time of 3 hours**"
   ]
  },
  {
   "cell_type": "code",
   "execution_count": null,
   "metadata": {},
   "outputs": [],
   "source": [
    "# Enter the estimated hours and minutes to create the project and add photos\n",
    "interact(hrs, xhrs=hrslider)\n",
    "interact(mins, xmins=minslider)"
   ]
  },
  {
   "cell_type": "markdown",
   "metadata": {},
   "source": [
    "## Set up parameters\n",
    "Choose the quality settings for the dense cloud build after running the cells below."
   ]
  },
  {
   "cell_type": "code",
   "execution_count": null,
   "metadata": {
    "collapsed": true
   },
   "outputs": [],
   "source": [
    "def chc(txt):\n",
    "    return txt\n",
    "\n",
    "pselchoice=widgets.Dropdown(description='Preselection', value='GenericPreselection', options=['GenericPreselection', 'ReferencePreselection'])\n",
    "qualchoice=widgets.Dropdown(description='Quality', value='MediumQuality', options=['UltraQuality', 'HighQuality', 'MediumQuality',  'LowQuality', 'LowestQuality'] )\n",
    "fltrchoice=widgets.Dropdown(description='Filter', value='ModerateFiltering', options=['NoFiltering', 'MildFiltering', 'ModerateFiltering',  'AggressiveFiltering']  )\n",
    "accchoice=widgets.Dropdown(description='Accuracy', value='MediumAccuracy', options= ['HighestAccuracy', 'HighAccuracy', 'MediumAccuracy',  'LowAccuracy', 'LowestAccuracy']  )\n",
    "afchoice=widgets.Dropdown(description='Adaptive Fitting', options=['True', 'False'])"
   ]
  },
  {
   "cell_type": "code",
   "execution_count": null,
   "metadata": {},
   "outputs": [],
   "source": [
    "interact(chc, txt=pselchoice)\n",
    "interact(chc, txt=qualchoice)\n",
    "interact(chc, txt=fltrchoice)\n",
    "interact(chc, txt=accchoice)\n",
    "interact(chc, txt=afchoice)"
   ]
  },
  {
   "cell_type": "markdown",
   "metadata": {},
   "source": [
    "## Create job script\n",
    "The next cell will create and display the job script that will be run on the cluster."
   ]
  },
  {
   "cell_type": "code",
   "execution_count": null,
   "metadata": {
    "scrolled": false
   },
   "outputs": [],
   "source": [
    "# Creates job script for building dense cloud\n",
    "import os, stat\n",
    "\n",
    "template = '#!/usr/bin/env python3 \\n\\\n",
    "import PhotoScan \\n\\\n",
    "import time \\n\\\n",
    "print( \"start time: \", time.time()) \\n\\\n",
    "doc = PhotoScan.app.document \\n\\\n",
    "doc.open(\\\"{}\\\") \\n\\\n",
    "chunk = doc.chunk \\n\\\n",
    "chunk.matchPhotos(accuracy=PhotoScan.{}, preselection=PhotoScan.{}) \\n\\\n",
    "chunk.alignCameras(adaptive_fitting={}) \\n\\\n",
    "chunk.buildDenseCloud(quality=PhotoScan.{},  filter=PhotoScan.{} ) \\n\\\n",
    "doc.save(\\\"{}\\\") \\n\\\n",
    "print( \"stop time: \", time.time()) \\n'\n",
    "\n",
    "output = template.format(singularitymountfolder + projectFile, accchoice.value, pselchoice.value, afchoice.value, qualchoice.value, fltrchoice.value, singularitymountfolder + projectFile)\n",
    "\n",
    "print('output: ', output)\n",
    "\n",
    "with open(commandScript, 'w') as f:  \n",
    "    f.write(output)\n",
    "\n",
    "    \n",
    "#Set time limit for this batch run\n",
    "minstring = str(minslider.value)\n",
    "if minslider.value < 10:\n",
    "    minstring = '0' + str(minslider.value)\n",
    "estimateTime = str(hrslider.value) + ':' + minstring + ':00'\n",
    "print('estimateTime: ', estimateTime)\n",
    "outputbatchscript = batchtemplate.format(estimateTime)\n",
    "#outputbatchscript = batchtemplate.format('01:30:00')\n",
    "with open(slurmScript, 'w') as f:  \n",
    "    f.write(outputbatchscript)\n",
    "    "
   ]
  },
  {
   "cell_type": "markdown",
   "metadata": {},
   "source": [
    "## Run dense cloud build\n",
    "Running the following code box will submit your job to the cluster. Your job ID will be printed below."
   ]
  },
  {
   "cell_type": "code",
   "execution_count": null,
   "metadata": {
    "scrolled": true
   },
   "outputs": [],
   "source": [
    "out = !sbatch slurmscript.sh   \n",
    "    \n",
    "print ('Execute the dense cloud build output: ', out ) \n",
    "jobId =  out[0].split()[3]\n",
    "print (jobId)"
   ]
  },
  {
   "cell_type": "markdown",
   "metadata": {},
   "source": [
    "## Check on job status\n",
    "Building the dense cloud is the longest-running phase of the photogrammetry process. Depending on how many photos you have, and the quality settings you've chosen, the job could run for anywhere from minutes to hours. Run the following code box to check on the status of the dense cloud build. You can run it multiple times for new updates."
   ]
  },
  {
   "cell_type": "code",
   "execution_count": null,
   "metadata": {
    "code_folding": []
   },
   "outputs": [],
   "source": [
    "# print the users queue and the job status by id\n",
    "!squeue -u $username\n",
    "print('--------------------------------')\n",
    "!scontrol show job $jobId"
   ]
  },
  {
   "cell_type": "markdown",
   "metadata": {},
   "source": [
    "## Display log message\n",
    "As an optional step, you can run the code below to see the log file once the job is done. It includes technical information about the points that were found in each photo, rectifying disparities between photos, etc."
   ]
  },
  {
   "cell_type": "code",
   "execution_count": null,
   "metadata": {
    "code_folding": [
     0
    ]
   },
   "outputs": [],
   "source": [
    "# print the log file if necessary\n",
    "slurmlogfilename = 'slurm-' + jobId + '.out'\n",
    "with open(slurmlogfilename, 'r') as fin:\n",
    "    print(fin.read(), end=\"\")"
   ]
  },
  {
   "cell_type": "markdown",
   "metadata": {},
   "source": [
    "## Export dense cloud\n",
    "If you want to export the dense cloud for use in other software, you can run the code boxes below. If you want to just continue with the next step in the photogrammetry process, you can skip it."
   ]
  },
  {
   "cell_type": "code",
   "execution_count": null,
   "metadata": {
    "collapsed": true
   },
   "outputs": [],
   "source": [
    "# Quinn - Im guessing at these extenstions, I have only used oc3\n",
    "pointsFormatExt = { 'PointsFormatOBJ':'.obj', 'PointsFormatPLY':'.ply', 'PointsFormatXYZ':'.xyz', 'PointsFormatLAS':'.las', 'PointsFormatExpe':'.???',\n",
    "'PointsFormatU3D':'.u3d', 'PointsFormatPDF':'.pdf', 'PointsFormatE57':'.e57', 'PointsFormatOC3':'.oc3', 'PointsFormatPotree':'.???',\n",
    "'PointsFormatLAZ':'.laz', 'PointsFormatCL3':'.cl3', 'PointsFormatPTS':'.pts', 'PointsFormatDXF':'.dxf' }\n",
    "\n",
    "ptsfchoice=widgets.Dropdown(description='Points Format', value='PointsFormatOC3', options= ['PointsFormatOBJ', 'PointsFormatPLY', 'PointsFormatXYZ', 'PointsFormatLAS', 'PointsFormatExpe',\n",
    "'PointsFormatU3D', 'PointsFormatPDF', 'PointsFormatE57', 'PointsFormatOC3', 'PointsFormatPotree',\n",
    "'PointsFormatLAZ', 'PointsFormatCL3', 'PointsFormatPTS', 'PointsFormatDXF']   )\n"
   ]
  },
  {
   "cell_type": "code",
   "execution_count": null,
   "metadata": {},
   "outputs": [],
   "source": [
    "interact(chc, txt=ptsfchoice)"
   ]
  },
  {
   "cell_type": "code",
   "execution_count": null,
   "metadata": {},
   "outputs": [],
   "source": [
    "template = '#!/usr/bin/env python3 \\n\\\n",
    "import PhotoScan \\n\\\n",
    "doc = PhotoScan.app.document \\n\\\n",
    "doc.open(\\\"{}\\\") \\n\\\n",
    "chunk = doc.chunk \\n\\\n",
    "chunk.exportPoints(path=\\\"{}\\\", format=PhotoScan.PointsFormat.{})  \\n' \n",
    "\n",
    "output = template.format(singularitymountfolder + projectFile,  singularitymountfolder + 'photoscandemo' + pointsFormatExt[ptsfchoice.value], ptsfchoice.value)\n",
    "\n",
    "print('output:', output)\n",
    "\n",
    "with open(commandScript, 'w') as f:\n",
    "    f.write(output)"
   ]
  },
  {
   "cell_type": "code",
   "execution_count": null,
   "metadata": {},
   "outputs": [],
   "source": [
    "out = !sbatch slurmscript.sh   \n",
    "        \n",
    "print (' Export the points  output: ', out ) \n",
    "jobId =  out[0].split()[3]\n",
    "print (jobId)"
   ]
  },
  {
   "cell_type": "code",
   "execution_count": null,
   "metadata": {},
   "outputs": [],
   "source": [
    "# print the users queue and the job status by id\n",
    "!squeue -u $username\n",
    "print('--------------------------------')\n",
    "!scontrol show job $jobId"
   ]
  },
  {
   "cell_type": "markdown",
   "metadata": {},
   "source": [
    "## Update project on Box\n",
    "After generating the dense cloud, the .psx file will be much larger and this may take a moment.\n",
    "**Maurice: add success message**"
   ]
  },
  {
   "cell_type": "code",
   "execution_count": null,
   "metadata": {
    "scrolled": true
   },
   "outputs": [],
   "source": [
    "update_project_file_in_box()"
   ]
  },
  {
   "cell_type": "markdown",
   "metadata": {},
   "source": [
    "## OFFLINE: Dense cloud clean-up\n",
    "At this point, you may want to clean up the dense point cloud by removing stray points (e.g. for objects that have not been photographed in a lightbox, where there might be artifacts from the background, etc.) This should be done using the desktop version of Photoscan. \n",
    "\n",
    "Be sure to save the updated project file back to the same place in Box if you want to run the next processing steps through this notebook."
   ]
  },
  {
   "cell_type": "markdown",
   "metadata": {},
   "source": [
    "# Build Mesh\n",
    "\n",
    "First, retrieve the project file (.psx) from Box, in case it has been updated."
   ]
  },
  {
   "cell_type": "code",
   "execution_count": null,
   "metadata": {
    "scrolled": false
   },
   "outputs": [],
   "source": [
    "retrieve_project_file()"
   ]
  },
  {
   "cell_type": "markdown",
   "metadata": {},
   "source": [
    "## Choose parameters\n",
    "Running the code box below will create three sets of drop-downs where you can choose the surface type, face count, and data source."
   ]
  },
  {
   "cell_type": "code",
   "execution_count": null,
   "metadata": {
    "collapsed": true
   },
   "outputs": [],
   "source": [
    "stchoice=widgets.Dropdown(description='Surface type', value='Arbitrary', options=['Arbitrary', 'HeightField'])\n",
    "fcchoice=widgets.Dropdown(description='Face count', value='HighFaceCount', options= ['LowFaceCount', 'MediumFaceCount', 'HighFaceCount'] )\n",
    "dschoice=widgets.Dropdown(description='Data source', value='DenseCloudData', options=['PointCloudData', 'DenseCloudData', 'DepthMapsData', 'ModelData', 'TiledModelData', 'ElevationData',\n",
    "'OrthomosaicData']  )\n"
   ]
  },
  {
   "cell_type": "code",
   "execution_count": null,
   "metadata": {},
   "outputs": [],
   "source": [
    "interact(chc, txt=stchoice)\n",
    "interact(chc, txt=fcchoice)\n",
    "interact(chc, txt=dschoice)"
   ]
  },
  {
   "cell_type": "code",
   "execution_count": null,
   "metadata": {
    "scrolled": false
   },
   "outputs": [],
   "source": [
    "template = '#!/usr/bin/env python3 \\n\\\n",
    "import PhotoScan \\n\\\n",
    "import time \\n\\\n",
    "print( \"start time: \", time.time()) \\n\\\n",
    "doc = PhotoScan.app.document \\n\\\n",
    "doc.open(\\\"{}\\\") \\n\\\n",
    "chunk = doc.chunk \\n\\\n",
    "chunk.buildModel(surface=PhotoScan.{}, source=PhotoScan.{}, face_count=PhotoScan.{} ) \\n\\\n",
    "doc.save(\\\"{}\\\") \\n\\\n",
    "print( \"stop time: \", time.time()) \\n'\n",
    "\n",
    "output = template.format(singularitymountfolder + projectFile, stchoice.value, dschoice.value, fcchoice.value, singularitymountfolder + projectFile)\n",
    "\n",
    "print('output:', output)\n",
    "\n",
    "with open(commandScript, 'w') as f:  \n",
    "    f.write(output)\n",
    "\n",
    "\n",
    "#set time limit for this batch run\n",
    "outputbatchscript = batchtemplate.format('00:30:00')\n",
    "with open(slurmScript, 'w') as f:  \n",
    "    f.write(outputbatchscript)\n",
    "    "
   ]
  },
  {
   "cell_type": "markdown",
   "metadata": {},
   "source": [
    "## Run mesh build\n",
    "The code box below will submit your job and print out your job ID."
   ]
  },
  {
   "cell_type": "code",
   "execution_count": null,
   "metadata": {
    "scrolled": false
   },
   "outputs": [],
   "source": [
    "out = !sbatch slurmscript.sh   \n",
    "    \n",
    "print ('Execute the mesh build output: ', out ) \n",
    "jobId =  out[0].split()[3]\n",
    "print (jobId) "
   ]
  },
  {
   "cell_type": "markdown",
   "metadata": {},
   "source": [
    "## Check on mesh build status\n",
    "Run the code box below to get the current status of the mesh build job. You can run it multiple times for the most recent status."
   ]
  },
  {
   "cell_type": "code",
   "execution_count": null,
   "metadata": {},
   "outputs": [],
   "source": [
    "# print the users queue and the job status by id\n",
    "!squeue -u $username\n",
    "print('--------------------------------')\n",
    "!scontrol show job $jobId"
   ]
  },
  {
   "cell_type": "markdown",
   "metadata": {},
   "source": [
    "## Display log message\n",
    "\n",
    "As an optional step, you can run the code below to see the log file once the job is done."
   ]
  },
  {
   "cell_type": "code",
   "execution_count": null,
   "metadata": {},
   "outputs": [],
   "source": [
    "# print the log file if necessary\n",
    "slurmlogfilename = 'slurm-' + jobId + '.out'\n",
    "with open(slurmlogfilename, 'r') as fin:\n",
    "    print(fin.read(), end=\"\")"
   ]
  },
  {
   "cell_type": "markdown",
   "metadata": {},
   "source": [
    "## Update project on Box\n",
    "The next code box will return the project file to Box so you can make additional tweaks and changes offline."
   ]
  },
  {
   "cell_type": "code",
   "execution_count": null,
   "metadata": {
    "scrolled": false
   },
   "outputs": [],
   "source": [
    "update_project_file_in_box()"
   ]
  },
  {
   "cell_type": "markdown",
   "metadata": {},
   "source": [
    "## OFFLINE: Mesh cleanup\n",
    "If you need to add marker points in the Photoscan file (.psx), download the latest project file from Box, make the changes, and upload the edited .psx file back to Box."
   ]
  },
  {
   "cell_type": "markdown",
   "metadata": {},
   "source": [
    "# Build Texture\n",
    "\n",
    "First, retrieve the project file from Box in case it has been updated."
   ]
  },
  {
   "cell_type": "code",
   "execution_count": null,
   "metadata": {
    "scrolled": false
   },
   "outputs": [],
   "source": [
    "retrieve_project_file()"
   ]
  },
  {
   "cell_type": "markdown",
   "metadata": {},
   "source": [
    "## Choose parameters\n",
    "Choose the data source, and specify a coordinate system if desired, after running the next code box."
   ]
  },
  {
   "cell_type": "code",
   "execution_count": null,
   "metadata": {},
   "outputs": [],
   "source": [
    "gmchoice=widgets.Dropdown(description='UV Mapping Mode', value='GenericMapping', options= ['GenericMapping', 'OrthophotoMapping', 'AdaptiveOrthophotoMapping', 'SphericalMapping',\n",
    "'CameraMapping'])\n",
    "ccchoice=widgets.Dropdown(description='Color Correction', value='True', options= ['True', 'False'] )\n",
    "ds2choice=widgets.Dropdown(description='Data source', value='ModelData', options=['PointCloudData', 'DenseCloudData', 'DepthMapsData', 'ModelData', 'TiledModelData', 'ElevationData',\n",
    "'OrthomosaicData']  )"
   ]
  },
  {
   "cell_type": "code",
   "execution_count": null,
   "metadata": {},
   "outputs": [],
   "source": [
    "interact(chc, txt=gmchoice)\n",
    "interact(chc, txt=ccchoice)\n",
    "interact(chc, txt=ds2choice)"
   ]
  },
  {
   "cell_type": "code",
   "execution_count": null,
   "metadata": {
    "scrolled": false
   },
   "outputs": [],
   "source": [
    "template = '#!/usr/bin/env python3 \\n\\\n",
    "import PhotoScan \\n\\\n",
    "import time \\n\\\n",
    "print( \"start time: \", time.time()) \\n\\\n",
    "doc = PhotoScan.app.document \\n\\\n",
    "doc.open(\\\"{}\\\") \\n\\\n",
    "chunk = doc.chunk \\n\\\n",
    "chunk.buildUV(mapping=PhotoScan.{}) \\n\\\n",
    "chunk.buildTexture( color_correction={} ) \\n\\\n",
    "doc.save(\\\"{}\\\") \\n\\\n",
    "doc.open(\\\"{}\\\") \\n\\\n",
    "chunk = doc.chunk \\n\\\n",
    "chunk.buildOrthomosaic( surface=PhotoScan.DataSource.{} ) \\n\\\n",
    "doc.save(\\\"{}\\\") \\n\\\n",
    "print( \"stop time: \", time.time()) \\n'\n",
    "\n",
    "output = template.format(singularitymountfolder + projectFile, gmchoice.value, ccchoice.value,  singularitymountfolder + projectFile, singularitymountfolder + projectFile, ds2choice.value, singularitymountfolder + projectFile)\n",
    "\n",
    "print('output:', output)\n",
    "\n",
    "with open(commandScript, 'w') as f:  \n",
    "    f.write(output)\n"
   ]
  },
  {
   "cell_type": "markdown",
   "metadata": {},
   "source": [
    "## Run texture build"
   ]
  },
  {
   "cell_type": "code",
   "execution_count": null,
   "metadata": {
    "scrolled": false
   },
   "outputs": [],
   "source": [
    "out = !sbatch slurmscript.sh   \n",
    "    \n",
    "print ('  texture and orthomosaic build output: ', out ) \n",
    "jobId =  out[0].split()[3]\n",
    "print (jobId)    "
   ]
  },
  {
   "cell_type": "code",
   "execution_count": null,
   "metadata": {},
   "outputs": [],
   "source": [
    "# print the users queue and the job status by id\n",
    "!squeue -u $username\n",
    "print('--------------------------------')\n",
    "!scontrol show job $jobId"
   ]
  },
  {
   "cell_type": "markdown",
   "metadata": {},
   "source": [
    "## Update project on Box"
   ]
  },
  {
   "cell_type": "code",
   "execution_count": null,
   "metadata": {
    "scrolled": false
   },
   "outputs": [],
   "source": [
    "update_project_file_in_box()"
   ]
  },
  {
   "cell_type": "markdown",
   "metadata": {},
   "source": [
    "# Export results"
   ]
  },
  {
   "cell_type": "markdown",
   "metadata": {},
   "source": [
    "## Export the orthomosaic"
   ]
  },
  {
   "cell_type": "code",
   "execution_count": null,
   "metadata": {
    "collapsed": true
   },
   "outputs": [],
   "source": [
    "# QUINN guessing at some of these extensions\n",
    "ifextension = {'ImageFormatJPEG':'.jpg', 'ImageFormatTIFF':'.tiff', 'ImageFormatPNG':'.png', 'ImageFormatBMP':'.bmp', 'ImageFormatEXR':'.exr',\n",
    "'ImageFormatPNM':'.pnm', 'ImageFormatSGI':'.sgi', 'ImageFormatCR2':'.cr2', 'ImageFormatSEQ':'.seq', 'ImageFormatARA':'.ara'}\n",
    "\n",
    "ifchoice=widgets.Dropdown(description='Image Format', value='ImageFormatTIFF', options=['ImageFormatJPEG', 'ImageFormatTIFF', 'ImageFormatPNG', 'ImageFormatBMP', 'ImageFormatEXR',\n",
    "'ImageFormatPNM', 'ImageFormatSGI', 'ImageFormatCR2', 'ImageFormatSEQ', 'ImageFormatARA'] )"
   ]
  },
  {
   "cell_type": "code",
   "execution_count": null,
   "metadata": {},
   "outputs": [],
   "source": [
    "interact(chc, txt=ifchoice)"
   ]
  },
  {
   "cell_type": "code",
   "execution_count": null,
   "metadata": {
    "scrolled": false
   },
   "outputs": [],
   "source": [
    "template = '#!/usr/bin/env python3 \\n\\\n",
    "import PhotoScan \\n\\\n",
    "doc = PhotoScan.app.document \\n\\\n",
    "doc.open(\\\"{}\\\") \\n\\\n",
    "chunk = doc.chunk \\n\\\n",
    "chunk.exportOrthomosaic(path=\\\"{}\\\", image_format=PhotoScan.ImageFormat.{},)  \\n' \n",
    "\n",
    "orthoFile = projectname + ifextension[ifchoice.value]\n",
    "output = template.format(singularitymountfolder + projectFile,  singularitymountfolder + orthoFile, ifchoice.value)\n",
    "\n",
    "print('output:', output)\n",
    "\n",
    "with open(commandScript, 'w') as f:\n",
    "    f.write(output)\n"
   ]
  },
  {
   "cell_type": "code",
   "execution_count": null,
   "metadata": {
    "scrolled": false
   },
   "outputs": [],
   "source": [
    "out = !sbatch slurmscript.sh   \n",
    "        \n",
    "print (' Export the orthomosaic format output: ', out ) \n",
    "jobId =  out[0].split()[3]\n",
    "print (jobId)  "
   ]
  },
  {
   "cell_type": "code",
   "execution_count": null,
   "metadata": {},
   "outputs": [],
   "source": [
    "# print the users queue and the job status by id\n",
    "!squeue -u $username\n",
    "print('--------------------------------')\n",
    "!scontrol show job $jobId"
   ]
  },
  {
   "cell_type": "markdown",
   "metadata": {},
   "source": [
    "## Move the orthomosaic file to Box"
   ]
  },
  {
   "cell_type": "code",
   "execution_count": null,
   "metadata": {
    "scrolled": false
   },
   "outputs": [],
   "source": [
    "newFolderId = find_folder_id(boxProjectFolder)\n",
    "upload_folder = client.folder(folder_id=newFolderId).get()\n",
    "orthoUploaded = upload_folder.upload( runFolder + orthoFile)  \n",
    "print (\"orthomosaic file id: \", orthoUploaded['id'] )"
   ]
  },
  {
   "cell_type": "markdown",
   "metadata": {},
   "source": [
    "## Generate the Model export\n"
   ]
  },
  {
   "cell_type": "code",
   "execution_count": null,
   "metadata": {
    "collapsed": true
   },
   "outputs": [],
   "source": [
    "\n",
    "# QUINN guessing at some of these extensions\n",
    "mfextension = { 'ModelFormatOBJ':'.obj', 'ModelFormat3DS':'.3ds', 'ModelFormatVRML':'.vrml', 'ModelFormatPLY':'.ply', 'ModelFormatCOLLADA':'.col',\n",
    "'ModelFormatU3D':'.u3d', 'ModelFormatPDF':'.pdf', 'ModelFormatDXF':'.dxf', 'ModelFormatFBX':'.fbx', 'ModelFormatKMZ':'.kmz',\n",
    "'ModelFormatCTM':'.ctm', 'ModelFormatSTL':'.stl', 'ModelFormatDXF_3DF':'.3df', 'ModelFormatTLS':'.tls' }\n",
    "\n",
    "mfchoice=widgets.Dropdown(description='Model Format', value='ModelFormatOBJ', options= ['ModelFormatOBJ', 'ModelFormat3DS', 'ModelFormatVRML', 'ModelFormatPLY', 'ModelFormatCOLLADA',\n",
    "'ModelFormatU3D', 'ModelFormatPDF', 'ModelFormatDXF', 'ModelFormatFBX', 'ModelFormatKMZ',\n",
    "'ModelFormatCTM', 'ModelFormatSTL', 'ModelFormatDXF_3DF', 'ModelFormatTLS'] )"
   ]
  },
  {
   "cell_type": "code",
   "execution_count": null,
   "metadata": {},
   "outputs": [],
   "source": [
    "interact(chc, txt=mfchoice)"
   ]
  },
  {
   "cell_type": "code",
   "execution_count": null,
   "metadata": {
    "scrolled": false
   },
   "outputs": [],
   "source": [
    "template = '#!/usr/bin/env python3 \\n\\\n",
    "import PhotoScan \\n\\\n",
    "doc = PhotoScan.app.document \\n\\\n",
    "doc.open(\\\"{}\\\") \\n\\\n",
    "chunk = doc.chunk \\n\\\n",
    "chunk.exportModel(path=\\\"{}\\\", format=PhotoScan.ModelFormat.{})  \\n' \n",
    "\n",
    "modelFile = projectname + mfextension[mfchoice.value]\n",
    "output = template.format(singularitymountfolder + projectFile, singularitymountfolder + modelFile, mfchoice.value)\n",
    "print('output:', output)\n",
    "\n",
    "with open(commandScript, 'w') as f:\n",
    "    f.write(output)\n"
   ]
  },
  {
   "cell_type": "code",
   "execution_count": null,
   "metadata": {
    "scrolled": false
   },
   "outputs": [],
   "source": [
    "out = !sbatch slurmscript.sh   \n",
    "        \n",
    "print (' Generate model output: ', out ) \n",
    "jobId =  out[0].split()[3]\n",
    "print (jobId)         \n"
   ]
  },
  {
   "cell_type": "code",
   "execution_count": null,
   "metadata": {},
   "outputs": [],
   "source": [
    "# print the users queue and the job status by id\n",
    "!squeue -u $username\n",
    "print('--------------------------------')\n",
    "!scontrol show job $jobId"
   ]
  },
  {
   "cell_type": "markdown",
   "metadata": {},
   "source": [
    "## Move the OBJ and associated JPG to Box\n",
    "You can download the files from Box and preview using http://3dviewer.net/"
   ]
  },
  {
   "cell_type": "code",
   "execution_count": null,
   "metadata": {
    "scrolled": false
   },
   "outputs": [],
   "source": [
    "newFolderId = find_folder_id(boxProjectFolder)\n",
    "upload_folder = client.folder(folder_id=newFolderId).get()\n",
    "objUploaded = upload_folder.upload(runFolder + modelFile)  \n",
    "print (\"obj file id: \", objUploaded['id'] )\n",
    "jpgUploaded = upload_folder.upload(runFolder + jpgFile)  \n",
    "print (\"jpeg file id: \", jpgUploaded['id'] )"
   ]
  },
  {
   "cell_type": "markdown",
   "metadata": {},
   "source": [
    "# Software license\n",
    "This software is available under the terms of the Educational Community License, Version 2.0 (ECL 2.0). This software is Copyright 2016 The Regents of the University of California, Berkeley (\"Berkeley\").\n",
    "\n",
    "The text of the ECL license is reproduced below.\n",
    "\n",
    "Educational Community License, Version 2.0\n",
    "*************************************\n",
    "Copyright 2016 The Regents of the University of California, Berkeley (\"Berkeley\")\n",
    "\n",
    "Educational Community License, Version 2.0, April 2007\n",
    "\n",
    "The Educational Community License version 2.0 (\"ECL\") consists of the\n",
    "Apache 2.0 license, modified to change the scope of the patent grant in\n",
    "section 3 to be specific to the needs of the education communities using\n",
    "this license. The original Apache 2.0 license can be found at:[http://www.apache.org/licenses/LICENSE-2.0]"
   ]
  }
 ],
 "metadata": {
  "celltoolbar": "Edit Metadata",
  "kernelspec": {
   "display_name": "Python 3",
   "language": "python",
   "name": "python3"
  },
  "language_info": {
   "codemirror_mode": {
    "name": "ipython",
    "version": 3
   },
   "file_extension": ".py",
   "mimetype": "text/x-python",
   "name": "python",
   "nbconvert_exporter": "python",
   "pygments_lexer": "ipython3",
   "version": "3.5.5"
  },
  "toc": {
   "colors": {
    "hover_highlight": "#DAA520",
    "running_highlight": "#FF0000",
    "selected_highlight": "#FFD700"
   },
   "moveMenuLeft": true,
   "nav_menu": {
    "height": "512px",
    "width": "252px"
   },
   "navigate_menu": true,
   "number_sections": true,
   "sideBar": true,
   "threshold": "6",
   "toc_cell": false,
   "toc_section_display": "block",
   "toc_window_display": true
  }
 },
 "nbformat": 4,
 "nbformat_minor": 1
}
