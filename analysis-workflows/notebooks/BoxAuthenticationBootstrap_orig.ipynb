{
 "cells": [
  {
   "cell_type": "markdown",
   "metadata": {},
   "source": [
    "+++++++++++++++++++++++++++\n",
    "\n",
    "This software is available under the terms of the Educational Community License, Version 2.0 (ECL 2.0). This software is Copyright 2016 The Regents of the University of California, Berkeley (\"Berkeley\").\n",
    "\n",
    "The text of the ECL license is reproduced below.\n",
    "\n",
    "Educational Community License, Version 2.0\n",
    "*************************************\n",
    "Copyright 2016 The Regents of the University of California, Berkeley (\"Berkeley\")\n",
    "\n",
    "Educational Community License, Version 2.0, April 2007\n",
    "\n",
    "The Educational Community License version 2.0 (\"ECL\") consists of the\n",
    "Apache 2.0 license, modified to change the scope of the patent grant in\n",
    "section 3 to be specific to the needs of the education communities using\n",
    "this license. The original Apache 2.0 license can be found at:[http://www.apache.org/licenses/LICENSE-2.0]\n",
    "\n",
    "+++++++++++++++++++++++++++"
   ]
  },
  {
   "cell_type": "markdown",
   "metadata": {},
   "source": [
    "### This is a utility script used to authenticate the user with CalNet and store the resulting auth and refresh tokens to be used in other scripts."
   ]
  },
  {
   "cell_type": "code",
   "execution_count": null,
   "metadata": {
    "collapsed": true
   },
   "outputs": [],
   "source": [
    "import os, sys\n",
    "from boxsdk.exception import BoxAPIException"
   ]
  },
  {
   "cell_type": "markdown",
   "metadata": {},
   "source": [
    "function to store the oauth2 refresh token in a local file. This can be modified to use a keychain or other as required."
   ]
  },
  {
   "cell_type": "code",
   "execution_count": null,
   "metadata": {
    "collapsed": true
   },
   "outputs": [],
   "source": [
    "def store_tokens(access_token, refresh_token):\n",
    "    \n",
    "    \"\"\"Callback for storing refresh tokens. (For now we ignore access tokens).\"\"\"\n",
    "    with open('apptoken.cfg', 'w') as f:\n",
    "        f.write(refresh_token.strip())"
   ]
  },
  {
   "cell_type": "code",
   "execution_count": null,
   "metadata": {
    "collapsed": true
   },
   "outputs": [],
   "source": [
    "def store_client_config(client_id, client_secret, redirect_uri):\n",
    "    \n",
    "    \"\"\"Callback for storing client configuration.\"\"\"\n",
    "    with open('app.cfg', 'w') as f:\n",
    "        f.write(client_id.strip() + '\\n')\n",
    "        f.write(client_secret.strip()+ '\\n')\n",
    "        f.write(redirect_uri.strip()+ '\\n')"
   ]
  },
  {
   "cell_type": "markdown",
   "metadata": {},
   "source": [
    "The client id and client secret are defined in the Box application created for this notebook. Create the application at the Box Developers site: https://berkeley.app.box.com/developers/services/edit/\n",
    "\n",
    "The redirect uri can be any site that requires validation. Run the bootstrap notebook to create initial \n",
    "tokens which are then continually refreshed."
   ]
  },
  {
   "cell_type": "code",
   "execution_count": null,
   "metadata": {
    "collapsed": false
   },
   "outputs": [],
   "source": [
    "# Define client ID, client secret, and developer token.\n",
    "CLIENT_ID = 'ui31zjry6g8lwvkp0zl58qcyp02tsnw4'\n",
    "CLIENT_SECRET = 'CgUOz7mCADC1w57lF9XrsTjB2XSy8aM6'\n",
    "REDIRECT_URI = 'https://berkeley.account.box.com/login'\n",
    "\n",
    "store_client_config(CLIENT_ID, CLIENT_SECRET, REDIRECT_URI)\n",
    "\n",
    "# for debugging\n",
    "print (\"CLIENT_ID: \", CLIENT_ID )\n",
    "print (\"CLIENT_SECRET: \", CLIENT_SECRET )\n",
    "print (\"REDIRECT_URI: \", REDIRECT_URI )"
   ]
  },
  {
   "cell_type": "markdown",
   "metadata": {},
   "source": [
    "Perform autentication then create globus client. \n",
    "Place the url that is returned into a browser to authenticate with CalNet. CalNet will return a code in the resulting url. "
   ]
  },
  {
   "cell_type": "code",
   "execution_count": null,
   "metadata": {
    "collapsed": false
   },
   "outputs": [],
   "source": [
    "from boxsdk import OAuth2\n",
    "oauth = OAuth2(\n",
    "    client_id=CLIENT_ID.strip(),\n",
    "    client_secret=CLIENT_SECRET.strip(),\n",
    "    store_tokens=store_tokens\n",
    ")\n",
    "\n",
    "auth_url, csrf_token = oauth.get_authorization_url(REDIRECT_URI.strip())\n",
    "\n",
    "print (\"auth_url\", auth_url)"
   ]
  },
  {
   "cell_type": "markdown",
   "metadata": {},
   "source": [
    "Place the code provided in the line below before executing this cell.\n",
    "\n",
    "__After selecting the Authorise button on the Box login page the following page will have \"code=\" at the end of the url. Copy the provided code into the following cell instead of clicking the Continue button on that page__"
   ]
  },
  {
   "cell_type": "code",
   "execution_count": null,
   "metadata": {
    "collapsed": false
   },
   "outputs": [],
   "source": [
    "#access_token, refresh_token = oauth.authenticate('paste code here...')\n",
    "access_token, refresh_token = oauth.authenticate('lgbyixPBGs7Nw0nK1oTzKDvURuGxVwUS')\n",
    "store_tokens(access_token, refresh_token)"
   ]
  },
  {
   "cell_type": "markdown",
   "metadata": {},
   "source": [
    "Create a client to Box and verify that the authorization is valid.\n",
    "Verify client by retrieving the name of the users root folder in Box."
   ]
  },
  {
   "cell_type": "code",
   "execution_count": null,
   "metadata": {
    "collapsed": false
   },
   "outputs": [],
   "source": [
    "from boxsdk import Client\n",
    "\n",
    "client = Client(oauth)\n",
    "\n",
    "root_folder = client.folder(folder_id='0').get()\n",
    "print (\"folder name: \", root_folder['name'] )"
   ]
  },
  {
   "cell_type": "code",
   "execution_count": null,
   "metadata": {
    "collapsed": true
   },
   "outputs": [],
   "source": []
  }
 ],
 "metadata": {
  "kernelspec": {
   "display_name": "py35",
   "language": "python",
   "name": "py35"
  },
  "language_info": {
   "codemirror_mode": {
    "name": "ipython",
    "version": 3
   },
   "file_extension": ".py",
   "mimetype": "text/x-python",
   "name": "python",
   "nbconvert_exporter": "python",
   "pygments_lexer": "ipython3",
   "version": "3.5.3"
  }
 },
 "nbformat": 4,
 "nbformat_minor": 0
}
