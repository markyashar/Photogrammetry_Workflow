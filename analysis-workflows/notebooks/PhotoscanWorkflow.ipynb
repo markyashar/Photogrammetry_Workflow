{
 "cells": [
  {
   "cell_type": "markdown",
   "metadata": {
    "collapsed": true
   },
   "source": [
    "# Overview\n",
    "This Jupyter notebook helps you create a 3D model using the Photoscan photogrammetry software, leveraging the computing power of a high-performance compute cluster. It assumes that your photographs are stored in a folder on [Box](http://berkeley.box.com), and the results of each step are saved back to Box.\n",
    "\n",
    "If you want to manually edit the results of any step in the process, you can sync or download the project file and photos from Box to any computer with Photoscan installed (version 1.5 or higher), make your edits, and move the changes back to Box before proceeding with the next computationally-intensive processing step."
   ]
  },
  {
   "cell_type": "markdown",
   "metadata": {
    "collapsed": true
   },
   "source": [
    "### Software versions\n",
    "This notebook has been tested using:\n",
    "* python 3.5 kernel\n",
    "* boxsdk (2.0.0a2)\n",
    "* Photoscan 1.3 or later (for example, Photoscan 1.4.3)"
   ]
  },
  {
   "cell_type": "markdown",
   "metadata": {},
   "source": [
    "## Workflow at a glance\n",
    "The photogrammetry workflow laid out here involves the following steps. Each listed step has its own section in the notebook. \n",
    "1. **Overview**: the overview that you're currently reading\n",
    "2. **Source Files**: defines where various source files are located.\n",
    "3. **Box Setup**: connects this notebook to Box so it can access the photos you've stored there. \n",
    "4. **Project Setup**: pulls your images into the computing cluster, and creates a new Photoscan (psx) file if needed.\n",
    "5. **Align Photos**: arranges the photos you've taken, relative to one another. 1% to 8% of the expected processing time.\n",
    "6. **Build Dense Cloud**: creates the a point cloud from the photographs. The most computationally-intensive step, which can take 50%-96% of the total model generation time, depending on your settings. This step is run using GPU nodes on the cluster, which improve performance.\n",
    "7. **Build Mesh**: connecting the point cloud together to build a mesh takes around 30% of the processing time on lower quality settings, or as little as 2% on higher quality settings.\n",
    "8. **Build Texture**: building the texture takes between 8% (medium quality) and 1% (ultra high quality) of the processing time.\n",
    "9. **Export Results**: exporting the photomosaic and OBJ files, and moving them to Box."
   ]
  },
  {
   "cell_type": "markdown",
   "metadata": {
    "collapsed": true
   },
   "source": [
    "# Project Setup\n",
    "This step connects the notebook to Box. Before you get started, make sure you have a folder in Box for your project. That folder should have a folder inside it called \"images\" that has all the photos you want to use for your 3D model. This workflow will also create a new folder, \"files\", that contains the project files-- you don't have to set that up in advance.\n",
    "\n",
    "**MYashar: As far as things stand now, none of the code in this Jupyter notebook actually tries to access or download files from an \"images\" subfolder on Box or creates a new \"files\" folder containing the project files on Box. Rather,\n",
    "image files are retrieved from the (top) Box project folder. In my case, I created a folder in Box called'myBoxFolderName' and put all of the *.jpg image files there, and this is where the code accesses and retrieves the image files on Box.**\n",
    "\n",
    "Click the code box below, and then click the \"run cell\" button in the toolbar. This will run the code and move to the next box.\n",
    "\n",
    "After you run the next code box, your user name on the cluster should appear at the bottom."
   ]
  },
  {
   "cell_type": "code",
   "execution_count": 148,
   "metadata": {
    "code_folding": [
     1
    ],
    "scrolled": true
   },
   "outputs": [
    {
     "name": "stdout",
     "output_type": "stream",
     "text": [
      "/bin/sh: module: command not found\n",
      "/bin/sh: module: command not found\n",
      "Python 2.7.5\n",
      "/bin/python\n",
      "/global/software/sl-7.x86_64/modules/langs/python/3.5/bin/python3\n",
      "Python 3.5.4 :: Anaconda custom (64-bit)\n",
      "/global/software/sl-7.x86_64/modules/langs/python/3.5/bin/jupyter\n",
      "Enabling notebook extension jupyter-js-widgets/extension...\n",
      "      - Validating: \u001b[32mOK\u001b[0m\n",
      "/global/home/users/myashar/.conda/envs/py3.5/bin/python\n",
      "3.5.5 |Anaconda, Inc.| (default, May 13 2018, 21:12:35) \n",
      "[GCC 7.2.0]\n",
      "sys.version_info(major=3, minor=5, micro=5, releaselevel='final', serial=0)\n",
      "user name:  myashar\n"
     ]
    }
   ],
   "source": [
    "# !conda create -n py3.5 python=3.5\n",
    "# !conda install -n py3.5 pip\n",
    "!module load python/3.5\n",
    "# !conda list\n",
    "!source activate py3.5\n",
    "! module load qt\n",
    "# !pip install --user boxsdk==2.0.0a2\n",
    "!python --version\n",
    "!which python\n",
    "!which python3\n",
    "!python3 --version\n",
    "!which jupyter\n",
    "!jupyter nbextension enable --py widgetsnbextension\n",
    "import sys\n",
    "print(sys.executable)\n",
    "print(sys.version)\n",
    "print(sys.version_info)\n",
    "# !pip install boxsdk==2.0.0a2\n",
    "from __future__ import print_function\n",
    "from ipywidgets import interact, interactive, fixed, VBox, interact_manual\n",
    "import ipywidgets as widgets\n",
    "from IPython.display import display\n",
    "usernamearray = %sx whoami\n",
    "username = usernamearray[0]\n",
    "print('user name: ', username)\n",
    "\n",
    "def f(x):\n",
    "    return x\n",
    "\n",
    "def pn(projectName):\n",
    "    return projectName\n",
    "\n",
    "def smf(mountFolder):\n",
    "    return mountFolder\n",
    "\n",
    "def bpf(boxFolder):\n",
    "    return boxFolder\n",
    "\n",
    "def scp(containerPath):\n",
    "    return containerPath\n",
    "\n",
    "def idd(imageDataPath):\n",
    "    return imageDataPath\n",
    "\n",
    "def hfp(homePath):\n",
    "    return homePath\n",
    "\n",
    "def rf(runPath):\n",
    "    return runPath\n",
    "\n",
    "\n",
    "#Define widgets and defaults\n",
    "pntextbox=widgets.Text(value='projectname', description='Project Name')\n",
    "# singularitymountfoldertextbox =widgets.Text(value='/scratch/', description='Singularity Mount Folder') \n",
    "singularitymountfoldertextbox =widgets.Text(value='/scratch/')\n",
    "# singularitymountfoldertextbox =widgets.Text(value='/global/scratch/myashar/projectname/', description='Singularity Mount Folder') \n",
    "boxfoldertextbox =widgets.Text(value='myBoxFolderName', description='Box Project Folder') \n",
    "# Need to make sure that a folder called 'myBoxFolderName' is created in Box and the images are in that folder.\n",
    "# scptextbox=widgets.Text(value='/global/scratch/groups/dh/photoscan13.img', description='Path to Container')\n",
    "# scptextbox=widgets.Text(value='/global/scratch/groups/dh/photoscan_1_4_3.simg', description='Path to Container')\n",
    "scptextbox=widgets.Text(value='/global/scratch/myashar/container/photoscan_1_4_3.simg', description='Path to Container')\n",
    "iddtextbox=widgets.Text(value='/global/scratch/' + username + '/imageData', description='Image Data')\n",
    "hometextbox=widgets.Text(value='/global/home/users/' + username + '/', description='Home Folder')\n",
    "runtextbox=widgets.Text(value='/global/scratch/' + username + '/'  + pntextbox.value + '/', description='Run Folder')"
   ]
  },
  {
   "cell_type": "code",
   "execution_count": 3,
   "metadata": {},
   "outputs": [
    {
     "name": "stdout",
     "output_type": "stream",
     "text": [
      "/global/home/users/myashar/.conda/envs/py3.5/bin/python\n",
      "['', '/global/home/users/myashar/.conda/envs/py3.5/lib/python35.zip', '/global/home/users/myashar/.conda/envs/py3.5/lib/python3.5', '/global/home/users/myashar/.conda/envs/py3.5/lib/python3.5/plat-linux', '/global/home/users/myashar/.conda/envs/py3.5/lib/python3.5/lib-dynload', '/global/home/users/myashar/.local/lib/python3.5/site-packages', '/global/home/users/myashar/.conda/envs/py3.5/lib/python3.5/site-packages', '/global/home/users/myashar/.local/lib/python3.5/site-packages/IPython/extensions', '/global/home/users/myashar/.ipython']\n",
      "3.5.5 |Anaconda, Inc.| (default, May 13 2018, 21:12:35) \n",
      "[GCC 7.2.0]\n"
     ]
    }
   ],
   "source": [
    "import sys\n",
    "print(sys.executable)\n",
    "print(sys.path)\n",
    "print(sys.version)\n",
    "# !conda list"
   ]
  },
  {
   "cell_type": "markdown",
   "metadata": {},
   "source": [
    "## Project set up\n",
    "After you run the code box below, a set of text boxes will appear. Click in the text boxes and enter the following values:\n",
    "* **Project name**: The name of your project. Will be used for some of the folders on the cluster that will be created to process the project.\n",
    "* **Mount folder**: Where your photos will be uploaded for processing. Unless you know specifically this should be somewhere else, leave this as /scratch/\n",
    "* **Box project folder**: The name of the folder on Box that has your photos in it.\n",
    "* **Path to container**: The location on the cluster where the container with the Photoscan software is installed. At Berkeley, this container is at /global/scratch/groups/dh/photoscan13.img --> photoscan_1_4_3.simg\n",
    "* **Home folder**: Your home folder on the cluster. \n",
    "* **Run folder**: The folder where the various job scripts to trigger the processing steps will be stored. Default: /global/scratch/your-user-name/your-project-name/\n",
    "\n",
    "**MYashar: Make sure that the latest version of the Chrome or Safari browser is being used; otherwise the widget \n",
    "text boxes and the sliders (later on), may not work.**\n",
    "\n",
    "When you're done filling in the text boxes, hit the \"run cell\" button again.\n"
   ]
  },
  {
   "cell_type": "code",
   "execution_count": 149,
   "metadata": {
    "code_folding": [
     0
    ],
    "scrolled": true
   },
   "outputs": [
    {
     "data": {
      "application/vnd.jupyter.widget-view+json": {
       "model_id": "8c44bb1214ad46c7a8278e5f0a1fe1a3",
       "version_major": 2,
       "version_minor": 0
      },
      "text/plain": [
       "interactive(children=(Text(value='projectname', description='Project Name'), Output()), _dom_classes=('widget-…"
      ]
     },
     "metadata": {},
     "output_type": "display_data"
    },
    {
     "data": {
      "application/vnd.jupyter.widget-view+json": {
       "model_id": "9a7558240d614342aad20f7009cef6dd",
       "version_major": 2,
       "version_minor": 0
      },
      "text/plain": [
       "interactive(children=(Text(value='/scratch/', description='mountFolder'), Output()), _dom_classes=('widget-int…"
      ]
     },
     "metadata": {},
     "output_type": "display_data"
    },
    {
     "data": {
      "application/vnd.jupyter.widget-view+json": {
       "model_id": "afb2154dd4a048f58c4624d911145d7c",
       "version_major": 2,
       "version_minor": 0
      },
      "text/plain": [
       "interactive(children=(Text(value='myBoxFolderName', description='Box Project Folder'), Output()), _dom_classes…"
      ]
     },
     "metadata": {},
     "output_type": "display_data"
    },
    {
     "data": {
      "application/vnd.jupyter.widget-view+json": {
       "model_id": "d568d5a739df4148b7ade64c2adeb708",
       "version_major": 2,
       "version_minor": 0
      },
      "text/plain": [
       "interactive(children=(Text(value='/global/scratch/myashar/container/photoscan_1_4_3.simg', description='Path t…"
      ]
     },
     "metadata": {},
     "output_type": "display_data"
    },
    {
     "data": {
      "application/vnd.jupyter.widget-view+json": {
       "model_id": "5f57555943cb495c9c03718bef04ed8b",
       "version_major": 2,
       "version_minor": 0
      },
      "text/plain": [
       "interactive(children=(Text(value='/global/home/users/myashar/', description='Home Folder'), Output()), _dom_cl…"
      ]
     },
     "metadata": {},
     "output_type": "display_data"
    },
    {
     "data": {
      "application/vnd.jupyter.widget-view+json": {
       "model_id": "04ae68f55ec743e8803fca65bcd6c70f",
       "version_major": 2,
       "version_minor": 0
      },
      "text/plain": [
       "interactive(children=(Text(value='/global/scratch/myashar/projectname/', description='Run Folder'), Output()),…"
      ]
     },
     "metadata": {},
     "output_type": "display_data"
    },
    {
     "data": {
      "text/plain": [
       "<function __main__.rf(runPath)>"
      ]
     },
     "execution_count": 149,
     "metadata": {},
     "output_type": "execute_result"
    }
   ],
   "source": [
    "# Enter the projectname\n",
    "interact(pn, projectName=pntextbox)\n",
    "\n",
    "# Enter the Singularity Mount Folder here, this is defined inside the Singularity container:\n",
    "interact(smf, mountFolder=singularitymountfoldertextbox)\n",
    "\n",
    "# Enter the Box Project folder\n",
    "interact(bpf, boxFolder=boxfoldertextbox)\n",
    "\n",
    "# MYashar -- maybe add a part here: Enter the Box Image folder\n",
    "# interact(bif, boxImageFolder=boximagetextbox)   (?)\n",
    "\n",
    "# Enter the path to the Singularity container hosting Photoscan\n",
    "interact(scp, containerPath=scptextbox)\n",
    "\n",
    "# Enter the path to where the iamge files from Box should be place on the scrath drive\n",
    "# interact(idd, imageDataPath=iddtextbox)\n",
    "\n",
    "# Enter the path to the user home folder where Box oauth information is stored in files.\n",
    "interact(hfp, homePath=hometextbox)\n",
    "\n",
    "# Enter the path to the run home folder where processing will be conducted and intermediate files created.\n",
    "interact(rf, runPath=runtextbox)"
   ]
  },
  {
   "cell_type": "markdown",
   "metadata": {},
   "source": [
    "## Creating project folders\n",
    "The code box below creates the project folders (e.g. run folder, scratch images directory) on the cluster if they don't already exist."
   ]
  },
  {
   "cell_type": "code",
   "execution_count": 5,
   "metadata": {
    "code_folding": [],
    "scrolled": false
   },
   "outputs": [
    {
     "name": "stdout",
     "output_type": "stream",
     "text": [
      "user name:  myashar\n",
      "project name:  projectname\n",
      "run folder:  /global/scratch/myashar/projectname/\n",
      "home folder:  /global/home/users/myashar/\n",
      "Singulariy Mount Folder:  /scratch/\n",
      "Box Project Folder:  myBoxFolderName\n",
      "project file:  /projectname.psx\n",
      "data zip file:  /projectname.files.zip\n",
      "data folder:  /projectname.files\n",
      "jpg file:  projectname.jpg\n",
      "Scratch Image Data Directory:  /global/scratch/myashar/projectname/images/\n",
      "Slurm script:  /global/scratch/myashar/projectname/slurmscript.sh\n",
      "exec script:  /global/scratch/myashar/projectname/execscript.sh\n",
      "scratch exec script:  /scratch/execscript.sh\n",
      "command script:  /global/scratch/myashar/projectname/commandscript.sh\n",
      "Singularity Container Path /global/scratch/myashar/container/photoscan_1_4_3.simg\n"
     ]
    }
   ],
   "source": [
    "projectname =  pntextbox.value\n",
    "\n",
    "# Defines all paths and filenames\n",
    "import os\n",
    "\n",
    "usernamearray = %sx whoami\n",
    "username = usernamearray[0]\n",
    "print('user name: ', username)\n",
    "print('project name: ', projectname)\n",
    "\n",
    "runFolder = os.path.join(runtextbox.value, '')\n",
    "homeFolder =  os.path.join(hometextbox.value, '')\n",
    "print('run folder: ', runFolder)\n",
    "print('home folder: ', homeFolder)\n",
    "\n",
    "# Creates the run folder if it does not exist\n",
    "if ( not os.path.isdir(runFolder)):\n",
    "    print('run folder does not exist, creating.')\n",
    "    os.mkdir(runFolder)\n",
    "\n",
    "singularitymountfolder = os.path.join(singularitymountfoldertextbox.value, '')\n",
    "print('Singulariy Mount Folder: ', singularitymountfolder)\n",
    "boxProjectFolder = boxfoldertextbox.value\n",
    "projectFile = '/' + projectname + '.psx'\n",
    "datazipFile = '/' + projectname + '.files.zip'\n",
    "dataFolder = '/' + projectname + '.files'\n",
    "print('Box Project Folder: ',boxProjectFolder)\n",
    "print('project file: ', projectFile)\n",
    "print('data zip file: ', datazipFile)\n",
    "print('data folder: ', dataFolder)\n",
    "\n",
    "projectfileid = ''\n",
    "jpgFile = projectname + '.jpg'\n",
    "print('jpg file: ',jpgFile)\n",
    "\n",
    "scratchImageDataDirectory = runFolder + 'images/'\n",
    "print('Scratch Image Data Directory: ', scratchImageDataDirectory)\n",
    "# Creates the image folder if it does not exist\n",
    "if ( not os.path.isdir(scratchImageDataDirectory)):\n",
    "    print('images folder does not exist, creating.')\n",
    "    os.mkdir(scratchImageDataDirectory)\n",
    "\n",
    "slurmScript = runFolder + 'slurmscript.sh'\n",
    "execScript = runFolder + 'execscript.sh'\n",
    "scratchExecScript = singularitymountfolder + 'execscript.sh'\n",
    "commandScript = runFolder + 'commandscript.sh'\n",
    "print('Slurm script: ', slurmScript)\n",
    "print('exec script: ', execScript)\n",
    "print('scratch exec script: ', scratchExecScript)\n",
    "print('command script: ', commandScript)\n",
    "\n",
    "\n",
    "singularityContainerPath = scptextbox.value\n",
    "#/global/scratch/groups/dh/photoscan_1_4_3.simg\n",
    "print(\"Singularity Container Path\", singularityContainerPath)"
   ]
  },
  {
   "cell_type": "markdown",
   "metadata": {},
   "source": [
    "## Box setup\n",
    "\n",
    "To connect Box with this notebook, you need to go through some one-time configuration steps the first time you use this notebook for any project. Please run the *BoxAuthenticationBootstrap.ipynb* notebook, then return to the code cells below to finish setup. After you finish the last cell, you should see *Folder name:  All Files*.\n",
    "\n",
    "If you run this notebook again for another project, you won't have to run *BoxAuthenticationBootstrap.ipynb* again, and can just continue to the code below."
   ]
  },
  {
   "cell_type": "code",
   "execution_count": 18,
   "metadata": {},
   "outputs": [],
   "source": [
    "# Might want to make sure that *.cfg files that were created in earlier runs are copied to home directory.\n",
    "!cp *.cfg ~/"
   ]
  },
  {
   "cell_type": "code",
   "execution_count": 19,
   "metadata": {
    "scrolled": false
   },
   "outputs": [],
   "source": [
    "def store_tokens(access_token, refresh_token):\n",
    "    \n",
    "    \"\"\"Callback for storing refresh tokens. (For now we ignore access tokens).\"\"\"\n",
    "    with open(homeFolder,'apptoken.cfg', 'w') as f:\n",
    "     f.write(refresh_token.strip())"
   ]
  },
  {
   "cell_type": "code",
   "execution_count": 14,
   "metadata": {},
   "outputs": [
    {
     "name": "stdout",
     "output_type": "stream",
     "text": [
      "/global/home/users/myashar/photogramm_workflow/brc-cyberinfrastructure/analysis-workflows/notebooks\r\n"
     ]
    }
   ],
   "source": [
    "!pwd"
   ]
  },
  {
   "cell_type": "code",
   "execution_count": 20,
   "metadata": {
    "scrolled": false
   },
   "outputs": [],
   "source": [
    "import os\n",
    "\n",
    "CLIENT_ID = None\n",
    "CLIENT_SECRET = None\n",
    "REDIRECT_URI = None\n",
    "\n",
    "# CLIENT_ID = '7fv9qix8gzo77vhwidetl426az41xneg'\n",
    "# CLIENT_SECRET = 'agzSPeOv8Zmmj8iupLJFcl9lWolaBqtY'\n",
    "# REDIRECT_URI ='https://berkeley.app.box.com/folder/0'\n",
    "\n",
    "# Read app info from text file\n",
    "# with open(homeFolder +'app.cfg', 'r') as app_cfg:\n",
    "with open('app.cfg', 'r') as app_cfg:    \n",
    "    CLIENT_ID = app_cfg.readline()\n",
    "    CLIENT_SECRET = app_cfg.readline()\n",
    "    REDIRECT_URI = app_cfg.readline()\n"
   ]
  },
  {
   "cell_type": "code",
   "execution_count": 22,
   "metadata": {
    "scrolled": false
   },
   "outputs": [],
   "source": [
    "REFRESH_TOKEN = None\n",
    "\n",
    "# Read app info from text file\n",
    "with open(homeFolder + 'apptoken.cfg', 'r') as apptoken_cfg:\n",
    "# with open('apptoken.cfg', 'r') as apptoken_cfg:\n",
    "    REFRESH_TOKEN = apptoken_cfg.readline()"
   ]
  },
  {
   "cell_type": "code",
   "execution_count": 23,
   "metadata": {
    "scrolled": false
   },
   "outputs": [
    {
     "ename": "TypeError",
     "evalue": "an integer is required (got type str)",
     "output_type": "error",
     "traceback": [
      "\u001b[0;31m---------------------------------------------------------------------------\u001b[0m",
      "\u001b[0;31mTypeError\u001b[0m                                 Traceback (most recent call last)",
      "\u001b[0;32m<ipython-input-23-0c767af73769>\u001b[0m in \u001b[0;36m<module>\u001b[0;34m()\u001b[0m\n\u001b[1;32m     12\u001b[0m \u001b[0mclient\u001b[0m \u001b[0;34m=\u001b[0m \u001b[0mClient\u001b[0m\u001b[0;34m(\u001b[0m\u001b[0moauth\u001b[0m\u001b[0;34m)\u001b[0m\u001b[0;34m\u001b[0m\u001b[0m\n\u001b[1;32m     13\u001b[0m \u001b[0;34m\u001b[0m\u001b[0m\n\u001b[0;32m---> 14\u001b[0;31m \u001b[0mroot_folder\u001b[0m \u001b[0;34m=\u001b[0m \u001b[0mclient\u001b[0m\u001b[0;34m.\u001b[0m\u001b[0mfolder\u001b[0m\u001b[0;34m(\u001b[0m\u001b[0mfolder_id\u001b[0m\u001b[0;34m=\u001b[0m\u001b[0;34m'0'\u001b[0m\u001b[0;34m)\u001b[0m\u001b[0;34m.\u001b[0m\u001b[0mget\u001b[0m\u001b[0;34m(\u001b[0m\u001b[0;34m)\u001b[0m\u001b[0;34m\u001b[0m\u001b[0m\n\u001b[0m\u001b[1;32m     15\u001b[0m \u001b[0mprint\u001b[0m \u001b[0;34m(\u001b[0m\u001b[0;34m\"Folder name: \"\u001b[0m\u001b[0;34m,\u001b[0m \u001b[0mroot_folder\u001b[0m\u001b[0;34m[\u001b[0m\u001b[0;34m'name'\u001b[0m\u001b[0;34m]\u001b[0m \u001b[0;34m)\u001b[0m\u001b[0;34m\u001b[0m\u001b[0m\n\u001b[1;32m     16\u001b[0m \u001b[0;34m\u001b[0m\u001b[0m\n",
      "\u001b[0;32m~/.conda/envs/py3.5/lib/python3.5/site-packages/boxsdk/util/api_call_decorator.py\u001b[0m in \u001b[0;36mcall\u001b[0;34m(*args, **kwargs)\u001b[0m\n\u001b[1;32m     54\u001b[0m                 \u001b[0minstance\u001b[0m \u001b[0;34m=\u001b[0m \u001b[0minstance\u001b[0m\u001b[0;34m.\u001b[0m\u001b[0mclone\u001b[0m\u001b[0;34m(\u001b[0m\u001b[0minstance\u001b[0m\u001b[0;34m.\u001b[0m\u001b[0m_session\u001b[0m\u001b[0;34m.\u001b[0m\u001b[0mwith_default_network_request_kwargs\u001b[0m\u001b[0;34m(\u001b[0m\u001b[0mextra_network_parameters\u001b[0m\u001b[0;34m)\u001b[0m\u001b[0;34m)\u001b[0m\u001b[0;34m\u001b[0m\u001b[0m\n\u001b[1;32m     55\u001b[0m                 \u001b[0;31m# pylint: enable=protected-access\u001b[0m\u001b[0;34m\u001b[0m\u001b[0;34m\u001b[0m\u001b[0m\n\u001b[0;32m---> 56\u001b[0;31m             \u001b[0mresponse\u001b[0m \u001b[0;34m=\u001b[0m \u001b[0mself\u001b[0m\u001b[0;34m.\u001b[0m\u001b[0m_func_that_makes_an_api_call\u001b[0m\u001b[0;34m(\u001b[0m\u001b[0minstance\u001b[0m\u001b[0;34m,\u001b[0m \u001b[0;34m*\u001b[0m\u001b[0margs\u001b[0m\u001b[0;34m,\u001b[0m \u001b[0;34m**\u001b[0m\u001b[0mkwargs\u001b[0m\u001b[0;34m)\u001b[0m\u001b[0;34m\u001b[0m\u001b[0m\n\u001b[0m\u001b[1;32m     57\u001b[0m             \u001b[0;32mreturn\u001b[0m \u001b[0mresponse\u001b[0m\u001b[0;34m\u001b[0m\u001b[0m\n\u001b[1;32m     58\u001b[0m         \u001b[0;32mreturn\u001b[0m \u001b[0mcall\u001b[0m\u001b[0;34m\u001b[0m\u001b[0m\n",
      "\u001b[0;32m~/.conda/envs/py3.5/lib/python3.5/site-packages/boxsdk/object/item.py\u001b[0m in \u001b[0;36mget\u001b[0;34m(self, fields, etag)\u001b[0m\n\u001b[1;32m    131\u001b[0m         \u001b[0;31m# pylint:disable=arguments-differ\u001b[0m\u001b[0;34m\u001b[0m\u001b[0;34m\u001b[0m\u001b[0m\n\u001b[1;32m    132\u001b[0m         \u001b[0mheaders\u001b[0m \u001b[0;34m=\u001b[0m \u001b[0;34m{\u001b[0m\u001b[0;34m'If-None-Match'\u001b[0m\u001b[0;34m:\u001b[0m \u001b[0metag\u001b[0m\u001b[0;34m}\u001b[0m \u001b[0;32mif\u001b[0m \u001b[0metag\u001b[0m \u001b[0;32mis\u001b[0m \u001b[0;32mnot\u001b[0m \u001b[0;32mNone\u001b[0m \u001b[0;32melse\u001b[0m \u001b[0;32mNone\u001b[0m\u001b[0;34m\u001b[0m\u001b[0m\n\u001b[0;32m--> 133\u001b[0;31m         \u001b[0;32mreturn\u001b[0m \u001b[0msuper\u001b[0m\u001b[0;34m(\u001b[0m\u001b[0mItem\u001b[0m\u001b[0;34m,\u001b[0m \u001b[0mself\u001b[0m\u001b[0;34m)\u001b[0m\u001b[0;34m.\u001b[0m\u001b[0mget\u001b[0m\u001b[0;34m(\u001b[0m\u001b[0mfields\u001b[0m\u001b[0;34m=\u001b[0m\u001b[0mfields\u001b[0m\u001b[0;34m,\u001b[0m \u001b[0mheaders\u001b[0m\u001b[0;34m=\u001b[0m\u001b[0mheaders\u001b[0m\u001b[0;34m)\u001b[0m\u001b[0;34m\u001b[0m\u001b[0m\n\u001b[0m\u001b[1;32m    134\u001b[0m \u001b[0;34m\u001b[0m\u001b[0m\n\u001b[1;32m    135\u001b[0m     \u001b[0;34m@\u001b[0m\u001b[0mapi_call\u001b[0m\u001b[0;34m\u001b[0m\u001b[0m\n",
      "\u001b[0;32m~/.conda/envs/py3.5/lib/python3.5/site-packages/boxsdk/util/api_call_decorator.py\u001b[0m in \u001b[0;36mcall\u001b[0;34m(*args, **kwargs)\u001b[0m\n\u001b[1;32m     54\u001b[0m                 \u001b[0minstance\u001b[0m \u001b[0;34m=\u001b[0m \u001b[0minstance\u001b[0m\u001b[0;34m.\u001b[0m\u001b[0mclone\u001b[0m\u001b[0;34m(\u001b[0m\u001b[0minstance\u001b[0m\u001b[0;34m.\u001b[0m\u001b[0m_session\u001b[0m\u001b[0;34m.\u001b[0m\u001b[0mwith_default_network_request_kwargs\u001b[0m\u001b[0;34m(\u001b[0m\u001b[0mextra_network_parameters\u001b[0m\u001b[0;34m)\u001b[0m\u001b[0;34m)\u001b[0m\u001b[0;34m\u001b[0m\u001b[0m\n\u001b[1;32m     55\u001b[0m                 \u001b[0;31m# pylint: enable=protected-access\u001b[0m\u001b[0;34m\u001b[0m\u001b[0;34m\u001b[0m\u001b[0m\n\u001b[0;32m---> 56\u001b[0;31m             \u001b[0mresponse\u001b[0m \u001b[0;34m=\u001b[0m \u001b[0mself\u001b[0m\u001b[0;34m.\u001b[0m\u001b[0m_func_that_makes_an_api_call\u001b[0m\u001b[0;34m(\u001b[0m\u001b[0minstance\u001b[0m\u001b[0;34m,\u001b[0m \u001b[0;34m*\u001b[0m\u001b[0margs\u001b[0m\u001b[0;34m,\u001b[0m \u001b[0;34m**\u001b[0m\u001b[0mkwargs\u001b[0m\u001b[0;34m)\u001b[0m\u001b[0;34m\u001b[0m\u001b[0m\n\u001b[0m\u001b[1;32m     57\u001b[0m             \u001b[0;32mreturn\u001b[0m \u001b[0mresponse\u001b[0m\u001b[0;34m\u001b[0m\u001b[0m\n\u001b[1;32m     58\u001b[0m         \u001b[0;32mreturn\u001b[0m \u001b[0mcall\u001b[0m\u001b[0;34m\u001b[0m\u001b[0m\n",
      "\u001b[0;32m~/.conda/envs/py3.5/lib/python3.5/site-packages/boxsdk/object/base_object.py\u001b[0m in \u001b[0;36mget\u001b[0;34m(self, fields, headers)\u001b[0m\n\u001b[1;32m     83\u001b[0m         \u001b[0murl\u001b[0m \u001b[0;34m=\u001b[0m \u001b[0mself\u001b[0m\u001b[0;34m.\u001b[0m\u001b[0mget_url\u001b[0m\u001b[0;34m(\u001b[0m\u001b[0;34m)\u001b[0m\u001b[0;34m\u001b[0m\u001b[0m\n\u001b[1;32m     84\u001b[0m         \u001b[0mparams\u001b[0m \u001b[0;34m=\u001b[0m \u001b[0;34m{\u001b[0m\u001b[0;34m'fields'\u001b[0m\u001b[0;34m:\u001b[0m \u001b[0;34m','\u001b[0m\u001b[0;34m.\u001b[0m\u001b[0mjoin\u001b[0m\u001b[0;34m(\u001b[0m\u001b[0mfields\u001b[0m\u001b[0;34m)\u001b[0m\u001b[0;34m}\u001b[0m \u001b[0;32mif\u001b[0m \u001b[0mfields\u001b[0m \u001b[0;32melse\u001b[0m \u001b[0;32mNone\u001b[0m\u001b[0;34m\u001b[0m\u001b[0m\n\u001b[0;32m---> 85\u001b[0;31m         \u001b[0mbox_response\u001b[0m \u001b[0;34m=\u001b[0m \u001b[0mself\u001b[0m\u001b[0;34m.\u001b[0m\u001b[0m_session\u001b[0m\u001b[0;34m.\u001b[0m\u001b[0mget\u001b[0m\u001b[0;34m(\u001b[0m\u001b[0murl\u001b[0m\u001b[0;34m,\u001b[0m \u001b[0mparams\u001b[0m\u001b[0;34m=\u001b[0m\u001b[0mparams\u001b[0m\u001b[0;34m,\u001b[0m \u001b[0mheaders\u001b[0m\u001b[0;34m=\u001b[0m\u001b[0mheaders\u001b[0m\u001b[0;34m)\u001b[0m\u001b[0;34m\u001b[0m\u001b[0m\n\u001b[0m\u001b[1;32m     86\u001b[0m         \u001b[0;32mreturn\u001b[0m \u001b[0mself\u001b[0m\u001b[0;34m.\u001b[0m\u001b[0m__class__\u001b[0m\u001b[0;34m(\u001b[0m\u001b[0mself\u001b[0m\u001b[0;34m.\u001b[0m\u001b[0m_session\u001b[0m\u001b[0;34m,\u001b[0m \u001b[0mself\u001b[0m\u001b[0;34m.\u001b[0m\u001b[0m_object_id\u001b[0m\u001b[0;34m,\u001b[0m \u001b[0mbox_response\u001b[0m\u001b[0;34m.\u001b[0m\u001b[0mjson\u001b[0m\u001b[0;34m(\u001b[0m\u001b[0;34m)\u001b[0m\u001b[0;34m)\u001b[0m\u001b[0;34m\u001b[0m\u001b[0m\n\u001b[1;32m     87\u001b[0m \u001b[0;34m\u001b[0m\u001b[0m\n",
      "\u001b[0;32m~/.conda/envs/py3.5/lib/python3.5/site-packages/boxsdk/session/box_session.py\u001b[0m in \u001b[0;36mget\u001b[0;34m(self, url, **kwargs)\u001b[0m\n\u001b[1;32m    443\u001b[0m             \u001b[0;31m`\u001b[0m\u001b[0municode\u001b[0m\u001b[0;31m`\u001b[0m\u001b[0;34m\u001b[0m\u001b[0m\n\u001b[1;32m    444\u001b[0m         \"\"\"\n\u001b[0;32m--> 445\u001b[0;31m         \u001b[0mresponse\u001b[0m \u001b[0;34m=\u001b[0m \u001b[0mself\u001b[0m\u001b[0;34m.\u001b[0m\u001b[0m_prepare_and_send_request\u001b[0m\u001b[0;34m(\u001b[0m\u001b[0;34m'GET'\u001b[0m\u001b[0;34m,\u001b[0m \u001b[0murl\u001b[0m\u001b[0;34m,\u001b[0m \u001b[0;34m**\u001b[0m\u001b[0mkwargs\u001b[0m\u001b[0;34m)\u001b[0m\u001b[0;34m\u001b[0m\u001b[0m\n\u001b[0m\u001b[1;32m    446\u001b[0m         \u001b[0;32mreturn\u001b[0m \u001b[0mBoxResponse\u001b[0m\u001b[0;34m(\u001b[0m\u001b[0mresponse\u001b[0m\u001b[0;34m)\u001b[0m\u001b[0;34m\u001b[0m\u001b[0m\n\u001b[1;32m    447\u001b[0m \u001b[0;34m\u001b[0m\u001b[0m\n",
      "\u001b[0;32m~/.conda/envs/py3.5/lib/python3.5/site-packages/boxsdk/session/box_session.py\u001b[0m in \u001b[0;36m_prepare_and_send_request\u001b[0;34m(self, method, url, headers, auto_session_renewal, expect_json_response, attempt_number, **kwargs)\u001b[0m\n\u001b[1;32m    347\u001b[0m             \u001b[0mattempt_number\u001b[0m\u001b[0;34m,\u001b[0m\u001b[0;34m\u001b[0m\u001b[0m\n\u001b[1;32m    348\u001b[0m             \u001b[0mfile_stream_positions\u001b[0m\u001b[0;34m=\u001b[0m\u001b[0mfile_stream_positions\u001b[0m\u001b[0;34m,\u001b[0m\u001b[0;34m\u001b[0m\u001b[0m\n\u001b[0;32m--> 349\u001b[0;31m             \u001b[0;34m**\u001b[0m\u001b[0mkwargs\u001b[0m\u001b[0;34m\u001b[0m\u001b[0m\n\u001b[0m\u001b[1;32m    350\u001b[0m         )\n\u001b[1;32m    351\u001b[0m \u001b[0;34m\u001b[0m\u001b[0m\n",
      "\u001b[0;32m~/.conda/envs/py3.5/lib/python3.5/site-packages/boxsdk/session/box_session.py\u001b[0m in \u001b[0;36m_make_request\u001b[0;34m(self, method, url, headers, auto_session_renewal, expect_json_response, attempt_number, **kwargs)\u001b[0m\n\u001b[1;32m    428\u001b[0m             \u001b[0mexpect_json_response\u001b[0m\u001b[0;34m=\u001b[0m\u001b[0mexpect_json_response\u001b[0m\u001b[0;34m,\u001b[0m\u001b[0;34m\u001b[0m\u001b[0m\n\u001b[1;32m    429\u001b[0m             \u001b[0mfile_stream_positions\u001b[0m\u001b[0;34m=\u001b[0m\u001b[0mfile_stream_positions\u001b[0m\u001b[0;34m,\u001b[0m\u001b[0;34m\u001b[0m\u001b[0m\n\u001b[0;32m--> 430\u001b[0;31m             \u001b[0;34m**\u001b[0m\u001b[0mkwargs\u001b[0m\u001b[0;34m\u001b[0m\u001b[0m\n\u001b[0m\u001b[1;32m    431\u001b[0m         )\n\u001b[1;32m    432\u001b[0m \u001b[0;34m\u001b[0m\u001b[0m\n",
      "\u001b[0;32m~/.conda/envs/py3.5/lib/python3.5/site-packages/boxsdk/session/box_session.py\u001b[0m in \u001b[0;36m_retry_request_if_necessary\u001b[0;34m(self, network_response, attempt_number, *args, **kwargs)\u001b[0m\n\u001b[1;32m    229\u001b[0m         \"\"\"\n\u001b[1;32m    230\u001b[0m         \u001b[0;32mif\u001b[0m \u001b[0mnetwork_response\u001b[0m\u001b[0;34m.\u001b[0m\u001b[0mstatus_code\u001b[0m \u001b[0;34m==\u001b[0m \u001b[0;36m401\u001b[0m \u001b[0;32mand\u001b[0m \u001b[0mkwargs\u001b[0m\u001b[0;34m[\u001b[0m\u001b[0;34m'auto_session_renewal'\u001b[0m\u001b[0;34m]\u001b[0m\u001b[0;34m:\u001b[0m\u001b[0;34m\u001b[0m\u001b[0m\n\u001b[0;32m--> 231\u001b[0;31m             \u001b[0mself\u001b[0m\u001b[0;34m.\u001b[0m\u001b[0m_renew_session\u001b[0m\u001b[0;34m(\u001b[0m\u001b[0mnetwork_response\u001b[0m\u001b[0;34m.\u001b[0m\u001b[0maccess_token_used\u001b[0m\u001b[0;34m)\u001b[0m\u001b[0;34m\u001b[0m\u001b[0m\n\u001b[0m\u001b[1;32m    232\u001b[0m             \u001b[0mkwargs\u001b[0m\u001b[0;34m[\u001b[0m\u001b[0;34m'auto_session_renewal'\u001b[0m\u001b[0;34m]\u001b[0m \u001b[0;34m=\u001b[0m \u001b[0;32mFalse\u001b[0m\u001b[0;34m\u001b[0m\u001b[0m\n\u001b[1;32m    233\u001b[0m             \u001b[0;32mreturn\u001b[0m \u001b[0mself\u001b[0m\u001b[0;34m.\u001b[0m\u001b[0m_make_request\u001b[0m\u001b[0;34m(\u001b[0m\u001b[0;34m*\u001b[0m\u001b[0margs\u001b[0m\u001b[0;34m,\u001b[0m \u001b[0;34m**\u001b[0m\u001b[0mkwargs\u001b[0m\u001b[0;34m)\u001b[0m\u001b[0;34m\u001b[0m\u001b[0m\n",
      "\u001b[0;32m~/.conda/envs/py3.5/lib/python3.5/site-packages/boxsdk/session/box_session.py\u001b[0m in \u001b[0;36m_renew_session\u001b[0;34m(self, access_token_used)\u001b[0m\n\u001b[1;32m    194\u001b[0m             \u001b[0;31m`\u001b[0m\u001b[0municode\u001b[0m\u001b[0;31m`\u001b[0m\u001b[0;34m\u001b[0m\u001b[0m\n\u001b[1;32m    195\u001b[0m         \"\"\"\n\u001b[0;32m--> 196\u001b[0;31m         \u001b[0mself\u001b[0m\u001b[0;34m.\u001b[0m\u001b[0m_oauth\u001b[0m\u001b[0;34m.\u001b[0m\u001b[0mrefresh\u001b[0m\u001b[0;34m(\u001b[0m\u001b[0maccess_token_used\u001b[0m\u001b[0;34m)\u001b[0m\u001b[0;34m\u001b[0m\u001b[0m\n\u001b[0m\u001b[1;32m    197\u001b[0m \u001b[0;34m\u001b[0m\u001b[0m\n\u001b[1;32m    198\u001b[0m     \u001b[0;34m@\u001b[0m\u001b[0mstaticmethod\u001b[0m\u001b[0;34m\u001b[0m\u001b[0m\n",
      "\u001b[0;32m~/.conda/envs/py3.5/lib/python3.5/site-packages/boxsdk/auth/oauth2.py\u001b[0m in \u001b[0;36mrefresh\u001b[0;34m(self, access_token_to_refresh)\u001b[0m\n\u001b[1;32m    207\u001b[0m                 \u001b[0;31m# be refreshed, or if we don't currently have any active access\u001b[0m\u001b[0;34m\u001b[0m\u001b[0;34m\u001b[0m\u001b[0m\n\u001b[1;32m    208\u001b[0m                 \u001b[0;31m# token, we make the request to refresh the token.\u001b[0m\u001b[0;34m\u001b[0m\u001b[0;34m\u001b[0m\u001b[0m\n\u001b[0;32m--> 209\u001b[0;31m                 \u001b[0;32mreturn\u001b[0m \u001b[0mself\u001b[0m\u001b[0;34m.\u001b[0m\u001b[0m_refresh\u001b[0m\u001b[0;34m(\u001b[0m\u001b[0maccess_token_to_refresh\u001b[0m\u001b[0;34m)\u001b[0m\u001b[0;34m\u001b[0m\u001b[0m\n\u001b[0m\u001b[1;32m    210\u001b[0m             \u001b[0;32melse\u001b[0m\u001b[0;34m:\u001b[0m\u001b[0;34m\u001b[0m\u001b[0m\n\u001b[1;32m    211\u001b[0m                 \u001b[0;31m# If the active access token (self._access_token) is not the same as the token needs to be refreshed,\u001b[0m\u001b[0;34m\u001b[0m\u001b[0;34m\u001b[0m\u001b[0m\n",
      "\u001b[0;32m~/.conda/envs/py3.5/lib/python3.5/site-packages/boxsdk/auth/oauth2.py\u001b[0m in \u001b[0;36m_refresh\u001b[0;34m(self, access_token)\u001b[0m\n\u001b[1;32m    162\u001b[0m             \u001b[0mdata\u001b[0m\u001b[0;34m[\u001b[0m\u001b[0;34m'box_device_name'\u001b[0m\u001b[0;34m]\u001b[0m \u001b[0;34m=\u001b[0m \u001b[0mself\u001b[0m\u001b[0;34m.\u001b[0m\u001b[0m_box_device_name\u001b[0m\u001b[0;34m\u001b[0m\u001b[0m\n\u001b[1;32m    163\u001b[0m \u001b[0;34m\u001b[0m\u001b[0m\n\u001b[0;32m--> 164\u001b[0;31m         \u001b[0;32mreturn\u001b[0m \u001b[0mself\u001b[0m\u001b[0;34m.\u001b[0m\u001b[0msend_token_request\u001b[0m\u001b[0;34m(\u001b[0m\u001b[0mdata\u001b[0m\u001b[0;34m,\u001b[0m \u001b[0maccess_token\u001b[0m\u001b[0;34m)\u001b[0m\u001b[0;34m\u001b[0m\u001b[0m\n\u001b[0m\u001b[1;32m    165\u001b[0m \u001b[0;34m\u001b[0m\u001b[0m\n\u001b[1;32m    166\u001b[0m     \u001b[0;32mdef\u001b[0m \u001b[0m_get_tokens\u001b[0m\u001b[0;34m(\u001b[0m\u001b[0mself\u001b[0m\u001b[0;34m)\u001b[0m\u001b[0;34m:\u001b[0m\u001b[0;34m\u001b[0m\u001b[0m\n",
      "\u001b[0;32m~/.conda/envs/py3.5/lib/python3.5/site-packages/boxsdk/auth/oauth2.py\u001b[0m in \u001b[0;36msend_token_request\u001b[0;34m(self, data, access_token, expect_refresh_token)\u001b[0m\n\u001b[1;32m    296\u001b[0m         \u001b[0;32mexcept\u001b[0m \u001b[0;34m(\u001b[0m\u001b[0mValueError\u001b[0m\u001b[0;34m,\u001b[0m \u001b[0mKeyError\u001b[0m\u001b[0;34m)\u001b[0m\u001b[0;34m:\u001b[0m\u001b[0;34m\u001b[0m\u001b[0m\n\u001b[1;32m    297\u001b[0m             \u001b[0;32mraise\u001b[0m \u001b[0mBoxOAuthException\u001b[0m\u001b[0;34m(\u001b[0m\u001b[0mnetwork_response\u001b[0m\u001b[0;34m.\u001b[0m\u001b[0mstatus_code\u001b[0m\u001b[0;34m,\u001b[0m \u001b[0mnetwork_response\u001b[0m\u001b[0;34m.\u001b[0m\u001b[0mcontent\u001b[0m\u001b[0;34m,\u001b[0m \u001b[0murl\u001b[0m\u001b[0;34m,\u001b[0m \u001b[0;34m'POST'\u001b[0m\u001b[0;34m)\u001b[0m\u001b[0;34m\u001b[0m\u001b[0m\n\u001b[0;32m--> 298\u001b[0;31m         \u001b[0mself\u001b[0m\u001b[0;34m.\u001b[0m\u001b[0m_store_tokens\u001b[0m\u001b[0;34m(\u001b[0m\u001b[0maccess_token\u001b[0m\u001b[0;34m,\u001b[0m \u001b[0mrefresh_token\u001b[0m\u001b[0;34m)\u001b[0m\u001b[0;34m\u001b[0m\u001b[0m\n\u001b[0m\u001b[1;32m    299\u001b[0m         \u001b[0;32mreturn\u001b[0m \u001b[0mself\u001b[0m\u001b[0;34m.\u001b[0m\u001b[0m_access_token\u001b[0m\u001b[0;34m,\u001b[0m \u001b[0mself\u001b[0m\u001b[0;34m.\u001b[0m\u001b[0m_refresh_token\u001b[0m\u001b[0;34m\u001b[0m\u001b[0m\n\u001b[1;32m    300\u001b[0m \u001b[0;34m\u001b[0m\u001b[0m\n",
      "\u001b[0;32m~/.conda/envs/py3.5/lib/python3.5/site-packages/boxsdk/auth/oauth2.py\u001b[0m in \u001b[0;36m_store_tokens\u001b[0;34m(self, access_token, refresh_token)\u001b[0m\n\u001b[1;32m    231\u001b[0m         \u001b[0mself\u001b[0m\u001b[0;34m.\u001b[0m\u001b[0m_update_current_tokens\u001b[0m\u001b[0;34m(\u001b[0m\u001b[0maccess_token\u001b[0m\u001b[0;34m,\u001b[0m \u001b[0mrefresh_token\u001b[0m\u001b[0;34m)\u001b[0m\u001b[0;34m\u001b[0m\u001b[0m\n\u001b[1;32m    232\u001b[0m         \u001b[0;32mif\u001b[0m \u001b[0mself\u001b[0m\u001b[0;34m.\u001b[0m\u001b[0m_store_tokens_callback\u001b[0m \u001b[0;32mis\u001b[0m \u001b[0;32mnot\u001b[0m \u001b[0;32mNone\u001b[0m\u001b[0;34m:\u001b[0m\u001b[0;34m\u001b[0m\u001b[0m\n\u001b[0;32m--> 233\u001b[0;31m             \u001b[0mself\u001b[0m\u001b[0;34m.\u001b[0m\u001b[0m_store_tokens_callback\u001b[0m\u001b[0;34m(\u001b[0m\u001b[0maccess_token\u001b[0m\u001b[0;34m,\u001b[0m \u001b[0mrefresh_token\u001b[0m\u001b[0;34m)\u001b[0m\u001b[0;34m\u001b[0m\u001b[0m\n\u001b[0m\u001b[1;32m    234\u001b[0m \u001b[0;34m\u001b[0m\u001b[0m\n\u001b[1;32m    235\u001b[0m     \u001b[0;32mdef\u001b[0m \u001b[0m_get_and_update_current_tokens\u001b[0m\u001b[0;34m(\u001b[0m\u001b[0mself\u001b[0m\u001b[0;34m)\u001b[0m\u001b[0;34m:\u001b[0m\u001b[0;34m\u001b[0m\u001b[0m\n",
      "\u001b[0;32m<ipython-input-19-5aa2facb4e1a>\u001b[0m in \u001b[0;36mstore_tokens\u001b[0;34m(access_token, refresh_token)\u001b[0m\n\u001b[1;32m      2\u001b[0m \u001b[0;34m\u001b[0m\u001b[0m\n\u001b[1;32m      3\u001b[0m     \u001b[0;34m\"\"\"Callback for storing refresh tokens. (For now we ignore access tokens).\"\"\"\u001b[0m\u001b[0;34m\u001b[0m\u001b[0m\n\u001b[0;32m----> 4\u001b[0;31m     \u001b[0;32mwith\u001b[0m \u001b[0mopen\u001b[0m\u001b[0;34m(\u001b[0m\u001b[0mhomeFolder\u001b[0m\u001b[0;34m,\u001b[0m\u001b[0;34m'apptoken.cfg'\u001b[0m\u001b[0;34m,\u001b[0m \u001b[0;34m'w'\u001b[0m\u001b[0;34m)\u001b[0m \u001b[0;32mas\u001b[0m \u001b[0mf\u001b[0m\u001b[0;34m:\u001b[0m\u001b[0;34m\u001b[0m\u001b[0m\n\u001b[0m\u001b[1;32m      5\u001b[0m      \u001b[0mf\u001b[0m\u001b[0;34m.\u001b[0m\u001b[0mwrite\u001b[0m\u001b[0;34m(\u001b[0m\u001b[0mrefresh_token\u001b[0m\u001b[0;34m.\u001b[0m\u001b[0mstrip\u001b[0m\u001b[0;34m(\u001b[0m\u001b[0;34m)\u001b[0m\u001b[0;34m)\u001b[0m\u001b[0;34m\u001b[0m\u001b[0m\n",
      "\u001b[0;31mTypeError\u001b[0m: an integer is required (got type str)"
     ]
    }
   ],
   "source": [
    "from boxsdk import OAuth2\n",
    "from boxsdk import Client\n",
    "\n",
    "# Do OAuth2 authorization.\n",
    "oauth = OAuth2(\n",
    "    client_id=CLIENT_ID.strip(),\n",
    "    client_secret=CLIENT_SECRET.strip(),\n",
    "    refresh_token=REFRESH_TOKEN.strip(),\n",
    "    store_tokens=store_tokens\n",
    ")\n",
    "\n",
    "client = Client(oauth)\n",
    "\n",
    "root_folder = client.folder(folder_id='0').get()\n",
    "print (\"Folder name: \", root_folder['name'] )\n",
    "\n",
    "items = client.folder(folder_id='0').get_items(limit=100, offset=0)\n",
    "print (\"items: \", items )\n",
    "\n"
   ]
  },
  {
   "cell_type": "markdown",
   "metadata": {},
   "source": [
    "## Finding folder on box\n",
    "The function below looks for your project folder on Box."
   ]
  },
  {
   "cell_type": "code",
   "execution_count": 24,
   "metadata": {
    "scrolled": false
   },
   "outputs": [],
   "source": [
    "def find_folder_id(folder_name):\n",
    "    print ('find_folder_id folder_name: ', folder_name)\n",
    "    folderlist = client.search(query=folder_name, result_type='folder', limit=100, offset=0)\n",
    "    \n",
    "    print ('find_folder_id folderlist: ', folderlist)\n",
    "    \n",
    "    if len(folderlist) == 0:\n",
    "        print('folder not found: ', folder_name)\n",
    "        return 0\n",
    "    else:\n",
    "        for fldr in folderlist:\n",
    "            if fldr['name'] == folder_name :\n",
    "                return fldr['id']\n",
    "            \n",
    "        return 0\n"
   ]
  },
  {
   "cell_type": "markdown",
   "metadata": {},
   "source": [
    "## Create command scripts template\n",
    "This code writes out a execute file that includes the license install as the first step each time to enable any HPC node. This is a temporary workaround until release 1.3 is installed on Savio and a license server is configured."
   ]
  },
  {
   "cell_type": "code",
   "execution_count": 25,
   "metadata": {
    "scrolled": false
   },
   "outputs": [
    {
     "name": "stdout",
     "output_type": "stream",
     "text": [
      "/bin/sh: module: command not found\r\n"
     ]
    }
   ],
   "source": [
    "# script for singularity to run\n",
    "import os, stat\n",
    "os.system('export XAUTHORITY=/global/home/users/myashar/.Xauthority')\n",
    "os.system('export DISPLAY=:0')\n",
    "!module load qt\n",
    "os.system(\"module load qt\")\n",
    "\n",
    "# execScriptTemplate = 'export RLM_LICENSE=5053@lmgr0.brc.berkeley.edu \\n\\\n",
    "# /opt/photoscan-pro/photoscan.sh -r  /scratch/commandscript.sh \\n'\n",
    "\n",
    "# I needed to run the following for my particular case instead:\n",
    "execScriptTemplate = 'export RLM_LICENSE=5053@lmgr0.brc.berkeley.edu \\n\\\n",
    "/usr/local/photoscan-pro/photoscan.sh -r  /scratch/commandscript.sh \\n'\n",
    "\n",
    "with open(execScript, 'w') as f:\n",
    "    f.write(execScriptTemplate)\n",
    "    \n",
    "os.chmod(execScript,  0o755)    \n"
   ]
  },
  {
   "cell_type": "code",
   "execution_count": 26,
   "metadata": {},
   "outputs": [],
   "source": [
    "# batch script\n",
    "os.system('export XAUTHORITY=/global/home/users/myashar/.Xauthority')\n",
    "os.system('export DISPLAY=:0')\n",
    "# !module load qt\n",
    "os.system(\"module load qt\")\n",
    "os.environ['QT_QPA_PLATFORM']='offscreen'\n",
    "\n",
    "batchtemplate = '#!/bin/bash  \\n\\\n",
    "# Job name: \\n\\\n",
    "#SBATCH --job-name=' + projectname + '\\n\\\n",
    "# \\n\\\n",
    "# Account: \\n\\\n",
    "#SBATCH --account=ac_scsguest \\n\\\n",
    "# \\n\\\n",
    "# Partition: \\n\\\n",
    "#SBATCH --partition=savio \\n\\\n",
    "# \\n\\\n",
    "# Wall clock limit: \\n\\\n",
    "#SBATCH --time={} \\n\\\n",
    "# \\n\\\n",
    "## Command(s) to run: \\n\\\n",
    "## source activate py3.5 \\n\\\n",
    "\n",
    "singularity -d exec -B ' + runFolder + ':' + singularitymountfolder + '  ' + singularityContainerPath + '  ' + scratchExecScript + ' -platform offscreen \\n' \n",
    "!export DISPLAY=':0.0'\n",
    "!export XAUTHORITY=/global/home/users/myashar/.Xauthority\n",
    "!export DISPLAY=:0"
   ]
  },
  {
   "cell_type": "markdown",
   "metadata": {},
   "source": [
    "## Function for updating project file\n",
    "Multiple times in the workflow, the project folder needs to be updated on Box in order to enable making edits through the desktop version of Photoscan. This sets up a utility function that pushes the project \n",
    "file into the working directory on Savio. It assumes that the project folder will only contain one project file and one zipped archive."
   ]
  },
  {
   "cell_type": "code",
   "execution_count": 27,
   "metadata": {
    "scrolled": false
   },
   "outputs": [],
   "source": [
    "import os\n",
    "import shutil\n",
    "\n",
    "def update_project_file_in_box():\n",
    "\n",
    "    newFolderId = find_folder_id(boxProjectFolder)\n",
    "    print (\"Box folder id: \", newFolderId  )\n",
    "    \n",
    "    # create a zipped archive of the data folder\n",
    "    shutil.make_archive(runFolder + dataFolder, 'zip', runFolder + dataFolder)\n",
    "    \n",
    "    projectfilelist = client.search(query=projectFile, result_type='file', limit=10, \n",
    "                                offset=0, ancestor_folders=[client.folder(folder_id=newFolderId)],\n",
    "                                file_extensions=['psx'] )  \n",
    "    \n",
    "    print (\"project file list: \", projectfilelist  )\n",
    "    \n",
    "    # if project file is not yet in folder, upload both the project file and the data zip file\n",
    "    if len(projectfilelist) == 0 or len(projectfilelist) > 1: \n",
    "        print (\"project file not found. \" )\n",
    "        upload_folder = client.folder(folder_id=newFolderId).get()\n",
    "        print(\"upload_folder: \", upload_folder)\n",
    "        projectpsx = upload_folder.upload(runFolder + projectFile)  \n",
    "        print (\"project file id: \", projectpsx['id'] )\n",
    "        projectzip = upload_folder.upload(runFolder + datazipFile)\n",
    "        print(\"projectzip: \", projectzip)\n",
    "        print (\"data zip file id: \", projectzip['id'] )\n",
    "        return\n",
    "    else:\n",
    "        datazipfilelist = client.search(query=datazipFile, result_type='file', limit=10, \n",
    "                                offset=0, ancestor_folders=[client.folder(folder_id=newFolderId)])\n",
    "                                #file_extensions=['zip'] )  \n",
    "        print (\"datazip file list: \", datazipfilelist  )\n",
    "        \n",
    "        projectfileid = projectfilelist[0]['id']\n",
    "        print (\"project file id: \", projectfileid )\n",
    "        datazipfileid = datazipfilelist[0]['id']\n",
    "        print (\"data zip file list: \", datazipfileid  )\n",
    "    \n",
    "        update_file = client.file(file_id=projectfileid).get()\n",
    "        update_zip_file = client.file(file_id=datazipfileid).get()\n",
    "\n",
    "        # upload a new version of the project file\n",
    "        print ('begin project file update.' )\n",
    "        psxfile = update_file.update_contents(runFolder + projectFile)  \n",
    "        zipfile = update_zip_file.update_contents(runFolder + datazipFile)\n",
    "        print ('update psx result: ', psxfile ,'   update zip result: ', zipfile )"
   ]
  },
  {
   "cell_type": "markdown",
   "metadata": {},
   "source": [
    "## Fetching images from Box\n",
    "The code below retrieves the images from your project directory on Box, and puts them in the project folder on the cluster that you specified above.\n",
    "\n",
    "When you run it, it will check for the number of files in the folder on Box, and list each of them as it downloads. Please wait until you see *Download complete* before moving to the next step -- this can take some time if you have a lot of images, or large images."
   ]
  },
  {
   "cell_type": "code",
   "execution_count": 30,
   "metadata": {
    "scrolled": false
   },
   "outputs": [
    {
     "name": "stdout",
     "output_type": "stream",
     "text": [
      "boxProjectFolder: myBoxFolderName\n",
      "retrieving images from folder:  myBoxFolderName\n",
      "downloading images to directory:  /global/scratch/myashar/projectname/images/\n",
      "number of files in top folder:  4\n",
      "folder name:  Astronomy-Microscopy Summit\n",
      "folder name:  My Box Notes\n",
      "folder name:  myBoxFolderName\n",
      "targetfolderId:  53223729428\n",
      "folder name:  myBoxFolderName_Test1\n",
      "number of files in target folder:  22\n",
      "downloading:  IMG_0324.JPG\n",
      "downloading:  IMG_0325.JPG\n",
      "downloading:  IMG_0326.JPG\n",
      "downloading:  IMG_0327.JPG\n",
      "downloading:  IMG_0328.JPG\n",
      "downloading:  IMG_0329.JPG\n",
      "downloading:  IMG_0330.JPG\n",
      "downloading:  IMG_0331.JPG\n",
      "downloading:  IMG_0332.JPG\n",
      "downloading:  IMG_0333.JPG\n",
      "downloading:  IMG_0334.JPG\n",
      "downloading:  IMG_0335.JPG\n",
      "downloading:  IMG_0336.JPG\n",
      "downloading:  IMG_0337.JPG\n",
      "downloading:  IMG_0338.JPG\n",
      "downloading:  IMG_0339.JPG\n",
      "downloading:  IMG_0340.JPG\n",
      "downloading:  IMG_0341.JPG\n",
      "downloading:  IMG_0342.JPG\n",
      "downloading:  IMG_0346.JPG\n",
      "Download complete\n"
     ]
    }
   ],
   "source": [
    "import os\n",
    "import shutil \n",
    "print(\"boxProjectFolder:\",boxProjectFolder)\n",
    "\n",
    "os.chdir(scratchImageDataDirectory)\n",
    "print ('retrieving images from folder: ', boxProjectFolder)\n",
    "print ('downloading images to directory: ', scratchImageDataDirectory)\n",
    "\n",
    "# test folder contents\n",
    "items = client.folder(folder_id='0').get_items(limit=20, offset=0)\n",
    "if type(items) is list:\n",
    "    print ('number of files in top folder: ', len(items) )\n",
    "    \n",
    "    targetfolderId = ''\n",
    "    for item in items:\n",
    "        if item['type'] == 'folder':\n",
    "            print('folder name: ', item['name'])\n",
    "            if item['name'] == boxProjectFolder:\n",
    "                targetfolderId = item['id']\n",
    "                print('targetfolderId: ', targetfolderId)\n",
    "        \n",
    "    if targetfolderId is not None:\n",
    "        tgtitems = client.folder(folder_id=targetfolderId).get_items(limit=200, offset=0)\n",
    "        if type(tgtitems) is list:\n",
    "            print ('number of files in target folder: ', len(tgtitems) ) \n",
    "        \n",
    "        # download all image files\n",
    "        for tgtitem in tgtitems:\n",
    "            if  not tgtitem['type'] == 'folder' and tgtitem['name'].endswith('.JPG'):\n",
    "                # If necessary, remember to change '.JPG' to '.jpg' here\n",
    "                print('downloading: ', tgtitem['name'])\n",
    "                imagecontent = client.file(file_id=tgtitem['id']).content()\n",
    "                newfile = open(scratchImageDataDirectory + tgtitem['name'], 'wb')\n",
    "                newfile.write(imagecontent)\n",
    "                newfile.close()\n",
    "        print ('Download complete')"
   ]
  },
  {
   "cell_type": "markdown",
   "metadata": {},
   "source": [
    "## Function for retrieving project file\n",
    "This code sets up a function to bring an updated project file back from Box, e.g. after you've made changes using the desktop version of Photoscan, and you want to run a subsequent processing step on a cluster."
   ]
  },
  {
   "cell_type": "code",
   "execution_count": 31,
   "metadata": {
    "scrolled": false
   },
   "outputs": [],
   "source": [
    "\n",
    "import os\n",
    "import shutil \n",
    "def retrieve_project_file():\n",
    "    newFolderId = find_folder_id(boxProjectFolder)\n",
    "    tgtitems = client.folder(folder_id=newFolderId).get_items(limit=1000, offset=0)\n",
    "\n",
    "    # download the project file\n",
    "    for tgtitem in tgtitems:\n",
    "        if  not tgtitem['type'] == 'folder' and tgtitem['name'].endswith('.psx'):\n",
    "            print('downloading: ', tgtitem['name'])\n",
    "            imagecontent = client.file(file_id=tgtitem['id']).content()\n",
    "            newfile = open(runFolder + tgtitem['name'], 'wb')\n",
    "            newfile.write(imagecontent)\n",
    "            newfile.close()\n",
    "            print(\"new file: \", newfile)\n",
    "            print('project file download complete.')\n",
    "            \n",
    "        if  not tgtitem['type'] == 'folder' and tgtitem['name'].endswith('.zip'):\n",
    "            \n",
    "            # delete the old folder\n",
    "            !rm -rf $runFolder$dataFolder\n",
    "            \n",
    "            print('downloading: ', tgtitem['name'])\n",
    "            imagecontent = client.file(file_id=tgtitem['id']).content()\n",
    "            newfile = open(runFolder + tgtitem['name'], 'wb')\n",
    "            newfile.write(imagecontent)\n",
    "            newfile.close()\n",
    "            shutil.unpack_archive(runFolder + datazipFile, runFolder + dataFolder ,'zip')\n",
    "            \n",
    "            print('data zip file download complete.')"
   ]
  },
  {
   "cell_type": "markdown",
   "metadata": {},
   "source": [
    "# Project setup\n",
    "\n",
    "This section pulls your images onto the computing cluster and creates and uploads a Photoscan .psx file if it doesn't already exist.\n",
    "\n"
   ]
  },
  {
   "cell_type": "markdown",
   "metadata": {},
   "source": [
    "## Set up job script\n",
    "\n",
    "This code sets up the job script that will be run on the cluster, in order to pull in your images."
   ]
  },
  {
   "cell_type": "code",
   "execution_count": 32,
   "metadata": {},
   "outputs": [],
   "source": [
    "def hrs(xhrs):\n",
    "    return xhrs\n",
    "def mins(xmins):\n",
    "    return xmins\n",
    "\n",
    "#Define widgets and defaults\n",
    "hrslider=widgets.IntSlider(description='Estimated Hours:',  value=1, min=0, max=23,step=1)\n",
    "minslider=widgets.IntSlider(description='Estimated Minutes:',  value=0, min=0, max=59,step=1)\n"
   ]
  },
  {
   "cell_type": "code",
   "execution_count": 150,
   "metadata": {},
   "outputs": [
    {
     "data": {
      "application/vnd.jupyter.widget-view+json": {
       "model_id": "6542571a03d1483eb07bc6a0f7da0d10",
       "version_major": 2,
       "version_minor": 0
      },
      "text/plain": [
       "interactive(children=(IntSlider(value=1, description='Estimated Hours:', max=23), Output()), _dom_classes=('wi…"
      ]
     },
     "metadata": {},
     "output_type": "display_data"
    },
    {
     "data": {
      "application/vnd.jupyter.widget-view+json": {
       "model_id": "65097da4277b42ce936254ab5f006c38",
       "version_major": 2,
       "version_minor": 0
      },
      "text/plain": [
       "interactive(children=(IntSlider(value=0, description='Estimated Minutes:', max=59), Output()), _dom_classes=('…"
      ]
     },
     "metadata": {},
     "output_type": "display_data"
    },
    {
     "data": {
      "text/plain": [
       "<function __main__.mins(xmins)>"
      ]
     },
     "execution_count": 150,
     "metadata": {},
     "output_type": "execute_result"
    }
   ],
   "source": [
    "# Enter the estimated hours and minutes to create the project and add photos\n",
    "interact(hrs, xhrs=hrslider)\n",
    "interact(mins, xmins=minslider)\n"
   ]
  },
  {
   "cell_type": "code",
   "execution_count": 35,
   "metadata": {
    "scrolled": false
   },
   "outputs": [
    {
     "name": "stdout",
     "output_type": "stream",
     "text": [
      "output:  #!/usr/bin/env python3 \n",
      "import PhotoScan \n",
      "import time \n",
      "doc = PhotoScan.app.document \n",
      "chunk = PhotoScan.app.document.addChunk() \n",
      "chunk.addPhotos( ['/scratch/images/IMG_0338.JPG', '/scratch/images/IMG_0325.JPG', '/scratch/images/IMG_0333.JPG', '/scratch/images/IMG_0329.JPG', '/scratch/images/IMG_0330.JPG', '/scratch/images/IMG_0334.JPG', '/scratch/images/IMG_0337.JPG', '/scratch/images/IMG_0346.JPG', '/scratch/images/IMG_0327.JPG', '/scratch/images/IMG_0336.JPG', '/scratch/images/apptoken.cfg', '/scratch/images/IMG_0324.JPG', '/scratch/images/IMG_0340.JPG', '/scratch/images/IMG_0342.JPG', '/scratch/images/app.cfg', '/scratch/images/IMG_0339.JPG', '/scratch/images/IMG_0335.JPG', '/scratch/images/IMG_0331.JPG', '/scratch/images/IMG_0328.JPG', '/scratch/images/IMG_0326.JPG', '/scratch/images/IMG_0341.JPG', '/scratch/images/IMG_0332.JPG'] ) \n",
      "doc.save(path=\"/scratch//projectname.psx\", chunks = [doc.chunk])\n",
      " \n",
      "estimateTime:  1:00:00\n"
     ]
    }
   ],
   "source": [
    "import os, stat\n",
    "os.system('export XAUTHORITY=/global/home/users/myashar/.Xauthority')\n",
    "os.system('export DISPLAY=:0')\n",
    "os.system(\"module load qt\")\n",
    "os.environ['QT_QPA_PLATFORM']='offscreen'\n",
    "files = [ singularitymountfolder + 'images/' + f for f in os.listdir(scratchImageDataDirectory) ] \n",
    "\n",
    "template = '#!/usr/bin/env python3 \\n\\\n",
    "import PhotoScan \\n\\\n",
    "import time \\n\\\n",
    "doc = PhotoScan.app.document \\n\\\n",
    "chunk = PhotoScan.app.document.addChunk() \\n\\\n",
    "chunk.addPhotos( {} ) \\n\\\n",
    "doc.save(path=\\\"{}\\\", chunks = [doc.chunk])\\n '\n",
    "!export DISPLAY=':0.0'\n",
    "!export XAUTHORITY=/global/home/users/myashar/.Xauthority\n",
    "!export DISPLAY=:0\n",
    "output = template.format(str(files), singularitymountfolder + projectFile)\n",
    "print('output: ', output)\n",
    "\n",
    "with open(commandScript, 'w') as f:  \n",
    "    f.write(output)\n",
    "\n",
    "os.chmod(commandScript,  0o755)\n",
    "\n",
    "#set time limit for this batch run\n",
    "minstring = str(minslider.value)\n",
    "if minslider.value < 10:\n",
    "    minstring = '0' + str(minslider.value)\n",
    "estimateTime = str(hrslider.value) + ':' + minstring + ':00'\n",
    "print('estimateTime: ', estimateTime)\n",
    "outputbatchscript = batchtemplate.format(estimateTime)\n",
    "with open(slurmScript, 'w') as f:  \n",
    "    f.write(outputbatchscript)\n",
    "    \n",
    "os.chmod(slurmScript,  0o755)"
   ]
  },
  {
   "cell_type": "markdown",
   "metadata": {},
   "source": [
    "## Run job\n",
    "The code below will run the job on the cluster, pulling in your images from Box, and will display the job ID."
   ]
  },
  {
   "cell_type": "code",
   "execution_count": 36,
   "metadata": {
    "scrolled": false
   },
   "outputs": [
    {
     "name": "stdout",
     "output_type": "stream",
     "text": [
      "/global/scratch/myashar/projectname/\n",
      "['Submitted batch job 3325693']\n",
      "Execute image loading output:  ['Submitted batch job 3325693']\n",
      "3325693\n"
     ]
    }
   ],
   "source": [
    "os.system('export XAUTHORITY=/global/home/users/myashar/.Xauthority')\n",
    "os.system('export DISPLAY=:0')\n",
    "os.environ['QT_QPA_PLATFORM']='offscreen'\n",
    "os.system(\"module load qt\")\n",
    "os.chdir(runFolder)\n",
    "print(runFolder)\n",
    "out = !sbatch slurmscript.sh   \n",
    "print(out)   \n",
    "print ('Execute image loading output: ', out ) \n",
    "jobId =  out[0].split()[3]\n",
    "print (jobId)"
   ]
  },
  {
   "cell_type": "code",
   "execution_count": 37,
   "metadata": {},
   "outputs": [
    {
     "name": "stdout",
     "output_type": "stream",
     "text": [
      "             JOBID PARTITION     NAME     USER ST       TIME  NODES NODELIST(REASON)\n",
      "           3325693     savio projectn  myashar  R       0:02      1 n0110.savio1\n",
      "--------------------------------\n",
      "JobId=3325693 JobName=projectname\n",
      "   UserId=myashar(43974) GroupId=ucb(501) MCS_label=N/A\n",
      "   Priority=418193 Nice=0 Account=ac_scsguest QOS=savio_normal\n",
      "   JobState=RUNNING Reason=None Dependency=(null)\n",
      "   Requeue=0 Restarts=0 BatchFlag=1 Reboot=0 ExitCode=0:0\n",
      "   RunTime=00:00:03 TimeLimit=01:00:00 TimeMin=N/A\n",
      "   SubmitTime=2018-09-05T17:17:32 EligibleTime=2018-09-05T17:17:32\n",
      "   StartTime=2018-09-05T17:17:34 EndTime=2018-09-05T18:17:34 Deadline=N/A\n",
      "   PreemptTime=None SuspendTime=None SecsPreSuspend=0\n",
      "   LastSchedEval=2018-09-05T17:17:34\n",
      "   Partition=savio AllocNode:Sid=jupyter:271001\n",
      "   ReqNodeList=(null) ExcNodeList=(null)\n",
      "   NodeList=n0110.savio1\n",
      "   BatchHost=n0110.savio1\n",
      "   NumNodes=1 NumCPUs=20 NumTasks=1 CPUs/Task=1 ReqB:S:C:T=0:0:*:*\n",
      "   TRES=cpu=20,mem=62.50G,node=1,billing=20\n",
      "   Socks/Node=* NtasksPerN:B:S:C=0:0:*:* CoreSpec=*\n",
      "   MinCPUsNode=1 MinMemoryNode=62.50G MinTmpDiskNode=0\n",
      "   Features=(null) DelayBoot=00:00:00\n",
      "   Gres=(null) Reservation=(null)\n",
      "   OverSubscribe=NO Contiguous=0 Licenses=(null) Network=(null)\n",
      "   Command=/global/scratch/myashar/projectname/slurmscript.sh\n",
      "   WorkDir=/global/scratch/myashar/projectname\n",
      "   StdErr=/global/scratch/myashar/projectname/slurm-3325693.out\n",
      "   StdIn=/dev/null\n",
      "   StdOut=/global/scratch/myashar/projectname/slurm-3325693.out\n",
      "   Power=\n",
      "\n"
     ]
    }
   ],
   "source": [
    "# print the users queue and the job status by id\n",
    "!squeue -u $username\n",
    "print('--------------------------------')\n",
    "!scontrol show job $jobId"
   ]
  },
  {
   "cell_type": "markdown",
   "metadata": {},
   "source": [
    "## Upload project file\n",
    "If there isn't a \"data\" subfolder inside your project folder on Box already, the code below will first create it. The code will then upload a new Photoscan project file and associated data files to Box. \n",
    "\n",
    "**MYashar: As far as things stand now with the code, no such \"data\" subfolder is created on Box.**\n",
    "\n",
    "If a Photoscan project file with the same name already exists in the folder on Box, this code will *not* overwrite it.\n",
    "\n",
    "Please note: New folders in Box can take several minutes to register, so this step may take a few minutes. If you get a \"file not found\" error in the next step, wait a minute or two and retry."
   ]
  },
  {
   "cell_type": "code",
   "execution_count": 42,
   "metadata": {
    "scrolled": true
   },
   "outputs": [
    {
     "name": "stdout",
     "output_type": "stream",
     "text": [
      "find_folder_id folder_name:  myBoxFolderName\n",
      "find_folder_id folderlist:  [<Box Folder - 53223729428 (myBoxFolderName)>, <Box Folder - 52394687398 (myBoxFolderName_Test1)>]\n",
      "folder id:  53223729428\n",
      "folder exists\n",
      "folder id:  53223729428\n",
      "find_folder_id folder_name:  myBoxFolderName\n",
      "find_folder_id folderlist:  [<Box Folder - 53223729428 (myBoxFolderName)>, <Box Folder - 52394687398 (myBoxFolderName_Test1)>]\n",
      "Box folder id:  53223729428\n",
      "project file list:  []\n",
      "project file not found. \n",
      "upload_folder:  <Box Folder - 53223729428 (myBoxFolderName)>\n"
     ]
    },
    {
     "ename": "BoxAPIException",
     "evalue": "\nMessage: Item with the same name already exists\nStatus: 409\nCode: item_name_in_use\nRequest id: j345b5fuzkgvhzz0\nHeaders: {'Strict-Transport-Security': 'max-age=31536000', 'Content-Length': '472', 'Vary': 'Accept-Encoding', 'Age': '0', 'Connection': 'keep-alive', 'Date': 'Thu, 06 Sep 2018 01:33:33 GMT', 'Content-Type': 'application/json', 'Cache-Control': 'no-cache, no-store'}\nURL: https://upload.box.com/api/2.0/files/content\nMethod: POST\nContext info: {'conflicts': {'etag': '0', 'sequence_id': '0', 'name': 'projectname.psx', 'type': 'file', 'sha1': '3cceb827f69b8dc8db264ae8754e8d2ce5310df0', 'file_version': {'type': 'file_version', 'sha1': '3cceb827f69b8dc8db264ae8754e8d2ce5310df0', 'id': '334219581393'}, 'id': '317022687393'}}",
     "output_type": "error",
     "traceback": [
      "\u001b[0;31m---------------------------------------------------------------------------\u001b[0m",
      "\u001b[0;31mBoxAPIException\u001b[0m                           Traceback (most recent call last)",
      "\u001b[0;32m<ipython-input-42-cc6f902b53a9>\u001b[0m in \u001b[0;36m<module>\u001b[0;34m()\u001b[0m\n\u001b[1;32m     13\u001b[0m \u001b[0mprint\u001b[0m \u001b[0;34m(\u001b[0m\u001b[0;34m\"folder id: \"\u001b[0m\u001b[0;34m,\u001b[0m \u001b[0mnewFolderId\u001b[0m \u001b[0;34m)\u001b[0m\u001b[0;34m\u001b[0m\u001b[0m\n\u001b[1;32m     14\u001b[0m \u001b[0;31m# print(\"new folder: \", newFolder)\u001b[0m\u001b[0;34m\u001b[0m\u001b[0;34m\u001b[0m\u001b[0m\n\u001b[0;32m---> 15\u001b[0;31m \u001b[0mupdate_project_file_in_box\u001b[0m\u001b[0;34m(\u001b[0m\u001b[0;34m)\u001b[0m\u001b[0;34m\u001b[0m\u001b[0m\n\u001b[0m",
      "\u001b[0;32m<ipython-input-27-4d65ccc877a8>\u001b[0m in \u001b[0;36mupdate_project_file_in_box\u001b[0;34m()\u001b[0m\n\u001b[1;32m     21\u001b[0m         \u001b[0mupload_folder\u001b[0m \u001b[0;34m=\u001b[0m \u001b[0mclient\u001b[0m\u001b[0;34m.\u001b[0m\u001b[0mfolder\u001b[0m\u001b[0;34m(\u001b[0m\u001b[0mfolder_id\u001b[0m\u001b[0;34m=\u001b[0m\u001b[0mnewFolderId\u001b[0m\u001b[0;34m)\u001b[0m\u001b[0;34m.\u001b[0m\u001b[0mget\u001b[0m\u001b[0;34m(\u001b[0m\u001b[0;34m)\u001b[0m\u001b[0;34m\u001b[0m\u001b[0m\n\u001b[1;32m     22\u001b[0m         \u001b[0mprint\u001b[0m\u001b[0;34m(\u001b[0m\u001b[0;34m\"upload_folder: \"\u001b[0m\u001b[0;34m,\u001b[0m \u001b[0mupload_folder\u001b[0m\u001b[0;34m)\u001b[0m\u001b[0;34m\u001b[0m\u001b[0m\n\u001b[0;32m---> 23\u001b[0;31m         \u001b[0mprojectpsx\u001b[0m \u001b[0;34m=\u001b[0m \u001b[0mupload_folder\u001b[0m\u001b[0;34m.\u001b[0m\u001b[0mupload\u001b[0m\u001b[0;34m(\u001b[0m\u001b[0mrunFolder\u001b[0m \u001b[0;34m+\u001b[0m \u001b[0mprojectFile\u001b[0m\u001b[0;34m)\u001b[0m\u001b[0;34m\u001b[0m\u001b[0m\n\u001b[0m\u001b[1;32m     24\u001b[0m         \u001b[0mprint\u001b[0m \u001b[0;34m(\u001b[0m\u001b[0;34m\"project file id: \"\u001b[0m\u001b[0;34m,\u001b[0m \u001b[0mprojectpsx\u001b[0m\u001b[0;34m[\u001b[0m\u001b[0;34m'id'\u001b[0m\u001b[0;34m]\u001b[0m \u001b[0;34m)\u001b[0m\u001b[0;34m\u001b[0m\u001b[0m\n\u001b[1;32m     25\u001b[0m         \u001b[0mprojectzip\u001b[0m \u001b[0;34m=\u001b[0m \u001b[0mupload_folder\u001b[0m\u001b[0;34m.\u001b[0m\u001b[0mupload\u001b[0m\u001b[0;34m(\u001b[0m\u001b[0mrunFolder\u001b[0m \u001b[0;34m+\u001b[0m \u001b[0mdatazipFile\u001b[0m\u001b[0;34m)\u001b[0m\u001b[0;34m\u001b[0m\u001b[0m\n",
      "\u001b[0;32m~/.conda/envs/py3.5/lib/python3.5/site-packages/boxsdk/util/api_call_decorator.py\u001b[0m in \u001b[0;36mcall\u001b[0;34m(*args, **kwargs)\u001b[0m\n\u001b[1;32m     54\u001b[0m                 \u001b[0minstance\u001b[0m \u001b[0;34m=\u001b[0m \u001b[0minstance\u001b[0m\u001b[0;34m.\u001b[0m\u001b[0mclone\u001b[0m\u001b[0;34m(\u001b[0m\u001b[0minstance\u001b[0m\u001b[0;34m.\u001b[0m\u001b[0m_session\u001b[0m\u001b[0;34m.\u001b[0m\u001b[0mwith_default_network_request_kwargs\u001b[0m\u001b[0;34m(\u001b[0m\u001b[0mextra_network_parameters\u001b[0m\u001b[0;34m)\u001b[0m\u001b[0;34m)\u001b[0m\u001b[0;34m\u001b[0m\u001b[0m\n\u001b[1;32m     55\u001b[0m                 \u001b[0;31m# pylint: enable=protected-access\u001b[0m\u001b[0;34m\u001b[0m\u001b[0;34m\u001b[0m\u001b[0m\n\u001b[0;32m---> 56\u001b[0;31m             \u001b[0mresponse\u001b[0m \u001b[0;34m=\u001b[0m \u001b[0mself\u001b[0m\u001b[0;34m.\u001b[0m\u001b[0m_func_that_makes_an_api_call\u001b[0m\u001b[0;34m(\u001b[0m\u001b[0minstance\u001b[0m\u001b[0;34m,\u001b[0m \u001b[0;34m*\u001b[0m\u001b[0margs\u001b[0m\u001b[0;34m,\u001b[0m \u001b[0;34m**\u001b[0m\u001b[0mkwargs\u001b[0m\u001b[0;34m)\u001b[0m\u001b[0;34m\u001b[0m\u001b[0m\n\u001b[0m\u001b[1;32m     57\u001b[0m             \u001b[0;32mreturn\u001b[0m \u001b[0mresponse\u001b[0m\u001b[0;34m\u001b[0m\u001b[0m\n\u001b[1;32m     58\u001b[0m         \u001b[0;32mreturn\u001b[0m \u001b[0mcall\u001b[0m\u001b[0;34m\u001b[0m\u001b[0m\n",
      "\u001b[0;32m~/.conda/envs/py3.5/lib/python3.5/site-packages/boxsdk/object/folder.py\u001b[0m in \u001b[0;36mupload\u001b[0;34m(self, file_path, file_name, preflight_check, preflight_expected_size, upload_using_accelerator)\u001b[0m\n\u001b[1;32m    277\u001b[0m                 \u001b[0mpreflight_check\u001b[0m\u001b[0;34m,\u001b[0m\u001b[0;34m\u001b[0m\u001b[0m\n\u001b[1;32m    278\u001b[0m                 \u001b[0mpreflight_expected_size\u001b[0m\u001b[0;34m=\u001b[0m\u001b[0mpreflight_expected_size\u001b[0m\u001b[0;34m,\u001b[0m\u001b[0;34m\u001b[0m\u001b[0m\n\u001b[0;32m--> 279\u001b[0;31m                 \u001b[0mupload_using_accelerator\u001b[0m\u001b[0;34m=\u001b[0m\u001b[0mupload_using_accelerator\u001b[0m\u001b[0;34m,\u001b[0m\u001b[0;34m\u001b[0m\u001b[0m\n\u001b[0m\u001b[1;32m    280\u001b[0m             )\n\u001b[1;32m    281\u001b[0m \u001b[0;34m\u001b[0m\u001b[0m\n",
      "\u001b[0;32m~/.conda/envs/py3.5/lib/python3.5/site-packages/boxsdk/util/api_call_decorator.py\u001b[0m in \u001b[0;36mcall\u001b[0;34m(*args, **kwargs)\u001b[0m\n\u001b[1;32m     54\u001b[0m                 \u001b[0minstance\u001b[0m \u001b[0;34m=\u001b[0m \u001b[0minstance\u001b[0m\u001b[0;34m.\u001b[0m\u001b[0mclone\u001b[0m\u001b[0;34m(\u001b[0m\u001b[0minstance\u001b[0m\u001b[0;34m.\u001b[0m\u001b[0m_session\u001b[0m\u001b[0;34m.\u001b[0m\u001b[0mwith_default_network_request_kwargs\u001b[0m\u001b[0;34m(\u001b[0m\u001b[0mextra_network_parameters\u001b[0m\u001b[0;34m)\u001b[0m\u001b[0;34m)\u001b[0m\u001b[0;34m\u001b[0m\u001b[0m\n\u001b[1;32m     55\u001b[0m                 \u001b[0;31m# pylint: enable=protected-access\u001b[0m\u001b[0;34m\u001b[0m\u001b[0;34m\u001b[0m\u001b[0m\n\u001b[0;32m---> 56\u001b[0;31m             \u001b[0mresponse\u001b[0m \u001b[0;34m=\u001b[0m \u001b[0mself\u001b[0m\u001b[0;34m.\u001b[0m\u001b[0m_func_that_makes_an_api_call\u001b[0m\u001b[0;34m(\u001b[0m\u001b[0minstance\u001b[0m\u001b[0;34m,\u001b[0m \u001b[0;34m*\u001b[0m\u001b[0margs\u001b[0m\u001b[0;34m,\u001b[0m \u001b[0;34m**\u001b[0m\u001b[0mkwargs\u001b[0m\u001b[0;34m)\u001b[0m\u001b[0;34m\u001b[0m\u001b[0m\n\u001b[0m\u001b[1;32m     57\u001b[0m             \u001b[0;32mreturn\u001b[0m \u001b[0mresponse\u001b[0m\u001b[0;34m\u001b[0m\u001b[0m\n\u001b[1;32m     58\u001b[0m         \u001b[0;32mreturn\u001b[0m \u001b[0mcall\u001b[0m\u001b[0;34m\u001b[0m\u001b[0m\n",
      "\u001b[0;32m~/.conda/envs/py3.5/lib/python3.5/site-packages/boxsdk/object/folder.py\u001b[0m in \u001b[0;36mupload_stream\u001b[0;34m(self, file_stream, file_name, preflight_check, preflight_expected_size, upload_using_accelerator)\u001b[0m\n\u001b[1;32m    215\u001b[0m             \u001b[0;34m'file'\u001b[0m\u001b[0;34m:\u001b[0m \u001b[0;34m(\u001b[0m\u001b[0;34m'unused'\u001b[0m\u001b[0;34m,\u001b[0m \u001b[0mfile_stream\u001b[0m\u001b[0;34m)\u001b[0m\u001b[0;34m,\u001b[0m\u001b[0;34m\u001b[0m\u001b[0m\n\u001b[1;32m    216\u001b[0m         }\n\u001b[0;32m--> 217\u001b[0;31m         \u001b[0mbox_response\u001b[0m \u001b[0;34m=\u001b[0m \u001b[0mself\u001b[0m\u001b[0;34m.\u001b[0m\u001b[0m_session\u001b[0m\u001b[0;34m.\u001b[0m\u001b[0mpost\u001b[0m\u001b[0;34m(\u001b[0m\u001b[0murl\u001b[0m\u001b[0;34m,\u001b[0m \u001b[0mdata\u001b[0m\u001b[0;34m=\u001b[0m\u001b[0mdata\u001b[0m\u001b[0;34m,\u001b[0m \u001b[0mfiles\u001b[0m\u001b[0;34m=\u001b[0m\u001b[0mfiles\u001b[0m\u001b[0;34m,\u001b[0m \u001b[0mexpect_json_response\u001b[0m\u001b[0;34m=\u001b[0m\u001b[0;32mFalse\u001b[0m\u001b[0;34m)\u001b[0m\u001b[0;34m\u001b[0m\u001b[0m\n\u001b[0m\u001b[1;32m    218\u001b[0m         \u001b[0mfile_response\u001b[0m \u001b[0;34m=\u001b[0m \u001b[0mbox_response\u001b[0m\u001b[0;34m.\u001b[0m\u001b[0mjson\u001b[0m\u001b[0;34m(\u001b[0m\u001b[0;34m)\u001b[0m\u001b[0;34m[\u001b[0m\u001b[0;34m'entries'\u001b[0m\u001b[0;34m]\u001b[0m\u001b[0;34m[\u001b[0m\u001b[0;36m0\u001b[0m\u001b[0;34m]\u001b[0m\u001b[0;34m\u001b[0m\u001b[0m\n\u001b[1;32m    219\u001b[0m         \u001b[0mfile_id\u001b[0m \u001b[0;34m=\u001b[0m \u001b[0mfile_response\u001b[0m\u001b[0;34m[\u001b[0m\u001b[0;34m'id'\u001b[0m\u001b[0;34m]\u001b[0m\u001b[0;34m\u001b[0m\u001b[0m\n",
      "\u001b[0;32m~/.conda/envs/py3.5/lib/python3.5/site-packages/boxsdk/session/box_session.py\u001b[0m in \u001b[0;36mpost\u001b[0;34m(self, url, **kwargs)\u001b[0m\n\u001b[1;32m    454\u001b[0m             \u001b[0;31m`\u001b[0m\u001b[0municode\u001b[0m\u001b[0;31m`\u001b[0m\u001b[0;34m\u001b[0m\u001b[0m\n\u001b[1;32m    455\u001b[0m         \"\"\"\n\u001b[0;32m--> 456\u001b[0;31m         \u001b[0mresponse\u001b[0m \u001b[0;34m=\u001b[0m \u001b[0mself\u001b[0m\u001b[0;34m.\u001b[0m\u001b[0m_prepare_and_send_request\u001b[0m\u001b[0;34m(\u001b[0m\u001b[0;34m'POST'\u001b[0m\u001b[0;34m,\u001b[0m \u001b[0murl\u001b[0m\u001b[0;34m,\u001b[0m \u001b[0;34m**\u001b[0m\u001b[0mkwargs\u001b[0m\u001b[0;34m)\u001b[0m\u001b[0;34m\u001b[0m\u001b[0m\n\u001b[0m\u001b[1;32m    457\u001b[0m         \u001b[0;32mreturn\u001b[0m \u001b[0mBoxResponse\u001b[0m\u001b[0;34m(\u001b[0m\u001b[0mresponse\u001b[0m\u001b[0;34m)\u001b[0m\u001b[0;34m\u001b[0m\u001b[0m\n\u001b[1;32m    458\u001b[0m \u001b[0;34m\u001b[0m\u001b[0m\n",
      "\u001b[0;32m~/.conda/envs/py3.5/lib/python3.5/site-packages/boxsdk/session/box_session.py\u001b[0m in \u001b[0;36m_prepare_and_send_request\u001b[0;34m(self, method, url, headers, auto_session_renewal, expect_json_response, attempt_number, **kwargs)\u001b[0m\n\u001b[1;32m    347\u001b[0m             \u001b[0mattempt_number\u001b[0m\u001b[0;34m,\u001b[0m\u001b[0;34m\u001b[0m\u001b[0m\n\u001b[1;32m    348\u001b[0m             \u001b[0mfile_stream_positions\u001b[0m\u001b[0;34m=\u001b[0m\u001b[0mfile_stream_positions\u001b[0m\u001b[0;34m,\u001b[0m\u001b[0;34m\u001b[0m\u001b[0m\n\u001b[0;32m--> 349\u001b[0;31m             \u001b[0;34m**\u001b[0m\u001b[0mkwargs\u001b[0m\u001b[0;34m\u001b[0m\u001b[0m\n\u001b[0m\u001b[1;32m    350\u001b[0m         )\n\u001b[1;32m    351\u001b[0m \u001b[0;34m\u001b[0m\u001b[0m\n",
      "\u001b[0;32m~/.conda/envs/py3.5/lib/python3.5/site-packages/boxsdk/session/box_session.py\u001b[0m in \u001b[0;36m_make_request\u001b[0;34m(self, method, url, headers, auto_session_renewal, expect_json_response, attempt_number, **kwargs)\u001b[0m\n\u001b[1;32m    431\u001b[0m         )\n\u001b[1;32m    432\u001b[0m \u001b[0;34m\u001b[0m\u001b[0m\n\u001b[0;32m--> 433\u001b[0;31m         \u001b[0mself\u001b[0m\u001b[0;34m.\u001b[0m\u001b[0m_raise_on_unsuccessful_request\u001b[0m\u001b[0;34m(\u001b[0m\u001b[0mnetwork_response\u001b[0m\u001b[0;34m,\u001b[0m \u001b[0mexpect_json_response\u001b[0m\u001b[0;34m,\u001b[0m \u001b[0mmethod\u001b[0m\u001b[0;34m,\u001b[0m \u001b[0murl\u001b[0m\u001b[0;34m)\u001b[0m\u001b[0;34m\u001b[0m\u001b[0m\n\u001b[0m\u001b[1;32m    434\u001b[0m \u001b[0;34m\u001b[0m\u001b[0m\n\u001b[1;32m    435\u001b[0m         \u001b[0;32mreturn\u001b[0m \u001b[0mnetwork_response\u001b[0m\u001b[0;34m\u001b[0m\u001b[0m\n",
      "\u001b[0;32m~/.conda/envs/py3.5/lib/python3.5/site-packages/boxsdk/session/box_session.py\u001b[0m in \u001b[0;36m_raise_on_unsuccessful_request\u001b[0;34m(self, network_response, expect_json_response, method, url)\u001b[0m\n\u001b[1;32m    285\u001b[0m                 \u001b[0mmethod\u001b[0m\u001b[0;34m=\u001b[0m\u001b[0mmethod\u001b[0m\u001b[0;34m,\u001b[0m\u001b[0;34m\u001b[0m\u001b[0m\n\u001b[1;32m    286\u001b[0m                 \u001b[0mcontext_info\u001b[0m\u001b[0;34m=\u001b[0m\u001b[0mresponse_json\u001b[0m\u001b[0;34m.\u001b[0m\u001b[0mget\u001b[0m\u001b[0;34m(\u001b[0m\u001b[0;34m'context_info'\u001b[0m\u001b[0;34m,\u001b[0m \u001b[0;32mNone\u001b[0m\u001b[0;34m)\u001b[0m\u001b[0;34m,\u001b[0m\u001b[0;34m\u001b[0m\u001b[0m\n\u001b[0;32m--> 287\u001b[0;31m                 \u001b[0mnetwork_response\u001b[0m\u001b[0;34m=\u001b[0m\u001b[0mnetwork_response\u001b[0m\u001b[0;34m\u001b[0m\u001b[0m\n\u001b[0m\u001b[1;32m    288\u001b[0m             )\n\u001b[1;32m    289\u001b[0m         \u001b[0;32mif\u001b[0m \u001b[0mexpect_json_response\u001b[0m \u001b[0;32mand\u001b[0m \u001b[0;32mnot\u001b[0m \u001b[0mself\u001b[0m\u001b[0;34m.\u001b[0m\u001b[0m_is_json_response\u001b[0m\u001b[0;34m(\u001b[0m\u001b[0mnetwork_response\u001b[0m\u001b[0;34m)\u001b[0m\u001b[0;34m:\u001b[0m\u001b[0;34m\u001b[0m\u001b[0m\n",
      "\u001b[0;31mBoxAPIException\u001b[0m: \nMessage: Item with the same name already exists\nStatus: 409\nCode: item_name_in_use\nRequest id: j345b5fuzkgvhzz0\nHeaders: {'Strict-Transport-Security': 'max-age=31536000', 'Content-Length': '472', 'Vary': 'Accept-Encoding', 'Age': '0', 'Connection': 'keep-alive', 'Date': 'Thu, 06 Sep 2018 01:33:33 GMT', 'Content-Type': 'application/json', 'Cache-Control': 'no-cache, no-store'}\nURL: https://upload.box.com/api/2.0/files/content\nMethod: POST\nContext info: {'conflicts': {'etag': '0', 'sequence_id': '0', 'name': 'projectname.psx', 'type': 'file', 'sha1': '3cceb827f69b8dc8db264ae8754e8d2ce5310df0', 'file_version': {'type': 'file_version', 'sha1': '3cceb827f69b8dc8db264ae8754e8d2ce5310df0', 'id': '334219581393'}, 'id': '317022687393'}}"
     ]
    }
   ],
   "source": [
    "from boxsdk.exception import BoxAPIException\n",
    "\n",
    "newFolderId = find_folder_id(boxProjectFolder)\n",
    "print('folder id: ', newFolderId)\n",
    "\n",
    "if newFolderId == 0:\n",
    "    newFolder = client.folder(folder_id='0').create_subfolder(boxProjectFolder)\n",
    "    newFolderId = newFolder['id']\n",
    "    print (\"folder created\" )\n",
    "else: \n",
    "    print (\"folder exists\" )\n",
    "    \n",
    "print (\"folder id: \", newFolderId )\n",
    "# print(\"new folder: \", newFolder)\n",
    "update_project_file_in_box()\n"
   ]
  },
  {
   "cell_type": "markdown",
   "metadata": {},
   "source": [
    "## OFFLINE: Image masking\n",
    "If you need to mask any images before building the dense cloud, please launch your desktop version of Photoscan, make those changes, and save the modified .psx file back to your folder on Box before proceeding with the next step."
   ]
  },
  {
   "cell_type": "markdown",
   "metadata": {},
   "source": [
    "# Align photos and Build Dense Cloud\n",
    "\n",
    "The code below will retrieve the project file from Box. This will ensure that you're working with the latest version, even if you've made changes offline (such as image masking)."
   ]
  },
  {
   "cell_type": "code",
   "execution_count": 43,
   "metadata": {
    "scrolled": true
   },
   "outputs": [
    {
     "name": "stdout",
     "output_type": "stream",
     "text": [
      "find_folder_id folder_name:  myBoxFolderName\n",
      "find_folder_id folderlist:  [<Box Folder - 53223729428 (myBoxFolderName)>, <Box Folder - 52394687398 (myBoxFolderName_Test1)>]\n",
      "downloading:  projectname.files.zip\n",
      "data zip file download complete.\n",
      "downloading:  projectname.psx\n",
      "new file:  <_io.BufferedWriter name='/global/scratch/myashar/projectname/projectname.psx'>\n",
      "project file download complete.\n"
     ]
    }
   ],
   "source": [
    "retrieve_project_file()"
   ]
  },
  {
   "cell_type": "markdown",
   "metadata": {},
   "source": [
    "## Set up job script\n",
    "\n",
    "Run the code box below, then choose your estimated run time for the job. The default run time is 3 hours, which should cover most projects with under 75 photos. If you have more photos, please increase the run time.\n",
    "\n",
    "**Maurice: make this a different widget with default run time of 3 hours**"
   ]
  },
  {
   "cell_type": "code",
   "execution_count": 151,
   "metadata": {},
   "outputs": [
    {
     "data": {
      "application/vnd.jupyter.widget-view+json": {
       "model_id": "7ae5eabfcf454c5d97b3f7d812d21985",
       "version_major": 2,
       "version_minor": 0
      },
      "text/plain": [
       "interactive(children=(IntSlider(value=1, description='Estimated Hours:', max=23), Output()), _dom_classes=('wi…"
      ]
     },
     "metadata": {},
     "output_type": "display_data"
    },
    {
     "data": {
      "application/vnd.jupyter.widget-view+json": {
       "model_id": "c5ab8778d0de4a0ab70c37de9b9c4f38",
       "version_major": 2,
       "version_minor": 0
      },
      "text/plain": [
       "interactive(children=(IntSlider(value=0, description='Estimated Minutes:', max=59), Output()), _dom_classes=('…"
      ]
     },
     "metadata": {},
     "output_type": "display_data"
    },
    {
     "data": {
      "text/plain": [
       "<function __main__.mins(xmins)>"
      ]
     },
     "execution_count": 151,
     "metadata": {},
     "output_type": "execute_result"
    }
   ],
   "source": [
    "# Enter the estimated hours and minutes to create the project and add photos\n",
    "interact(hrs, xhrs=hrslider)\n",
    "interact(mins, xmins=minslider)"
   ]
  },
  {
   "cell_type": "markdown",
   "metadata": {},
   "source": [
    "## Set up parameters\n",
    "Choose the quality settings for the dense cloud build after running the cells below."
   ]
  },
  {
   "cell_type": "code",
   "execution_count": 143,
   "metadata": {},
   "outputs": [],
   "source": [
    "def chc(txt):\n",
    "    return txt\n",
    "\n",
    "pselchoice=widgets.Dropdown(description='Preselection', value='GenericPreselection', options=['GenericPreselection', 'ReferencePreselection'])\n",
    "qualchoice=widgets.Dropdown(description='Quality', value='MediumQuality', options=['UltraQuality', 'HighQuality', 'MediumQuality',  'LowQuality', 'LowestQuality'] )\n",
    "fltrchoice=widgets.Dropdown(description='Filter', value='ModerateFiltering', options=['NoFiltering', 'MildFiltering', 'ModerateFiltering',  'AggressiveFiltering']  )\n",
    "accchoice=widgets.Dropdown(description='Accuracy', value='MediumAccuracy', options= ['HighestAccuracy', 'HighAccuracy', 'MediumAccuracy',  'LowAccuracy', 'LowestAccuracy']  )\n",
    "afchoice=widgets.Dropdown(description='Adaptive Fitting', options=['True', 'False'])"
   ]
  },
  {
   "cell_type": "code",
   "execution_count": 144,
   "metadata": {},
   "outputs": [
    {
     "data": {
      "application/vnd.jupyter.widget-view+json": {
       "model_id": "6c7984edd81d4e2a9a69ebc0896d5859",
       "version_major": 2,
       "version_minor": 0
      },
      "text/plain": [
       "interactive(children=(Dropdown(description='Preselection', options=('GenericPreselection', 'ReferencePreselect…"
      ]
     },
     "metadata": {},
     "output_type": "display_data"
    },
    {
     "data": {
      "application/vnd.jupyter.widget-view+json": {
       "model_id": "f88f8e1b6cce47f09fbca02106a8cc02",
       "version_major": 2,
       "version_minor": 0
      },
      "text/plain": [
       "interactive(children=(Dropdown(description='Quality', index=2, options=('UltraQuality', 'HighQuality', 'Medium…"
      ]
     },
     "metadata": {},
     "output_type": "display_data"
    },
    {
     "data": {
      "application/vnd.jupyter.widget-view+json": {
       "model_id": "20ccaebd22f14f67a12a98fa2045dd44",
       "version_major": 2,
       "version_minor": 0
      },
      "text/plain": [
       "interactive(children=(Dropdown(description='Filter', index=2, options=('NoFiltering', 'MildFiltering', 'Modera…"
      ]
     },
     "metadata": {},
     "output_type": "display_data"
    },
    {
     "data": {
      "application/vnd.jupyter.widget-view+json": {
       "model_id": "f0edf3e775ce4e688a7f62d5a581b075",
       "version_major": 2,
       "version_minor": 0
      },
      "text/plain": [
       "interactive(children=(Dropdown(description='Accuracy', index=2, options=('HighestAccuracy', 'HighAccuracy', 'M…"
      ]
     },
     "metadata": {},
     "output_type": "display_data"
    },
    {
     "data": {
      "application/vnd.jupyter.widget-view+json": {
       "model_id": "60eb9729516542ffaca96d03abee2b06",
       "version_major": 2,
       "version_minor": 0
      },
      "text/plain": [
       "interactive(children=(Dropdown(description='Adaptive Fitting', options=('True', 'False'), value='True'), Outpu…"
      ]
     },
     "metadata": {},
     "output_type": "display_data"
    },
    {
     "data": {
      "text/plain": [
       "<function __main__.chc(txt)>"
      ]
     },
     "execution_count": 144,
     "metadata": {},
     "output_type": "execute_result"
    }
   ],
   "source": [
    "interact(chc, txt=pselchoice)\n",
    "interact(chc, txt=qualchoice)\n",
    "interact(chc, txt=fltrchoice)\n",
    "interact(chc, txt=accchoice)\n",
    "interact(chc, txt=afchoice)"
   ]
  },
  {
   "cell_type": "markdown",
   "metadata": {},
   "source": [
    "## Create job script\n",
    "The next cell will create and display the job script that will be run on the cluster."
   ]
  },
  {
   "cell_type": "code",
   "execution_count": 47,
   "metadata": {
    "scrolled": false
   },
   "outputs": [
    {
     "name": "stdout",
     "output_type": "stream",
     "text": [
      "output:  #!/usr/bin/env python3 \n",
      "import PhotoScan \n",
      "import time \n",
      "print( \"start time: \", time.time()) \n",
      "doc = PhotoScan.app.document \n",
      "doc.open(\"/scratch//projectname.psx\") \n",
      "chunk = doc.chunk \n",
      "chunk.matchPhotos(accuracy=PhotoScan.MediumAccuracy, preselection=PhotoScan.GenericPreselection) \n",
      "chunk.alignCameras(adaptive_fitting=True) \n",
      "## In Photoscan version 1.4.* the dense cloud generation task has been split into two parts - \n",
      "## depth maps generation and dense cloud generation:   \n",
      "chunk.buildDepthMaps(quality=PhotoScan.MediumQuality, filter=PhotoScan.ModerateFiltering ) \n",
      "chunk.buildDenseCloud(point_colors = True) \n",
      "doc.save(\"/scratch//projectname.psx\") \n",
      "print( \"stop time: \", time.time()) \n",
      "\n",
      "estimateTime:  1:00:00\n"
     ]
    }
   ],
   "source": [
    "# Creates job script for building dense cloud\n",
    "\n",
    "import os, stat\n",
    "\n",
    "template = '#!/usr/bin/env python3 \\n\\\n",
    "import PhotoScan \\n\\\n",
    "import time \\n\\\n",
    "print( \"start time: \", time.time()) \\n\\\n",
    "doc = PhotoScan.app.document \\n\\\n",
    "doc.open(\\\"{}\\\") \\n\\\n",
    "chunk = doc.chunk \\n\\\n",
    "chunk.matchPhotos(accuracy=PhotoScan.{}, preselection=PhotoScan.{}) \\n\\\n",
    "chunk.alignCameras(adaptive_fitting={}) \\n\\\n",
    "## In Photoscan version 1.4.* the dense cloud generation task has been split into two parts - \\n\\\n",
    "## depth maps generation and dense cloud generation:   \\n\\\n",
    "chunk.buildDepthMaps(quality=PhotoScan.{}, filter=PhotoScan.{} ) \\n\\\n",
    "chunk.buildDenseCloud(point_colors = True) \\n\\\n",
    "doc.save(\\\"{}\\\") \\n\\\n",
    "print( \"stop time: \", time.time()) \\n'\n",
    "         \n",
    "output = template.format(singularitymountfolder + projectFile, accchoice.value, pselchoice.value, afchoice.value, qualchoice.value, fltrchoice.value, singularitymountfolder + projectFile)\n",
    "\n",
    "print('output: ', output)\n",
    "\n",
    "with open(commandScript, 'w') as f:  \n",
    "    f.write(output)\n",
    "\n",
    "    \n",
    "#Set time limit for this batch run\n",
    "minstring = str(minslider.value)\n",
    "if minslider.value < 10:\n",
    "    minstring = '0' + str(minslider.value)\n",
    "estimateTime = str(hrslider.value) + ':' + minstring + ':00'\n",
    "print('estimateTime: ', estimateTime)\n",
    "outputbatchscript = batchtemplate.format(estimateTime)\n",
    "#outputbatchscript = batchtemplate.format('01:30:00')\n",
    "with open(slurmScript, 'w') as f:  \n",
    "    f.write(outputbatchscript)\n",
    "    "
   ]
  },
  {
   "cell_type": "markdown",
   "metadata": {},
   "source": [
    "## Run dense cloud build\n",
    "Running the following code box will submit your job to the cluster. Your job ID will be printed below."
   ]
  },
  {
   "cell_type": "code",
   "execution_count": 48,
   "metadata": {
    "scrolled": false
   },
   "outputs": [
    {
     "name": "stdout",
     "output_type": "stream",
     "text": [
      "/global/scratch/myashar/projectname/\n",
      "Execute the dense cloud build output:  ['Submitted batch job 3326311']\n",
      "3326311\n"
     ]
    }
   ],
   "source": [
    "os.system('export XAUTHORITY=/global/home/users/myashar/.Xauthority')\n",
    "os.system('export DISPLAY=:0')\n",
    "os.environ['QT_QPA_PLATFORM']='offscreen'\n",
    "os.system(\"module load qt\")\n",
    "os.chdir(runFolder)\n",
    "print(runFolder)\n",
    "out = !sbatch slurmscript.sh   \n",
    "    \n",
    "print ('Execute the dense cloud build output: ', out ) \n",
    "jobId =  out[0].split()[3]\n",
    "print (jobId)"
   ]
  },
  {
   "cell_type": "markdown",
   "metadata": {},
   "source": [
    "## Check on job status\n",
    "Building the dense cloud is the longest-running phase of the photogrammetry process. Depending on how many photos you have, and the quality settings you've chosen, the job could run for anywhere from minutes to hours. Run the following code box to check on the status of the dense cloud build. You can run it multiple times for new updates."
   ]
  },
  {
   "cell_type": "code",
   "execution_count": 51,
   "metadata": {
    "code_folding": []
   },
   "outputs": [
    {
     "name": "stdout",
     "output_type": "stream",
     "text": [
      "             JOBID PARTITION     NAME     USER ST       TIME  NODES NODELIST(REASON)\n",
      "             JOBID PARTITION     NAME     USER ST       TIME  NODES NODELIST(REASON)\n",
      "--------------------------------\n",
      "JobId=3326311 JobName=projectname\n",
      "   UserId=myashar(43974) GroupId=ucb(501) MCS_label=N/A\n",
      "   Priority=420949 Nice=0 Account=ac_scsguest QOS=savio_normal\n",
      "   JobState=COMPLETED Reason=None Dependency=(null)\n",
      "   Requeue=0 Restarts=0 BatchFlag=1 Reboot=0 ExitCode=0:0\n",
      "   RunTime=00:01:56 TimeLimit=01:00:00 TimeMin=N/A\n",
      "   SubmitTime=2018-09-05T18:39:14 EligibleTime=2018-09-05T18:39:14\n",
      "   StartTime=2018-09-05T18:39:17 EndTime=2018-09-05T18:41:13 Deadline=N/A\n",
      "   PreemptTime=None SuspendTime=None SecsPreSuspend=0\n",
      "   LastSchedEval=2018-09-05T18:39:17\n",
      "   Partition=savio AllocNode:Sid=jupyter:271001\n",
      "   ReqNodeList=(null) ExcNodeList=(null)\n",
      "   NodeList=n0129.savio1\n",
      "   BatchHost=n0129.savio1\n",
      "   NumNodes=1 NumCPUs=20 NumTasks=0 CPUs/Task=1 ReqB:S:C:T=0:0:*:*\n",
      "   TRES=cpu=20,mem=62.50G,node=1,billing=20\n",
      "   Socks/Node=* NtasksPerN:B:S:C=0:0:*:* CoreSpec=*\n",
      "   MinCPUsNode=1 MinMemoryNode=62.50G MinTmpDiskNode=0\n",
      "   Features=(null) DelayBoot=00:00:00\n",
      "   Gres=(null) Reservation=(null)\n",
      "   OverSubscribe=NO Contiguous=0 Licenses=(null) Network=(null)\n",
      "   Command=/global/scratch/myashar/projectname/slurmscript.sh\n",
      "   WorkDir=/global/scratch/myashar/projectname\n",
      "   StdErr=/global/scratch/myashar/projectname/slurm-3326311.out\n",
      "   StdIn=/dev/null\n",
      "   StdOut=/global/scratch/myashar/projectname/slurm-3326311.out\n",
      "   Power=\n",
      "\n"
     ]
    }
   ],
   "source": [
    "# print the users queue and the job status by id\n",
    "!squeue -u $username\n",
    "!squeue -u $USER\n",
    "print('--------------------------------')\n",
    "!scontrol show job $jobId"
   ]
  },
  {
   "cell_type": "markdown",
   "metadata": {},
   "source": [
    "## Display log message\n",
    "As an optional step, you can run the code below to see the log file once the job is done. It includes technical information about the points that were found in each photo, rectifying disparities between photos, etc."
   ]
  },
  {
   "cell_type": "code",
   "execution_count": 52,
   "metadata": {
    "code_folding": [
     0
    ]
   },
   "outputs": [
    {
     "name": "stdout",
     "output_type": "stream",
     "text": [
      "Enabling debugging\n",
      "Ending argument loop\n",
      "Singularity version: 2.4-dist\n",
      "Exec'ing: /usr/libexec/singularity/cli/exec.exec\n",
      "Evaluating args: '-B /global/scratch/myashar/projectname/:/scratch/ /global/scratch/myashar/container/photoscan_1_4_3.simg /scratch/execscript.sh -platform offscreen'\n",
      "VERBOSE [U=0,P=93075]      message_init()                            Set messagelevel to: 5\n",
      "\u001b[0mVERBOSE [U=0,P=93075]      singularity_config_parse()                Initialize configuration file: /etc/singularity/singularity.conf\n",
      "\u001b[0mDEBUG   [U=0,P=93075]      singularity_config_parse()                Starting parse of configuration file /etc/singularity/singularity.conf\n",
      "\u001b[0mVERBOSE [U=0,P=93075]      singularity_config_parse()                Got config key allow setuid = 'yes'\n",
      "\u001b[0mVERBOSE [U=0,P=93075]      singularity_config_parse()                Got config key max loop devices = '256'\n",
      "\u001b[0mVERBOSE [U=0,P=93075]      singularity_config_parse()                Got config key allow pid ns = 'yes'\n",
      "\u001b[0mVERBOSE [U=0,P=93075]      singularity_config_parse()                Got config key config passwd = 'yes'\n",
      "\u001b[0mVERBOSE [U=0,P=93075]      singularity_config_parse()                Got config key config group = 'yes'\n",
      "\u001b[0mVERBOSE [U=0,P=93075]      singularity_config_parse()                Got config key config resolv_conf = 'yes'\n",
      "\u001b[0mVERBOSE [U=0,P=93075]      singularity_config_parse()                Got config key mount proc = 'yes'\n",
      "\u001b[0mVERBOSE [U=0,P=93075]      singularity_config_parse()                Got config key mount sys = 'yes'\n",
      "\u001b[0mVERBOSE [U=0,P=93075]      singularity_config_parse()                Got config key mount dev = 'yes'\n",
      "\u001b[0mVERBOSE [U=0,P=93075]      singularity_config_parse()                Got config key mount devpts = 'yes'\n",
      "\u001b[0mVERBOSE [U=0,P=93075]      singularity_config_parse()                Got config key mount home = 'no'\n",
      "\u001b[0mVERBOSE [U=0,P=93075]      singularity_config_parse()                Got config key mount tmp = 'yes'\n",
      "\u001b[0mVERBOSE [U=0,P=93075]      singularity_config_parse()                Got config key mount hostfs = 'no'\n",
      "\u001b[0mVERBOSE [U=0,P=93075]      singularity_config_parse()                Got config key bind path = '/etc/localtime'\n",
      "\u001b[0mVERBOSE [U=0,P=93075]      singularity_config_parse()                Got config key bind path = '/etc/hosts'\n",
      "\u001b[0mVERBOSE [U=0,P=93075]      singularity_config_parse()                Got config key bind path = '/global/scratch'\n",
      "\u001b[0mVERBOSE [U=0,P=93075]      singularity_config_parse()                Got config key bind path = '/global/home/users'\n",
      "\u001b[0mVERBOSE [U=0,P=93075]      singularity_config_parse()                Got config key user bind control = 'yes'\n",
      "\u001b[0mVERBOSE [U=0,P=93075]      singularity_config_parse()                Got config key enable overlay = 'no'\n",
      "\u001b[0mVERBOSE [U=0,P=93075]      singularity_config_parse()                Got config key mount slave = 'yes'\n",
      "\u001b[0mVERBOSE [U=0,P=93075]      singularity_config_parse()                Got config key sessiondir max size = '16'\n",
      "\u001b[0mVERBOSE [U=0,P=93075]      singularity_config_parse()                Got config key allow container squashfs = 'yes'\n",
      "\u001b[0mVERBOSE [U=0,P=93075]      singularity_config_parse()                Got config key allow container extfs = 'yes'\n",
      "\u001b[0mVERBOSE [U=0,P=93075]      singularity_config_parse()                Got config key allow container dir = 'yes'\n",
      "\u001b[0mDEBUG   [U=0,P=93075]      singularity_config_parse()                Finished parsing configuration file '/etc/singularity/singularity.conf'\n",
      "\u001b[0mVERBOSE [U=0,P=93075]      singularity_registry_init()               Initializing Singularity Registry\n",
      "\u001b[0mVERBOSE [U=0,P=93075]      singularity_registry_set()                Adding value to registry: 'LIBEXECDIR' = '/usr/libexec'\n",
      "\u001b[0mDEBUG   [U=0,P=93075]      singularity_registry_set()                Returning singularity_registry_set(libexecdir, /usr/libexec) = 0\n",
      "\u001b[0mVERBOSE [U=0,P=93075]      singularity_registry_set()                Adding value to registry: 'COMMAND' = 'exec'\n",
      "\u001b[0mDEBUG   [U=0,P=93075]      singularity_registry_set()                Returning singularity_registry_set(COMMAND, exec) = 0\n",
      "\u001b[0mVERBOSE [U=0,P=93075]      singularity_registry_set()                Adding value to registry: 'MESSAGELEVEL' = '5'\n",
      "\u001b[0mDEBUG   [U=0,P=93075]      singularity_registry_set()                Returning singularity_registry_set(MESSAGELEVEL, 5) = 0\n",
      "\u001b[0mVERBOSE [U=0,P=93075]      singularity_registry_set()                Adding value to registry: 'VERSION' = '2.4-dist'\n",
      "\u001b[0mDEBUG   [U=0,P=93075]      singularity_registry_set()                Returning singularity_registry_set(version, 2.4-dist) = 0\n",
      "\u001b[0mVERBOSE [U=0,P=93075]      singularity_registry_set()                Adding value to registry: 'LOCALSTATEDIR' = '/var'\n",
      "\u001b[0mDEBUG   [U=0,P=93075]      singularity_registry_set()                Returning singularity_registry_set(localstatedir, /var) = 0\n",
      "\u001b[0mVERBOSE [U=0,P=93075]      singularity_registry_set()                Adding value to registry: 'SYSCONFDIR' = '/etc'\n",
      "\u001b[0mDEBUG   [U=0,P=93075]      singularity_registry_set()                Returning singularity_registry_set(sysconfdir, /etc) = 0\n",
      "\u001b[0mVERBOSE [U=0,P=93075]      singularity_registry_set()                Adding value to registry: 'BINDPATH' = ',/global/scratch/myashar/projectname/:/scratch/'\n",
      "\u001b[0mDEBUG   [U=0,P=93075]      singularity_registry_set()                Returning singularity_registry_set(BINDPATH, ,/global/scratch/myashar/projectname/:/scratch/) = 0\n",
      "\u001b[0mVERBOSE [U=0,P=93075]      singularity_registry_set()                Adding value to registry: 'BINDIR' = '/usr/bin'\n",
      "\u001b[0mDEBUG   [U=0,P=93075]      singularity_registry_set()                Returning singularity_registry_set(bindir, /usr/bin) = 0\n",
      "\u001b[0mVERBOSE [U=0,P=93075]      singularity_registry_set()                Adding value to registry: 'IMAGE' = '/global/scratch/myashar/container/photoscan_1_4_3.simg'\n",
      "\u001b[0mDEBUG   [U=0,P=93075]      singularity_registry_set()                Returning singularity_registry_set(IMAGE, /global/scratch/myashar/container/photoscan_1_4_3.simg) = 0\n",
      "\u001b[0mDEBUG   [U=0,P=93075]      singularity_registry_get()                Returning NULL on 'HOME'\n",
      "\u001b[0mDEBUG   [U=0,P=93075]      singularity_registry_get()                Returning NULL on 'TARGET_UID'\n",
      "\u001b[0mDEBUG   [U=0,P=93075]      singularity_registry_get()                Returning NULL on 'TARGET_GID'\n",
      "\u001b[0mDEBUG   [U=0,P=93075]      singularity_priv_init()                   Initializing user info\n",
      "\u001b[0mDEBUG   [U=0,P=93075]      singularity_priv_init()                   Set the calling user's username to: myashar\n",
      "\u001b[0mDEBUG   [U=0,P=93075]      singularity_priv_init()                   Marking uinfo structure as ready\n",
      "\u001b[0mDEBUG   [U=0,P=93075]      singularity_priv_init()                   Obtaining home directory\n",
      "\u001b[0mVERBOSE [U=0,P=93075]      singularity_priv_init()                   Set home (via getpwuid()) to: /global/home/users/myashar\n",
      "\u001b[0mVERBOSE [U=0,P=93075]      singularity_suid_init()                   Running SUID program workflow\n",
      "\u001b[0mVERBOSE [U=0,P=93075]      singularity_suid_init()                   Checking program has appropriate permissions\n",
      "\u001b[0mVERBOSE [U=0,P=93075]      singularity_suid_init()                   Checking configuration file is properly owned by root\n",
      "\u001b[0mVERBOSE [U=0,P=93075]      singularity_suid_init()                   Checking if singularity.conf allows us to run as suid\n",
      "\u001b[0mDEBUG   [U=0,P=93075]      singularity_config_get_bool_char_impl()   Called singularity_config_get_bool(allow setuid, yes)\n",
      "\u001b[0mDEBUG   [U=0,P=93075]      singularity_config_get_value_impl()       Returning configuration value allow setuid='yes'\n",
      "\u001b[0mDEBUG   [U=0,P=93075]      singularity_config_get_bool_char_impl()   Return singularity_config_get_bool(allow setuid, yes) = 1\n",
      "\u001b[0mDEBUG   [U=0,P=93075]      singularity_registry_get()                Returning NULL on 'NOSUID'\n",
      "\u001b[0mVERBOSE [U=0,P=93075]      singularity_priv_userns()                 Invoking the user namespace\n",
      "\u001b[0mDEBUG   [U=0,P=93075]      singularity_config_get_bool_char_impl()   Called singularity_config_get_bool(allow user ns, yes)\n",
      "\u001b[0mDEBUG   [U=0,P=93075]      singularity_config_get_value_impl()       No configuration entry found for 'allow user ns'; returning default value 'yes'\n",
      "\u001b[0mDEBUG   [U=0,P=93075]      singularity_config_get_bool_char_impl()   Return singularity_config_get_bool(allow user ns, yes) = 1\n",
      "\u001b[0mVERBOSE [U=0,P=93075]      singularity_priv_userns()                 Not virtualizing USER namespace: running as SUID\n",
      "\u001b[0mDEBUG   [U=0,P=93075]      singularity_priv_userns()                 Returning singularity_priv_init(void)\n",
      "\u001b[0mDEBUG   [U=0,P=93075]      singularity_priv_drop()                   Dropping privileges to UID=43974, GID=501 (3 supplementary GIDs)\n",
      "\u001b[0mDEBUG   [U=0,P=93075]      singularity_priv_drop()                   Restoring supplementary groups\n",
      "\u001b[0mDEBUG   [U=43974,P=93075]  singularity_priv_drop()                   Confirming we have correct UID/GID\n",
      "\u001b[0mDEBUG   [U=43974,P=93075]  singularity_registry_get()                Returning NULL on 'DAEMON_START'\n",
      "\u001b[0mDEBUG   [U=43974,P=93075]  singularity_registry_get()                Returning NULL on 'DAEMON_JOIN'\n",
      "\u001b[0mDEBUG   [U=43974,P=93075]  singularity_daemon_init()                 Not joining a daemon, daemon join not set\n",
      "\u001b[0mDEBUG   [U=43974,P=93075]  singularity_registry_get()                Returning NULL on 'WRITABLE'\n",
      "\u001b[0mVERBOSE [U=43974,P=93075]  main()                                    Instantiating read only container image object\n",
      "\u001b[0mDEBUG   [U=43974,P=93075]  singularity_registry_get()                Returning value from registry: 'IMAGE' = '/global/scratch/myashar/container/photoscan_1_4_3.simg'\n",
      "\u001b[0mDEBUG   [U=43974,P=93075]  singularity_image_init()                  Calling image_init for each file system module\n",
      "\u001b[0mDEBUG   [U=43974,P=93075]  singularity_image_dir_init()              Opening file descriptor to directory: /global/scratch/myashar/container/photoscan_1_4_3.simg\n",
      "\u001b[0mDEBUG   [U=43974,P=93075]  singularity_image_dir_init()              This is not a directory based image\n",
      "\u001b[0mDEBUG   [U=43974,P=93075]  singularity_image_squashfs_init()         Checking if writable image requested\n",
      "\u001b[0mDEBUG   [U=43974,P=93075]  singularity_image_squashfs_init()         Opening file descriptor to image: /global/scratch/myashar/container/photoscan_1_4_3.simg\n",
      "\u001b[0mVERBOSE [U=43974,P=93075]  singularity_image_squashfs_init()         Checking that file pointer is a Singularity image\n",
      "\u001b[0mDEBUG   [U=43974,P=93075]  singularity_image_squashfs_init()         Checking for magic in the top of the file\n",
      "\u001b[0mVERBOSE [U=43974,P=93075]  singularity_image_squashfs_init()         File is a valid SquashFS image\n",
      "\u001b[0mDEBUG   [U=43974,P=93075]  singularity_image_init()                  got image_init type for squashfs\n",
      "\u001b[0mDEBUG   [U=43974,P=93075]  singularity_config_get_bool_char_impl()   Called singularity_config_get_bool(allow container squashfs, yes)\n",
      "\u001b[0mDEBUG   [U=43974,P=93075]  singularity_config_get_value_impl()       Returning configuration value allow container squashfs='yes'\n",
      "\u001b[0mDEBUG   [U=43974,P=93075]  singularity_config_get_bool_char_impl()   Return singularity_config_get_bool(allow container squashfs, yes) = 1\n",
      "\u001b[0mDEBUG   [U=43974,P=93075]  singularity_config_get_value_impl()       No configuration entry found for 'limit container paths'; returning default value 'NULL'\n",
      "\u001b[0mDEBUG   [U=43974,P=93075]  singularity_config_get_value_impl()       No configuration entry found for 'limit container owners'; returning default value 'NULL'\n",
      "\u001b[0mDEBUG   [U=43974,P=93075]  singularity_registry_get()                Returning NULL on 'DAEMON_JOIN'\n",
      "\u001b[0mDEBUG   [U=43974,P=93075]  singularity_registry_get()                Returning NULL on 'CLEANUPDIR'\n",
      "\u001b[0mVERBOSE [U=43974,P=93075]  singularity_registry_set()                Adding value to registry: 'CLEANUPD_FD' = '-1'\n",
      "\u001b[0mDEBUG   [U=43974,P=93075]  singularity_registry_set()                Returning singularity_registry_set(CLEANUPD_FD, -1) = 0\n",
      "\u001b[0mDEBUG   [U=43974,P=93075]  singularity_registry_get()                Returning NULL on 'DAEMON_JOIN'\n",
      "\u001b[0mDEBUG   [U=43974,P=93075]  singularity_registry_get()                Returning NULL on 'NOSESSIONCLEANUP'\n",
      "\u001b[0mDEBUG   [U=43974,P=93075]  singularity_registry_get()                Returning NULL on 'NOCLEANUP'\n",
      "\u001b[0mDEBUG   [U=43974,P=93075]  singularity_cleanupd()                    Not running a cleanup thread, no 'SINGULARITY_CLEANUPDIR' defined\n",
      "\u001b[0mDEBUG   [U=43974,P=93075]  singularity_registry_get()                Returning NULL on 'DAEMON_JOIN'\n",
      "\u001b[0mDEBUG   [U=43974,P=93075]  singularity_runtime_ns()                  Calling: _singularity_runtime_ns_ipc()\n",
      "\u001b[0mDEBUG   [U=43974,P=93075]  singularity_config_get_bool_char_impl()   Called singularity_config_get_bool(allow ipc ns, yes)\n",
      "\u001b[0mDEBUG   [U=43974,P=93075]  singularity_config_get_value_impl()       No configuration entry found for 'allow ipc ns'; returning default value 'yes'\n",
      "\u001b[0mDEBUG   [U=43974,P=93075]  singularity_config_get_bool_char_impl()   Return singularity_config_get_bool(allow ipc ns, yes) = 1\n",
      "\u001b[0mDEBUG   [U=43974,P=93075]  singularity_registry_get()                Returning NULL on 'UNSHARE_IPC'\n",
      "\u001b[0mVERBOSE [U=43974,P=93075]  singularity_runtime_ns_ipc()              Not virtualizing IPC namespace on user request\n",
      "\u001b[0mDEBUG   [U=43974,P=93075]  singularity_runtime_ns()                  Calling: _singularity_runtime_ns_pid()\n",
      "\u001b[0mDEBUG   [U=43974,P=93075]  singularity_config_get_bool_char_impl()   Called singularity_config_get_bool(allow pid ns, yes)\n",
      "\u001b[0mDEBUG   [U=43974,P=93075]  singularity_config_get_value_impl()       Returning configuration value allow pid ns='yes'\n",
      "\u001b[0mDEBUG   [U=43974,P=93075]  singularity_config_get_bool_char_impl()   Return singularity_config_get_bool(allow pid ns, yes) = 1\n",
      "\u001b[0mDEBUG   [U=43974,P=93075]  singularity_registry_get()                Returning NULL on 'UNSHARE_PID'\n",
      "\u001b[0mVERBOSE [U=43974,P=93075]  singularity_runtime_ns_pid()              Not virtualizing PID namespace on user request\n",
      "\u001b[0mDEBUG   [U=43974,P=93075]  singularity_runtime_ns()                  Calling: _singularity_runtime_ns_net()\n",
      "\u001b[0mDEBUG   [U=43974,P=93075]  singularity_registry_get()                Returning NULL on 'UNSHARE_NET'\n",
      "\u001b[0mVERBOSE [U=43974,P=93075]  singularity_runtime_ns_net()              Not virtualizing network namespace on user request\n",
      "\u001b[0mDEBUG   [U=43974,P=93075]  singularity_runtime_ns()                  Calling: _singularity_runtime_ns_mnt()\n",
      "\u001b[0mDEBUG   [U=43974,P=93075]  singularity_config_get_bool_char_impl()   Called singularity_config_get_bool(mount slave, yes)\n",
      "\u001b[0mDEBUG   [U=43974,P=93075]  singularity_config_get_value_impl()       Returning configuration value mount slave='yes'\n",
      "\u001b[0mDEBUG   [U=43974,P=93075]  singularity_config_get_bool_char_impl()   Return singularity_config_get_bool(mount slave, yes) = 1\n",
      "\u001b[0mDEBUG   [U=43974,P=93075]  singularity_priv_escalate()               Temporarily escalating privileges (U=43974)\n",
      "\u001b[0mDEBUG   [U=0,P=93075]      singularity_priv_escalate()               Clearing supplementary GIDs.\n",
      "\u001b[0mDEBUG   [U=0,P=93075]      singularity_runtime_ns_mnt()              Virtualizing FS namespace\n",
      "\u001b[0mDEBUG   [U=0,P=93075]      singularity_runtime_ns_mnt()              Virtualizing mount namespace\n",
      "\u001b[0mDEBUG   [U=0,P=93075]      singularity_runtime_ns_mnt()              Making mounts slave\n",
      "\u001b[0mDEBUG   [U=0,P=93075]      singularity_priv_drop()                   Dropping privileges to UID=43974, GID=501 (3 supplementary GIDs)\n",
      "\u001b[0mDEBUG   [U=0,P=93075]      singularity_priv_drop()                   Restoring supplementary groups\n",
      "\u001b[0mDEBUG   [U=43974,P=93075]  singularity_priv_drop()                   Confirming we have correct UID/GID\n",
      "\u001b[0mDEBUG   [U=43974,P=93075]  singularity_registry_get()                Returning NULL on 'DAEMON_JOIN'\n",
      "\u001b[0mDEBUG   [U=43974,P=93075]  singularity_sessiondir()                  Setting sessiondir\n",
      "\u001b[0mVERBOSE [U=43974,P=93075]  singularity_sessiondir()                  Using session directory: /var/singularity/mnt/session\n",
      "\u001b[0mDEBUG   [U=43974,P=93075]  singularity_sessiondir()                  Checking for session directory: /var/singularity/mnt/session\n",
      "\u001b[0mDEBUG   [U=43974,P=93075]  singularity_sessiondir()                  Obtaining the default sessiondir size\n",
      "\u001b[0mDEBUG   [U=43974,P=93075]  singularity_config_get_value_impl()       Returning configuration value sessiondir max size='16'\n",
      "\u001b[0mDEBUG   [U=43974,P=93075]  singularity_sessiondir()                  Converted sessiondir size to: 16\n",
      "\u001b[0mDEBUG   [U=43974,P=93075]  singularity_sessiondir()                  Creating the sessiondir size mount option length\n",
      "\u001b[0mDEBUG   [U=43974,P=93075]  singularity_sessiondir()                  Got size length of: 9\n",
      "\u001b[0mDEBUG   [U=43974,P=93075]  singularity_sessiondir()                  Creating the sessiondir size mount option string\n",
      "\u001b[0mDEBUG   [U=43974,P=93075]  singularity_sessiondir()                  Checking to make sure the string was allocated correctly\n",
      "\u001b[0mDEBUG   [U=43974,P=93075]  singularity_priv_escalate()               Temporarily escalating privileges (U=43974)\n",
      "\u001b[0mDEBUG   [U=0,P=93075]      singularity_priv_escalate()               Clearing supplementary GIDs.\n",
      "\u001b[0mDEBUG   [U=0,P=93075]      singularity_sessiondir()                  Mounting sessiondir tmpfs: /var/singularity/mnt/session\n",
      "\u001b[0mDEBUG   [U=0,P=93075]      singularity_priv_drop()                   Dropping privileges to UID=43974, GID=501 (3 supplementary GIDs)\n",
      "\u001b[0mDEBUG   [U=0,P=93075]      singularity_priv_drop()                   Restoring supplementary groups\n",
      "\u001b[0mDEBUG   [U=43974,P=93075]  singularity_priv_drop()                   Confirming we have correct UID/GID\n",
      "\u001b[0mVERBOSE [U=43974,P=93075]  singularity_registry_set()                Adding value to registry: 'SESSIONDIR' = '/var/singularity/mnt/session'\n",
      "\u001b[0mDEBUG   [U=43974,P=93075]  singularity_registry_set()                Returning singularity_registry_set(SESSIONDIR, /var/singularity/mnt/session) = 0\n",
      "\u001b[0mDEBUG   [U=43974,P=93075]  singularity_registry_get()                Returning NULL on 'DAEMON_JOIN'\n",
      "\u001b[0mDEBUG   [U=43974,P=93075]  singularity_image_mount()                 Figuring out which mount module to use...\n",
      "\u001b[0mDEBUG   [U=43974,P=93075]  singularity_image_mount()                 Calling squashfs_mount\n",
      "\u001b[0mDEBUG   [U=43974,P=93075]  singularity_config_get_value_impl()       Returning configuration value max loop devices='256'\n",
      "\u001b[0mDEBUG   [U=43974,P=93075]  singularity_image_bind()                  Entered singularity_image_bind()\n",
      "\u001b[0mDEBUG   [U=43974,P=93075]  singularity_image_bind()                  Converting max_loop_devs_string to int: '256'\n",
      "\u001b[0mDEBUG   [U=43974,P=93075]  singularity_image_bind()                  Converted max_loop_devs_string to int: '256' -> 256\n",
      "\u001b[0mDEBUG   [U=43974,P=93075]  singularity_image_bind()                  Checking if this image has been properly opened\n",
      "\u001b[0mDEBUG   [U=43974,P=93075]  singularity_priv_escalate()               Temporarily escalating privileges (U=43974)\n",
      "\u001b[0mDEBUG   [U=0,P=93075]      singularity_priv_escalate()               Clearing supplementary GIDs.\n",
      "\u001b[0mDEBUG   [U=0,P=93075]      singularity_image_bind()                  Finding next available loop device...\n",
      "\u001b[0mDEBUG   [U=0,P=93075]      singularity_priv_drop()                   Dropping privileges to UID=43974, GID=501 (3 supplementary GIDs)\n",
      "\u001b[0mDEBUG   [U=0,P=93075]      singularity_priv_drop()                   Restoring supplementary groups\n",
      "\u001b[0mDEBUG   [U=43974,P=93075]  singularity_priv_drop()                   Confirming we have correct UID/GID\n",
      "\u001b[0mVERBOSE [U=43974,P=93075]  singularity_image_bind()                  Found available loop device: /dev/loop0\n",
      "\u001b[0mDEBUG   [U=43974,P=93075]  singularity_image_bind()                  Setting LO_FLAGS_AUTOCLEAR\n",
      "\u001b[0mDEBUG   [U=43974,P=93075]  singularity_image_bind()                  Using image offset: 31\n",
      "\u001b[0mDEBUG   [U=43974,P=93075]  singularity_priv_escalate()               Temporarily escalating privileges (U=43974)\n",
      "\u001b[0mDEBUG   [U=0,P=93075]      singularity_priv_escalate()               Clearing supplementary GIDs.\n",
      "\u001b[0mDEBUG   [U=0,P=93075]      singularity_image_bind()                  Setting loop device flags\n",
      "\u001b[0mDEBUG   [U=0,P=93075]      singularity_priv_drop()                   Dropping privileges to UID=43974, GID=501 (3 supplementary GIDs)\n",
      "\u001b[0mDEBUG   [U=0,P=93075]      singularity_priv_drop()                   Restoring supplementary groups\n",
      "\u001b[0mDEBUG   [U=43974,P=93075]  singularity_priv_drop()                   Confirming we have correct UID/GID\n",
      "\u001b[0mVERBOSE [U=43974,P=93075]  singularity_image_bind()                  Using loop device: /dev/loop0\n",
      "\u001b[0mDEBUG   [U=43974,P=93075]  singularity_priv_escalate()               Temporarily escalating privileges (U=43974)\n",
      "\u001b[0mDEBUG   [U=0,P=93075]      singularity_priv_escalate()               Clearing supplementary GIDs.\n",
      "\u001b[0mVERBOSE [U=0,P=93075]      singularity_image_squashfs_mount()        Mounting squashfs image: /dev/loop0 -> /var/singularity/mnt/container\n",
      "\u001b[0mDEBUG   [U=0,P=93075]      singularity_priv_drop()                   Dropping privileges to UID=43974, GID=501 (3 supplementary GIDs)\n",
      "\u001b[0mDEBUG   [U=0,P=93075]      singularity_priv_drop()                   Restoring supplementary groups\n",
      "\u001b[0mDEBUG   [U=43974,P=93075]  singularity_priv_drop()                   Confirming we have correct UID/GID\n",
      "\u001b[0mDEBUG   [U=43974,P=93075]  action_ready()                            Checking if container is valid at: /var/singularity/mnt/container\n",
      "\u001b[0mDEBUG   [U=43974,P=93075]  singularity_registry_get()                Returning NULL on 'DAEMON_JOIN'\n",
      "\u001b[0mDEBUG   [U=43974,P=93075]  singularity_priv_escalate()               Temporarily escalating privileges (U=43974)\n",
      "\u001b[0mDEBUG   [U=0,P=93075]      singularity_priv_escalate()               Clearing supplementary GIDs.\n",
      "\u001b[0mDEBUG   [U=0,P=93075]      singularity_runtime_overlayfs()           Creating overlay_final directory: /var/singularity/mnt/final\n",
      "\u001b[0mDEBUG   [U=0,P=93075]      s_mkpath()                                Directory exists, returning '0': /var/singularity/mnt/final\n",
      "\u001b[0mDEBUG   [U=0,P=93075]      singularity_priv_drop()                   Dropping privileges to UID=43974, GID=501 (3 supplementary GIDs)\n",
      "\u001b[0mDEBUG   [U=0,P=93075]      singularity_priv_drop()                   Restoring supplementary groups\n",
      "\u001b[0mDEBUG   [U=43974,P=93075]  singularity_priv_drop()                   Confirming we have correct UID/GID\n",
      "\u001b[0mDEBUG   [U=43974,P=93075]  singularity_runtime_overlayfs()           Checking if overlayfs should be used\n",
      "\u001b[0mDEBUG   [U=43974,P=93075]  singularity_config_get_value_impl()       Returning configuration value enable overlay='no'\n",
      "\u001b[0mDEBUG   [U=43974,P=93075]  singularity_config_get_bool_char_impl()   Called singularity_config_get_bool(enable overlay, yes)\n",
      "\u001b[0mDEBUG   [U=43974,P=93075]  singularity_config_get_value_impl()       Returning configuration value enable overlay='no'\n",
      "\u001b[0mDEBUG   [U=43974,P=93075]  singularity_config_get_bool_char_impl()   Return singularity_config_get_bool(enable overlay, yes) = 0\n",
      "\u001b[0mVERBOSE [U=43974,P=93075]  singularity_runtime_overlayfs()           Not enabling overlayFS via configuration\n",
      "\u001b[0mDEBUG   [U=43974,P=93075]  singularity_priv_escalate()               Temporarily escalating privileges (U=43974)\n",
      "\u001b[0mDEBUG   [U=0,P=93075]      singularity_priv_escalate()               Clearing supplementary GIDs.\n",
      "\u001b[0mDEBUG   [U=0,P=93075]      singularity_runtime_overlayfs()           Binding container directory to final home /var/singularity/mnt/container->/var/singularity/mnt/final\n",
      "\u001b[0mDEBUG   [U=0,P=93075]      singularity_priv_drop()                   Dropping privileges to UID=43974, GID=501 (3 supplementary GIDs)\n",
      "\u001b[0mDEBUG   [U=0,P=93075]      singularity_priv_drop()                   Restoring supplementary groups\n",
      "\u001b[0mDEBUG   [U=43974,P=93075]  singularity_priv_drop()                   Confirming we have correct UID/GID\n",
      "\u001b[0mDEBUG   [U=43974,P=93075]  singularity_registry_get()                Returning NULL on 'DAEMON_JOIN'\n",
      "\u001b[0mVERBOSE [U=43974,P=93075]  singularity_runtime_mounts()              Running all mount components\n",
      "\u001b[0mDEBUG   [U=43974,P=93075]  singularity_config_get_bool_char_impl()   Called singularity_config_get_bool(mount hostfs, no)\n",
      "\u001b[0mDEBUG   [U=43974,P=93075]  singularity_config_get_value_impl()       Returning configuration value mount hostfs='no'\n",
      "\u001b[0mDEBUG   [U=43974,P=93075]  singularity_config_get_bool_char_impl()   Return singularity_config_get_bool(mount hostfs, no) = 0\n",
      "\u001b[0mDEBUG   [U=43974,P=93075]  singularity_runtime_mount_hostfs()        Not mounting host file systems per configuration\n",
      "\u001b[0mDEBUG   [U=43974,P=93075]  singularity_registry_get()                Returning NULL on 'CONTAIN'\n",
      "\u001b[0mDEBUG   [U=43974,P=93075]  singularity_runtime_mount_binds()         Checking configuration file for 'bind path'\n",
      "\u001b[0mVERBOSE [U=43974,P=93075]  singularity_runtime_mount_binds()         Found 'bind path' = /etc/localtime, /etc/localtime\n",
      "\u001b[0mDEBUG   [U=43974,P=93075]  singularity_runtime_mount_binds()         Checking if bind point is already mounted: /etc/localtime\n",
      "\u001b[0mDEBUG   [U=43974,P=93075]  check_mounted()                           Opening /proc/mounts\n",
      "\u001b[0mDEBUG   [U=43974,P=93075]  check_mounted()                           Iterating through /proc/mounts\n",
      "\u001b[0mDEBUG   [U=43974,P=93075]  singularity_priv_escalate()               Temporarily escalating privileges (U=43974)\n",
      "\u001b[0mDEBUG   [U=0,P=93075]      singularity_priv_escalate()               Clearing supplementary GIDs.\n",
      "\u001b[0mVERBOSE [U=0,P=93075]      singularity_runtime_mount_binds()         Binding '/etc/localtime' to '/var/singularity/mnt/final//etc/localtime'\n",
      "\u001b[0mDEBUG   [U=0,P=93075]      singularity_priv_drop()                   Dropping privileges to UID=43974, GID=501 (3 supplementary GIDs)\n",
      "\u001b[0mDEBUG   [U=0,P=93075]      singularity_priv_drop()                   Restoring supplementary groups\n",
      "\u001b[0mDEBUG   [U=43974,P=93075]  singularity_priv_drop()                   Confirming we have correct UID/GID\n",
      "\u001b[0mVERBOSE [U=43974,P=93075]  singularity_runtime_mount_binds()         Found 'bind path' = /etc/hosts, /etc/hosts\n",
      "\u001b[0mDEBUG   [U=43974,P=93075]  singularity_runtime_mount_binds()         Checking if bind point is already mounted: /etc/hosts\n",
      "\u001b[0mDEBUG   [U=43974,P=93075]  check_mounted()                           Opening /proc/mounts\n",
      "\u001b[0mDEBUG   [U=43974,P=93075]  check_mounted()                           Iterating through /proc/mounts\n",
      "\u001b[0mDEBUG   [U=43974,P=93075]  singularity_priv_escalate()               Temporarily escalating privileges (U=43974)\n",
      "\u001b[0mDEBUG   [U=0,P=93075]      singularity_priv_escalate()               Clearing supplementary GIDs.\n",
      "\u001b[0mVERBOSE [U=0,P=93075]      singularity_runtime_mount_binds()         Binding '/etc/hosts' to '/var/singularity/mnt/final//etc/hosts'\n",
      "\u001b[0mDEBUG   [U=0,P=93075]      singularity_priv_drop()                   Dropping privileges to UID=43974, GID=501 (3 supplementary GIDs)\n",
      "\u001b[0mDEBUG   [U=0,P=93075]      singularity_priv_drop()                   Restoring supplementary groups\n",
      "\u001b[0mDEBUG   [U=43974,P=93075]  singularity_priv_drop()                   Confirming we have correct UID/GID\n",
      "\u001b[0mVERBOSE [U=43974,P=93075]  singularity_runtime_mount_binds()         Found 'bind path' = /global/scratch, /global/scratch\n",
      "\u001b[0mDEBUG   [U=43974,P=93075]  singularity_runtime_mount_binds()         Checking if bind point is already mounted: /global/scratch\n",
      "\u001b[0mDEBUG   [U=43974,P=93075]  check_mounted()                           Opening /proc/mounts\n",
      "\u001b[0mDEBUG   [U=43974,P=93075]  check_mounted()                           Iterating through /proc/mounts\n",
      "\u001b[0mDEBUG   [U=43974,P=93075]  singularity_registry_get()                Returning NULL on 'OVERLAYFS_ENABLED'\n",
      "\u001b[0m\u001b[33mWARNING [U=43974,P=93075]  singularity_runtime_mount_binds()         Non existent bind point (directory) in container: '/global/scratch'\n",
      "\u001b[0mVERBOSE [U=43974,P=93075]  singularity_runtime_mount_binds()         Found 'bind path' = /global/home/users, /global/home/users\n",
      "\u001b[0mDEBUG   [U=43974,P=93075]  singularity_runtime_mount_binds()         Checking if bind point is already mounted: /global/home/users\n",
      "\u001b[0mDEBUG   [U=43974,P=93075]  check_mounted()                           Opening /proc/mounts\n",
      "\u001b[0mDEBUG   [U=43974,P=93075]  check_mounted()                           Iterating through /proc/mounts\n",
      "\u001b[0mDEBUG   [U=43974,P=93075]  singularity_registry_get()                Returning NULL on 'OVERLAYFS_ENABLED'\n",
      "\u001b[0m\u001b[33mWARNING [U=43974,P=93075]  singularity_runtime_mount_binds()         Non existent bind point (directory) in container: '/global/home/users'\n",
      "\u001b[0mDEBUG   [U=43974,P=93075]  singularity_runtime_mount_kernelfs()      Checking configuration file for 'mount proc'\n",
      "\u001b[0mDEBUG   [U=43974,P=93075]  singularity_config_get_bool_char_impl()   Called singularity_config_get_bool(mount proc, yes)\n",
      "\u001b[0mDEBUG   [U=43974,P=93075]  singularity_config_get_value_impl()       Returning configuration value mount proc='yes'\n",
      "\u001b[0mDEBUG   [U=43974,P=93075]  singularity_config_get_bool_char_impl()   Return singularity_config_get_bool(mount proc, yes) = 1\n",
      "\u001b[0mDEBUG   [U=43974,P=93075]  singularity_registry_get()                Returning NULL on 'PIDNS_ENABLED'\n",
      "\u001b[0mDEBUG   [U=43974,P=93075]  singularity_priv_escalate()               Temporarily escalating privileges (U=43974)\n",
      "\u001b[0mDEBUG   [U=0,P=93075]      singularity_priv_escalate()               Clearing supplementary GIDs.\n",
      "\u001b[0mVERBOSE [U=0,P=93075]      singularity_runtime_mount_kernelfs()      Bind-mounting host /proc\n",
      "\u001b[0mDEBUG   [U=0,P=93075]      singularity_priv_drop()                   Dropping privileges to UID=43974, GID=501 (3 supplementary GIDs)\n",
      "\u001b[0mDEBUG   [U=0,P=93075]      singularity_priv_drop()                   Restoring supplementary groups\n",
      "\u001b[0mDEBUG   [U=43974,P=93075]  singularity_priv_drop()                   Confirming we have correct UID/GID\n",
      "\u001b[0mDEBUG   [U=43974,P=93075]  singularity_runtime_mount_kernelfs()      Checking configuration file for 'mount sys'\n",
      "\u001b[0mDEBUG   [U=43974,P=93075]  singularity_config_get_bool_char_impl()   Called singularity_config_get_bool(mount sys, yes)\n",
      "\u001b[0mDEBUG   [U=43974,P=93075]  singularity_config_get_value_impl()       Returning configuration value mount sys='yes'\n",
      "\u001b[0mDEBUG   [U=43974,P=93075]  singularity_config_get_bool_char_impl()   Return singularity_config_get_bool(mount sys, yes) = 1\n",
      "\u001b[0mDEBUG   [U=43974,P=93075]  singularity_priv_escalate()               Temporarily escalating privileges (U=43974)\n",
      "\u001b[0mDEBUG   [U=0,P=93075]      singularity_priv_escalate()               Clearing supplementary GIDs.\n",
      "\u001b[0mVERBOSE [U=0,P=93075]      singularity_runtime_mount_kernelfs()      Mounting /sys\n",
      "\u001b[0mDEBUG   [U=0,P=93075]      singularity_priv_drop()                   Dropping privileges to UID=43974, GID=501 (3 supplementary GIDs)\n",
      "\u001b[0mDEBUG   [U=0,P=93075]      singularity_priv_drop()                   Restoring supplementary groups\n",
      "\u001b[0mDEBUG   [U=43974,P=93075]  singularity_priv_drop()                   Confirming we have correct UID/GID\n",
      "\u001b[0mDEBUG   [U=43974,P=93075]  singularity_registry_get()                Returning NULL on 'CONTAIN'\n",
      "\u001b[0mDEBUG   [U=43974,P=93075]  singularity_config_get_value_impl()       Returning configuration value mount dev='yes'\n",
      "\u001b[0mDEBUG   [U=43974,P=93075]  singularity_runtime_mount_dev()           Checking configuration file for 'mount dev'\n",
      "\u001b[0mDEBUG   [U=43974,P=93075]  singularity_config_get_bool_char_impl()   Called singularity_config_get_bool(mount dev, yes)\n",
      "\u001b[0mDEBUG   [U=43974,P=93075]  singularity_config_get_value_impl()       Returning configuration value mount dev='yes'\n",
      "\u001b[0mDEBUG   [U=43974,P=93075]  singularity_config_get_bool_char_impl()   Return singularity_config_get_bool(mount dev, yes) = 1\n",
      "\u001b[0mDEBUG   [U=43974,P=93075]  singularity_priv_escalate()               Temporarily escalating privileges (U=43974)\n",
      "\u001b[0mDEBUG   [U=0,P=93075]      singularity_priv_escalate()               Clearing supplementary GIDs.\n",
      "\u001b[0mVERBOSE [U=0,P=93075]      singularity_runtime_mount_dev()           Bind mounting /dev\n",
      "\u001b[0mDEBUG   [U=0,P=93075]      singularity_priv_drop()                   Dropping privileges to UID=43974, GID=501 (3 supplementary GIDs)\n",
      "\u001b[0mDEBUG   [U=0,P=93075]      singularity_priv_drop()                   Restoring supplementary groups\n",
      "\u001b[0mDEBUG   [U=43974,P=93075]  singularity_priv_drop()                   Confirming we have correct UID/GID\n",
      "\u001b[0mDEBUG   [U=43974,P=93075]  singularity_registry_get()                Returning value from registry: 'SESSIONDIR' = '/var/singularity/mnt/session'\n",
      "\u001b[0mDEBUG   [U=43974,P=93075]  singularity_config_get_bool_char_impl()   Called singularity_config_get_bool(mount home, yes)\n",
      "\u001b[0mDEBUG   [U=43974,P=93075]  singularity_config_get_value_impl()       Returning configuration value mount home='no'\n",
      "\u001b[0mDEBUG   [U=43974,P=93075]  singularity_config_get_bool_char_impl()   Return singularity_config_get_bool(mount home, yes) = 0\n",
      "\u001b[0mVERBOSE [U=43974,P=93075]  singularity_runtime_mount_home()          Skipping home dir mounting (per config)\n",
      "\u001b[0mDEBUG   [U=43974,P=93075]  singularity_runtime_mount_userbinds()     Checking for environment variable 'SINGULARITY_BINDPATH'\n",
      "\u001b[0mDEBUG   [U=43974,P=93075]  singularity_registry_get()                Returning value from registry: 'BINDPATH' = ',/global/scratch/myashar/projectname/:/scratch/'\n",
      "\u001b[0mDEBUG   [U=43974,P=93075]  singularity_runtime_mount_userbinds()     Checking for 'user bind control' in config\n",
      "\u001b[0mDEBUG   [U=43974,P=93075]  singularity_config_get_bool_char_impl()   Called singularity_config_get_bool(user bind control, yes)\n",
      "\u001b[0mDEBUG   [U=43974,P=93075]  singularity_config_get_value_impl()       Returning configuration value user bind control='yes'\n",
      "\u001b[0mDEBUG   [U=43974,P=93075]  singularity_config_get_bool_char_impl()   Return singularity_config_get_bool(user bind control, yes) = 1\n",
      "\u001b[0mDEBUG   [U=43974,P=93075]  singularity_runtime_mount_userbinds()     Parsing SINGULARITY_BINDPATH for user-specified bind mounts.\n",
      "\u001b[0mDEBUG   [U=43974,P=93075]  singularity_runtime_mount_userbinds()     Found bind: /global/scratch/myashar/projectname/ -> container:/scratch/\n",
      "\u001b[0mDEBUG   [U=43974,P=93075]  singularity_runtime_mount_userbinds()     Checking if bind point is already mounted: /scratch/\n",
      "\u001b[0mDEBUG   [U=43974,P=93075]  check_mounted()                           Opening /proc/mounts\n",
      "\u001b[0mDEBUG   [U=43974,P=93075]  check_mounted()                           Removing trailing slash from string: /scratch/\n",
      "\u001b[0mDEBUG   [U=43974,P=93075]  singularity_priv_escalate()               Temporarily escalating privileges (U=43974)\n",
      "\u001b[0mDEBUG   [U=0,P=93075]      singularity_priv_escalate()               Clearing supplementary GIDs.\n",
      "\u001b[0mVERBOSE [U=0,P=93075]      singularity_runtime_mount_userbinds()     Binding '/global/scratch/myashar/projectname/' to '/var/singularity/mnt/final//scratch'\n",
      "\u001b[0mDEBUG   [U=0,P=93075]      singularity_priv_drop()                   Dropping privileges to UID=43974, GID=501 (3 supplementary GIDs)\n",
      "\u001b[0mDEBUG   [U=0,P=93075]      singularity_priv_drop()                   Restoring supplementary groups\n",
      "\u001b[0mDEBUG   [U=43974,P=93075]  singularity_priv_drop()                   Confirming we have correct UID/GID\n",
      "\u001b[0mDEBUG   [U=43974,P=93075]  singularity_runtime_mount_userbinds()     Unsetting environment variable 'SINGULARITY_BINDPATH'\n",
      "\u001b[0mDEBUG   [U=43974,P=93075]  singularity_config_get_bool_char_impl()   Called singularity_config_get_bool(mount tmp, yes)\n",
      "\u001b[0mDEBUG   [U=43974,P=93075]  singularity_config_get_value_impl()       Returning configuration value mount tmp='yes'\n",
      "\u001b[0mDEBUG   [U=43974,P=93075]  singularity_config_get_bool_char_impl()   Return singularity_config_get_bool(mount tmp, yes) = 1\n",
      "\u001b[0mDEBUG   [U=43974,P=93075]  singularity_registry_get()                Returning NULL on 'CONTAIN'\n",
      "\u001b[0mDEBUG   [U=43974,P=93075]  check_mounted()                           Opening /proc/mounts\n",
      "\u001b[0mDEBUG   [U=43974,P=93075]  check_mounted()                           Iterating through /proc/mounts\n",
      "\u001b[0mDEBUG   [U=43974,P=93075]  s_mkpath()                                Directory exists, returning '0': /tmp\n",
      "\u001b[0mDEBUG   [U=43974,P=93075]  singularity_priv_escalate()               Temporarily escalating privileges (U=43974)\n",
      "\u001b[0mDEBUG   [U=0,P=93075]      singularity_priv_escalate()               Clearing supplementary GIDs.\n",
      "\u001b[0mVERBOSE [U=0,P=93075]      singularity_runtime_mount_tmp()           Mounting directory: /tmp\n",
      "\u001b[0mDEBUG   [U=0,P=93075]      singularity_priv_drop()                   Dropping privileges to UID=43974, GID=501 (3 supplementary GIDs)\n",
      "\u001b[0mDEBUG   [U=0,P=93075]      singularity_priv_drop()                   Restoring supplementary groups\n",
      "\u001b[0mDEBUG   [U=43974,P=93075]  singularity_priv_drop()                   Confirming we have correct UID/GID\n",
      "\u001b[0mDEBUG   [U=43974,P=93075]  check_mounted()                           Opening /proc/mounts\n",
      "\u001b[0mDEBUG   [U=43974,P=93075]  check_mounted()                           Iterating through /proc/mounts\n",
      "\u001b[0mDEBUG   [U=43974,P=93075]  s_mkpath()                                Directory exists, returning '0': /var/tmp\n",
      "\u001b[0mDEBUG   [U=43974,P=93075]  singularity_priv_escalate()               Temporarily escalating privileges (U=43974)\n",
      "\u001b[0mDEBUG   [U=0,P=93075]      singularity_priv_escalate()               Clearing supplementary GIDs.\n",
      "\u001b[0mVERBOSE [U=0,P=93075]      singularity_runtime_mount_tmp()           Mounting directory: /var/tmp\n",
      "\u001b[0mDEBUG   [U=0,P=93075]      singularity_priv_drop()                   Dropping privileges to UID=43974, GID=501 (3 supplementary GIDs)\n",
      "\u001b[0mDEBUG   [U=0,P=93075]      singularity_priv_drop()                   Restoring supplementary groups\n",
      "\u001b[0mDEBUG   [U=43974,P=93075]  singularity_priv_drop()                   Confirming we have correct UID/GID\n",
      "\u001b[0mDEBUG   [U=43974,P=93075]  singularity_runtime_mount_scratch()       Getting SINGULARITY_SCRATCHDIR from environment\n",
      "\u001b[0mDEBUG   [U=43974,P=93075]  singularity_registry_get()                Returning NULL on 'SCRATCHDIR'\n",
      "\u001b[0mDEBUG   [U=43974,P=93075]  singularity_runtime_mount_scratch()       Not mounting scratch directory: Not requested\n",
      "\u001b[0mDEBUG   [U=43974,P=93075]  singularity_runtime_mount_cwd()           Checking to see if we should mount current working directory\n",
      "\u001b[0mDEBUG   [U=43974,P=93075]  singularity_runtime_mount_cwd()           Getting current working directory\n",
      "\u001b[0mDEBUG   [U=43974,P=93075]  singularity_runtime_mount_cwd()           Checking for contain option\n",
      "\u001b[0mDEBUG   [U=43974,P=93075]  singularity_registry_get()                Returning NULL on 'CONTAIN'\n",
      "\u001b[0mDEBUG   [U=43974,P=93075]  singularity_runtime_mount_cwd()           Checking if current directory already available within container: /global/scratch/myashar/projectname\n",
      "\u001b[0mVERBOSE [U=43974,P=93075]  singularity_runtime_mount_cwd()           Not mounting CWD, directory does not exist within container: /global/scratch/myashar/projectname\n",
      "\u001b[0mDEBUG   [U=43974,P=93075]  singularity_registry_get()                Returning NULL on 'DAEMON_JOIN'\n",
      "\u001b[0mVERBOSE [U=43974,P=93075]  singularity_runtime_files()               Running file components\n",
      "\u001b[0mDEBUG   [U=43974,P=93075]  singularity_registry_get()                Returning value from registry: 'SESSIONDIR' = '/var/singularity/mnt/session'\n",
      "\u001b[0mDEBUG   [U=43974,P=93075]  singularity_runtime_files_passwd()        Called singularity_file_passwd_create()\n",
      "\u001b[0mDEBUG   [U=43974,P=93075]  singularity_runtime_files_passwd()        Checking configuration option: 'config passwd'\n",
      "\u001b[0mDEBUG   [U=43974,P=93075]  singularity_config_get_bool_char_impl()   Called singularity_config_get_bool(config passwd, yes)\n",
      "\u001b[0mDEBUG   [U=43974,P=93075]  singularity_config_get_value_impl()       Returning configuration value config passwd='yes'\n",
      "\u001b[0mDEBUG   [U=43974,P=93075]  singularity_config_get_bool_char_impl()   Return singularity_config_get_bool(config passwd, yes) = 1\n",
      "\u001b[0mVERBOSE [U=43974,P=93075]  singularity_runtime_files_passwd()        Checking for template passwd file: /var/singularity/mnt/final/etc/passwd\n",
      "\u001b[0mVERBOSE [U=43974,P=93075]  singularity_runtime_files_passwd()        Creating template of /etc/passwd\n",
      "\u001b[0mDEBUG   [U=43974,P=93075]  copy_file()                               Called copy_file(/var/singularity/mnt/final/etc/passwd, /var/singularity/mnt/session/passwd)\n",
      "\u001b[0mDEBUG   [U=43974,P=93075]  copy_file()                               Opening source file: /var/singularity/mnt/final/etc/passwd\n",
      "\u001b[0mDEBUG   [U=43974,P=93075]  copy_file()                               Opening destination file: /var/singularity/mnt/session/passwd\n",
      "\u001b[0mDEBUG   [U=43974,P=93075]  copy_file()                               Calling fstat() on source file descriptor: 7\n",
      "\u001b[0mDEBUG   [U=43974,P=93075]  copy_file()                               Cloning permission string of source to dest\n",
      "\u001b[0mDEBUG   [U=43974,P=93075]  copy_file()                               Copying file data...\n",
      "\u001b[0mDEBUG   [U=43974,P=93075]  copy_file()                               Done copying data, closing file pointers\n",
      "\u001b[0mDEBUG   [U=43974,P=93075]  copy_file()                               Returning copy_file(/var/singularity/mnt/final/etc/passwd, /var/singularity/mnt/session/passwd) = 0\n",
      "\u001b[0mVERBOSE [U=43974,P=93075]  singularity_runtime_files_passwd()        Creating template passwd file and appending user data: /var/singularity/mnt/session/passwd\n",
      "\u001b[0mDEBUG   [U=43974,P=93075]  container_file_bind()                     Called file_bind(/var/singularity/mnt/session/passwd, /etc/passwd()\n",
      "\u001b[0mDEBUG   [U=43974,P=93075]  singularity_priv_escalate()               Temporarily escalating privileges (U=43974)\n",
      "\u001b[0mDEBUG   [U=0,P=93075]      singularity_priv_escalate()               Clearing supplementary GIDs.\n",
      "\u001b[0mVERBOSE [U=0,P=93075]      container_file_bind()                     Binding file '/var/singularity/mnt/session/passwd' to '/var/singularity/mnt/final/etc/passwd'\n",
      "\u001b[0mDEBUG   [U=0,P=93075]      singularity_priv_drop()                   Dropping privileges to UID=43974, GID=501 (3 supplementary GIDs)\n",
      "\u001b[0mDEBUG   [U=0,P=93075]      singularity_priv_drop()                   Restoring supplementary groups\n",
      "\u001b[0mDEBUG   [U=43974,P=93075]  singularity_priv_drop()                   Confirming we have correct UID/GID\n",
      "\u001b[0mDEBUG   [U=43974,P=93075]  envar_set()                               Setting environment variable: 'HOME' = '/global/home/users/myashar'\n",
      "\u001b[0mDEBUG   [U=43974,P=93075]  singularity_registry_get()                Returning value from registry: 'SESSIONDIR' = '/var/singularity/mnt/session'\n",
      "\u001b[0mDEBUG   [U=43974,P=93075]  singularity_runtime_files_group()         Called singularity_file_group_create()\n",
      "\u001b[0mDEBUG   [U=43974,P=93075]  singularity_runtime_files_group()         Checking configuration option: 'config group'\n",
      "\u001b[0mDEBUG   [U=43974,P=93075]  singularity_config_get_bool_char_impl()   Called singularity_config_get_bool(config group, yes)\n",
      "\u001b[0mDEBUG   [U=43974,P=93075]  singularity_config_get_value_impl()       Returning configuration value config group='yes'\n",
      "\u001b[0mDEBUG   [U=43974,P=93075]  singularity_config_get_bool_char_impl()   Return singularity_config_get_bool(config group, yes) = 1\n",
      "\u001b[0mVERBOSE [U=43974,P=93075]  singularity_runtime_files_group()         Creating template of /etc/group for containment\n",
      "\u001b[0mDEBUG   [U=43974,P=93075]  copy_file()                               Called copy_file(/var/singularity/mnt/final/etc/group, /var/singularity/mnt/session/group)\n",
      "\u001b[0mDEBUG   [U=43974,P=93075]  copy_file()                               Opening source file: /var/singularity/mnt/final/etc/group\n",
      "\u001b[0mDEBUG   [U=43974,P=93075]  copy_file()                               Opening destination file: /var/singularity/mnt/session/group\n",
      "\u001b[0mDEBUG   [U=43974,P=93075]  copy_file()                               Calling fstat() on source file descriptor: 7\n",
      "\u001b[0mDEBUG   [U=43974,P=93075]  copy_file()                               Cloning permission string of source to dest\n",
      "\u001b[0mDEBUG   [U=43974,P=93075]  copy_file()                               Copying file data...\n",
      "\u001b[0mDEBUG   [U=43974,P=93075]  copy_file()                               Done copying data, closing file pointers\n",
      "\u001b[0mDEBUG   [U=43974,P=93075]  copy_file()                               Returning copy_file(/var/singularity/mnt/final/etc/group, /var/singularity/mnt/session/group) = 0\n",
      "\u001b[0mVERBOSE [U=43974,P=93075]  singularity_runtime_files_group()         Updating group file with user info\n",
      "\u001b[0mDEBUG   [U=43974,P=93075]  singularity_runtime_files_group()         Getting supplementary group info\n",
      "\u001b[0mDEBUG   [U=43974,P=93075]  singularity_runtime_files_group()         Skipping duplicate supplementary group\n",
      "\u001b[0mVERBOSE [U=43974,P=93075]  singularity_runtime_files_group()         Found supplementary group membership in: 600\n",
      "\u001b[0mVERBOSE [U=43974,P=93075]  singularity_runtime_files_group()         Adding user's supplementary group ('savio') info to template group file\n",
      "\u001b[0mVERBOSE [U=43974,P=93075]  singularity_runtime_files_group()         Found supplementary group membership in: 10000\n",
      "\u001b[0mVERBOSE [U=43974,P=93075]  singularity_runtime_files_group()         Adding user's supplementary group ('ac_scsguest') info to template group file\n",
      "\u001b[0mDEBUG   [U=43974,P=93075]  container_file_bind()                     Called file_bind(/var/singularity/mnt/session/group, /etc/group()\n",
      "\u001b[0mDEBUG   [U=43974,P=93075]  singularity_priv_escalate()               Temporarily escalating privileges (U=43974)\n",
      "\u001b[0mDEBUG   [U=0,P=93075]      singularity_priv_escalate()               Clearing supplementary GIDs.\n",
      "\u001b[0mVERBOSE [U=0,P=93075]      container_file_bind()                     Binding file '/var/singularity/mnt/session/group' to '/var/singularity/mnt/final/etc/group'\n",
      "\u001b[0mDEBUG   [U=0,P=93075]      singularity_priv_drop()                   Dropping privileges to UID=43974, GID=501 (3 supplementary GIDs)\n",
      "\u001b[0mDEBUG   [U=0,P=93075]      singularity_priv_drop()                   Restoring supplementary groups\n",
      "\u001b[0mDEBUG   [U=43974,P=93075]  singularity_priv_drop()                   Confirming we have correct UID/GID\n",
      "\u001b[0mDEBUG   [U=43974,P=93075]  singularity_runtime_files_resolvconf()    Checking configuration option\n",
      "\u001b[0mDEBUG   [U=43974,P=93075]  singularity_config_get_bool_char_impl()   Called singularity_config_get_bool(config resolv_conf, yes)\n",
      "\u001b[0mDEBUG   [U=43974,P=93075]  singularity_config_get_value_impl()       Returning configuration value config resolv_conf='yes'\n",
      "\u001b[0mDEBUG   [U=43974,P=93075]  singularity_config_get_bool_char_impl()   Return singularity_config_get_bool(config resolv_conf, yes) = 1\n",
      "\u001b[0mDEBUG   [U=43974,P=93075]  container_file_bind()                     Called file_bind(/etc/resolv.conf, /etc/resolv.conf()\n",
      "\u001b[0mDEBUG   [U=43974,P=93075]  singularity_priv_escalate()               Temporarily escalating privileges (U=43974)\n",
      "\u001b[0mDEBUG   [U=0,P=93075]      singularity_priv_escalate()               Clearing supplementary GIDs.\n",
      "\u001b[0mVERBOSE [U=0,P=93075]      container_file_bind()                     Binding file '/etc/resolv.conf' to '/var/singularity/mnt/final/etc/resolv.conf'\n",
      "\u001b[0mDEBUG   [U=0,P=93075]      singularity_priv_drop()                   Dropping privileges to UID=43974, GID=501 (3 supplementary GIDs)\n",
      "\u001b[0mDEBUG   [U=0,P=93075]      singularity_priv_drop()                   Restoring supplementary groups\n",
      "\u001b[0mDEBUG   [U=43974,P=93075]  singularity_priv_drop()                   Confirming we have correct UID/GID\n",
      "\u001b[0mDEBUG   [U=43974,P=93075]  singularity_registry_get()                Returning value from registry: 'SESSIONDIR' = '/var/singularity/mnt/session'\n",
      "\u001b[0mDEBUG   [U=43974,P=93075]  singularity_registry_get()                Returning NULL on 'CONTAINLIBS'\n",
      "\u001b[0mVERBOSE [U=43974,P=93075]  singularity_runtime_enter()               Containing all rootfs components\n",
      "\u001b[0mDEBUG   [U=43974,P=93075]  singularity_priv_escalate()               Temporarily escalating privileges (U=43974)\n",
      "\u001b[0mDEBUG   [U=0,P=93075]      singularity_priv_escalate()               Clearing supplementary GIDs.\n",
      "\u001b[0mVERBOSE [U=0,P=93075]      singularity_runtime_enter_chroot()        Entering container file system root: /var/singularity/mnt/final\n",
      "\u001b[0mDEBUG   [U=0,P=93075]      singularity_priv_drop()                   Dropping privileges to UID=43974, GID=501 (3 supplementary GIDs)\n",
      "\u001b[0mDEBUG   [U=0,P=93075]      singularity_priv_drop()                   Restoring supplementary groups\n",
      "\u001b[0mDEBUG   [U=43974,P=93075]  singularity_priv_drop()                   Confirming we have correct UID/GID\n",
      "\u001b[0mDEBUG   [U=43974,P=93075]  singularity_runtime_enter_chroot()        Changing dir to '/' within the new root\n",
      "\u001b[0mDEBUG   [U=43974,P=93075]  singularity_runtime_environment()         Cloning environment\n",
      "\u001b[0mDEBUG   [U=43974,P=93075]  singularity_runtime_environment()         Counted 57 environment elements\n",
      "\u001b[0mDEBUG   [U=43974,P=93075]  singularity_registry_get()                Returning NULL on 'CLEANENV'\n",
      "\u001b[0mDEBUG   [U=43974,P=93075]  singularity_runtime_environment()         Cleaning environment\n",
      "\u001b[0mDEBUG   [U=43974,P=93075]  singularity_runtime_environment()         Evaluating envar to clean: SLURM_CHECKPOINT_IMAGE_DIR=/var/slurm/checkpoint\n",
      "\u001b[0mDEBUG   [U=43974,P=93075]  singularity_runtime_environment()         Evaluating envar to clean: SLURM_NODELIST=n0129.savio1\n",
      "\u001b[0mDEBUG   [U=43974,P=93075]  singularity_runtime_environment()         Evaluating envar to clean: SLURM_JOB_NAME=projectname\n",
      "\u001b[0mDEBUG   [U=43974,P=93075]  singularity_runtime_environment()         Evaluating envar to clean: SLURMD_NODENAME=n0129.savio1\n",
      "\u001b[0mDEBUG   [U=43974,P=93075]  singularity_runtime_environment()         Evaluating envar to clean: SLURM_TOPOLOGY_ADDR=ib-savio.ib-savio-05.n0129.savio1\n",
      "\u001b[0mDEBUG   [U=43974,P=93075]  singularity_runtime_environment()         Evaluating envar to clean: HOSTNAME=n0129.savio1\n",
      "\u001b[0mDEBUG   [U=43974,P=93075]  singularity_runtime_environment()         Evaluating envar to clean: SLURM_PRIO_PROCESS=0\n",
      "\u001b[0mDEBUG   [U=43974,P=93075]  singularity_runtime_environment()         Evaluating envar to clean: SLURM_NODE_ALIASES=(null)\n",
      "\u001b[0mDEBUG   [U=43974,P=93075]  singularity_runtime_environment()         Evaluating envar to clean: SHELL=/bin/bash\n",
      "\u001b[0mDEBUG   [U=43974,P=93075]  singularity_runtime_environment()         Evaluating envar to clean: TERM=xterm-color\n",
      "\u001b[0mDEBUG   [U=43974,P=93075]  singularity_runtime_environment()         Evaluating envar to clean: SLURM_JOB_QOS=savio_normal\n",
      "\u001b[0mDEBUG   [U=43974,P=93075]  singularity_runtime_environment()         Evaluating envar to clean: CLICOLOR=1\n",
      "\u001b[0mDEBUG   [U=43974,P=93075]  singularity_runtime_environment()         Evaluating envar to clean: SLURM_TOPOLOGY_ADDR_PATTERN=switch.switch.node\n",
      "\u001b[0mDEBUG   [U=43974,P=93075]  singularity_runtime_environment()         Evaluating envar to clean: SINGULARITY_libexecdir=/usr/libexec\n",
      "\u001b[0mDEBUG   [U=43974,P=93075]  singularity_runtime_environment()         Unsetting environment variable: SINGULARITY_libexecdir\n",
      "\u001b[0mDEBUG   [U=43974,P=93075]  singularity_runtime_environment()         Evaluating envar to clean: SINGULARITY_COMMAND=exec\n",
      "\u001b[0mDEBUG   [U=43974,P=93075]  singularity_runtime_environment()         Unsetting environment variable: SINGULARITY_COMMAND\n",
      "\u001b[0mDEBUG   [U=43974,P=93075]  singularity_runtime_environment()         Evaluating envar to clean: SLURM_NNODES=1\n",
      "\u001b[0mDEBUG   [U=43974,P=93075]  singularity_runtime_environment()         Evaluating envar to clean: USER=myashar\n",
      "\u001b[0mDEBUG   [U=43974,P=93075]  singularity_runtime_environment()         Evaluating envar to clean: SINGULARITY_MESSAGELEVEL=5\n",
      "\u001b[0mDEBUG   [U=43974,P=93075]  singularity_runtime_environment()         Unsetting environment variable: SINGULARITY_MESSAGELEVEL\n",
      "\u001b[0mDEBUG   [U=43974,P=93075]  singularity_runtime_environment()         Evaluating envar to clean: SLURM_JOBID=3326311\n",
      "\u001b[0mDEBUG   [U=43974,P=93075]  singularity_runtime_environment()         Evaluating envar to clean: JPY_PARENT_PID=395136\n",
      "\u001b[0mDEBUG   [U=43974,P=93075]  singularity_runtime_environment()         Evaluating envar to clean: SINGULARITY_version=2.4-dist\n",
      "\u001b[0mDEBUG   [U=43974,P=93075]  singularity_runtime_environment()         Unsetting environment variable: SINGULARITY_version\n",
      "\u001b[0mDEBUG   [U=43974,P=93075]  singularity_runtime_environment()         Evaluating envar to clean: PAGER=cat\n",
      "\u001b[0mDEBUG   [U=43974,P=93075]  singularity_runtime_environment()         Evaluating envar to clean: SLURM_TASKS_PER_NODE=20\n",
      "\u001b[0mDEBUG   [U=43974,P=93075]  singularity_runtime_environment()         Evaluating envar to clean: PATH=/bin:/usr/bin:/usr/local/bin:/sbin:/usr/sbin:/usr/local/sbin\n",
      "\u001b[0mDEBUG   [U=43974,P=93075]  singularity_runtime_environment()         Evaluating envar to clean: SINGULARITY_localstatedir=/var\n",
      "\u001b[0mDEBUG   [U=43974,P=93075]  singularity_runtime_environment()         Unsetting environment variable: SINGULARITY_localstatedir\n",
      "\u001b[0mDEBUG   [U=43974,P=93075]  singularity_runtime_environment()         Evaluating envar to clean: SLURM_WORKING_CLUSTER=brc:master:6817:8192\n",
      "\u001b[0mDEBUG   [U=43974,P=93075]  singularity_runtime_environment()         Evaluating envar to clean: SLURM_JOB_ID=3326311\n",
      "\u001b[0mDEBUG   [U=43974,P=93075]  singularity_runtime_environment()         Evaluating envar to clean: SLURM_JOB_USER=myashar\n",
      "\u001b[0mDEBUG   [U=43974,P=93075]  singularity_runtime_environment()         Evaluating envar to clean: PWD=/global/scratch/myashar/projectname\n",
      "\u001b[0mDEBUG   [U=43974,P=93075]  singularity_runtime_environment()         Evaluating envar to clean: SINGULARITYENV_HISTFILE=\n",
      "\u001b[0mDEBUG   [U=43974,P=93075]  singularity_runtime_environment()         Evaluating envar to clean: MPLBACKEND=module://ipykernel.pylab.backend_inline\n",
      "\u001b[0mDEBUG   [U=43974,P=93075]  singularity_runtime_environment()         Evaluating envar to clean: SINGULARITYENV_PATH=/bin:/sbin:/usr/bin:/usr/sbin:/usr/local/bin:/usr/local/sbin\n",
      "\u001b[0mDEBUG   [U=43974,P=93075]  singularity_runtime_environment()         Evaluating envar to clean: SLURM_JOB_UID=43974\n",
      "\u001b[0mDEBUG   [U=43974,P=93075]  singularity_runtime_environment()         Evaluating envar to clean: SLURM_NODEID=0\n",
      "\u001b[0mDEBUG   [U=43974,P=93075]  singularity_runtime_environment()         Evaluating envar to clean: SLURM_SUBMIT_DIR=/global/scratch/myashar/projectname\n",
      "\u001b[0mDEBUG   [U=43974,P=93075]  singularity_runtime_environment()         Evaluating envar to clean: QT_QPA_PLATFORM=offscreen\n",
      "\u001b[0mDEBUG   [U=43974,P=93075]  singularity_runtime_environment()         Evaluating envar to clean: SLURM_TASK_PID=93058\n",
      "\u001b[0mDEBUG   [U=43974,P=93075]  singularity_runtime_environment()         Evaluating envar to clean: SLURM_CPUS_ON_NODE=20\n",
      "\u001b[0mDEBUG   [U=43974,P=93075]  singularity_runtime_environment()         Evaluating envar to clean: SLURM_PROCID=0\n",
      "\u001b[0mDEBUG   [U=43974,P=93075]  singularity_runtime_environment()         Evaluating envar to clean: ENVIRONMENT=BATCH\n",
      "\u001b[0mDEBUG   [U=43974,P=93075]  singularity_runtime_environment()         Evaluating envar to clean: SLURM_JOB_NODELIST=n0129.savio1\n",
      "\u001b[0mDEBUG   [U=43974,P=93075]  singularity_runtime_environment()         Evaluating envar to clean: HOME=/global/home/users/myashar\n",
      "\u001b[0mDEBUG   [U=43974,P=93075]  singularity_runtime_environment()         Evaluating envar to clean: SHLVL=2\n",
      "\u001b[0mDEBUG   [U=43974,P=93075]  singularity_runtime_environment()         Evaluating envar to clean: SLURM_LOCALID=0\n",
      "\u001b[0mDEBUG   [U=43974,P=93075]  singularity_runtime_environment()         Evaluating envar to clean: SLURM_JOB_GID=501\n",
      "\u001b[0mDEBUG   [U=43974,P=93075]  singularity_runtime_environment()         Evaluating envar to clean: SLURM_JOB_CPUS_PER_NODE=20\n",
      "\u001b[0mDEBUG   [U=43974,P=93075]  singularity_runtime_environment()         Evaluating envar to clean: SLURM_CLUSTER_NAME=brc\n",
      "\u001b[0mDEBUG   [U=43974,P=93075]  singularity_runtime_environment()         Evaluating envar to clean: SLURM_GTIDS=0\n",
      "\u001b[0mDEBUG   [U=43974,P=93075]  singularity_runtime_environment()         Evaluating envar to clean: SLURM_SUBMIT_HOST=jupyter.brc\n",
      "\u001b[0mDEBUG   [U=43974,P=93075]  singularity_runtime_environment()         Evaluating envar to clean: SLURM_JOB_PARTITION=savio\n",
      "\u001b[0mDEBUG   [U=43974,P=93075]  singularity_runtime_environment()         Evaluating envar to clean: SINGULARITY_sysconfdir=/etc\n",
      "\u001b[0mDEBUG   [U=43974,P=93075]  singularity_runtime_environment()         Unsetting environment variable: SINGULARITY_sysconfdir\n",
      "\u001b[0mDEBUG   [U=43974,P=93075]  singularity_runtime_environment()         Evaluating envar to clean: SINGULARITY_bindir=/usr/bin\n",
      "\u001b[0mDEBUG   [U=43974,P=93075]  singularity_runtime_environment()         Unsetting environment variable: SINGULARITY_bindir\n",
      "\u001b[0mDEBUG   [U=43974,P=93075]  singularity_runtime_environment()         Evaluating envar to clean: SLURM_JOB_ACCOUNT=ac_scsguest\n",
      "\u001b[0mDEBUG   [U=43974,P=93075]  singularity_runtime_environment()         Evaluating envar to clean: SLURM_JOB_NUM_NODES=1\n",
      "\u001b[0mDEBUG   [U=43974,P=93075]  singularity_runtime_environment()         Evaluating envar to clean: SINGULARITY_IMAGE=/global/scratch/myashar/container/photoscan_1_4_3.simg\n",
      "\u001b[0mDEBUG   [U=43974,P=93075]  singularity_runtime_environment()         Unsetting environment variable: SINGULARITY_IMAGE\n",
      "\u001b[0mDEBUG   [U=43974,P=93075]  singularity_runtime_environment()         Evaluating envar to clean: GIT_PAGER=cat\n",
      "\u001b[0mDEBUG   [U=43974,P=93075]  singularity_runtime_environment()         Evaluating envar to clean: SLURM_MEM_PER_NODE=64000\n",
      "\u001b[0mDEBUG   [U=43974,P=93075]  singularity_runtime_environment()         Transposing environment\n",
      "\u001b[0mDEBUG   [U=43974,P=93075]  singularity_runtime_environment()         Converting envar 'SINGULARITYENV_HISTFILE' to 'HISTFILE' = '(null)'\n",
      "\u001b[0mDEBUG   [U=43974,P=93075]  envar_set()                               Unsetting environment variable: HISTFILE\n",
      "\u001b[0mDEBUG   [U=43974,P=93075]  singularity_runtime_environment()         Converting envar 'SINGULARITYENV_PATH' to 'PATH' = '/bin:/sbin:/usr/bin:/usr/sbin:/usr/local/bin:/usr/local/sbin'\n",
      "\u001b[0mDEBUG   [U=43974,P=93075]  envar_set()                               Setting environment variable: 'PATH' = '/bin:/sbin:/usr/bin:/usr/sbin:/usr/local/bin:/usr/local/sbin'\n",
      "\u001b[0mDEBUG   [U=43974,P=93075]  singularity_priv_drop_perm()              Called singularity_priv_drop_perm(void)\n",
      "\u001b[0mDEBUG   [U=43974,P=93075]  singularity_priv_drop_perm()              Escalating permissison so we can properly drop permission\n",
      "\u001b[0mDEBUG   [U=43974,P=93075]  singularity_priv_escalate()               Temporarily escalating privileges (U=43974)\n",
      "\u001b[0mDEBUG   [U=0,P=93075]      singularity_priv_escalate()               Clearing supplementary GIDs.\n",
      "\u001b[0mDEBUG   [U=0,P=93075]      singularity_priv_drop_perm()              Resetting supplementary groups\n",
      "\u001b[0mDEBUG   [U=0,P=93075]      singularity_priv_drop_perm()              Dropping to group ID '501'\n",
      "\u001b[0mDEBUG   [U=0,P=93075]      singularity_priv_drop_perm()              Dropping real and effective privileges to GID = '501'\n",
      "\u001b[0mDEBUG   [U=0,P=93075]      singularity_priv_drop_perm()              Dropping real and effective privileges to UID = '43974'\n",
      "\u001b[0mDEBUG   [U=43974,P=93075]  singularity_priv_drop_perm()              Confirming we have correct GID\n",
      "\u001b[0mDEBUG   [U=43974,P=93075]  singularity_priv_drop_perm()              Confirming we have correct UID\n",
      "\u001b[0mDEBUG   [U=43974,P=93075]  singularity_priv_drop_perm()              Setting NO_NEW_PRIVS to prevent future privilege escalations.\n",
      "\u001b[0mDEBUG   [U=43974,P=93075]  singularity_priv_drop_perm()              Finished dropping privileges\n",
      "\u001b[0mDEBUG   [U=43974,P=93075]  singularity_registry_get()                Returning NULL on 'CONTAIN'\n",
      "\u001b[0mDEBUG   [U=43974,P=93075]  singularity_registry_get()                Returning NULL on 'TARGET_PWD'\n",
      "\u001b[0mDEBUG   [U=43974,P=93075]  main()                                    Attempting to chdir to CWD: /global/scratch/myashar/projectname\n",
      "\u001b[0mVERBOSE [U=43974,P=93075]  main()                                    Could not chdir to current dir: /global/scratch/myashar/projectname\n",
      "\u001b[0m\u001b[33mWARNING [U=43974,P=93075]  main()                                    Could not chdir to home: /global/home/users/myashar\n",
      "\u001b[0mDEBUG   [U=43974,P=93075]  singularity_registry_get()                Returning value from registry: 'COMMAND' = 'exec'\n",
      "\u001b[0mDEBUG   [U=43974,P=93075]  envar_set()                               Setting environment variable: 'SINGULARITY_CONTAINER' = 'photoscan_1_4_3.simg'\n",
      "\u001b[0mDEBUG   [U=43974,P=93075]  envar_set()                               Setting environment variable: 'SINGULARITY_NAME' = 'photoscan_1_4_3.simg'\n",
      "\u001b[0mDEBUG   [U=43974,P=93075]  singularity_registry_get()                Returning NULL on 'SHELL'\n",
      "\u001b[0mDEBUG   [U=43974,P=93075]  envar_set()                               Unsetting environment variable: SINGULARITY_SHELL\n",
      "\u001b[0mDEBUG   [U=43974,P=93075]  singularity_registry_get()                Returning NULL on 'APPNAME'\n",
      "\u001b[0mDEBUG   [U=43974,P=93075]  envar_set()                               Unsetting environment variable: SINGULARITY_APPNAME\n",
      "\u001b[0mDEBUG   [U=43974,P=93075]  singularity_registry_get()                Returning value from registry: 'COMMAND' = 'exec'\n",
      "\u001b[0m\u001b[34mLOG     [U=43974,P=93075]  main()                                    USER=myashar, IMAGE='photoscan_1_4_3.simg', COMMAND='exec'\n",
      "\u001b[0mDEBUG   [U=43974,P=93075]  action_exec()                             Checking for: /.singularity.d/actions/exec\n",
      "\u001b[0mVERBOSE [U=43974,P=93075]  action_exec()                             Exec'ing /.singularity.d/actions/exec\n",
      "\u001b[0mstart time:  1536197959.7449105\n",
      "LoadProject: path = /scratch//projectname.psx\n",
      "loaded project in 0.241455 sec\n",
      "MatchPhotos: accuracy = Medium, preselection = generic, keypoint limit = 40000, tiepoint limit = 4000, apply masks = 0, filter tie points = 0\n",
      "[CPU] photo 0: 15693 points\n",
      "[CPU] photo 1: 15905 points\n",
      "[CPU] photo 2: 16250 points\n",
      "[CPU] photo 3: 16768 points\n",
      "[CPU] photo 4: 18346 points\n",
      "[CPU] photo 5: 18840 points\n",
      "[CPU] photo 6: 18984 points\n",
      "[CPU] photo 7: 19277 points\n",
      "[CPU] photo 8: 18848 points\n",
      "[CPU] photo 9: 19231 points\n",
      "[CPU] photo 10: 17835 points\n",
      "[CPU] photo 11: 17889 points\n",
      "[CPU] photo 12: 17639 points\n",
      "[CPU] photo 13: 17406 points\n",
      "[CPU] photo 14: 17474 points\n",
      "[CPU] photo 15: 18396 points\n",
      "[CPU] photo 16: 19396 points\n",
      "[CPU] photo 17: 20260 points\n",
      "[CPU] photo 18: 20498 points\n",
      "[CPU] photo 19: 17417 points\n",
      "points detected in 10.438 sec\n",
      "55868 matches found in 1.42525 sec\n",
      "matches combined in 0.00611 sec\n",
      "matches filtered in 0.023506 sec\n",
      "190 pairs selected in 4.2e-05 sec\n",
      "195606 matches found in 9.27369 sec\n",
      "matches combined in 0.022678 sec\n",
      "matches filtered in 0.078585 sec\n",
      "finished matching in 21.3016 sec\n",
      "setting point indices... 25892 done in 0.004735 sec\n",
      "generated 25892 tie points, 3.30322 average projections\n",
      "removed 2513 multiple indices\n",
      "removed 10 tracks\n",
      "selected 22934 tracks out of 25882 in 0.002942 sec\n",
      "AlignCameras: adaptive fitting = 1\n",
      "processing matches... done in 0.00744 sec\n",
      "selecting camera groups... done in 0.00047 sec\n",
      "processing block: 20 photos\n",
      "pair 17 and 18: 3059 robust from 3379\n",
      "adding photos 17 and 18 (3059 robust)\n",
      "adding 3202 points, 0 far (8.64 threshold), 0 inaccurate, 0 invisible, 0 weak\n",
      "adjusting: xxxxxxxxxx 1.61943 -> 1.60249\n",
      "adding 9 points, 0 far (8.64 threshold), 0 inaccurate, 0 invisible, 0 weak\n",
      "adjusting: xxxxxxxxxx 1.71402 -> 1.70401\n",
      "adding 3 points, 0 far (8.64 threshold), 0 inaccurate, 0 invisible, 0 weak\n",
      "adjusting: xxxxxxxxxx 1.73979 -> 1.72971\n",
      "adding 2 points, 0 far (8.64 threshold), 0 inaccurate, 0 invisible, 0 weak\n",
      "adjusting: xxxxxxxxxx 1.75277 -> 1.74354\n",
      "adding 5 points, 0 far (8.64 threshold), 0 inaccurate, 0 invisible, 0 weak\n",
      "adjusting: xxxxxxxxxx 1.79664 -> 1.78776\n",
      "adding 3 points, 0 far (8.64 threshold), 0 inaccurate, 0 invisible, 0 weak\n",
      "optimized in 0.116297 seconds\n",
      "adding camera 16 (3 of 20), 1448 of 1562 used\n",
      "adding 785 points, 96 far (8.64 threshold), 0 inaccurate, 0 invisible, 0 weak\n",
      "adjusting: xxxxxxxxx 1.22226 -> 1.09351\n",
      "adding 30 points, 0 far (8.64 threshold), 0 inaccurate, 0 invisible, 0 weak\n",
      "adjusting: xxxxxxxxx 1.26727 -> 1.2599\n",
      "adding 7 points, 0 far (8.64 threshold), 0 inaccurate, 0 invisible, 0 weak\n",
      "adjusting: xxxxxxxxxx 1.30945 -> 1.30741\n",
      "adding 3 points, 0 far (8.64 threshold), 0 inaccurate, 0 invisible, 0 weak\n",
      "adjusting: xxxxxxxx 1.32948 -> 1.32912\n",
      "adding 1 points, 0 far (8.64 threshold), 0 inaccurate, 0 invisible, 0 weak\n",
      "adjusting: xxxxxxxx 1.33531 -> 1.33479\n",
      "adding 1 points, 0 far (8.64 threshold), 0 inaccurate, 0 invisible, 0 weak\n",
      "optimized in 0.125128 seconds\n",
      "adding camera 15 (4 of 20), 1186 of 1294 used\n",
      "adding 974 points, 91 far (8.64 threshold), 0 inaccurate, 0 invisible, 0 weak\n",
      "adjusting: xxxxxxxxx 0.991834 -> 0.928972\n",
      "adding 21 points, 6 far (8.64 threshold), 0 inaccurate, 0 invisible, 0 weak\n",
      "adjusting: xxxxxx 1.00628 -> 1.00311\n",
      "adding 2 points, 4 far (8.64 threshold), 0 inaccurate, 0 invisible, 0 weak\n",
      "optimized in 0.060161 seconds\n",
      "adding camera 14 (5 of 20), 1139 of 1220 used\n",
      "adding camera 13 (6 of 20), 617 of 685 used\n",
      "adding 1962 points, 93 far (8.64 threshold), 0 inaccurate, 0 invisible, 0 weak\n",
      "adjusting: xxxxxx 0.726216 -> 0.684528\n",
      "adding 20 points, 3 far (8.64 threshold), 0 inaccurate, 0 invisible, 0 weak\n",
      "adjusting: xxxxx 0.760798 -> 0.758213\n",
      "adding 0 points, 1 far (8.64 threshold), 0 inaccurate, 0 invisible, 0 weak\n",
      "optimized in 0.067418 seconds\n",
      "adding camera 12 (7 of 20), 1058 of 1112 used\n",
      "adding 942 points, 48 far (8.64 threshold), 0 inaccurate, 0 invisible, 0 weak\n",
      "adjusting: xxxxx 0.625836 -> 0.610582\n",
      "adding 10 points, 2 far (8.64 threshold), 0 inaccurate, 0 invisible, 0 weak\n",
      "adjusting: xxxxxx 0.649193 -> 0.647894\n",
      "adding 3 points, 1 far (8.64 threshold), 0 inaccurate, 0 invisible, 0 weak\n",
      "adjusting: xxxxxx 0.657976 -> 0.657502\n",
      "adding 1 points, 0 far (8.64 threshold), 0 inaccurate, 0 invisible, 0 weak\n",
      "adjusting: xxxx 0.663859 -> 0.66363\n",
      "adding 0 points, 1 far (8.64 threshold), 0 inaccurate, 0 invisible, 0 weak\n",
      "optimized in 0.141711 seconds\n",
      "adding camera 11 (8 of 20), 969 of 993 used\n",
      "adding 1035 points, 22 far (8.64 threshold), 0 inaccurate, 0 invisible, 0 weak\n",
      "adjusting: xxxxxx 0.601127 -> 0.593494\n",
      "adding 5 points, 2 far (8.64 threshold), 0 inaccurate, 0 invisible, 0 weak\n",
      "adjusting: xxxxx 0.604162 -> 0.603307\n",
      "adding 2 points, 0 far (8.64 threshold), 0 inaccurate, 0 invisible, 0 weak\n",
      "adjusting: xxxx 0.614507 -> 0.614126\n",
      "adding 0 points, 2 far (8.64 threshold), 0 inaccurate, 0 invisible, 0 weak\n",
      "optimized in 0.098479 seconds\n",
      "adding camera 10 (9 of 20), 918 of 934 used\n",
      "adding 1126 points, 14 far (8.64 threshold), 0 inaccurate, 0 invisible, 0 weak\n",
      "adjusting: xxxx 0.588026 -> 0.583522\n",
      "adding 2 points, 1 far (8.64 threshold), 0 inaccurate, 0 invisible, 0 weak\n",
      "adjusting: xxxx 0.584789 -> 0.584571\n",
      "adding 0 points, 0 far (8.64 threshold), 0 inaccurate, 0 invisible, 0 weak\n",
      "optimized in 0.06124 seconds\n",
      "adding camera 9 (10 of 20), 1089 of 1116 used\n",
      "adding camera 8 (11 of 20), 588 of 615 used\n",
      "adding 2287 points, 38 far (8.64 threshold), 0 inaccurate, 0 invisible, 0 weak\n",
      "adjusting: xxxxx 0.504531 -> 0.496363\n",
      "adding 1 points, 0 far (8.64 threshold), 0 inaccurate, 0 invisible, 0 weak\n",
      "adjusting: xxxx 0.501055 -> 0.500695\n",
      "adding 0 points, 0 far (8.64 threshold), 0 inaccurate, 0 invisible, 0 weak\n",
      "optimized in 1.07446 seconds\n",
      "adding camera 7 (12 of 20), 1389 of 1398 used\n",
      "adding camera 6 (13 of 20), 837 of 845 used\n",
      "adding 1831 points, 13 far (8.64 threshold), 0 inaccurate, 0 invisible, 0 weak\n",
      "adjusting: xxxx 0.445213 -> 0.440056\n",
      "adding 0 points, 1 far (8.64 threshold), 0 inaccurate, 0 invisible, 0 weak\n",
      "optimized in 0.48224 seconds\n",
      "adding camera 5 (14 of 20), 1366 of 1374 used\n",
      "adding camera 4 (15 of 20), 765 of 774 used\n",
      "adding 1899 points, 17 far (8.64 threshold), 0 inaccurate, 0 invisible, 0 weak\n",
      "adjusting: xxxx 0.394552 -> 0.389212\n",
      "adding 0 points, 0 far (8.64 threshold), 0 inaccurate, 0 invisible, 0 weak\n",
      "optimized in 0.522662 seconds\n",
      "adding camera 3 (16 of 20), 1215 of 1232 used\n",
      "adding camera 2 (17 of 20), 637 of 663 used\n",
      "adding 1827 points, 34 far (8.64 threshold), 0 inaccurate, 0 invisible, 0 weak\n",
      "adjusting: xxxx 0.335877 -> 0.330107\n",
      "adding 2 points, 1 far (8.64 threshold), 0 inaccurate, 0 invisible, 0 weak\n",
      "adjusting: xxxx 0.329792 -> 0.32966\n",
      "adding 0 points, 0 far (8.64 threshold), 0 inaccurate, 0 invisible, 0 weak\n",
      "optimized in 0.955212 seconds\n",
      "adding camera 1 (18 of 20), 997 of 1014 used\n",
      "adding 701 points, 17 far (8.64 threshold), 0 inaccurate, 0 invisible, 0 weak\n",
      "adjusting: xxxx 0.30879 -> 0.30696\n",
      "adding 3 points, 1 far (8.64 threshold), 0 inaccurate, 0 invisible, 0 weak\n",
      "adjusting: xxxx 0.314194 -> 0.313761\n",
      "adding 1 points, 0 far (8.64 threshold), 0 inaccurate, 0 invisible, 0 weak\n",
      "adjusting: xxxx 0.317594 -> 0.317526\n",
      "adding 0 points, 0 far (8.64 threshold), 0 inaccurate, 0 invisible, 0 weak\n",
      "optimized in 1.4595 seconds\n",
      "adding camera 0 (19 of 20), 765 of 772 used\n",
      "adding 679 points, 7 far (8.64 threshold), 0 inaccurate, 0 invisible, 3 weak\n",
      "adjusting: xxxxx 0.321813 -> 0.319903\n",
      "adding 5 points, 0 far (8.64 threshold), 0 inaccurate, 0 invisible, 0 weak\n",
      "adjusting: xxxx 0.322305 -> 0.320783\n",
      "adding 0 points, 0 far (8.64 threshold), 0 inaccurate, 0 invisible, 0 weak\n",
      "optimized in 1.02077 seconds\n",
      "adding camera 19 (20 of 20), 151 of 204 used\n",
      "adding 137 points, 22 far (8.64 threshold), 0 inaccurate, 0 invisible, 0 weak\n",
      "adjusting: xxxxxxxxxx 0.343806 -> 0.325867\n",
      "adding 13 points, 0 far (8.64 threshold), 0 inaccurate, 0 invisible, 0 weak\n",
      "adjusting: xxxxxxx 0.328485 -> 0.317624\n",
      "adding 0 points, 0 far (8.64 threshold), 0 inaccurate, 0 invisible, 0 weak\n",
      "optimized in 2.2993 seconds\n",
      "3 sigma filtering...\n",
      "adjusting: xx 0.317624 -> 0.317624\n",
      "point variance: 0.319843 threshold: 0.959528\n",
      "adding 0 points, 85 far (0.959528 threshold), 0 inaccurate, 0 invisible, 0 weak\n",
      "adjusting: xxxxxx 0.14314 -> 0.139405\n",
      "point variance: 0.140424 threshold: 0.421273\n",
      "adding 0 points, 508 far (0.421273 threshold), 0 inaccurate, 0 invisible, 7 weak\n",
      "adjusting: xxxxxxxxxxxxxxxx 0.122627 -> 0.121898\n",
      "point variance: 0.121777 threshold: 0.365332\n",
      "adding 7 points, 313 far (0.365332 threshold), 0 inaccurate, 0 invisible, 6 weak\n",
      "adjusting: xxxxxxxx 0.11596 -> 0.115164\n",
      "point variance: 0.114568 threshold: 0.343705\n",
      "adding 14 points, 163 far (0.343705 threshold), 0 inaccurate, 0 invisible, 6 weak\n",
      "adjusting: xxxxxxxxxxxxxxxx 0.112375 -> 0.111722\n",
      "point variance: 0.110945 threshold: 0.332836\n",
      "adding 28 points, 108 far (0.332836 threshold), 0 inaccurate, 0 invisible, 6 weak\n",
      "optimized in 6.3646 seconds\n",
      "f 11354.4, cx 0, cy 0, k1 0, k2 0, k3 0\n",
      "finished sfm in 15.7589 seconds\n",
      "loaded projections in 9.7e-05 sec\n",
      "tracks initialized in 0.007799 sec\n",
      "adding 18997 points, 0 far (8.64 threshold), 0 inaccurate, 0 invisible, 0 weak\n",
      "1 blocks: 20\n",
      "calculating match counts... done in 3.6e-05 sec\n",
      "overlapping groups selected in 5e-06 sec\n",
      "1 blocks: 20\n",
      "final block size: 20\n",
      "adding 18997 points, 0 far (8.64 threshold), 0 inaccurate, 0 invisible, 0 weak\n",
      "3 sigma filtering...\n",
      "adjusting: xxxxxxxxx 0.318001 -> 0.305654\n",
      "point variance: 0.307797 threshold: 0.923391\n",
      "adding 0 points, 82 far (0.923391 threshold), 0 inaccurate, 0 invisible, 0 weak\n",
      "adjusting: xxxxxx 0.141753 -> 0.139099\n",
      "point variance: 0.140113 threshold: 0.420338\n",
      "adding 0 points, 514 far (0.420338 threshold), 0 inaccurate, 0 invisible, 2 weak\n",
      "adjusting: xxxxxxxxxxxxxxx 0.122538 -> 0.121711\n",
      "point variance: 0.121574 threshold: 0.364723\n",
      "adding 3 points, 301 far (0.364723 threshold), 0 inaccurate, 0 invisible, 6 weak\n",
      "adjusting: xxxxxxxxxxx 0.115917 -> 0.115109\n",
      "point variance: 0.114523 threshold: 0.343569\n",
      "adding 12 points, 167 far (0.343569 threshold), 0 inaccurate, 0 invisible, 6 weak\n",
      "adjusting: xxxxxxxxxxxxxxxxxx 0.112179 -> 0.111499\n",
      "point variance: 0.110719 threshold: 0.332158\n",
      "adding 30 points, 108 far (0.332158 threshold), 0 inaccurate, 0 invisible, 6 weak\n",
      "optimized in 7.67344 seconds\n",
      "coordinates applied in 0 sec\n",
      "BuildDepthMaps: quality = Medium, depth filtering = Moderate, reuse depth maps\n",
      "sorting point cloud... done in 0.000512 sec\n",
      "processing matches... done in 0.00357 sec\n",
      "initializing...\n",
      "selected 20 cameras from 20 in 0.088233 sec\n",
      "loaded photos in 1.11843 seconds\n",
      "[CPU] estimating 304x730x160 disparity using 304x730x8u tiles\n",
      "timings: rectify: 0.020987 disparity: 0.286197 borders: 0.009398 filter: 0.012051 fill: 0\n",
      "[CPU] estimating 262x344x128 disparity using 262x344x8u tiles\n",
      "timings: rectify: 0.004229 disparity: 0.119824 borders: 0.004054 filter: 0.005411 fill: 0\n",
      "[CPU] estimating 194x314x96 disparity using 194x314x8u tiles\n",
      "timings: rectify: 0.002746 disparity: 0.076223 borders: 0.002347 filter: 0.003277 fill: 0\n",
      "[CPU] estimating 431x820x128 disparity using 431x820x8u tiles\n",
      "timings: rectify: 0.015366 disparity: 0.400098 borders: 0.014089 filter: 0.017716 fill: 0\n",
      "[CPU] estimating 475x826x128 disparity using 475x826x8u tiles\n",
      "timings: rectify: 0.01721 disparity: 0.450444 borders: 0.015283 filter: 0.019599 fill: 0\n",
      "[CPU] estimating 418x794x128 disparity using 418x794x8u tiles\n",
      "timings: rectify: 0.015299 disparity: 0.397244 borders: 0.012724 filter: 0.017146 fill: 0\n",
      "[CPU] estimating 331x757x160 disparity using 331x757x8u tiles\n",
      "timings: rectify: 0.012498 disparity: 0.311774 borders: 0.009195 filter: 0.012409 fill: 1e-06\n",
      "[CPU] estimating 319x684x192 disparity using 319x684x8u tiles\n",
      "timings: rectify: 0.01004 disparity: 0.270533 borders: 0.007781 filter: 0.010812 fill: 0\n",
      "[CPU] estimating 415x786x160 disparity using 415x786x8u tiles\n",
      "timings: rectify: 0.017931 disparity: 0.451704 borders: 0.010987 filter: 0.015812 fill: 0\n",
      "[CPU] estimating 529x783x160 disparity using 529x783x8u tiles\n",
      "timings: rectify: 0.018602 disparity: 0.556892 borders: 0.015073 filter: 0.020678 fill: 0\n",
      "[CPU] estimating 617x856x128 disparity using 617x856x8u tiles\n",
      "timings: rectify: 0.023077 disparity: 0.590843 borders: 0.017301 filter: 0.02289 fill: 1e-06\n",
      "[CPU] estimating 378x821x128 disparity using 378x821x8u tiles\n",
      "timings: rectify: 0.012862 disparity: 0.371965 borders: 0.010233 filter: 0.014027 fill: 0\n",
      "[CPU] estimating 475x826x128 disparity using 475x826x8u tiles\n",
      "timings: rectify: 0.015543 disparity: 0.429962 borders: 0.01555 filter: 0.019641 fill: 0\n",
      "[CPU] estimating 522x789x128 disparity using 522x789x8u tiles\n",
      "timings: rectify: 0.018802 disparity: 0.450371 borders: 0.015732 filter: 0.020049 fill: 0\n",
      "[CPU] estimating 437x745x128 disparity using 437x745x8u tiles\n",
      "timings: rectify: 0.014403 disparity: 0.368099 borders: 0.011266 filter: 0.015429 fill: 0\n",
      "[CPU] estimating 410x724x160 disparity using 410x724x8u tiles\n",
      "timings: rectify: 0.01364 disparity: 0.337657 borders: 0.009764 filter: 0.013316 fill: 1e-06\n",
      "[CPU] estimating 336x695x160 disparity using 336x695x8u tiles\n",
      "timings: rectify: 0.010632 disparity: 0.300194 borders: 0.008799 filter: 0.010863 fill: 1e-06\n",
      "[CPU] estimating 361x707x128 disparity using 361x707x8u tiles\n",
      "timings: rectify: 0.015848 disparity: 0.339579 borders: 0.009098 filter: 0.012881 fill: 0\n",
      "[CPU] estimating 492x760x160 disparity using 492x760x8u tiles\n",
      "timings: rectify: 0.016552 disparity: 0.436237 borders: 0.01325 filter: 0.017591 fill: 0\n",
      "[CPU] estimating 607x858x128 disparity using 607x858x8u tiles\n",
      "timings: rectify: 0.022636 disparity: 0.597206 borders: 0.019588 filter: 0.025474 fill: 0\n",
      "[CPU] estimating 617x856x128 disparity using 617x856x8u tiles\n",
      "timings: rectify: 0.023771 disparity: 0.61127 borders: 0.020425 filter: 0.026025 fill: 0\n",
      "[CPU] estimating 379x732x160 disparity using 379x732x8u tiles\n",
      "timings: rectify: 0.014688 disparity: 0.342752 borders: 0.008051 filter: 0.011937 fill: 0\n",
      "[CPU] estimating 438x729x128 disparity using 438x729x8u tiles\n",
      "timings: rectify: 0.016021 disparity: 0.367731 borders: 0.010702 filter: 0.014508 fill: 0\n",
      "[CPU] estimating 459x736x128 disparity using 459x736x8u tiles\n",
      "timings: rectify: 0.014875 disparity: 0.37563 borders: 0.012666 filter: 0.016373 fill: 0\n",
      "[CPU] estimating 446x796x96 disparity using 446x796x8u tiles\n",
      "timings: rectify: 0.015967 disparity: 0.38003 borders: 0.014251 filter: 0.017996 fill: 0\n",
      "[CPU] estimating 380x724x128 disparity using 380x724x8u tiles\n",
      "timings: rectify: 0.012481 disparity: 0.326123 borders: 0.010617 filter: 0.014151 fill: 1e-06\n",
      "[CPU] estimating 314x714x128 disparity using 314x714x8u tiles\n",
      "timings: rectify: 0.009921 disparity: 0.264626 borders: 0.008805 filter: 0.011496 fill: 0\n",
      "[CPU] estimating 243x656x160 disparity using 243x656x8u tiles\n",
      "timings: rectify: 0.007071 disparity: 0.200268 borders: 0.00672 filter: 0.008907 fill: 1e-06\n",
      "[CPU] estimating 306x783x160 disparity using 306x783x8u tiles\n",
      "timings: rectify: 0.016198 disparity: 0.298888 borders: 0.009347 filter: 0.012248 fill: 0\n",
      "[CPU] estimating 418x794x128 disparity using 418x794x8u tiles\n",
      "timings: rectify: 0.01522 disparity: 0.379173 borders: 0.011929 filter: 0.015817 fill: 0\n",
      "[CPU] estimating 522x789x128 disparity using 522x789x8u tiles\n",
      "timings: rectify: 0.018682 disparity: 0.456271 borders: 0.016372 filter: 0.02061 fill: 0\n",
      "[CPU] estimating 545x833x128 disparity using 545x833x8u tiles\n",
      "timings: rectify: 0.019945 disparity: 0.512213 borders: 0.017432 filter: 0.021826 fill: 0\n",
      "[CPU] estimating 517x760x128 disparity using 517x760x8u tiles\n",
      "timings: rectify: 0.017024 disparity: 0.42945 borders: 0.013809 filter: 0.01808 fill: 1e-06\n",
      "[CPU] estimating 462x747x160 disparity using 462x747x8u tiles\n",
      "timings: rectify: 0.015702 disparity: 0.417824 borders: 0.011227 filter: 0.015476 fill: 0\n",
      "[CPU] estimating 354x640x160 disparity using 354x640x8u tiles\n",
      "timings: rectify: 0.010635 disparity: 0.269057 borders: 0.008311 filter: 0.010992 fill: 0\n",
      "[CPU] estimating 431x820x128 disparity using 431x820x8u tiles\n",
      "timings: rectify: 0.015521 disparity: 0.391907 borders: 0.014287 filter: 0.017966 fill: 0\n",
      "[CPU] estimating 378x821x128 disparity using 378x821x8u tiles\n",
      "timings: rectify: 0.01381 disparity: 0.359489 borders: 0.012257 filter: 0.016055 fill: 0\n",
      "[CPU] estimating 306x783x160 disparity using 306x783x8u tiles\n",
      "timings: rectify: 0.010626 disparity: 0.288144 borders: 0.009373 filter: 0.012379 fill: 0\n",
      "[CPU] estimating 240x705x192 disparity using 240x705x8u tiles\n",
      "timings: rectify: 0.007522 disparity: 0.210746 borders: 0.007772 filter: 0.009989 fill: 0\n",
      "[CPU] estimating 304x730x160 disparity using 304x730x8u tiles\n",
      "timings: rectify: 0.011071 disparity: 0.268276 borders: 0.009157 filter: 0.011943 fill: 1e-06\n",
      "[CPU] estimating 326x681x192 disparity using 326x681x8u tiles\n",
      "timings: rectify: 0.01466 disparity: 0.304554 borders: 0.007408 filter: 0.010755 fill: 0\n",
      "[CPU] estimating 416x740x160 disparity using 416x740x8u tiles\n",
      "timings: rectify: 0.013299 disparity: 0.408556 borders: 0.009812 filter: 0.014344 fill: 0\n",
      "[CPU] estimating 451x718x128 disparity using 451x718x8u tiles\n",
      "timings: rectify: 0.014017 disparity: 0.378945 borders: 0.011257 filter: 0.015184 fill: 0\n",
      "[CPU] estimating 530x721x128 disparity using 530x721x8u tiles\n",
      "timings: rectify: 0.016972 disparity: 0.423177 borders: 0.015086 filter: 0.019088 fill: 0\n",
      "[CPU] estimating 498x810x128 disparity using 498x810x8u tiles\n",
      "timings: rectify: 0.017869 disparity: 0.455548 borders: 0.016178 filter: 0.020441 fill: 0\n",
      "[CPU] estimating 438x729x128 disparity using 438x729x8u tiles\n",
      "timings: rectify: 0.014371 disparity: 0.357971 borders: 0.010937 filter: 0.014955 fill: 0\n",
      "[CPU] estimating 325x748x160 disparity using 325x748x8u tiles\n",
      "timings: rectify: 0.010698 disparity: 0.309722 borders: 0.009509 filter: 0.01253 fill: 0\n",
      "[CPU] estimating 238x648x160 disparity using 238x648x8u tiles\n",
      "timings: rectify: 0.006998 disparity: 0.195569 borders: 0.007061 filter: 0.009112 fill: 0\n",
      "[CPU] estimating 246x666x192 disparity using 246x666x8u tiles\n",
      "timings: rectify: 0.012153 disparity: 0.226285 borders: 0.006526 filter: 0.008967 fill: 0\n",
      "[CPU] estimating 359x728x160 disparity using 359x728x8u tiles\n",
      "timings: rectify: 0.012513 disparity: 0.329637 borders: 0.007783 filter: 0.011608 fill: 1e-06\n",
      "[CPU] estimating 437x716x160 disparity using 437x716x8u tiles\n",
      "timings: rectify: 0.01384 disparity: 0.395648 borders: 0.010244 filter: 0.014063 fill: 0\n",
      "[CPU] estimating 498x810x128 disparity using 498x810x8u tiles\n",
      "timings: rectify: 0.015227 disparity: 0.429426 borders: 0.013217 filter: 0.017549 fill: 0\n",
      "[CPU] estimating 459x736x128 disparity using 459x736x8u tiles\n",
      "timings: rectify: 0.012742 disparity: 0.367816 borders: 0.012864 filter: 0.016963 fill: 0\n",
      "[CPU] estimating 397x755x128 disparity using 397x755x8u tiles\n",
      "timings: rectify: 0.01307 disparity: 0.33313 borders: 0.010803 filter: 0.014451 fill: 0\n",
      "[CPU] estimating 306x727x128 disparity using 306x727x8u tiles\n",
      "timings: rectify: 0.009911 disparity: 0.267277 borders: 0.008547 filter: 0.01157 fill: 0\n",
      "[CPU] estimating 238x644x160 disparity using 238x644x8u tiles\n",
      "timings: rectify: 0.007289 disparity: 0.178424 borders: 0.005315 filter: 0.00719 fill: 0\n",
      "[CPU] estimating 238x644x160 disparity using 238x644x8u tiles\n",
      "timings: rectify: 0.006854 disparity: 0.177539 borders: 0.005125 filter: 0.007178 fill: 0\n",
      "[CPU] estimating 314x714x128 disparity using 314x714x8u tiles\n",
      "timings: rectify: 0.009921 disparity: 0.2464 borders: 0.008044 filter: 0.010763 fill: 1e-06\n",
      "[CPU] estimating 453x720x128 disparity using 453x720x8u tiles\n",
      "timings: rectify: 0.014181 disparity: 0.358037 borders: 0.0118 filter: 0.015671 fill: 0\n",
      "[CPU] estimating 555x754x128 disparity using 555x754x8u tiles\n",
      "timings: rectify: 0.015638 disparity: 0.449535 borders: 0.014118 filter: 0.018644 fill: 0\n",
      "[CPU] estimating 607x858x128 disparity using 607x858x8u tiles\n",
      "timings: rectify: 0.019618 disparity: 0.553673 borders: 0.017326 filter: 0.023229 fill: 0\n",
      "[CPU] estimating 529x783x160 disparity using 529x783x8u tiles\n",
      "timings: rectify: 0.01575 disparity: 0.463231 borders: 0.01314 filter: 0.017717 fill: 0\n",
      "[CPU] estimating 240x705x192 disparity using 240x705x8u tiles\n",
      "timings: rectify: 0.006854 disparity: 0.193943 borders: 0.006394 filter: 0.008645 fill: 0\n",
      "[CPU] estimating 331x757x160 disparity using 331x757x8u tiles\n",
      "timings: rectify: 0.009676 disparity: 0.287895 borders: 0.008811 filter: 0.0119 fill: 0\n",
      "[CPU] estimating 437x745x128 disparity using 437x745x8u tiles\n",
      "timings: rectify: 0.01482 disparity: 0.369351 borders: 0.01231 filter: 0.0162 fill: 0\n",
      "[CPU] estimating 545x833x128 disparity using 545x833x8u tiles\n",
      "timings: rectify: 0.020212 disparity: 0.48261 borders: 0.018027 filter: 0.022892 fill: 0\n",
      "[CPU] estimating 595x839x128 disparity using 595x839x8u tiles\n",
      "timings: rectify: 0.021812 disparity: 0.545398 borders: 0.018122 filter: 0.023288 fill: 0\n",
      "[CPU] estimating 546x738x128 disparity using 546x738x8u tiles\n",
      "timings: rectify: 0.017743 disparity: 0.456552 borders: 0.013965 filter: 0.018627 fill: 1e-06\n",
      "[CPU] estimating 454x732x160 disparity using 454x732x8u tiles\n",
      "timings: rectify: 0.014654 disparity: 0.392169 borders: 0.011297 filter: 0.015414 fill: 0\n",
      "[CPU] estimating 383x667x160 disparity using 383x667x8u tiles\n",
      "timings: rectify: 0.01133 disparity: 0.294676 borders: 0.009317 filter: 0.012431 fill: 0\n",
      "[CPU] estimating 238x648x160 disparity using 238x648x8u tiles\n",
      "timings: rectify: 0.006897 disparity: 0.191375 borders: 0.006644 filter: 0.008613 fill: 0\n",
      "[CPU] estimating 306x727x128 disparity using 306x727x8u tiles\n",
      "timings: rectify: 0.011015 disparity: 0.260034 borders: 0.008024 filter: 0.011051 fill: 0\n",
      "[CPU] estimating 380x724x128 disparity using 380x724x8u tiles\n",
      "timings: rectify: 0.01228 disparity: 0.300081 borders: 0.009984 filter: 0.013097 fill: 0\n",
      "[CPU] estimating 501x776x96 disparity using 501x776x8u tiles\n",
      "timings: rectify: 0.017087 disparity: 0.461994 borders: 0.015096 filter: 0.020478 fill: 0\n",
      "[CPU] estimating 555x754x128 disparity using 555x754x8u tiles\n",
      "timings: rectify: 0.018246 disparity: 0.518506 borders: 0.016036 filter: 0.021703 fill: 0\n",
      "[CPU] estimating 492x760x160 disparity using 492x760x8u tiles\n",
      "timings: rectify: 0.016 disparity: 0.430591 borders: 0.013694 filter: 0.018215 fill: 0\n",
      "[CPU] estimating 415x786x160 disparity using 415x786x8u tiles\n",
      "timings: rectify: 0.013352 disparity: 0.387367 borders: 0.00919 filter: 0.01338 fill: 0\n",
      "[CPU] estimating 351x674x192 disparity using 351x674x8u tiles\n",
      "timings: rectify: 0.010319 disparity: 0.272252 borders: 0.008057 filter: 0.011094 fill: 0\n",
      "[CPU] estimating 441x738x160 disparity using 441x738x8u tiles\n",
      "timings: rectify: 0.014049 disparity: 0.392563 borders: 0.010771 filter: 0.014808 fill: 0\n",
      "[CPU] estimating 521x741x160 disparity using 521x741x8u tiles\n",
      "timings: rectify: 0.017132 disparity: 0.445128 borders: 0.014124 filter: 0.018819 fill: 0\n",
      "[CPU] estimating 559x823x128 disparity using 559x823x8u tiles\n",
      "timings: rectify: 0.020363 disparity: 0.503262 borders: 0.017104 filter: 0.022141 fill: 0\n",
      "[CPU] estimating 618x808x128 disparity using 618x808x8u tiles\n",
      "timings: rectify: 0.021964 disparity: 0.541218 borders: 0.018779 filter: 0.023782 fill: 0\n",
      "[CPU] estimating 451x718x128 disparity using 451x718x8u tiles\n",
      "timings: rectify: 0.014047 disparity: 0.37072 borders: 0.011376 filter: 0.015296 fill: 0\n",
      "[CPU] estimating 359x728x160 disparity using 359x728x8u tiles\n",
      "timings: rectify: 0.011468 disparity: 0.315195 borders: 0.007994 filter: 0.011512 fill: 0\n",
      "[CPU] estimating 383x667x160 disparity using 383x667x8u tiles\n",
      "timings: rectify: 0.017931 disparity: 0.348457 borders: 0.008658 filter: 0.012428 fill: 0\n",
      "[CPU] estimating 478x750x160 disparity using 478x750x8u tiles\n",
      "timings: rectify: 0.015582 disparity: 0.455199 borders: 0.012526 filter: 0.017957 fill: 0\n",
      "[CPU] estimating 552x753x128 disparity using 552x753x8u tiles\n",
      "timings: rectify: 0.017577 disparity: 0.466592 borders: 0.012868 filter: 0.017716 fill: 0\n",
      "[CPU] estimating 623x829x128 disparity using 623x829x8u tiles\n",
      "timings: rectify: 0.019341 disparity: 0.545877 borders: 0.016778 filter: 0.0221 fill: 0\n",
      "[CPU] estimating 559x823x128 disparity using 559x823x8u tiles\n",
      "timings: rectify: 0.017462 disparity: 0.489144 borders: 0.01534 filter: 0.020349 fill: 1e-06\n",
      "[CPU] estimating 473x736x160 disparity using 473x736x8u tiles\n",
      "timings: rectify: 0.013568 disparity: 0.387731 borders: 0.012999 filter: 0.016641 fill: 0\n",
      "[CPU] estimating 416x740x160 disparity using 416x740x8u tiles\n",
      "timings: rectify: 0.013399 disparity: 0.374527 borders: 0.010532 filter: 0.014408 fill: 0\n",
      "[CPU] estimating 319x684x192 disparity using 319x684x8u tiles\n",
      "timings: rectify: 0.00973 disparity: 0.253742 borders: 0.007728 filter: 0.010536 fill: 0\n",
      "[CPU] estimating 410x724x160 disparity using 410x724x8u tiles\n",
      "timings: rectify: 0.013126 disparity: 0.347508 borders: 0.010199 filter: 0.01404 fill: 0\n",
      "[CPU] estimating 517x760x128 disparity using 517x760x8u tiles\n",
      "timings: rectify: 0.016942 disparity: 0.452489 borders: 0.013753 filter: 0.018088 fill: 0\n",
      "[CPU] estimating 595x839x128 disparity using 595x839x8u tiles\n",
      "timings: rectify: 0.021493 disparity: 0.545888 borders: 0.018348 filter: 0.023668 fill: 0\n",
      "[CPU] estimating 657x837x128 disparity using 657x837x8u tiles\n",
      "timings: rectify: 0.023717 disparity: 0.593576 borders: 0.020682 filter: 0.026496 fill: 0\n",
      "[CPU] estimating 549x741x128 disparity using 549x741x8u tiles\n",
      "timings: rectify: 0.018003 disparity: 0.460494 borders: 0.013046 filter: 0.017845 fill: 1e-06\n",
      "[CPU] estimating 478x750x160 disparity using 478x750x8u tiles\n",
      "timings: rectify: 0.013486 disparity: 0.417181 borders: 0.013086 filter: 0.017297 fill: 0\n",
      "[CPU] estimating 351x674x192 disparity using 351x674x8u tiles\n",
      "timings: rectify: 0.010288 disparity: 0.261215 borders: 0.00782 filter: 0.010675 fill: 0\n",
      "[CPU] estimating 354x640x160 disparity using 354x640x8u tiles\n",
      "timings: rectify: 0.009695 disparity: 0.277909 borders: 0.009516 filter: 0.011979 fill: 0\n",
      "[CPU] estimating 454x732x160 disparity using 454x732x8u tiles\n",
      "timings: rectify: 0.02178 disparity: 0.395346 borders: 0.011736 filter: 0.015849 fill: 0\n",
      "[CPU] estimating 549x741x128 disparity using 549x741x8u tiles\n",
      "timings: rectify: 0.018018 disparity: 0.47012 borders: 0.015028 filter: 0.01971 fill: 0\n",
      "[CPU] estimating 598x826x128 disparity using 598x826x8u tiles\n",
      "timings: rectify: 0.021628 disparity: 0.551605 borders: 0.01962 filter: 0.025038 fill: 0\n",
      "[CPU] estimating 623x829x128 disparity using 623x829x8u tiles\n",
      "timings: rectify: 0.022793 disparity: 0.56796 borders: 0.02009 filter: 0.025449 fill: 0\n",
      "[CPU] estimating 521x741x160 disparity using 521x741x8u tiles\n",
      "timings: rectify: 0.01712 disparity: 0.449381 borders: 0.013716 filter: 0.018005 fill: 0\n",
      "[CPU] estimating 427x756x160 disparity using 427x756x8u tiles\n",
      "timings: rectify: 0.014484 disparity: 0.388409 borders: 0.011026 filter: 0.014961 fill: 0\n",
      "[CPU] estimating 326x681x192 disparity using 326x681x8u tiles\n",
      "timings: rectify: 0.010948 disparity: 0.275224 borders: 0.008808 filter: 0.011792 fill: 0\n",
      "[CPU] estimating 325x748x160 disparity using 325x748x8u tiles\n",
      "timings: rectify: 0.01127 disparity: 0.301071 borders: 0.009281 filter: 0.012322 fill: 0\n",
      "[CPU] estimating 397x755x128 disparity using 397x755x8u tiles\n",
      "timings: rectify: 0.01373 disparity: 0.327044 borders: 0.01086 filter: 0.014067 fill: 0\n",
      "[CPU] estimating 446x796x96 disparity using 446x796x8u tiles\n",
      "timings: rectify: 0.015735 disparity: 0.379687 borders: 0.013932 filter: 0.017779 fill: 1e-06\n",
      "[CPU] estimating 501x776x96 disparity using 501x776x8u tiles\n",
      "timings: rectify: 0.017105 disparity: 0.440911 borders: 0.014812 filter: 0.019151 fill: 0\n",
      "[CPU] estimating 453x720x128 disparity using 453x720x8u tiles\n",
      "timings: rectify: 0.014278 disparity: 0.376339 borders: 0.011114 filter: 0.015049 fill: 0\n",
      "[CPU] estimating 361x707x128 disparity using 361x707x8u tiles\n",
      "timings: rectify: 0.011608 disparity: 0.308102 borders: 0.009694 filter: 0.013201 fill: 0\n",
      "[CPU] estimating 293x654x128 disparity using 293x654x8u tiles\n",
      "timings: rectify: 0.008552 disparity: 0.236273 borders: 0.00826 filter: 0.010878 fill: 0\n",
      "[CPU] estimating 341x689x192 disparity using 341x689x8u tiles\n",
      "timings: rectify: 0.010603 disparity: 0.293099 borders: 0.008922 filter: 0.011996 fill: 0\n",
      "[CPU] estimating 427x756x160 disparity using 427x756x8u tiles\n",
      "timings: rectify: 0.01481 disparity: 0.383019 borders: 0.011297 filter: 0.015277 fill: 1e-06\n",
      "[CPU] estimating 473x736x160 disparity using 473x736x8u tiles\n",
      "timings: rectify: 0.015335 disparity: 0.407609 borders: 0.014669 filter: 0.016495 fill: 0\n",
      "[CPU] estimating 618x808x128 disparity using 618x808x8u tiles\n",
      "timings: rectify: 0.021894 disparity: 0.576649 borders: 0.019484 filter: 0.025119 fill: 0\n",
      "[CPU] estimating 530x721x128 disparity using 530x721x8u tiles\n",
      "timings: rectify: 0.017381 disparity: 0.428494 borders: 0.015575 filter: 0.019227 fill: 0\n",
      "[CPU] estimating 437x716x160 disparity using 437x716x8u tiles\n",
      "timings: rectify: 0.013744 disparity: 0.371915 borders: 0.011558 filter: 0.015614 fill: 0\n",
      "[CPU] estimating 379x732x160 disparity using 379x732x8u tiles\n",
      "timings: rectify: 0.012169 disparity: 0.384224 borders: 0.008857 filter: 0.01294 fill: 0\n",
      "[CPU] estimating 336x695x160 disparity using 336x695x8u tiles\n",
      "timings: rectify: 0.010981 disparity: 0.320958 borders: 0.007178 filter: 0.011045 fill: 0\n",
      "[CPU] estimating 462x747x160 disparity using 462x747x8u tiles\n",
      "timings: rectify: 0.015917 disparity: 0.38893 borders: 0.010314 filter: 0.014483 fill: 0\n",
      "[CPU] estimating 546x738x128 disparity using 546x738x8u tiles\n",
      "timings: rectify: 0.016566 disparity: 0.458833 borders: 0.012365 filter: 0.017053 fill: 0\n",
      "[CPU] estimating 657x837x128 disparity using 657x837x8u tiles\n",
      "timings: rectify: 0.021027 disparity: 0.618291 borders: 0.019439 filter: 0.025533 fill: 0\n",
      "[CPU] estimating 598x826x128 disparity using 598x826x8u tiles\n",
      "timings: rectify: 0.021549 disparity: 0.52564 borders: 0.019241 filter: 0.024039 fill: 1e-06\n",
      "[CPU] estimating 552x753x128 disparity using 552x753x8u tiles\n",
      "timings: rectify: 0.01556 disparity: 0.480706 borders: 0.01357 filter: 0.018719 fill: 0\n",
      "[CPU] estimating 441x738x160 disparity using 441x738x8u tiles\n",
      "timings: rectify: 0.012217 disparity: 0.367706 borders: 0.009548 filter: 0.013677 fill: 1e-06\n",
      "[CPU] estimating 341x689x192 disparity using 341x689x8u tiles\n",
      "timings: rectify: 0.009652 disparity: 0.27601 borders: 0.007667 filter: 0.010998 fill: 1e-06\n",
      "\n",
      "Depth reconstruction devices performance:\n",
      " - 100%\t done by CPU\n",
      "Total time: 61.104 seconds\n",
      "\n",
      "BuildDenseCloud: point colors = 1\n",
      "selected 20 cameras in 0.088935 sec\n",
      "working volume: 1102x914x880\n",
      "tiles: 1x1x1\n",
      "selected 20 cameras in 7.4e-05 sec\n",
      "preloading data... done in 0.11213 sec\n",
      "filtering depth maps... done in 3.57297 sec\n",
      "preloading data... done in 0.320214 sec\n",
      "working volume: 1102x914x880\n",
      "tiles: 1x1x1\n",
      "accumulating data... done in 0.182514 sec\n",
      "building point cloud... done in 0.112945 sec\n",
      "2130686 points extracted\n",
      "SaveProject: path = /scratch//projectname.psx\n",
      "saved project in 0.478235 sec\n",
      "LoadProject: path = /scratch//projectname.psx\n",
      "loaded project in 0.010355 sec\n",
      "stop time:  1536198072.2415338\n"
     ]
    }
   ],
   "source": [
    "# print the log file if necessary\n",
    "slurmlogfilename = 'slurm-' + jobId + '.out'\n",
    "with open(slurmlogfilename, 'r') as fin:\n",
    "    print(fin.read(), end=\"\")"
   ]
  },
  {
   "cell_type": "markdown",
   "metadata": {},
   "source": [
    "## Export dense cloud\n",
    "If you want to export the dense cloud for use in other software, you can run the code boxes below. If you want to just continue with the next step in the photogrammetry process, you can skip it."
   ]
  },
  {
   "cell_type": "code",
   "execution_count": 53,
   "metadata": {},
   "outputs": [],
   "source": [
    "# Quinn - Im guessing at these extenstions, I have only used oc3\n",
    "pointsFormatExt = { 'PointsFormatOBJ':'.obj', 'PointsFormatPLY':'.ply', 'PointsFormatXYZ':'.xyz', 'PointsFormatLAS':'.las', 'PointsFormatExpe':'.???',\n",
    "'PointsFormatU3D':'.u3d', 'PointsFormatPDF':'.pdf', 'PointsFormatE57':'.e57', 'PointsFormatOC3':'.oc3', 'PointsFormatPotree':'.???',\n",
    "'PointsFormatLAZ':'.laz', 'PointsFormatCL3':'.cl3', 'PointsFormatPTS':'.pts', 'PointsFormatDXF':'.dxf' }\n",
    "\n",
    "ptsfchoice=widgets.Dropdown(description='Points Format', value='PointsFormatOC3', options= ['PointsFormatOBJ', 'PointsFormatPLY', 'PointsFormatXYZ', 'PointsFormatLAS', 'PointsFormatExpe',\n",
    "'PointsFormatU3D', 'PointsFormatPDF', 'PointsFormatE57', 'PointsFormatOC3', 'PointsFormatPotree',\n",
    "'PointsFormatLAZ', 'PointsFormatCL3', 'PointsFormatPTS', 'PointsFormatDXF']   )\n"
   ]
  },
  {
   "cell_type": "code",
   "execution_count": 145,
   "metadata": {},
   "outputs": [
    {
     "data": {
      "application/vnd.jupyter.widget-view+json": {
       "model_id": "59a934b9db0e4f37866aa8d134b7f09d",
       "version_major": 2,
       "version_minor": 0
      },
      "text/plain": [
       "interactive(children=(Dropdown(description='Points Format', index=8, options=('PointsFormatOBJ', 'PointsFormat…"
      ]
     },
     "metadata": {},
     "output_type": "display_data"
    },
    {
     "data": {
      "text/plain": [
       "<function __main__.chc(txt)>"
      ]
     },
     "execution_count": 145,
     "metadata": {},
     "output_type": "execute_result"
    }
   ],
   "source": [
    "interact(chc, txt=ptsfchoice)"
   ]
  },
  {
   "cell_type": "code",
   "execution_count": 55,
   "metadata": {},
   "outputs": [
    {
     "name": "stdout",
     "output_type": "stream",
     "text": [
      "output: #!/usr/bin/env python3 \n",
      "import PhotoScan \n",
      "doc = PhotoScan.app.document \n",
      "doc.open(\"/scratch//projectname.psx\") \n",
      "chunk = doc.chunk \n",
      "chunk.exportPoints(path=\"/scratch/photoscandemo.oc3\", format=PhotoScan.PointsFormat.PointsFormatOC3)  \n",
      "\n"
     ]
    }
   ],
   "source": [
    "template = '#!/usr/bin/env python3 \\n\\\n",
    "import PhotoScan \\n\\\n",
    "doc = PhotoScan.app.document \\n\\\n",
    "doc.open(\\\"{}\\\") \\n\\\n",
    "chunk = doc.chunk \\n\\\n",
    "chunk.exportPoints(path=\\\"{}\\\", format=PhotoScan.PointsFormat.{})  \\n' \n",
    "\n",
    "output = template.format(singularitymountfolder + projectFile,  singularitymountfolder + 'photoscandemo' + pointsFormatExt[ptsfchoice.value], ptsfchoice.value)\n",
    "\n",
    "print('output:', output)\n",
    "\n",
    "with open(commandScript, 'w') as f:\n",
    "    f.write(output)"
   ]
  },
  {
   "cell_type": "code",
   "execution_count": 56,
   "metadata": {},
   "outputs": [
    {
     "name": "stdout",
     "output_type": "stream",
     "text": [
      " Export the points  output:  ['Submitted batch job 3326422']\n",
      "3326422\n"
     ]
    }
   ],
   "source": [
    "out = !sbatch slurmscript.sh   \n",
    "        \n",
    "print (' Export the points  output: ', out ) \n",
    "jobId =  out[0].split()[3]\n",
    "print (jobId)"
   ]
  },
  {
   "cell_type": "code",
   "execution_count": 57,
   "metadata": {},
   "outputs": [
    {
     "name": "stdout",
     "output_type": "stream",
     "text": [
      "             JOBID PARTITION     NAME     USER ST       TIME  NODES NODELIST(REASON)\n",
      "           3326422     savio projectn  myashar PD       0:00      1 (Resources)\n",
      "--------------------------------\n",
      "JobId=3326422 JobName=projectname\n",
      "   UserId=myashar(43974) GroupId=ucb(501) MCS_label=N/A\n",
      "   Priority=419111 Nice=0 Account=ac_scsguest QOS=savio_normal\n",
      "   JobState=PENDING Reason=Resources Dependency=(null)\n",
      "   Requeue=0 Restarts=0 BatchFlag=1 Reboot=0 ExitCode=0:0\n",
      "   RunTime=00:00:00 TimeLimit=01:00:00 TimeMin=N/A\n",
      "   SubmitTime=2018-09-05T18:53:29 EligibleTime=2018-09-05T18:53:29\n",
      "   StartTime=Unknown EndTime=Unknown Deadline=N/A\n",
      "   PreemptTime=None SuspendTime=None SecsPreSuspend=0\n",
      "   LastSchedEval=2018-09-05T18:53:30\n",
      "   Partition=savio AllocNode:Sid=jupyter:271001\n",
      "   ReqNodeList=(null) ExcNodeList=(null)\n",
      "   NodeList=(null)\n",
      "   NumNodes=1 NumCPUs=1 NumTasks=1 CPUs/Task=1 ReqB:S:C:T=0:0:*:*\n",
      "   TRES=cpu=1,mem=62.50G,node=1\n",
      "   Socks/Node=* NtasksPerN:B:S:C=0:0:*:* CoreSpec=*\n",
      "   MinCPUsNode=1 MinMemoryNode=62.50G MinTmpDiskNode=0\n",
      "   Features=(null) DelayBoot=00:00:00\n",
      "   Gres=(null) Reservation=(null)\n",
      "   OverSubscribe=NO Contiguous=0 Licenses=(null) Network=(null)\n",
      "   Command=/global/scratch/myashar/projectname/slurmscript.sh\n",
      "   WorkDir=/global/scratch/myashar/projectname\n",
      "   StdErr=/global/scratch/myashar/projectname/slurm-3326422.out\n",
      "   StdIn=/dev/null\n",
      "   StdOut=/global/scratch/myashar/projectname/slurm-3326422.out\n",
      "   Power=\n",
      "\n"
     ]
    }
   ],
   "source": [
    "# print the users queue and the job status by id\n",
    "!squeue -u $username\n",
    "print('--------------------------------')\n",
    "!scontrol show job $jobId"
   ]
  },
  {
   "cell_type": "markdown",
   "metadata": {},
   "source": [
    "## Update project on Box\n",
    "After generating the dense cloud, the .psx file will be much larger and this may take a moment.\n",
    "**Maurice: add success message**"
   ]
  },
  {
   "cell_type": "code",
   "execution_count": 58,
   "metadata": {
    "scrolled": true
   },
   "outputs": [
    {
     "name": "stdout",
     "output_type": "stream",
     "text": [
      "find_folder_id folder_name:  myBoxFolderName\n",
      "find_folder_id folderlist:  [<Box Folder - 53223729428 (myBoxFolderName)>, <Box Folder - 52394687398 (myBoxFolderName_Test1)>]\n",
      "Box folder id:  53223729428\n",
      "project file list:  [<Box File - 317022687393 (projectname.psx)>]\n",
      "datazip file list:  [<Box File - 317017752277 (projectname.files.zip)>]\n",
      "project file id:  317022687393\n",
      "data zip file list:  317017752277\n",
      "begin project file update.\n",
      "update psx result:  <Box File - 317022687393>    update zip result:  <Box File - 317017752277>\n"
     ]
    }
   ],
   "source": [
    "update_project_file_in_box()"
   ]
  },
  {
   "cell_type": "markdown",
   "metadata": {},
   "source": [
    "## OFFLINE: Dense cloud clean-up\n",
    "At this point, you may want to clean up the dense point cloud by removing stray points (e.g. for objects that have not been photographed in a lightbox, where there might be artifacts from the background, etc.) This should be done using the desktop version of Photoscan. \n",
    "\n",
    "Be sure to save the updated project file back to the same place in Box if you want to run the next processing steps through this notebook."
   ]
  },
  {
   "cell_type": "markdown",
   "metadata": {},
   "source": [
    "# Build Mesh\n",
    "\n",
    "First, retrieve the project file (.psx) from Box, in case it has been updated."
   ]
  },
  {
   "cell_type": "code",
   "execution_count": 60,
   "metadata": {
    "scrolled": false
   },
   "outputs": [
    {
     "name": "stdout",
     "output_type": "stream",
     "text": [
      "find_folder_id folder_name:  myBoxFolderName\n",
      "find_folder_id folderlist:  [<Box Folder - 53223729428 (myBoxFolderName)>, <Box Folder - 52394687398 (myBoxFolderName_Test1)>]\n",
      "downloading:  projectname.files.zip\n",
      "data zip file download complete.\n",
      "downloading:  projectname.psx\n",
      "new file:  <_io.BufferedWriter name='/global/scratch/myashar/projectname/projectname.psx'>\n",
      "project file download complete.\n"
     ]
    }
   ],
   "source": [
    "retrieve_project_file()"
   ]
  },
  {
   "cell_type": "markdown",
   "metadata": {},
   "source": [
    "## Choose parameters\n",
    "Running the code box below will create three sets of drop-downs where you can choose the surface type, face count, and data source."
   ]
  },
  {
   "cell_type": "code",
   "execution_count": 61,
   "metadata": {},
   "outputs": [],
   "source": [
    "stchoice=widgets.Dropdown(description='Surface type', value='Arbitrary', options=['Arbitrary', 'HeightField'])\n",
    "fcchoice=widgets.Dropdown(description='Face count', value='HighFaceCount', options= ['LowFaceCount', 'MediumFaceCount', 'HighFaceCount'] )\n",
    "dschoice=widgets.Dropdown(description='Data source', value='DenseCloudData', options=['PointCloudData', 'DenseCloudData', 'DepthMapsData', 'ModelData', 'TiledModelData', 'ElevationData',\n",
    "'OrthomosaicData']  )\n"
   ]
  },
  {
   "cell_type": "code",
   "execution_count": 146,
   "metadata": {},
   "outputs": [
    {
     "data": {
      "application/vnd.jupyter.widget-view+json": {
       "model_id": "4aeadb857c7f4bc2bdb115d051938fe4",
       "version_major": 2,
       "version_minor": 0
      },
      "text/plain": [
       "interactive(children=(Dropdown(description='Surface type', options=('Arbitrary', 'HeightField'), value='Arbitr…"
      ]
     },
     "metadata": {},
     "output_type": "display_data"
    },
    {
     "data": {
      "application/vnd.jupyter.widget-view+json": {
       "model_id": "515ffa4cf0294b038c3361cb155373bb",
       "version_major": 2,
       "version_minor": 0
      },
      "text/plain": [
       "interactive(children=(Dropdown(description='Face count', index=2, options=('LowFaceCount', 'MediumFaceCount', …"
      ]
     },
     "metadata": {},
     "output_type": "display_data"
    },
    {
     "data": {
      "application/vnd.jupyter.widget-view+json": {
       "model_id": "fd99400a69b842379c5de8d37044294d",
       "version_major": 2,
       "version_minor": 0
      },
      "text/plain": [
       "interactive(children=(Dropdown(description='Data source', index=1, options=('PointCloudData', 'DenseCloudData'…"
      ]
     },
     "metadata": {},
     "output_type": "display_data"
    },
    {
     "data": {
      "text/plain": [
       "<function __main__.chc(txt)>"
      ]
     },
     "execution_count": 146,
     "metadata": {},
     "output_type": "execute_result"
    }
   ],
   "source": [
    "interact(chc, txt=stchoice)\n",
    "interact(chc, txt=fcchoice)\n",
    "interact(chc, txt=dschoice)"
   ]
  },
  {
   "cell_type": "code",
   "execution_count": 63,
   "metadata": {
    "scrolled": false
   },
   "outputs": [
    {
     "name": "stdout",
     "output_type": "stream",
     "text": [
      "output: #!/usr/bin/env python3 \n",
      "import PhotoScan \n",
      "import time \n",
      "print( \"start time: \", time.time()) \n",
      "doc = PhotoScan.app.document \n",
      "doc.open(\"/scratch//projectname.psx\") \n",
      "chunk = doc.chunk \n",
      "chunk.buildModel(surface=PhotoScan.Arbitrary, source=PhotoScan.DenseCloudData, face_count=PhotoScan.HighFaceCount ) \n",
      "doc.save(\"/scratch//projectname.psx\") \n",
      "print( \"stop time: \", time.time()) \n",
      "\n"
     ]
    }
   ],
   "source": [
    "template = '#!/usr/bin/env python3 \\n\\\n",
    "import PhotoScan \\n\\\n",
    "import time \\n\\\n",
    "print( \"start time: \", time.time()) \\n\\\n",
    "doc = PhotoScan.app.document \\n\\\n",
    "doc.open(\\\"{}\\\") \\n\\\n",
    "chunk = doc.chunk \\n\\\n",
    "chunk.buildModel(surface=PhotoScan.{}, source=PhotoScan.{}, face_count=PhotoScan.{} ) \\n\\\n",
    "doc.save(\\\"{}\\\") \\n\\\n",
    "print( \"stop time: \", time.time()) \\n'\n",
    "\n",
    "output = template.format(singularitymountfolder + projectFile, stchoice.value, dschoice.value, fcchoice.value, singularitymountfolder + projectFile)\n",
    "\n",
    "print('output:', output)\n",
    "\n",
    "with open(commandScript, 'w') as f:  \n",
    "    f.write(output)\n",
    "\n",
    "\n",
    "#set time limit for this batch run\n",
    "outputbatchscript = batchtemplate.format('00:30:00')\n",
    "with open(slurmScript, 'w') as f:  \n",
    "    f.write(outputbatchscript)\n",
    "    "
   ]
  },
  {
   "cell_type": "markdown",
   "metadata": {},
   "source": [
    "## Run mesh build\n",
    "The code box below will submit your job and print out your job ID."
   ]
  },
  {
   "cell_type": "code",
   "execution_count": 64,
   "metadata": {
    "scrolled": false
   },
   "outputs": [
    {
     "name": "stdout",
     "output_type": "stream",
     "text": [
      "Execute the mesh build output:  ['Submitted batch job 3333620']\n",
      "3333620\n"
     ]
    }
   ],
   "source": [
    "out = !sbatch slurmscript.sh   \n",
    "    \n",
    "print ('Execute the mesh build output: ', out ) \n",
    "jobId =  out[0].split()[3]\n",
    "print (jobId) "
   ]
  },
  {
   "cell_type": "markdown",
   "metadata": {},
   "source": [
    "## Check on mesh build status\n",
    "Run the code box below to get the current status of the mesh build job. You can run it multiple times for the most recent status."
   ]
  },
  {
   "cell_type": "code",
   "execution_count": 65,
   "metadata": {},
   "outputs": [
    {
     "name": "stdout",
     "output_type": "stream",
     "text": [
      "             JOBID PARTITION     NAME     USER ST       TIME  NODES NODELIST(REASON)\n",
      "--------------------------------\n",
      "slurm_load_jobs error: Invalid job id specified\n"
     ]
    }
   ],
   "source": [
    "# print the users queue and the job status by id\n",
    "!squeue -u $username\n",
    "print('--------------------------------')\n",
    "!scontrol show job $jobId"
   ]
  },
  {
   "cell_type": "markdown",
   "metadata": {},
   "source": [
    "## Display log message\n",
    "\n",
    "As an optional step, you can run the code below to see the log file once the job is done."
   ]
  },
  {
   "cell_type": "code",
   "execution_count": 66,
   "metadata": {},
   "outputs": [
    {
     "name": "stdout",
     "output_type": "stream",
     "text": [
      "Enabling debugging\n",
      "Ending argument loop\n",
      "Singularity version: 2.4-dist\n",
      "Exec'ing: /usr/libexec/singularity/cli/exec.exec\n",
      "Evaluating args: '-B /global/scratch/myashar/projectname/:/scratch/ /global/scratch/myashar/container/photoscan_1_4_3.simg /scratch/execscript.sh -platform offscreen'\n",
      "VERBOSE [U=0,P=77900]      message_init()                            Set messagelevel to: 5\n",
      "\u001b[0mVERBOSE [U=0,P=77900]      singularity_config_parse()                Initialize configuration file: /etc/singularity/singularity.conf\n",
      "\u001b[0mDEBUG   [U=0,P=77900]      singularity_config_parse()                Starting parse of configuration file /etc/singularity/singularity.conf\n",
      "\u001b[0mVERBOSE [U=0,P=77900]      singularity_config_parse()                Got config key allow setuid = 'yes'\n",
      "\u001b[0mVERBOSE [U=0,P=77900]      singularity_config_parse()                Got config key max loop devices = '256'\n",
      "\u001b[0mVERBOSE [U=0,P=77900]      singularity_config_parse()                Got config key allow pid ns = 'yes'\n",
      "\u001b[0mVERBOSE [U=0,P=77900]      singularity_config_parse()                Got config key config passwd = 'yes'\n",
      "\u001b[0mVERBOSE [U=0,P=77900]      singularity_config_parse()                Got config key config group = 'yes'\n",
      "\u001b[0mVERBOSE [U=0,P=77900]      singularity_config_parse()                Got config key config resolv_conf = 'yes'\n",
      "\u001b[0mVERBOSE [U=0,P=77900]      singularity_config_parse()                Got config key mount proc = 'yes'\n",
      "\u001b[0mVERBOSE [U=0,P=77900]      singularity_config_parse()                Got config key mount sys = 'yes'\n",
      "\u001b[0mVERBOSE [U=0,P=77900]      singularity_config_parse()                Got config key mount dev = 'yes'\n",
      "\u001b[0mVERBOSE [U=0,P=77900]      singularity_config_parse()                Got config key mount devpts = 'yes'\n",
      "\u001b[0mVERBOSE [U=0,P=77900]      singularity_config_parse()                Got config key mount home = 'no'\n",
      "\u001b[0mVERBOSE [U=0,P=77900]      singularity_config_parse()                Got config key mount tmp = 'yes'\n",
      "\u001b[0mVERBOSE [U=0,P=77900]      singularity_config_parse()                Got config key mount hostfs = 'no'\n",
      "\u001b[0mVERBOSE [U=0,P=77900]      singularity_config_parse()                Got config key bind path = '/etc/localtime'\n",
      "\u001b[0mVERBOSE [U=0,P=77900]      singularity_config_parse()                Got config key bind path = '/etc/hosts'\n",
      "\u001b[0mVERBOSE [U=0,P=77900]      singularity_config_parse()                Got config key bind path = '/global/scratch'\n",
      "\u001b[0mVERBOSE [U=0,P=77900]      singularity_config_parse()                Got config key bind path = '/global/home/users'\n",
      "\u001b[0mVERBOSE [U=0,P=77900]      singularity_config_parse()                Got config key user bind control = 'yes'\n",
      "\u001b[0mVERBOSE [U=0,P=77900]      singularity_config_parse()                Got config key enable overlay = 'no'\n",
      "\u001b[0mVERBOSE [U=0,P=77900]      singularity_config_parse()                Got config key mount slave = 'yes'\n",
      "\u001b[0mVERBOSE [U=0,P=77900]      singularity_config_parse()                Got config key sessiondir max size = '16'\n",
      "\u001b[0mVERBOSE [U=0,P=77900]      singularity_config_parse()                Got config key allow container squashfs = 'yes'\n",
      "\u001b[0mVERBOSE [U=0,P=77900]      singularity_config_parse()                Got config key allow container extfs = 'yes'\n",
      "\u001b[0mVERBOSE [U=0,P=77900]      singularity_config_parse()                Got config key allow container dir = 'yes'\n",
      "\u001b[0mDEBUG   [U=0,P=77900]      singularity_config_parse()                Finished parsing configuration file '/etc/singularity/singularity.conf'\n",
      "\u001b[0mVERBOSE [U=0,P=77900]      singularity_registry_init()               Initializing Singularity Registry\n",
      "\u001b[0mVERBOSE [U=0,P=77900]      singularity_registry_set()                Adding value to registry: 'LIBEXECDIR' = '/usr/libexec'\n",
      "\u001b[0mDEBUG   [U=0,P=77900]      singularity_registry_set()                Returning singularity_registry_set(libexecdir, /usr/libexec) = 0\n",
      "\u001b[0mVERBOSE [U=0,P=77900]      singularity_registry_set()                Adding value to registry: 'COMMAND' = 'exec'\n",
      "\u001b[0mDEBUG   [U=0,P=77900]      singularity_registry_set()                Returning singularity_registry_set(COMMAND, exec) = 0\n",
      "\u001b[0mVERBOSE [U=0,P=77900]      singularity_registry_set()                Adding value to registry: 'MESSAGELEVEL' = '5'\n",
      "\u001b[0mDEBUG   [U=0,P=77900]      singularity_registry_set()                Returning singularity_registry_set(MESSAGELEVEL, 5) = 0\n",
      "\u001b[0mVERBOSE [U=0,P=77900]      singularity_registry_set()                Adding value to registry: 'VERSION' = '2.4-dist'\n",
      "\u001b[0mDEBUG   [U=0,P=77900]      singularity_registry_set()                Returning singularity_registry_set(version, 2.4-dist) = 0\n",
      "\u001b[0mVERBOSE [U=0,P=77900]      singularity_registry_set()                Adding value to registry: 'LOCALSTATEDIR' = '/var'\n",
      "\u001b[0mDEBUG   [U=0,P=77900]      singularity_registry_set()                Returning singularity_registry_set(localstatedir, /var) = 0\n",
      "\u001b[0mVERBOSE [U=0,P=77900]      singularity_registry_set()                Adding value to registry: 'SYSCONFDIR' = '/etc'\n",
      "\u001b[0mDEBUG   [U=0,P=77900]      singularity_registry_set()                Returning singularity_registry_set(sysconfdir, /etc) = 0\n",
      "\u001b[0mVERBOSE [U=0,P=77900]      singularity_registry_set()                Adding value to registry: 'BINDPATH' = ',/global/scratch/myashar/projectname/:/scratch/'\n",
      "\u001b[0mDEBUG   [U=0,P=77900]      singularity_registry_set()                Returning singularity_registry_set(BINDPATH, ,/global/scratch/myashar/projectname/:/scratch/) = 0\n",
      "\u001b[0mVERBOSE [U=0,P=77900]      singularity_registry_set()                Adding value to registry: 'BINDIR' = '/usr/bin'\n",
      "\u001b[0mDEBUG   [U=0,P=77900]      singularity_registry_set()                Returning singularity_registry_set(bindir, /usr/bin) = 0\n",
      "\u001b[0mVERBOSE [U=0,P=77900]      singularity_registry_set()                Adding value to registry: 'IMAGE' = '/global/scratch/myashar/container/photoscan_1_4_3.simg'\n",
      "\u001b[0mDEBUG   [U=0,P=77900]      singularity_registry_set()                Returning singularity_registry_set(IMAGE, /global/scratch/myashar/container/photoscan_1_4_3.simg) = 0\n",
      "\u001b[0mDEBUG   [U=0,P=77900]      singularity_registry_get()                Returning NULL on 'HOME'\n",
      "\u001b[0mDEBUG   [U=0,P=77900]      singularity_registry_get()                Returning NULL on 'TARGET_UID'\n",
      "\u001b[0mDEBUG   [U=0,P=77900]      singularity_registry_get()                Returning NULL on 'TARGET_GID'\n",
      "\u001b[0mDEBUG   [U=0,P=77900]      singularity_priv_init()                   Initializing user info\n",
      "\u001b[0mDEBUG   [U=0,P=77900]      singularity_priv_init()                   Set the calling user's username to: myashar\n",
      "\u001b[0mDEBUG   [U=0,P=77900]      singularity_priv_init()                   Marking uinfo structure as ready\n",
      "\u001b[0mDEBUG   [U=0,P=77900]      singularity_priv_init()                   Obtaining home directory\n",
      "\u001b[0mVERBOSE [U=0,P=77900]      singularity_priv_init()                   Set home (via getpwuid()) to: /global/home/users/myashar\n",
      "\u001b[0mVERBOSE [U=0,P=77900]      singularity_suid_init()                   Running SUID program workflow\n",
      "\u001b[0mVERBOSE [U=0,P=77900]      singularity_suid_init()                   Checking program has appropriate permissions\n",
      "\u001b[0mVERBOSE [U=0,P=77900]      singularity_suid_init()                   Checking configuration file is properly owned by root\n",
      "\u001b[0mVERBOSE [U=0,P=77900]      singularity_suid_init()                   Checking if singularity.conf allows us to run as suid\n",
      "\u001b[0mDEBUG   [U=0,P=77900]      singularity_config_get_bool_char_impl()   Called singularity_config_get_bool(allow setuid, yes)\n",
      "\u001b[0mDEBUG   [U=0,P=77900]      singularity_config_get_value_impl()       Returning configuration value allow setuid='yes'\n",
      "\u001b[0mDEBUG   [U=0,P=77900]      singularity_config_get_bool_char_impl()   Return singularity_config_get_bool(allow setuid, yes) = 1\n",
      "\u001b[0mDEBUG   [U=0,P=77900]      singularity_registry_get()                Returning NULL on 'NOSUID'\n",
      "\u001b[0mVERBOSE [U=0,P=77900]      singularity_priv_userns()                 Invoking the user namespace\n",
      "\u001b[0mDEBUG   [U=0,P=77900]      singularity_config_get_bool_char_impl()   Called singularity_config_get_bool(allow user ns, yes)\n",
      "\u001b[0mDEBUG   [U=0,P=77900]      singularity_config_get_value_impl()       No configuration entry found for 'allow user ns'; returning default value 'yes'\n",
      "\u001b[0mDEBUG   [U=0,P=77900]      singularity_config_get_bool_char_impl()   Return singularity_config_get_bool(allow user ns, yes) = 1\n",
      "\u001b[0mVERBOSE [U=0,P=77900]      singularity_priv_userns()                 Not virtualizing USER namespace: running as SUID\n",
      "\u001b[0mDEBUG   [U=0,P=77900]      singularity_priv_userns()                 Returning singularity_priv_init(void)\n",
      "\u001b[0mDEBUG   [U=0,P=77900]      singularity_priv_drop()                   Dropping privileges to UID=43974, GID=501 (3 supplementary GIDs)\n",
      "\u001b[0mDEBUG   [U=0,P=77900]      singularity_priv_drop()                   Restoring supplementary groups\n",
      "\u001b[0mDEBUG   [U=43974,P=77900]  singularity_priv_drop()                   Confirming we have correct UID/GID\n",
      "\u001b[0mDEBUG   [U=43974,P=77900]  singularity_registry_get()                Returning NULL on 'DAEMON_START'\n",
      "\u001b[0mDEBUG   [U=43974,P=77900]  singularity_registry_get()                Returning NULL on 'DAEMON_JOIN'\n",
      "\u001b[0mDEBUG   [U=43974,P=77900]  singularity_daemon_init()                 Not joining a daemon, daemon join not set\n",
      "\u001b[0mDEBUG   [U=43974,P=77900]  singularity_registry_get()                Returning NULL on 'WRITABLE'\n",
      "\u001b[0mVERBOSE [U=43974,P=77900]  main()                                    Instantiating read only container image object\n",
      "\u001b[0mDEBUG   [U=43974,P=77900]  singularity_registry_get()                Returning value from registry: 'IMAGE' = '/global/scratch/myashar/container/photoscan_1_4_3.simg'\n",
      "\u001b[0mDEBUG   [U=43974,P=77900]  singularity_image_init()                  Calling image_init for each file system module\n",
      "\u001b[0mDEBUG   [U=43974,P=77900]  singularity_image_dir_init()              Opening file descriptor to directory: /global/scratch/myashar/container/photoscan_1_4_3.simg\n",
      "\u001b[0mDEBUG   [U=43974,P=77900]  singularity_image_dir_init()              This is not a directory based image\n",
      "\u001b[0mDEBUG   [U=43974,P=77900]  singularity_image_squashfs_init()         Checking if writable image requested\n",
      "\u001b[0mDEBUG   [U=43974,P=77900]  singularity_image_squashfs_init()         Opening file descriptor to image: /global/scratch/myashar/container/photoscan_1_4_3.simg\n",
      "\u001b[0mVERBOSE [U=43974,P=77900]  singularity_image_squashfs_init()         Checking that file pointer is a Singularity image\n",
      "\u001b[0mDEBUG   [U=43974,P=77900]  singularity_image_squashfs_init()         Checking for magic in the top of the file\n",
      "\u001b[0mVERBOSE [U=43974,P=77900]  singularity_image_squashfs_init()         File is a valid SquashFS image\n",
      "\u001b[0mDEBUG   [U=43974,P=77900]  singularity_image_init()                  got image_init type for squashfs\n",
      "\u001b[0mDEBUG   [U=43974,P=77900]  singularity_config_get_bool_char_impl()   Called singularity_config_get_bool(allow container squashfs, yes)\n",
      "\u001b[0mDEBUG   [U=43974,P=77900]  singularity_config_get_value_impl()       Returning configuration value allow container squashfs='yes'\n",
      "\u001b[0mDEBUG   [U=43974,P=77900]  singularity_config_get_bool_char_impl()   Return singularity_config_get_bool(allow container squashfs, yes) = 1\n",
      "\u001b[0mDEBUG   [U=43974,P=77900]  singularity_config_get_value_impl()       No configuration entry found for 'limit container paths'; returning default value 'NULL'\n",
      "\u001b[0mDEBUG   [U=43974,P=77900]  singularity_config_get_value_impl()       No configuration entry found for 'limit container owners'; returning default value 'NULL'\n",
      "\u001b[0mDEBUG   [U=43974,P=77900]  singularity_registry_get()                Returning NULL on 'DAEMON_JOIN'\n",
      "\u001b[0mDEBUG   [U=43974,P=77900]  singularity_registry_get()                Returning NULL on 'CLEANUPDIR'\n",
      "\u001b[0mVERBOSE [U=43974,P=77900]  singularity_registry_set()                Adding value to registry: 'CLEANUPD_FD' = '-1'\n",
      "\u001b[0mDEBUG   [U=43974,P=77900]  singularity_registry_set()                Returning singularity_registry_set(CLEANUPD_FD, -1) = 0\n",
      "\u001b[0mDEBUG   [U=43974,P=77900]  singularity_registry_get()                Returning NULL on 'DAEMON_JOIN'\n",
      "\u001b[0mDEBUG   [U=43974,P=77900]  singularity_registry_get()                Returning NULL on 'NOSESSIONCLEANUP'\n",
      "\u001b[0mDEBUG   [U=43974,P=77900]  singularity_registry_get()                Returning NULL on 'NOCLEANUP'\n",
      "\u001b[0mDEBUG   [U=43974,P=77900]  singularity_cleanupd()                    Not running a cleanup thread, no 'SINGULARITY_CLEANUPDIR' defined\n",
      "\u001b[0mDEBUG   [U=43974,P=77900]  singularity_registry_get()                Returning NULL on 'DAEMON_JOIN'\n",
      "\u001b[0mDEBUG   [U=43974,P=77900]  singularity_runtime_ns()                  Calling: _singularity_runtime_ns_ipc()\n",
      "\u001b[0mDEBUG   [U=43974,P=77900]  singularity_config_get_bool_char_impl()   Called singularity_config_get_bool(allow ipc ns, yes)\n",
      "\u001b[0mDEBUG   [U=43974,P=77900]  singularity_config_get_value_impl()       No configuration entry found for 'allow ipc ns'; returning default value 'yes'\n",
      "\u001b[0mDEBUG   [U=43974,P=77900]  singularity_config_get_bool_char_impl()   Return singularity_config_get_bool(allow ipc ns, yes) = 1\n",
      "\u001b[0mDEBUG   [U=43974,P=77900]  singularity_registry_get()                Returning NULL on 'UNSHARE_IPC'\n",
      "\u001b[0mVERBOSE [U=43974,P=77900]  singularity_runtime_ns_ipc()              Not virtualizing IPC namespace on user request\n",
      "\u001b[0mDEBUG   [U=43974,P=77900]  singularity_runtime_ns()                  Calling: _singularity_runtime_ns_pid()\n",
      "\u001b[0mDEBUG   [U=43974,P=77900]  singularity_config_get_bool_char_impl()   Called singularity_config_get_bool(allow pid ns, yes)\n",
      "\u001b[0mDEBUG   [U=43974,P=77900]  singularity_config_get_value_impl()       Returning configuration value allow pid ns='yes'\n",
      "\u001b[0mDEBUG   [U=43974,P=77900]  singularity_config_get_bool_char_impl()   Return singularity_config_get_bool(allow pid ns, yes) = 1\n",
      "\u001b[0mDEBUG   [U=43974,P=77900]  singularity_registry_get()                Returning NULL on 'UNSHARE_PID'\n",
      "\u001b[0mVERBOSE [U=43974,P=77900]  singularity_runtime_ns_pid()              Not virtualizing PID namespace on user request\n",
      "\u001b[0mDEBUG   [U=43974,P=77900]  singularity_runtime_ns()                  Calling: _singularity_runtime_ns_net()\n",
      "\u001b[0mDEBUG   [U=43974,P=77900]  singularity_registry_get()                Returning NULL on 'UNSHARE_NET'\n",
      "\u001b[0mVERBOSE [U=43974,P=77900]  singularity_runtime_ns_net()              Not virtualizing network namespace on user request\n",
      "\u001b[0mDEBUG   [U=43974,P=77900]  singularity_runtime_ns()                  Calling: _singularity_runtime_ns_mnt()\n",
      "\u001b[0mDEBUG   [U=43974,P=77900]  singularity_config_get_bool_char_impl()   Called singularity_config_get_bool(mount slave, yes)\n",
      "\u001b[0mDEBUG   [U=43974,P=77900]  singularity_config_get_value_impl()       Returning configuration value mount slave='yes'\n",
      "\u001b[0mDEBUG   [U=43974,P=77900]  singularity_config_get_bool_char_impl()   Return singularity_config_get_bool(mount slave, yes) = 1\n",
      "\u001b[0mDEBUG   [U=43974,P=77900]  singularity_priv_escalate()               Temporarily escalating privileges (U=43974)\n",
      "\u001b[0mDEBUG   [U=0,P=77900]      singularity_priv_escalate()               Clearing supplementary GIDs.\n",
      "\u001b[0mDEBUG   [U=0,P=77900]      singularity_runtime_ns_mnt()              Virtualizing FS namespace\n",
      "\u001b[0mDEBUG   [U=0,P=77900]      singularity_runtime_ns_mnt()              Virtualizing mount namespace\n",
      "\u001b[0mDEBUG   [U=0,P=77900]      singularity_runtime_ns_mnt()              Making mounts slave\n",
      "\u001b[0mDEBUG   [U=0,P=77900]      singularity_priv_drop()                   Dropping privileges to UID=43974, GID=501 (3 supplementary GIDs)\n",
      "\u001b[0mDEBUG   [U=0,P=77900]      singularity_priv_drop()                   Restoring supplementary groups\n",
      "\u001b[0mDEBUG   [U=43974,P=77900]  singularity_priv_drop()                   Confirming we have correct UID/GID\n",
      "\u001b[0mDEBUG   [U=43974,P=77900]  singularity_registry_get()                Returning NULL on 'DAEMON_JOIN'\n",
      "\u001b[0mDEBUG   [U=43974,P=77900]  singularity_sessiondir()                  Setting sessiondir\n",
      "\u001b[0mVERBOSE [U=43974,P=77900]  singularity_sessiondir()                  Using session directory: /var/singularity/mnt/session\n",
      "\u001b[0mDEBUG   [U=43974,P=77900]  singularity_sessiondir()                  Checking for session directory: /var/singularity/mnt/session\n",
      "\u001b[0mDEBUG   [U=43974,P=77900]  singularity_sessiondir()                  Obtaining the default sessiondir size\n",
      "\u001b[0mDEBUG   [U=43974,P=77900]  singularity_config_get_value_impl()       Returning configuration value sessiondir max size='16'\n",
      "\u001b[0mDEBUG   [U=43974,P=77900]  singularity_sessiondir()                  Converted sessiondir size to: 16\n",
      "\u001b[0mDEBUG   [U=43974,P=77900]  singularity_sessiondir()                  Creating the sessiondir size mount option length\n",
      "\u001b[0mDEBUG   [U=43974,P=77900]  singularity_sessiondir()                  Got size length of: 9\n",
      "\u001b[0mDEBUG   [U=43974,P=77900]  singularity_sessiondir()                  Creating the sessiondir size mount option string\n",
      "\u001b[0mDEBUG   [U=43974,P=77900]  singularity_sessiondir()                  Checking to make sure the string was allocated correctly\n",
      "\u001b[0mDEBUG   [U=43974,P=77900]  singularity_priv_escalate()               Temporarily escalating privileges (U=43974)\n",
      "\u001b[0mDEBUG   [U=0,P=77900]      singularity_priv_escalate()               Clearing supplementary GIDs.\n",
      "\u001b[0mDEBUG   [U=0,P=77900]      singularity_sessiondir()                  Mounting sessiondir tmpfs: /var/singularity/mnt/session\n",
      "\u001b[0mDEBUG   [U=0,P=77900]      singularity_priv_drop()                   Dropping privileges to UID=43974, GID=501 (3 supplementary GIDs)\n",
      "\u001b[0mDEBUG   [U=0,P=77900]      singularity_priv_drop()                   Restoring supplementary groups\n",
      "\u001b[0mDEBUG   [U=43974,P=77900]  singularity_priv_drop()                   Confirming we have correct UID/GID\n",
      "\u001b[0mVERBOSE [U=43974,P=77900]  singularity_registry_set()                Adding value to registry: 'SESSIONDIR' = '/var/singularity/mnt/session'\n",
      "\u001b[0mDEBUG   [U=43974,P=77900]  singularity_registry_set()                Returning singularity_registry_set(SESSIONDIR, /var/singularity/mnt/session) = 0\n",
      "\u001b[0mDEBUG   [U=43974,P=77900]  singularity_registry_get()                Returning NULL on 'DAEMON_JOIN'\n",
      "\u001b[0mDEBUG   [U=43974,P=77900]  singularity_image_mount()                 Figuring out which mount module to use...\n",
      "\u001b[0mDEBUG   [U=43974,P=77900]  singularity_image_mount()                 Calling squashfs_mount\n",
      "\u001b[0mDEBUG   [U=43974,P=77900]  singularity_config_get_value_impl()       Returning configuration value max loop devices='256'\n",
      "\u001b[0mDEBUG   [U=43974,P=77900]  singularity_image_bind()                  Entered singularity_image_bind()\n",
      "\u001b[0mDEBUG   [U=43974,P=77900]  singularity_image_bind()                  Converting max_loop_devs_string to int: '256'\n",
      "\u001b[0mDEBUG   [U=43974,P=77900]  singularity_image_bind()                  Converted max_loop_devs_string to int: '256' -> 256\n",
      "\u001b[0mDEBUG   [U=43974,P=77900]  singularity_image_bind()                  Checking if this image has been properly opened\n",
      "\u001b[0mDEBUG   [U=43974,P=77900]  singularity_priv_escalate()               Temporarily escalating privileges (U=43974)\n",
      "\u001b[0mDEBUG   [U=0,P=77900]      singularity_priv_escalate()               Clearing supplementary GIDs.\n",
      "\u001b[0mDEBUG   [U=0,P=77900]      singularity_image_bind()                  Finding next available loop device...\n",
      "\u001b[0mDEBUG   [U=0,P=77900]      singularity_image_bind()                  Instantiating loop device: /dev/loop0\n",
      "\u001b[0mDEBUG   [U=0,P=77900]      singularity_priv_drop()                   Dropping privileges to UID=43974, GID=501 (3 supplementary GIDs)\n",
      "\u001b[0mDEBUG   [U=0,P=77900]      singularity_priv_drop()                   Restoring supplementary groups\n",
      "\u001b[0mDEBUG   [U=43974,P=77900]  singularity_priv_drop()                   Confirming we have correct UID/GID\n",
      "\u001b[0mVERBOSE [U=43974,P=77900]  singularity_image_bind()                  Found available loop device: /dev/loop0\n",
      "\u001b[0mDEBUG   [U=43974,P=77900]  singularity_image_bind()                  Setting LO_FLAGS_AUTOCLEAR\n",
      "\u001b[0mDEBUG   [U=43974,P=77900]  singularity_image_bind()                  Using image offset: 31\n",
      "\u001b[0mDEBUG   [U=43974,P=77900]  singularity_priv_escalate()               Temporarily escalating privileges (U=43974)\n",
      "\u001b[0mDEBUG   [U=0,P=77900]      singularity_priv_escalate()               Clearing supplementary GIDs.\n",
      "\u001b[0mDEBUG   [U=0,P=77900]      singularity_image_bind()                  Setting loop device flags\n",
      "\u001b[0mDEBUG   [U=0,P=77900]      singularity_priv_drop()                   Dropping privileges to UID=43974, GID=501 (3 supplementary GIDs)\n",
      "\u001b[0mDEBUG   [U=0,P=77900]      singularity_priv_drop()                   Restoring supplementary groups\n",
      "\u001b[0mDEBUG   [U=43974,P=77900]  singularity_priv_drop()                   Confirming we have correct UID/GID\n",
      "\u001b[0mVERBOSE [U=43974,P=77900]  singularity_image_bind()                  Using loop device: /dev/loop0\n",
      "\u001b[0mDEBUG   [U=43974,P=77900]  singularity_priv_escalate()               Temporarily escalating privileges (U=43974)\n",
      "\u001b[0mDEBUG   [U=0,P=77900]      singularity_priv_escalate()               Clearing supplementary GIDs.\n",
      "\u001b[0mVERBOSE [U=0,P=77900]      singularity_image_squashfs_mount()        Mounting squashfs image: /dev/loop0 -> /var/singularity/mnt/container\n",
      "\u001b[0mDEBUG   [U=0,P=77900]      singularity_priv_drop()                   Dropping privileges to UID=43974, GID=501 (3 supplementary GIDs)\n",
      "\u001b[0mDEBUG   [U=0,P=77900]      singularity_priv_drop()                   Restoring supplementary groups\n",
      "\u001b[0mDEBUG   [U=43974,P=77900]  singularity_priv_drop()                   Confirming we have correct UID/GID\n",
      "\u001b[0mDEBUG   [U=43974,P=77900]  action_ready()                            Checking if container is valid at: /var/singularity/mnt/container\n",
      "\u001b[0mDEBUG   [U=43974,P=77900]  singularity_registry_get()                Returning NULL on 'DAEMON_JOIN'\n",
      "\u001b[0mDEBUG   [U=43974,P=77900]  singularity_priv_escalate()               Temporarily escalating privileges (U=43974)\n",
      "\u001b[0mDEBUG   [U=0,P=77900]      singularity_priv_escalate()               Clearing supplementary GIDs.\n",
      "\u001b[0mDEBUG   [U=0,P=77900]      singularity_runtime_overlayfs()           Creating overlay_final directory: /var/singularity/mnt/final\n",
      "\u001b[0mDEBUG   [U=0,P=77900]      s_mkpath()                                Creating directory: /var/singularity/mnt/final\n",
      "\u001b[0mDEBUG   [U=0,P=77900]      singularity_priv_drop()                   Dropping privileges to UID=43974, GID=501 (3 supplementary GIDs)\n",
      "\u001b[0mDEBUG   [U=0,P=77900]      singularity_priv_drop()                   Restoring supplementary groups\n",
      "\u001b[0mDEBUG   [U=43974,P=77900]  singularity_priv_drop()                   Confirming we have correct UID/GID\n",
      "\u001b[0mDEBUG   [U=43974,P=77900]  singularity_runtime_overlayfs()           Checking if overlayfs should be used\n",
      "\u001b[0mDEBUG   [U=43974,P=77900]  singularity_config_get_value_impl()       Returning configuration value enable overlay='no'\n",
      "\u001b[0mDEBUG   [U=43974,P=77900]  singularity_config_get_bool_char_impl()   Called singularity_config_get_bool(enable overlay, yes)\n",
      "\u001b[0mDEBUG   [U=43974,P=77900]  singularity_config_get_value_impl()       Returning configuration value enable overlay='no'\n",
      "\u001b[0mDEBUG   [U=43974,P=77900]  singularity_config_get_bool_char_impl()   Return singularity_config_get_bool(enable overlay, yes) = 0\n",
      "\u001b[0mVERBOSE [U=43974,P=77900]  singularity_runtime_overlayfs()           Not enabling overlayFS via configuration\n",
      "\u001b[0mDEBUG   [U=43974,P=77900]  singularity_priv_escalate()               Temporarily escalating privileges (U=43974)\n",
      "\u001b[0mDEBUG   [U=0,P=77900]      singularity_priv_escalate()               Clearing supplementary GIDs.\n",
      "\u001b[0mDEBUG   [U=0,P=77900]      singularity_runtime_overlayfs()           Binding container directory to final home /var/singularity/mnt/container->/var/singularity/mnt/final\n",
      "\u001b[0mDEBUG   [U=0,P=77900]      singularity_priv_drop()                   Dropping privileges to UID=43974, GID=501 (3 supplementary GIDs)\n",
      "\u001b[0mDEBUG   [U=0,P=77900]      singularity_priv_drop()                   Restoring supplementary groups\n",
      "\u001b[0mDEBUG   [U=43974,P=77900]  singularity_priv_drop()                   Confirming we have correct UID/GID\n",
      "\u001b[0mDEBUG   [U=43974,P=77900]  singularity_registry_get()                Returning NULL on 'DAEMON_JOIN'\n",
      "\u001b[0mVERBOSE [U=43974,P=77900]  singularity_runtime_mounts()              Running all mount components\n",
      "\u001b[0mDEBUG   [U=43974,P=77900]  singularity_config_get_bool_char_impl()   Called singularity_config_get_bool(mount hostfs, no)\n",
      "\u001b[0mDEBUG   [U=43974,P=77900]  singularity_config_get_value_impl()       Returning configuration value mount hostfs='no'\n",
      "\u001b[0mDEBUG   [U=43974,P=77900]  singularity_config_get_bool_char_impl()   Return singularity_config_get_bool(mount hostfs, no) = 0\n",
      "\u001b[0mDEBUG   [U=43974,P=77900]  singularity_runtime_mount_hostfs()        Not mounting host file systems per configuration\n",
      "\u001b[0mDEBUG   [U=43974,P=77900]  singularity_registry_get()                Returning NULL on 'CONTAIN'\n",
      "\u001b[0mDEBUG   [U=43974,P=77900]  singularity_runtime_mount_binds()         Checking configuration file for 'bind path'\n",
      "\u001b[0mVERBOSE [U=43974,P=77900]  singularity_runtime_mount_binds()         Found 'bind path' = /etc/localtime, /etc/localtime\n",
      "\u001b[0mDEBUG   [U=43974,P=77900]  singularity_runtime_mount_binds()         Checking if bind point is already mounted: /etc/localtime\n",
      "\u001b[0mDEBUG   [U=43974,P=77900]  check_mounted()                           Opening /proc/mounts\n",
      "\u001b[0mDEBUG   [U=43974,P=77900]  check_mounted()                           Iterating through /proc/mounts\n",
      "\u001b[0mDEBUG   [U=43974,P=77900]  singularity_priv_escalate()               Temporarily escalating privileges (U=43974)\n",
      "\u001b[0mDEBUG   [U=0,P=77900]      singularity_priv_escalate()               Clearing supplementary GIDs.\n",
      "\u001b[0mVERBOSE [U=0,P=77900]      singularity_runtime_mount_binds()         Binding '/etc/localtime' to '/var/singularity/mnt/final//etc/localtime'\n",
      "\u001b[0mDEBUG   [U=0,P=77900]      singularity_priv_drop()                   Dropping privileges to UID=43974, GID=501 (3 supplementary GIDs)\n",
      "\u001b[0mDEBUG   [U=0,P=77900]      singularity_priv_drop()                   Restoring supplementary groups\n",
      "\u001b[0mDEBUG   [U=43974,P=77900]  singularity_priv_drop()                   Confirming we have correct UID/GID\n",
      "\u001b[0mVERBOSE [U=43974,P=77900]  singularity_runtime_mount_binds()         Found 'bind path' = /etc/hosts, /etc/hosts\n",
      "\u001b[0mDEBUG   [U=43974,P=77900]  singularity_runtime_mount_binds()         Checking if bind point is already mounted: /etc/hosts\n",
      "\u001b[0mDEBUG   [U=43974,P=77900]  check_mounted()                           Opening /proc/mounts\n",
      "\u001b[0mDEBUG   [U=43974,P=77900]  check_mounted()                           Iterating through /proc/mounts\n",
      "\u001b[0mDEBUG   [U=43974,P=77900]  singularity_priv_escalate()               Temporarily escalating privileges (U=43974)\n",
      "\u001b[0mDEBUG   [U=0,P=77900]      singularity_priv_escalate()               Clearing supplementary GIDs.\n",
      "\u001b[0mVERBOSE [U=0,P=77900]      singularity_runtime_mount_binds()         Binding '/etc/hosts' to '/var/singularity/mnt/final//etc/hosts'\n",
      "\u001b[0mDEBUG   [U=0,P=77900]      singularity_priv_drop()                   Dropping privileges to UID=43974, GID=501 (3 supplementary GIDs)\n",
      "\u001b[0mDEBUG   [U=0,P=77900]      singularity_priv_drop()                   Restoring supplementary groups\n",
      "\u001b[0mDEBUG   [U=43974,P=77900]  singularity_priv_drop()                   Confirming we have correct UID/GID\n",
      "\u001b[0mVERBOSE [U=43974,P=77900]  singularity_runtime_mount_binds()         Found 'bind path' = /global/scratch, /global/scratch\n",
      "\u001b[0mDEBUG   [U=43974,P=77900]  singularity_runtime_mount_binds()         Checking if bind point is already mounted: /global/scratch\n",
      "\u001b[0mDEBUG   [U=43974,P=77900]  check_mounted()                           Opening /proc/mounts\n",
      "\u001b[0mDEBUG   [U=43974,P=77900]  check_mounted()                           Iterating through /proc/mounts\n",
      "\u001b[0mDEBUG   [U=43974,P=77900]  singularity_registry_get()                Returning NULL on 'OVERLAYFS_ENABLED'\n",
      "\u001b[0m\u001b[33mWARNING [U=43974,P=77900]  singularity_runtime_mount_binds()         Non existent bind point (directory) in container: '/global/scratch'\n",
      "\u001b[0mVERBOSE [U=43974,P=77900]  singularity_runtime_mount_binds()         Found 'bind path' = /global/home/users, /global/home/users\n",
      "\u001b[0mDEBUG   [U=43974,P=77900]  singularity_runtime_mount_binds()         Checking if bind point is already mounted: /global/home/users\n",
      "\u001b[0mDEBUG   [U=43974,P=77900]  check_mounted()                           Opening /proc/mounts\n",
      "\u001b[0mDEBUG   [U=43974,P=77900]  check_mounted()                           Iterating through /proc/mounts\n",
      "\u001b[0mDEBUG   [U=43974,P=77900]  singularity_registry_get()                Returning NULL on 'OVERLAYFS_ENABLED'\n",
      "\u001b[0m\u001b[33mWARNING [U=43974,P=77900]  singularity_runtime_mount_binds()         Non existent bind point (directory) in container: '/global/home/users'\n",
      "\u001b[0mDEBUG   [U=43974,P=77900]  singularity_runtime_mount_kernelfs()      Checking configuration file for 'mount proc'\n",
      "\u001b[0mDEBUG   [U=43974,P=77900]  singularity_config_get_bool_char_impl()   Called singularity_config_get_bool(mount proc, yes)\n",
      "\u001b[0mDEBUG   [U=43974,P=77900]  singularity_config_get_value_impl()       Returning configuration value mount proc='yes'\n",
      "\u001b[0mDEBUG   [U=43974,P=77900]  singularity_config_get_bool_char_impl()   Return singularity_config_get_bool(mount proc, yes) = 1\n",
      "\u001b[0mDEBUG   [U=43974,P=77900]  singularity_registry_get()                Returning NULL on 'PIDNS_ENABLED'\n",
      "\u001b[0mDEBUG   [U=43974,P=77900]  singularity_priv_escalate()               Temporarily escalating privileges (U=43974)\n",
      "\u001b[0mDEBUG   [U=0,P=77900]      singularity_priv_escalate()               Clearing supplementary GIDs.\n",
      "\u001b[0mVERBOSE [U=0,P=77900]      singularity_runtime_mount_kernelfs()      Bind-mounting host /proc\n",
      "\u001b[0mDEBUG   [U=0,P=77900]      singularity_priv_drop()                   Dropping privileges to UID=43974, GID=501 (3 supplementary GIDs)\n",
      "\u001b[0mDEBUG   [U=0,P=77900]      singularity_priv_drop()                   Restoring supplementary groups\n",
      "\u001b[0mDEBUG   [U=43974,P=77900]  singularity_priv_drop()                   Confirming we have correct UID/GID\n",
      "\u001b[0mDEBUG   [U=43974,P=77900]  singularity_runtime_mount_kernelfs()      Checking configuration file for 'mount sys'\n",
      "\u001b[0mDEBUG   [U=43974,P=77900]  singularity_config_get_bool_char_impl()   Called singularity_config_get_bool(mount sys, yes)\n",
      "\u001b[0mDEBUG   [U=43974,P=77900]  singularity_config_get_value_impl()       Returning configuration value mount sys='yes'\n",
      "\u001b[0mDEBUG   [U=43974,P=77900]  singularity_config_get_bool_char_impl()   Return singularity_config_get_bool(mount sys, yes) = 1\n",
      "\u001b[0mDEBUG   [U=43974,P=77900]  singularity_priv_escalate()               Temporarily escalating privileges (U=43974)\n",
      "\u001b[0mDEBUG   [U=0,P=77900]      singularity_priv_escalate()               Clearing supplementary GIDs.\n",
      "\u001b[0mVERBOSE [U=0,P=77900]      singularity_runtime_mount_kernelfs()      Mounting /sys\n",
      "\u001b[0mDEBUG   [U=0,P=77900]      singularity_priv_drop()                   Dropping privileges to UID=43974, GID=501 (3 supplementary GIDs)\n",
      "\u001b[0mDEBUG   [U=0,P=77900]      singularity_priv_drop()                   Restoring supplementary groups\n",
      "\u001b[0mDEBUG   [U=43974,P=77900]  singularity_priv_drop()                   Confirming we have correct UID/GID\n",
      "\u001b[0mDEBUG   [U=43974,P=77900]  singularity_registry_get()                Returning NULL on 'CONTAIN'\n",
      "\u001b[0mDEBUG   [U=43974,P=77900]  singularity_config_get_value_impl()       Returning configuration value mount dev='yes'\n",
      "\u001b[0mDEBUG   [U=43974,P=77900]  singularity_runtime_mount_dev()           Checking configuration file for 'mount dev'\n",
      "\u001b[0mDEBUG   [U=43974,P=77900]  singularity_config_get_bool_char_impl()   Called singularity_config_get_bool(mount dev, yes)\n",
      "\u001b[0mDEBUG   [U=43974,P=77900]  singularity_config_get_value_impl()       Returning configuration value mount dev='yes'\n",
      "\u001b[0mDEBUG   [U=43974,P=77900]  singularity_config_get_bool_char_impl()   Return singularity_config_get_bool(mount dev, yes) = 1\n",
      "\u001b[0mDEBUG   [U=43974,P=77900]  singularity_priv_escalate()               Temporarily escalating privileges (U=43974)\n",
      "\u001b[0mDEBUG   [U=0,P=77900]      singularity_priv_escalate()               Clearing supplementary GIDs.\n",
      "\u001b[0mVERBOSE [U=0,P=77900]      singularity_runtime_mount_dev()           Bind mounting /dev\n",
      "\u001b[0mDEBUG   [U=0,P=77900]      singularity_priv_drop()                   Dropping privileges to UID=43974, GID=501 (3 supplementary GIDs)\n",
      "\u001b[0mDEBUG   [U=0,P=77900]      singularity_priv_drop()                   Restoring supplementary groups\n",
      "\u001b[0mDEBUG   [U=43974,P=77900]  singularity_priv_drop()                   Confirming we have correct UID/GID\n",
      "\u001b[0mDEBUG   [U=43974,P=77900]  singularity_registry_get()                Returning value from registry: 'SESSIONDIR' = '/var/singularity/mnt/session'\n",
      "\u001b[0mDEBUG   [U=43974,P=77900]  singularity_config_get_bool_char_impl()   Called singularity_config_get_bool(mount home, yes)\n",
      "\u001b[0mDEBUG   [U=43974,P=77900]  singularity_config_get_value_impl()       Returning configuration value mount home='no'\n",
      "\u001b[0mDEBUG   [U=43974,P=77900]  singularity_config_get_bool_char_impl()   Return singularity_config_get_bool(mount home, yes) = 0\n",
      "\u001b[0mVERBOSE [U=43974,P=77900]  singularity_runtime_mount_home()          Skipping home dir mounting (per config)\n",
      "\u001b[0mDEBUG   [U=43974,P=77900]  singularity_runtime_mount_userbinds()     Checking for environment variable 'SINGULARITY_BINDPATH'\n",
      "\u001b[0mDEBUG   [U=43974,P=77900]  singularity_registry_get()                Returning value from registry: 'BINDPATH' = ',/global/scratch/myashar/projectname/:/scratch/'\n",
      "\u001b[0mDEBUG   [U=43974,P=77900]  singularity_runtime_mount_userbinds()     Checking for 'user bind control' in config\n",
      "\u001b[0mDEBUG   [U=43974,P=77900]  singularity_config_get_bool_char_impl()   Called singularity_config_get_bool(user bind control, yes)\n",
      "\u001b[0mDEBUG   [U=43974,P=77900]  singularity_config_get_value_impl()       Returning configuration value user bind control='yes'\n",
      "\u001b[0mDEBUG   [U=43974,P=77900]  singularity_config_get_bool_char_impl()   Return singularity_config_get_bool(user bind control, yes) = 1\n",
      "\u001b[0mDEBUG   [U=43974,P=77900]  singularity_runtime_mount_userbinds()     Parsing SINGULARITY_BINDPATH for user-specified bind mounts.\n",
      "\u001b[0mDEBUG   [U=43974,P=77900]  singularity_runtime_mount_userbinds()     Found bind: /global/scratch/myashar/projectname/ -> container:/scratch/\n",
      "\u001b[0mDEBUG   [U=43974,P=77900]  singularity_runtime_mount_userbinds()     Checking if bind point is already mounted: /scratch/\n",
      "\u001b[0mDEBUG   [U=43974,P=77900]  check_mounted()                           Opening /proc/mounts\n",
      "\u001b[0mDEBUG   [U=43974,P=77900]  check_mounted()                           Removing trailing slash from string: /scratch/\n",
      "\u001b[0mDEBUG   [U=43974,P=77900]  singularity_priv_escalate()               Temporarily escalating privileges (U=43974)\n",
      "\u001b[0mDEBUG   [U=0,P=77900]      singularity_priv_escalate()               Clearing supplementary GIDs.\n",
      "\u001b[0mVERBOSE [U=0,P=77900]      singularity_runtime_mount_userbinds()     Binding '/global/scratch/myashar/projectname/' to '/var/singularity/mnt/final//scratch'\n",
      "\u001b[0mDEBUG   [U=0,P=77900]      singularity_priv_drop()                   Dropping privileges to UID=43974, GID=501 (3 supplementary GIDs)\n",
      "\u001b[0mDEBUG   [U=0,P=77900]      singularity_priv_drop()                   Restoring supplementary groups\n",
      "\u001b[0mDEBUG   [U=43974,P=77900]  singularity_priv_drop()                   Confirming we have correct UID/GID\n",
      "\u001b[0mDEBUG   [U=43974,P=77900]  singularity_runtime_mount_userbinds()     Unsetting environment variable 'SINGULARITY_BINDPATH'\n",
      "\u001b[0mDEBUG   [U=43974,P=77900]  singularity_config_get_bool_char_impl()   Called singularity_config_get_bool(mount tmp, yes)\n",
      "\u001b[0mDEBUG   [U=43974,P=77900]  singularity_config_get_value_impl()       Returning configuration value mount tmp='yes'\n",
      "\u001b[0mDEBUG   [U=43974,P=77900]  singularity_config_get_bool_char_impl()   Return singularity_config_get_bool(mount tmp, yes) = 1\n",
      "\u001b[0mDEBUG   [U=43974,P=77900]  singularity_registry_get()                Returning NULL on 'CONTAIN'\n",
      "\u001b[0mDEBUG   [U=43974,P=77900]  check_mounted()                           Opening /proc/mounts\n",
      "\u001b[0mDEBUG   [U=43974,P=77900]  check_mounted()                           Iterating through /proc/mounts\n",
      "\u001b[0mDEBUG   [U=43974,P=77900]  s_mkpath()                                Directory exists, returning '0': /tmp\n",
      "\u001b[0mDEBUG   [U=43974,P=77900]  singularity_priv_escalate()               Temporarily escalating privileges (U=43974)\n",
      "\u001b[0mDEBUG   [U=0,P=77900]      singularity_priv_escalate()               Clearing supplementary GIDs.\n",
      "\u001b[0mVERBOSE [U=0,P=77900]      singularity_runtime_mount_tmp()           Mounting directory: /tmp\n",
      "\u001b[0mDEBUG   [U=0,P=77900]      singularity_priv_drop()                   Dropping privileges to UID=43974, GID=501 (3 supplementary GIDs)\n",
      "\u001b[0mDEBUG   [U=0,P=77900]      singularity_priv_drop()                   Restoring supplementary groups\n",
      "\u001b[0mDEBUG   [U=43974,P=77900]  singularity_priv_drop()                   Confirming we have correct UID/GID\n",
      "\u001b[0mDEBUG   [U=43974,P=77900]  check_mounted()                           Opening /proc/mounts\n",
      "\u001b[0mDEBUG   [U=43974,P=77900]  check_mounted()                           Iterating through /proc/mounts\n",
      "\u001b[0mDEBUG   [U=43974,P=77900]  s_mkpath()                                Directory exists, returning '0': /var/tmp\n",
      "\u001b[0mDEBUG   [U=43974,P=77900]  singularity_priv_escalate()               Temporarily escalating privileges (U=43974)\n",
      "\u001b[0mDEBUG   [U=0,P=77900]      singularity_priv_escalate()               Clearing supplementary GIDs.\n",
      "\u001b[0mVERBOSE [U=0,P=77900]      singularity_runtime_mount_tmp()           Mounting directory: /var/tmp\n",
      "\u001b[0mDEBUG   [U=0,P=77900]      singularity_priv_drop()                   Dropping privileges to UID=43974, GID=501 (3 supplementary GIDs)\n",
      "\u001b[0mDEBUG   [U=0,P=77900]      singularity_priv_drop()                   Restoring supplementary groups\n",
      "\u001b[0mDEBUG   [U=43974,P=77900]  singularity_priv_drop()                   Confirming we have correct UID/GID\n",
      "\u001b[0mDEBUG   [U=43974,P=77900]  singularity_runtime_mount_scratch()       Getting SINGULARITY_SCRATCHDIR from environment\n",
      "\u001b[0mDEBUG   [U=43974,P=77900]  singularity_registry_get()                Returning NULL on 'SCRATCHDIR'\n",
      "\u001b[0mDEBUG   [U=43974,P=77900]  singularity_runtime_mount_scratch()       Not mounting scratch directory: Not requested\n",
      "\u001b[0mDEBUG   [U=43974,P=77900]  singularity_runtime_mount_cwd()           Checking to see if we should mount current working directory\n",
      "\u001b[0mDEBUG   [U=43974,P=77900]  singularity_runtime_mount_cwd()           Getting current working directory\n",
      "\u001b[0mDEBUG   [U=43974,P=77900]  singularity_runtime_mount_cwd()           Checking for contain option\n",
      "\u001b[0mDEBUG   [U=43974,P=77900]  singularity_registry_get()                Returning NULL on 'CONTAIN'\n",
      "\u001b[0mDEBUG   [U=43974,P=77900]  singularity_runtime_mount_cwd()           Checking if current directory already available within container: /global/scratch/myashar/projectname\n",
      "\u001b[0mVERBOSE [U=43974,P=77900]  singularity_runtime_mount_cwd()           Not mounting CWD, directory does not exist within container: /global/scratch/myashar/projectname\n",
      "\u001b[0mDEBUG   [U=43974,P=77900]  singularity_registry_get()                Returning NULL on 'DAEMON_JOIN'\n",
      "\u001b[0mVERBOSE [U=43974,P=77900]  singularity_runtime_files()               Running file components\n",
      "\u001b[0mDEBUG   [U=43974,P=77900]  singularity_registry_get()                Returning value from registry: 'SESSIONDIR' = '/var/singularity/mnt/session'\n",
      "\u001b[0mDEBUG   [U=43974,P=77900]  singularity_runtime_files_passwd()        Called singularity_file_passwd_create()\n",
      "\u001b[0mDEBUG   [U=43974,P=77900]  singularity_runtime_files_passwd()        Checking configuration option: 'config passwd'\n",
      "\u001b[0mDEBUG   [U=43974,P=77900]  singularity_config_get_bool_char_impl()   Called singularity_config_get_bool(config passwd, yes)\n",
      "\u001b[0mDEBUG   [U=43974,P=77900]  singularity_config_get_value_impl()       Returning configuration value config passwd='yes'\n",
      "\u001b[0mDEBUG   [U=43974,P=77900]  singularity_config_get_bool_char_impl()   Return singularity_config_get_bool(config passwd, yes) = 1\n",
      "\u001b[0mVERBOSE [U=43974,P=77900]  singularity_runtime_files_passwd()        Checking for template passwd file: /var/singularity/mnt/final/etc/passwd\n",
      "\u001b[0mVERBOSE [U=43974,P=77900]  singularity_runtime_files_passwd()        Creating template of /etc/passwd\n",
      "\u001b[0mDEBUG   [U=43974,P=77900]  copy_file()                               Called copy_file(/var/singularity/mnt/final/etc/passwd, /var/singularity/mnt/session/passwd)\n",
      "\u001b[0mDEBUG   [U=43974,P=77900]  copy_file()                               Opening source file: /var/singularity/mnt/final/etc/passwd\n",
      "\u001b[0mDEBUG   [U=43974,P=77900]  copy_file()                               Opening destination file: /var/singularity/mnt/session/passwd\n",
      "\u001b[0mDEBUG   [U=43974,P=77900]  copy_file()                               Calling fstat() on source file descriptor: 7\n",
      "\u001b[0mDEBUG   [U=43974,P=77900]  copy_file()                               Cloning permission string of source to dest\n",
      "\u001b[0mDEBUG   [U=43974,P=77900]  copy_file()                               Copying file data...\n",
      "\u001b[0mDEBUG   [U=43974,P=77900]  copy_file()                               Done copying data, closing file pointers\n",
      "\u001b[0mDEBUG   [U=43974,P=77900]  copy_file()                               Returning copy_file(/var/singularity/mnt/final/etc/passwd, /var/singularity/mnt/session/passwd) = 0\n",
      "\u001b[0mVERBOSE [U=43974,P=77900]  singularity_runtime_files_passwd()        Creating template passwd file and appending user data: /var/singularity/mnt/session/passwd\n",
      "\u001b[0mDEBUG   [U=43974,P=77900]  container_file_bind()                     Called file_bind(/var/singularity/mnt/session/passwd, /etc/passwd()\n",
      "\u001b[0mDEBUG   [U=43974,P=77900]  singularity_priv_escalate()               Temporarily escalating privileges (U=43974)\n",
      "\u001b[0mDEBUG   [U=0,P=77900]      singularity_priv_escalate()               Clearing supplementary GIDs.\n",
      "\u001b[0mVERBOSE [U=0,P=77900]      container_file_bind()                     Binding file '/var/singularity/mnt/session/passwd' to '/var/singularity/mnt/final/etc/passwd'\n",
      "\u001b[0mDEBUG   [U=0,P=77900]      singularity_priv_drop()                   Dropping privileges to UID=43974, GID=501 (3 supplementary GIDs)\n",
      "\u001b[0mDEBUG   [U=0,P=77900]      singularity_priv_drop()                   Restoring supplementary groups\n",
      "\u001b[0mDEBUG   [U=43974,P=77900]  singularity_priv_drop()                   Confirming we have correct UID/GID\n",
      "\u001b[0mDEBUG   [U=43974,P=77900]  envar_set()                               Setting environment variable: 'HOME' = '/global/home/users/myashar'\n",
      "\u001b[0mDEBUG   [U=43974,P=77900]  singularity_registry_get()                Returning value from registry: 'SESSIONDIR' = '/var/singularity/mnt/session'\n",
      "\u001b[0mDEBUG   [U=43974,P=77900]  singularity_runtime_files_group()         Called singularity_file_group_create()\n",
      "\u001b[0mDEBUG   [U=43974,P=77900]  singularity_runtime_files_group()         Checking configuration option: 'config group'\n",
      "\u001b[0mDEBUG   [U=43974,P=77900]  singularity_config_get_bool_char_impl()   Called singularity_config_get_bool(config group, yes)\n",
      "\u001b[0mDEBUG   [U=43974,P=77900]  singularity_config_get_value_impl()       Returning configuration value config group='yes'\n",
      "\u001b[0mDEBUG   [U=43974,P=77900]  singularity_config_get_bool_char_impl()   Return singularity_config_get_bool(config group, yes) = 1\n",
      "\u001b[0mVERBOSE [U=43974,P=77900]  singularity_runtime_files_group()         Creating template of /etc/group for containment\n",
      "\u001b[0mDEBUG   [U=43974,P=77900]  copy_file()                               Called copy_file(/var/singularity/mnt/final/etc/group, /var/singularity/mnt/session/group)\n",
      "\u001b[0mDEBUG   [U=43974,P=77900]  copy_file()                               Opening source file: /var/singularity/mnt/final/etc/group\n",
      "\u001b[0mDEBUG   [U=43974,P=77900]  copy_file()                               Opening destination file: /var/singularity/mnt/session/group\n",
      "\u001b[0mDEBUG   [U=43974,P=77900]  copy_file()                               Calling fstat() on source file descriptor: 7\n",
      "\u001b[0mDEBUG   [U=43974,P=77900]  copy_file()                               Cloning permission string of source to dest\n",
      "\u001b[0mDEBUG   [U=43974,P=77900]  copy_file()                               Copying file data...\n",
      "\u001b[0mDEBUG   [U=43974,P=77900]  copy_file()                               Done copying data, closing file pointers\n",
      "\u001b[0mDEBUG   [U=43974,P=77900]  copy_file()                               Returning copy_file(/var/singularity/mnt/final/etc/group, /var/singularity/mnt/session/group) = 0\n",
      "\u001b[0mVERBOSE [U=43974,P=77900]  singularity_runtime_files_group()         Updating group file with user info\n",
      "\u001b[0mDEBUG   [U=43974,P=77900]  singularity_runtime_files_group()         Getting supplementary group info\n",
      "\u001b[0mDEBUG   [U=43974,P=77900]  singularity_runtime_files_group()         Skipping duplicate supplementary group\n",
      "\u001b[0mVERBOSE [U=43974,P=77900]  singularity_runtime_files_group()         Found supplementary group membership in: 600\n",
      "\u001b[0mVERBOSE [U=43974,P=77900]  singularity_runtime_files_group()         Adding user's supplementary group ('savio') info to template group file\n",
      "\u001b[0mVERBOSE [U=43974,P=77900]  singularity_runtime_files_group()         Found supplementary group membership in: 10000\n",
      "\u001b[0mVERBOSE [U=43974,P=77900]  singularity_runtime_files_group()         Adding user's supplementary group ('ac_scsguest') info to template group file\n",
      "\u001b[0mDEBUG   [U=43974,P=77900]  container_file_bind()                     Called file_bind(/var/singularity/mnt/session/group, /etc/group()\n",
      "\u001b[0mDEBUG   [U=43974,P=77900]  singularity_priv_escalate()               Temporarily escalating privileges (U=43974)\n",
      "\u001b[0mDEBUG   [U=0,P=77900]      singularity_priv_escalate()               Clearing supplementary GIDs.\n",
      "\u001b[0mVERBOSE [U=0,P=77900]      container_file_bind()                     Binding file '/var/singularity/mnt/session/group' to '/var/singularity/mnt/final/etc/group'\n",
      "\u001b[0mDEBUG   [U=0,P=77900]      singularity_priv_drop()                   Dropping privileges to UID=43974, GID=501 (3 supplementary GIDs)\n",
      "\u001b[0mDEBUG   [U=0,P=77900]      singularity_priv_drop()                   Restoring supplementary groups\n",
      "\u001b[0mDEBUG   [U=43974,P=77900]  singularity_priv_drop()                   Confirming we have correct UID/GID\n",
      "\u001b[0mDEBUG   [U=43974,P=77900]  singularity_runtime_files_resolvconf()    Checking configuration option\n",
      "\u001b[0mDEBUG   [U=43974,P=77900]  singularity_config_get_bool_char_impl()   Called singularity_config_get_bool(config resolv_conf, yes)\n",
      "\u001b[0mDEBUG   [U=43974,P=77900]  singularity_config_get_value_impl()       Returning configuration value config resolv_conf='yes'\n",
      "\u001b[0mDEBUG   [U=43974,P=77900]  singularity_config_get_bool_char_impl()   Return singularity_config_get_bool(config resolv_conf, yes) = 1\n",
      "\u001b[0mDEBUG   [U=43974,P=77900]  container_file_bind()                     Called file_bind(/etc/resolv.conf, /etc/resolv.conf()\n",
      "\u001b[0mDEBUG   [U=43974,P=77900]  singularity_priv_escalate()               Temporarily escalating privileges (U=43974)\n",
      "\u001b[0mDEBUG   [U=0,P=77900]      singularity_priv_escalate()               Clearing supplementary GIDs.\n",
      "\u001b[0mVERBOSE [U=0,P=77900]      container_file_bind()                     Binding file '/etc/resolv.conf' to '/var/singularity/mnt/final/etc/resolv.conf'\n",
      "\u001b[0mDEBUG   [U=0,P=77900]      singularity_priv_drop()                   Dropping privileges to UID=43974, GID=501 (3 supplementary GIDs)\n",
      "\u001b[0mDEBUG   [U=0,P=77900]      singularity_priv_drop()                   Restoring supplementary groups\n",
      "\u001b[0mDEBUG   [U=43974,P=77900]  singularity_priv_drop()                   Confirming we have correct UID/GID\n",
      "\u001b[0mDEBUG   [U=43974,P=77900]  singularity_registry_get()                Returning value from registry: 'SESSIONDIR' = '/var/singularity/mnt/session'\n",
      "\u001b[0mDEBUG   [U=43974,P=77900]  singularity_registry_get()                Returning NULL on 'CONTAINLIBS'\n",
      "\u001b[0mVERBOSE [U=43974,P=77900]  singularity_runtime_enter()               Containing all rootfs components\n",
      "\u001b[0mDEBUG   [U=43974,P=77900]  singularity_priv_escalate()               Temporarily escalating privileges (U=43974)\n",
      "\u001b[0mDEBUG   [U=0,P=77900]      singularity_priv_escalate()               Clearing supplementary GIDs.\n",
      "\u001b[0mVERBOSE [U=0,P=77900]      singularity_runtime_enter_chroot()        Entering container file system root: /var/singularity/mnt/final\n",
      "\u001b[0mDEBUG   [U=0,P=77900]      singularity_priv_drop()                   Dropping privileges to UID=43974, GID=501 (3 supplementary GIDs)\n",
      "\u001b[0mDEBUG   [U=0,P=77900]      singularity_priv_drop()                   Restoring supplementary groups\n",
      "\u001b[0mDEBUG   [U=43974,P=77900]  singularity_priv_drop()                   Confirming we have correct UID/GID\n",
      "\u001b[0mDEBUG   [U=43974,P=77900]  singularity_runtime_enter_chroot()        Changing dir to '/' within the new root\n",
      "\u001b[0mDEBUG   [U=43974,P=77900]  singularity_runtime_environment()         Cloning environment\n",
      "\u001b[0mDEBUG   [U=43974,P=77900]  singularity_runtime_environment()         Counted 57 environment elements\n",
      "\u001b[0mDEBUG   [U=43974,P=77900]  singularity_registry_get()                Returning NULL on 'CLEANENV'\n",
      "\u001b[0mDEBUG   [U=43974,P=77900]  singularity_runtime_environment()         Cleaning environment\n",
      "\u001b[0mDEBUG   [U=43974,P=77900]  singularity_runtime_environment()         Evaluating envar to clean: SLURM_CHECKPOINT_IMAGE_DIR=/var/slurm/checkpoint\n",
      "\u001b[0mDEBUG   [U=43974,P=77900]  singularity_runtime_environment()         Evaluating envar to clean: SLURM_NODELIST=n0063.savio1\n",
      "\u001b[0mDEBUG   [U=43974,P=77900]  singularity_runtime_environment()         Evaluating envar to clean: SLURM_JOB_NAME=projectname\n",
      "\u001b[0mDEBUG   [U=43974,P=77900]  singularity_runtime_environment()         Evaluating envar to clean: SLURMD_NODENAME=n0063.savio1\n",
      "\u001b[0mDEBUG   [U=43974,P=77900]  singularity_runtime_environment()         Evaluating envar to clean: SLURM_TOPOLOGY_ADDR=ib-savio.ib-savio-02.n0063.savio1\n",
      "\u001b[0mDEBUG   [U=43974,P=77900]  singularity_runtime_environment()         Evaluating envar to clean: HOSTNAME=n0063.savio1\n",
      "\u001b[0mDEBUG   [U=43974,P=77900]  singularity_runtime_environment()         Evaluating envar to clean: SLURM_PRIO_PROCESS=0\n",
      "\u001b[0mDEBUG   [U=43974,P=77900]  singularity_runtime_environment()         Evaluating envar to clean: SLURM_NODE_ALIASES=(null)\n",
      "\u001b[0mDEBUG   [U=43974,P=77900]  singularity_runtime_environment()         Evaluating envar to clean: SHELL=/bin/bash\n",
      "\u001b[0mDEBUG   [U=43974,P=77900]  singularity_runtime_environment()         Evaluating envar to clean: TERM=xterm-color\n",
      "\u001b[0mDEBUG   [U=43974,P=77900]  singularity_runtime_environment()         Evaluating envar to clean: SLURM_JOB_QOS=savio_normal\n",
      "\u001b[0mDEBUG   [U=43974,P=77900]  singularity_runtime_environment()         Evaluating envar to clean: CLICOLOR=1\n",
      "\u001b[0mDEBUG   [U=43974,P=77900]  singularity_runtime_environment()         Evaluating envar to clean: SLURM_TOPOLOGY_ADDR_PATTERN=switch.switch.node\n",
      "\u001b[0mDEBUG   [U=43974,P=77900]  singularity_runtime_environment()         Evaluating envar to clean: SINGULARITY_libexecdir=/usr/libexec\n",
      "\u001b[0mDEBUG   [U=43974,P=77900]  singularity_runtime_environment()         Unsetting environment variable: SINGULARITY_libexecdir\n",
      "\u001b[0mDEBUG   [U=43974,P=77900]  singularity_runtime_environment()         Evaluating envar to clean: SINGULARITY_COMMAND=exec\n",
      "\u001b[0mDEBUG   [U=43974,P=77900]  singularity_runtime_environment()         Unsetting environment variable: SINGULARITY_COMMAND\n",
      "\u001b[0mDEBUG   [U=43974,P=77900]  singularity_runtime_environment()         Evaluating envar to clean: SLURM_NNODES=1\n",
      "\u001b[0mDEBUG   [U=43974,P=77900]  singularity_runtime_environment()         Evaluating envar to clean: USER=myashar\n",
      "\u001b[0mDEBUG   [U=43974,P=77900]  singularity_runtime_environment()         Evaluating envar to clean: SINGULARITY_MESSAGELEVEL=5\n",
      "\u001b[0mDEBUG   [U=43974,P=77900]  singularity_runtime_environment()         Unsetting environment variable: SINGULARITY_MESSAGELEVEL\n",
      "\u001b[0mDEBUG   [U=43974,P=77900]  singularity_runtime_environment()         Evaluating envar to clean: SLURM_JOBID=3333620\n",
      "\u001b[0mDEBUG   [U=43974,P=77900]  singularity_runtime_environment()         Evaluating envar to clean: JPY_PARENT_PID=395136\n",
      "\u001b[0mDEBUG   [U=43974,P=77900]  singularity_runtime_environment()         Evaluating envar to clean: SINGULARITY_version=2.4-dist\n",
      "\u001b[0mDEBUG   [U=43974,P=77900]  singularity_runtime_environment()         Unsetting environment variable: SINGULARITY_version\n",
      "\u001b[0mDEBUG   [U=43974,P=77900]  singularity_runtime_environment()         Evaluating envar to clean: PAGER=cat\n",
      "\u001b[0mDEBUG   [U=43974,P=77900]  singularity_runtime_environment()         Evaluating envar to clean: SLURM_TASKS_PER_NODE=20\n",
      "\u001b[0mDEBUG   [U=43974,P=77900]  singularity_runtime_environment()         Evaluating envar to clean: PATH=/bin:/usr/bin:/usr/local/bin:/sbin:/usr/sbin:/usr/local/sbin\n",
      "\u001b[0mDEBUG   [U=43974,P=77900]  singularity_runtime_environment()         Evaluating envar to clean: SINGULARITY_localstatedir=/var\n",
      "\u001b[0mDEBUG   [U=43974,P=77900]  singularity_runtime_environment()         Unsetting environment variable: SINGULARITY_localstatedir\n",
      "\u001b[0mDEBUG   [U=43974,P=77900]  singularity_runtime_environment()         Evaluating envar to clean: SLURM_WORKING_CLUSTER=brc:master:6817:8192\n",
      "\u001b[0mDEBUG   [U=43974,P=77900]  singularity_runtime_environment()         Evaluating envar to clean: SLURM_JOB_ID=3333620\n",
      "\u001b[0mDEBUG   [U=43974,P=77900]  singularity_runtime_environment()         Evaluating envar to clean: SLURM_JOB_USER=myashar\n",
      "\u001b[0mDEBUG   [U=43974,P=77900]  singularity_runtime_environment()         Evaluating envar to clean: PWD=/global/scratch/myashar/projectname\n",
      "\u001b[0mDEBUG   [U=43974,P=77900]  singularity_runtime_environment()         Evaluating envar to clean: SINGULARITYENV_HISTFILE=\n",
      "\u001b[0mDEBUG   [U=43974,P=77900]  singularity_runtime_environment()         Evaluating envar to clean: MPLBACKEND=module://ipykernel.pylab.backend_inline\n",
      "\u001b[0mDEBUG   [U=43974,P=77900]  singularity_runtime_environment()         Evaluating envar to clean: SINGULARITYENV_PATH=/bin:/sbin:/usr/bin:/usr/sbin:/usr/local/bin:/usr/local/sbin\n",
      "\u001b[0mDEBUG   [U=43974,P=77900]  singularity_runtime_environment()         Evaluating envar to clean: SLURM_JOB_UID=43974\n",
      "\u001b[0mDEBUG   [U=43974,P=77900]  singularity_runtime_environment()         Evaluating envar to clean: SLURM_NODEID=0\n",
      "\u001b[0mDEBUG   [U=43974,P=77900]  singularity_runtime_environment()         Evaluating envar to clean: SLURM_SUBMIT_DIR=/global/scratch/myashar/projectname\n",
      "\u001b[0mDEBUG   [U=43974,P=77900]  singularity_runtime_environment()         Evaluating envar to clean: QT_QPA_PLATFORM=offscreen\n",
      "\u001b[0mDEBUG   [U=43974,P=77900]  singularity_runtime_environment()         Evaluating envar to clean: SLURM_TASK_PID=77884\n",
      "\u001b[0mDEBUG   [U=43974,P=77900]  singularity_runtime_environment()         Evaluating envar to clean: SLURM_CPUS_ON_NODE=20\n",
      "\u001b[0mDEBUG   [U=43974,P=77900]  singularity_runtime_environment()         Evaluating envar to clean: SLURM_PROCID=0\n",
      "\u001b[0mDEBUG   [U=43974,P=77900]  singularity_runtime_environment()         Evaluating envar to clean: ENVIRONMENT=BATCH\n",
      "\u001b[0mDEBUG   [U=43974,P=77900]  singularity_runtime_environment()         Evaluating envar to clean: SLURM_JOB_NODELIST=n0063.savio1\n",
      "\u001b[0mDEBUG   [U=43974,P=77900]  singularity_runtime_environment()         Evaluating envar to clean: HOME=/global/home/users/myashar\n",
      "\u001b[0mDEBUG   [U=43974,P=77900]  singularity_runtime_environment()         Evaluating envar to clean: SHLVL=2\n",
      "\u001b[0mDEBUG   [U=43974,P=77900]  singularity_runtime_environment()         Evaluating envar to clean: SLURM_LOCALID=0\n",
      "\u001b[0mDEBUG   [U=43974,P=77900]  singularity_runtime_environment()         Evaluating envar to clean: SLURM_JOB_GID=501\n",
      "\u001b[0mDEBUG   [U=43974,P=77900]  singularity_runtime_environment()         Evaluating envar to clean: SLURM_JOB_CPUS_PER_NODE=20\n",
      "\u001b[0mDEBUG   [U=43974,P=77900]  singularity_runtime_environment()         Evaluating envar to clean: SLURM_CLUSTER_NAME=brc\n",
      "\u001b[0mDEBUG   [U=43974,P=77900]  singularity_runtime_environment()         Evaluating envar to clean: SLURM_GTIDS=0\n",
      "\u001b[0mDEBUG   [U=43974,P=77900]  singularity_runtime_environment()         Evaluating envar to clean: SLURM_SUBMIT_HOST=jupyter.brc\n",
      "\u001b[0mDEBUG   [U=43974,P=77900]  singularity_runtime_environment()         Evaluating envar to clean: SLURM_JOB_PARTITION=savio\n",
      "\u001b[0mDEBUG   [U=43974,P=77900]  singularity_runtime_environment()         Evaluating envar to clean: SINGULARITY_sysconfdir=/etc\n",
      "\u001b[0mDEBUG   [U=43974,P=77900]  singularity_runtime_environment()         Unsetting environment variable: SINGULARITY_sysconfdir\n",
      "\u001b[0mDEBUG   [U=43974,P=77900]  singularity_runtime_environment()         Evaluating envar to clean: SINGULARITY_bindir=/usr/bin\n",
      "\u001b[0mDEBUG   [U=43974,P=77900]  singularity_runtime_environment()         Unsetting environment variable: SINGULARITY_bindir\n",
      "\u001b[0mDEBUG   [U=43974,P=77900]  singularity_runtime_environment()         Evaluating envar to clean: SLURM_JOB_ACCOUNT=ac_scsguest\n",
      "\u001b[0mDEBUG   [U=43974,P=77900]  singularity_runtime_environment()         Evaluating envar to clean: SLURM_JOB_NUM_NODES=1\n",
      "\u001b[0mDEBUG   [U=43974,P=77900]  singularity_runtime_environment()         Evaluating envar to clean: SINGULARITY_IMAGE=/global/scratch/myashar/container/photoscan_1_4_3.simg\n",
      "\u001b[0mDEBUG   [U=43974,P=77900]  singularity_runtime_environment()         Unsetting environment variable: SINGULARITY_IMAGE\n",
      "\u001b[0mDEBUG   [U=43974,P=77900]  singularity_runtime_environment()         Evaluating envar to clean: GIT_PAGER=cat\n",
      "\u001b[0mDEBUG   [U=43974,P=77900]  singularity_runtime_environment()         Evaluating envar to clean: SLURM_MEM_PER_NODE=64000\n",
      "\u001b[0mDEBUG   [U=43974,P=77900]  singularity_runtime_environment()         Transposing environment\n",
      "\u001b[0mDEBUG   [U=43974,P=77900]  singularity_runtime_environment()         Converting envar 'SINGULARITYENV_HISTFILE' to 'HISTFILE' = '(null)'\n",
      "\u001b[0mDEBUG   [U=43974,P=77900]  envar_set()                               Unsetting environment variable: HISTFILE\n",
      "\u001b[0mDEBUG   [U=43974,P=77900]  singularity_runtime_environment()         Converting envar 'SINGULARITYENV_PATH' to 'PATH' = '/bin:/sbin:/usr/bin:/usr/sbin:/usr/local/bin:/usr/local/sbin'\n",
      "\u001b[0mDEBUG   [U=43974,P=77900]  envar_set()                               Setting environment variable: 'PATH' = '/bin:/sbin:/usr/bin:/usr/sbin:/usr/local/bin:/usr/local/sbin'\n",
      "\u001b[0mDEBUG   [U=43974,P=77900]  singularity_priv_drop_perm()              Called singularity_priv_drop_perm(void)\n",
      "\u001b[0mDEBUG   [U=43974,P=77900]  singularity_priv_drop_perm()              Escalating permissison so we can properly drop permission\n",
      "\u001b[0mDEBUG   [U=43974,P=77900]  singularity_priv_escalate()               Temporarily escalating privileges (U=43974)\n",
      "\u001b[0mDEBUG   [U=0,P=77900]      singularity_priv_escalate()               Clearing supplementary GIDs.\n",
      "\u001b[0mDEBUG   [U=0,P=77900]      singularity_priv_drop_perm()              Resetting supplementary groups\n",
      "\u001b[0mDEBUG   [U=0,P=77900]      singularity_priv_drop_perm()              Dropping to group ID '501'\n",
      "\u001b[0mDEBUG   [U=0,P=77900]      singularity_priv_drop_perm()              Dropping real and effective privileges to GID = '501'\n",
      "\u001b[0mDEBUG   [U=0,P=77900]      singularity_priv_drop_perm()              Dropping real and effective privileges to UID = '43974'\n",
      "\u001b[0mDEBUG   [U=43974,P=77900]  singularity_priv_drop_perm()              Confirming we have correct GID\n",
      "\u001b[0mDEBUG   [U=43974,P=77900]  singularity_priv_drop_perm()              Confirming we have correct UID\n",
      "\u001b[0mDEBUG   [U=43974,P=77900]  singularity_priv_drop_perm()              Setting NO_NEW_PRIVS to prevent future privilege escalations.\n",
      "\u001b[0mDEBUG   [U=43974,P=77900]  singularity_priv_drop_perm()              Finished dropping privileges\n",
      "\u001b[0mDEBUG   [U=43974,P=77900]  singularity_registry_get()                Returning NULL on 'CONTAIN'\n",
      "\u001b[0mDEBUG   [U=43974,P=77900]  singularity_registry_get()                Returning NULL on 'TARGET_PWD'\n",
      "\u001b[0mDEBUG   [U=43974,P=77900]  main()                                    Attempting to chdir to CWD: /global/scratch/myashar/projectname\n",
      "\u001b[0mVERBOSE [U=43974,P=77900]  main()                                    Could not chdir to current dir: /global/scratch/myashar/projectname\n",
      "\u001b[0m\u001b[33mWARNING [U=43974,P=77900]  main()                                    Could not chdir to home: /global/home/users/myashar\n",
      "\u001b[0mDEBUG   [U=43974,P=77900]  singularity_registry_get()                Returning value from registry: 'COMMAND' = 'exec'\n",
      "\u001b[0mDEBUG   [U=43974,P=77900]  envar_set()                               Setting environment variable: 'SINGULARITY_CONTAINER' = 'photoscan_1_4_3.simg'\n",
      "\u001b[0mDEBUG   [U=43974,P=77900]  envar_set()                               Setting environment variable: 'SINGULARITY_NAME' = 'photoscan_1_4_3.simg'\n",
      "\u001b[0mDEBUG   [U=43974,P=77900]  singularity_registry_get()                Returning NULL on 'SHELL'\n",
      "\u001b[0mDEBUG   [U=43974,P=77900]  envar_set()                               Unsetting environment variable: SINGULARITY_SHELL\n",
      "\u001b[0mDEBUG   [U=43974,P=77900]  singularity_registry_get()                Returning NULL on 'APPNAME'\n",
      "\u001b[0mDEBUG   [U=43974,P=77900]  envar_set()                               Unsetting environment variable: SINGULARITY_APPNAME\n",
      "\u001b[0mDEBUG   [U=43974,P=77900]  singularity_registry_get()                Returning value from registry: 'COMMAND' = 'exec'\n",
      "\u001b[0m\u001b[34mLOG     [U=43974,P=77900]  main()                                    USER=myashar, IMAGE='photoscan_1_4_3.simg', COMMAND='exec'\n",
      "\u001b[0mDEBUG   [U=43974,P=77900]  action_exec()                             Checking for: /.singularity.d/actions/exec\n",
      "\u001b[0mVERBOSE [U=43974,P=77900]  action_exec()                             Exec'ing /.singularity.d/actions/exec\n",
      "\u001b[0mstart time:  1536298030.5537786\n",
      "LoadProject: path = /scratch//projectname.psx\n",
      "loaded project in 0.214066 sec\n",
      "BuildModel: surface type = Arbitrary, source data = Dense cloud, face count = High, interpolation = Enabled, vertex colors = 1\n",
      "Grid size: 914 x 880 x 1102\n",
      "Tree depth: 11\n",
      "Tree set in 10.1784s (1533220 points)\n",
      "Leaves/Nodes: 10863588/12415529\n",
      "Laplacian constraints set in 2.72936s\n",
      "Depth[0/11]: 1\n",
      "\tEvaluated / Got / Solved in: 0 / 4.00543e-05 / 6.98566e-05\n",
      "Depth[1/11]: 8\n",
      "\tEvaluated / Got / Solved in: 0 / 0.000184059 / 0.00323629\n",
      "Depth[2/11]: 64\n",
      "\tEvaluated / Got / Solved in: 0 / 0.000838041 / 0.00641394\n",
      "Depth[3/11]: 512\n",
      "\tEvaluated / Got / Solved in: 0 / 0.00132275 / 0.0122633\n",
      "Depth[4/11]: 4096\n",
      "\tEvaluated / Got / Solved in: 0 / 0.00509548 / 0.0326765\n",
      "Depth[5/11]: 32768\n",
      "\tEvaluated / Got / Solved in: 0 / 0.0278575 / 0.0537629\n",
      "Depth[6/11]: 25984\n",
      "\tEvaluated / Got / Solved in: 0 / 0.0121069 / 0.0908132\n",
      "Depth[7/11]: 92688\n",
      "\tEvaluated / Got / Solved in: 0 / 0.0504599 / 0.180021\n",
      "Depth[8/11]: 336200\n",
      "\tEvaluated / Got / Solved in: 0 / 0.152106 / 0.428679\n",
      "Depth[9/11]: 1153352\n",
      "\tEvaluated / Got / Solved in: 0 / 0.426834 / 0.947375\n",
      "Depth[10/11]: 3543888\n",
      "\tEvaluated / Got / Solved in: 0 / 1.2207 / 2.12\n",
      "Depth[11/11]: 7225968\n",
      "\tEvaluated / Got / Solved in: 0 / 2.29527 / 4.04091\n",
      "Linear system solved in 12.7269s\n",
      "Got Iso-value in 0.54673s\n",
      "Iso-Value 1.00495\n",
      "4009100 faces extracted in 13.9401s\n",
      "decimating mesh (4000152 -> 306644)\n",
      "processing nodes...  done in 0.044459 sec\n",
      "calculating colors...  done in 0.926798 sec\n",
      "SaveProject: path = /scratch//projectname.psx\n",
      "saved project in 0.08118 sec\n",
      "LoadProject: path = /scratch//projectname.psx\n",
      "loaded project in 0.013891 sec\n",
      "stop time:  1536298098.8008895\n"
     ]
    }
   ],
   "source": [
    "# print the log file if necessary\n",
    "slurmlogfilename = 'slurm-' + jobId + '.out'\n",
    "with open(slurmlogfilename, 'r') as fin:\n",
    "    print(fin.read(), end=\"\")"
   ]
  },
  {
   "cell_type": "markdown",
   "metadata": {},
   "source": [
    "## Update project on Box\n",
    "The next code box will return the project file to Box so you can make additional tweaks and changes offline."
   ]
  },
  {
   "cell_type": "code",
   "execution_count": 67,
   "metadata": {
    "scrolled": false
   },
   "outputs": [
    {
     "name": "stdout",
     "output_type": "stream",
     "text": [
      "find_folder_id folder_name:  myBoxFolderName\n",
      "find_folder_id folderlist:  [<Box Folder - 53223729428 (myBoxFolderName)>, <Box Folder - 52394687398 (myBoxFolderName_Test1)>]\n",
      "Box folder id:  53223729428\n",
      "project file list:  [<Box File - 317022687393 (projectname.psx)>]\n",
      "datazip file list:  [<Box File - 317017752277 (projectname.files.zip)>]\n",
      "project file id:  317022687393\n",
      "data zip file list:  317017752277\n",
      "begin project file update.\n",
      "update psx result:  <Box File - 317022687393>    update zip result:  <Box File - 317017752277>\n"
     ]
    }
   ],
   "source": [
    "update_project_file_in_box()"
   ]
  },
  {
   "cell_type": "markdown",
   "metadata": {},
   "source": [
    "## OFFLINE: Mesh cleanup\n",
    "If you need to add marker points in the Photoscan file (.psx), download the latest project file from Box, make the changes, and upload the edited .psx file back to Box."
   ]
  },
  {
   "cell_type": "markdown",
   "metadata": {},
   "source": [
    "# Build Texture\n",
    "\n",
    "First, retrieve the project file from Box in case it has been updated."
   ]
  },
  {
   "cell_type": "code",
   "execution_count": 69,
   "metadata": {
    "scrolled": false
   },
   "outputs": [
    {
     "name": "stdout",
     "output_type": "stream",
     "text": [
      "find_folder_id folder_name:  myBoxFolderName\n",
      "find_folder_id folderlist:  [<Box Folder - 53223729428 (myBoxFolderName)>, <Box Folder - 52394687398 (myBoxFolderName_Test1)>]\n",
      "downloading:  projectname.files.zip\n",
      "data zip file download complete.\n",
      "downloading:  projectname.psx\n",
      "new file:  <_io.BufferedWriter name='/global/scratch/myashar/projectname/projectname.psx'>\n",
      "project file download complete.\n"
     ]
    }
   ],
   "source": [
    "retrieve_project_file()"
   ]
  },
  {
   "cell_type": "markdown",
   "metadata": {},
   "source": [
    "## Choose parameters\n",
    "Choose the data source, and specify a coordinate system if desired, after running the next code box."
   ]
  },
  {
   "cell_type": "code",
   "execution_count": 103,
   "metadata": {},
   "outputs": [],
   "source": [
    "gmchoice=widgets.Dropdown(description='UV Mapping Mode', value='GenericMapping', options= ['GenericMapping', 'OrthophotoMapping', 'AdaptiveOrthophotoMapping', 'SphericalMapping',\n",
    "'CameraMapping'])\n",
    "ccchoice=widgets.Dropdown(description='Color Correction', value='True', options= ['True', 'False'] )\n",
    "ds2choice=widgets.Dropdown(description='Data source', value='ModelData', options=['PointCloudData', 'DenseCloudData', 'DepthMapsData', 'ModelData', 'TiledModelData', 'ElevationData',\n",
    "'OrthomosaicData']  )"
   ]
  },
  {
   "cell_type": "code",
   "execution_count": 107,
   "metadata": {},
   "outputs": [
    {
     "data": {
      "application/vnd.jupyter.widget-view+json": {
       "model_id": "26743b804fcc4a9e97286d53a6678644",
       "version_major": 2,
       "version_minor": 0
      },
      "text/plain": [
       "interactive(children=(Dropdown(description='UV Mapping Mode', options=('GenericMapping', 'OrthophotoMapping', …"
      ]
     },
     "metadata": {},
     "output_type": "display_data"
    },
    {
     "data": {
      "application/vnd.jupyter.widget-view+json": {
       "model_id": "37a22623ea9e4321b35567cdf4c34334",
       "version_major": 2,
       "version_minor": 0
      },
      "text/plain": [
       "interactive(children=(Dropdown(description='Data source', index=3, options=('PointCloudData', 'DenseCloudData'…"
      ]
     },
     "metadata": {},
     "output_type": "display_data"
    },
    {
     "data": {
      "application/vnd.jupyter.widget-view+json": {
       "model_id": "7a1a5f7bb0d946d1837d983b2fc41600",
       "version_major": 2,
       "version_minor": 0
      },
      "text/plain": [
       "interactive(children=(Dropdown(description='Color Correction', options=('True', 'False'), value='True'), Outpu…"
      ]
     },
     "metadata": {},
     "output_type": "display_data"
    },
    {
     "data": {
      "application/vnd.jupyter.widget-view+json": {
       "model_id": "254808670748495ba5df220bd3a6403d",
       "version_major": 2,
       "version_minor": 0
      },
      "text/plain": [
       "interactive(children=(Dropdown(description='Data source', index=3, options=('PointCloudData', 'DenseCloudData'…"
      ]
     },
     "metadata": {},
     "output_type": "display_data"
    },
    {
     "data": {
      "text/plain": [
       "<function __main__.chc(txt)>"
      ]
     },
     "execution_count": 107,
     "metadata": {},
     "output_type": "execute_result"
    }
   ],
   "source": [
    "interact(chc, txt=gmchoice)\n",
    "interact(chc, txt=ds2choice)\n",
    "interact(chc, txt=ccchoice)\n",
    "interact(chc, txt=ds2choice)"
   ]
  },
  {
   "cell_type": "code",
   "execution_count": 118,
   "metadata": {
    "scrolled": false
   },
   "outputs": [
    {
     "name": "stdout",
     "output_type": "stream",
     "text": [
      "output: #!/usr/bin/env python3 \n",
      "import PhotoScan \n",
      "import time \n",
      "print( \"start time: \", time.time()) \n",
      "doc = PhotoScan.app.document \n",
      "doc.open(\"/scratch//projectname.psx\") \n",
      "chunk = doc.chunk \n",
      "chunk.buildUV(mapping=PhotoScan.GenericMapping) \n",
      "chunk.calibrateColors( source_data=PhotoScan.DataSource.ModelData, color_balance=True ) \n",
      "chunk.buildTexture() \n",
      "doc.save(\"/scratch//projectname.psx\") \n",
      "doc.open(\"/scratch//projectname.psx\") \n",
      "chunk = doc.chunk \n",
      "chunk.buildOrthomosaic( surface=PhotoScan.DataSource.ModelData ) \n",
      "doc.save(\"/scratch//projectname.psx\") \n",
      "print( \"stop time: \", time.time()) \n",
      "\n"
     ]
    }
   ],
   "source": [
    "template = '#!/usr/bin/env python3 \\n\\\n",
    "import PhotoScan \\n\\\n",
    "import time \\n\\\n",
    "print( \"start time: \", time.time()) \\n\\\n",
    "doc = PhotoScan.app.document \\n\\\n",
    "doc.open(\\\"{}\\\") \\n\\\n",
    "chunk = doc.chunk \\n\\\n",
    "chunk.buildUV(mapping=PhotoScan.{}) \\n\\\n",
    "chunk.calibrateColors( source_data=PhotoScan.DataSource.{}, color_balance={} ) \\n\\\n",
    "chunk.buildTexture() \\n\\\n",
    "doc.save(\\\"{}\\\") \\n\\\n",
    "doc.open(\\\"{}\\\") \\n\\\n",
    "chunk = doc.chunk \\n\\\n",
    "chunk.buildOrthomosaic( surface=PhotoScan.DataSource.{} ) \\n\\\n",
    "doc.save(\\\"{}\\\") \\n\\\n",
    "print( \"stop time: \", time.time()) \\n'\n",
    "\n",
    "output = template.format(singularitymountfolder + projectFile, gmchoice.value, ds2choice.value, ccchoice.value, singularitymountfolder + projectFile, singularitymountfolder + projectFile, ds2choice.value, singularitymountfolder + projectFile)\n",
    "\n",
    "print('output:', output)\n",
    "\n",
    "with open(commandScript, 'w') as f:  \n",
    "    f.write(output)\n"
   ]
  },
  {
   "cell_type": "markdown",
   "metadata": {},
   "source": [
    "## Run texture build"
   ]
  },
  {
   "cell_type": "code",
   "execution_count": 121,
   "metadata": {
    "scrolled": false
   },
   "outputs": [
    {
     "name": "stdout",
     "output_type": "stream",
     "text": [
      "  texture and orthomosaic build output:  ['Submitted batch job 3339636']\n",
      "3339636\n"
     ]
    }
   ],
   "source": [
    "os.system('export XAUTHORITY=/global/home/users/myashar/.Xauthority')\n",
    "os.system('export DISPLAY=:0')\n",
    "os.environ['QT_QPA_PLATFORM']='offscreen'\n",
    "os.system(\"module load qt\")\n",
    "os.chdir(runFolder)\n",
    "\n",
    "out = !sbatch slurmscript.sh   \n",
    "    \n",
    "print ('  texture and orthomosaic build output: ', out ) \n",
    "jobId =  out[0].split()[3]\n",
    "print (jobId)    "
   ]
  },
  {
   "cell_type": "code",
   "execution_count": 125,
   "metadata": {},
   "outputs": [
    {
     "name": "stdout",
     "output_type": "stream",
     "text": [
      "             JOBID PARTITION     NAME     USER ST       TIME  NODES NODELIST(REASON)\n",
      "--------------------------------\n",
      "JobId=3339636 JobName=projectname\n",
      "   UserId=myashar(43974) GroupId=ucb(501) MCS_label=N/A\n",
      "   Priority=441195 Nice=0 Account=ac_scsguest QOS=savio_normal\n",
      "   JobState=COMPLETED Reason=None Dependency=(null)\n",
      "   Requeue=0 Restarts=0 BatchFlag=1 Reboot=0 ExitCode=0:0\n",
      "   RunTime=00:01:55 TimeLimit=00:30:00 TimeMin=N/A\n",
      "   SubmitTime=2018-09-08T22:33:22 EligibleTime=2018-09-08T22:33:22\n",
      "   StartTime=2018-09-08T22:33:23 EndTime=2018-09-08T22:35:18 Deadline=N/A\n",
      "   PreemptTime=None SuspendTime=None SecsPreSuspend=0\n",
      "   LastSchedEval=2018-09-08T22:33:23\n",
      "   Partition=savio AllocNode:Sid=jupyter:271001\n",
      "   ReqNodeList=(null) ExcNodeList=(null)\n",
      "   NodeList=n0100.savio1\n",
      "   BatchHost=n0100.savio1\n",
      "   NumNodes=1 NumCPUs=20 NumTasks=0 CPUs/Task=1 ReqB:S:C:T=0:0:*:*\n",
      "   TRES=cpu=20,mem=62.50G,node=1,billing=20\n",
      "   Socks/Node=* NtasksPerN:B:S:C=0:0:*:* CoreSpec=*\n",
      "   MinCPUsNode=1 MinMemoryNode=62.50G MinTmpDiskNode=0\n",
      "   Features=(null) DelayBoot=00:00:00\n",
      "   Gres=(null) Reservation=(null)\n",
      "   OverSubscribe=NO Contiguous=0 Licenses=(null) Network=(null)\n",
      "   Command=/global/scratch/myashar/projectname/slurmscript.sh\n",
      "   WorkDir=/global/scratch/myashar/projectname\n",
      "   StdErr=/global/scratch/myashar/projectname/slurm-3339636.out\n",
      "   StdIn=/dev/null\n",
      "   StdOut=/global/scratch/myashar/projectname/slurm-3339636.out\n",
      "   Power=\n",
      "\n"
     ]
    }
   ],
   "source": [
    "# print the users queue and the job status by id\n",
    "!squeue -u $username\n",
    "print('--------------------------------')\n",
    "!scontrol show job $jobId"
   ]
  },
  {
   "cell_type": "markdown",
   "metadata": {},
   "source": [
    "## Update project on Box"
   ]
  },
  {
   "cell_type": "code",
   "execution_count": 127,
   "metadata": {
    "scrolled": false
   },
   "outputs": [
    {
     "name": "stdout",
     "output_type": "stream",
     "text": [
      "find_folder_id folder_name:  myBoxFolderName\n",
      "find_folder_id folderlist:  [<Box Folder - 53223729428 (myBoxFolderName)>, <Box Folder - 52394687398 (myBoxFolderName_Test1)>]\n",
      "Box folder id:  53223729428\n",
      "project file list:  [<Box File - 317022687393 (projectname.psx)>]\n",
      "datazip file list:  [<Box File - 317017752277 (projectname.files.zip)>]\n",
      "project file id:  317022687393\n",
      "data zip file list:  317017752277\n",
      "begin project file update.\n",
      "update psx result:  <Box File - 317022687393>    update zip result:  <Box File - 317017752277>\n"
     ]
    }
   ],
   "source": [
    "update_project_file_in_box()"
   ]
  },
  {
   "cell_type": "markdown",
   "metadata": {},
   "source": [
    "# Export results"
   ]
  },
  {
   "cell_type": "markdown",
   "metadata": {},
   "source": [
    "## Export the orthomosaic"
   ]
  },
  {
   "cell_type": "code",
   "execution_count": 128,
   "metadata": {},
   "outputs": [],
   "source": [
    "# QUINN guessing at some of these extensions\n",
    "ifextension = {'ImageFormatJPEG':'.jpg', 'ImageFormatTIFF':'.tiff', 'ImageFormatPNG':'.png', 'ImageFormatBMP':'.bmp', 'ImageFormatEXR':'.exr',\n",
    "'ImageFormatPNM':'.pnm', 'ImageFormatSGI':'.sgi', 'ImageFormatCR2':'.cr2', 'ImageFormatSEQ':'.seq', 'ImageFormatARA':'.ara'}\n",
    "\n",
    "ifchoice=widgets.Dropdown(description='Image Format', value='ImageFormatTIFF', options=['ImageFormatJPEG', 'ImageFormatTIFF', 'ImageFormatPNG', 'ImageFormatBMP', 'ImageFormatEXR',\n",
    "'ImageFormatPNM', 'ImageFormatSGI', 'ImageFormatCR2', 'ImageFormatSEQ', 'ImageFormatARA'] )"
   ]
  },
  {
   "cell_type": "code",
   "execution_count": 129,
   "metadata": {},
   "outputs": [
    {
     "data": {
      "application/vnd.jupyter.widget-view+json": {
       "model_id": "ecb3e7df9db44ebd9c2c9f5f2f034ffc",
       "version_major": 2,
       "version_minor": 0
      },
      "text/plain": [
       "interactive(children=(Dropdown(description='Image Format', index=1, options=('ImageFormatJPEG', 'ImageFormatTI…"
      ]
     },
     "metadata": {},
     "output_type": "display_data"
    },
    {
     "data": {
      "text/plain": [
       "<function __main__.chc(txt)>"
      ]
     },
     "execution_count": 129,
     "metadata": {},
     "output_type": "execute_result"
    }
   ],
   "source": [
    "interact(chc, txt=ifchoice)"
   ]
  },
  {
   "cell_type": "code",
   "execution_count": 130,
   "metadata": {
    "scrolled": false
   },
   "outputs": [
    {
     "name": "stdout",
     "output_type": "stream",
     "text": [
      "output: #!/usr/bin/env python3 \n",
      "import PhotoScan \n",
      "doc = PhotoScan.app.document \n",
      "doc.open(\"/scratch//projectname.psx\") \n",
      "chunk = doc.chunk \n",
      "chunk.exportOrthomosaic(path=\"/scratch/projectname.tiff\", image_format=PhotoScan.ImageFormat.ImageFormatTIFF,)  \n",
      "\n"
     ]
    }
   ],
   "source": [
    "template = '#!/usr/bin/env python3 \\n\\\n",
    "import PhotoScan \\n\\\n",
    "doc = PhotoScan.app.document \\n\\\n",
    "doc.open(\\\"{}\\\") \\n\\\n",
    "chunk = doc.chunk \\n\\\n",
    "chunk.exportOrthomosaic(path=\\\"{}\\\", image_format=PhotoScan.ImageFormat.{},)  \\n' \n",
    "\n",
    "orthoFile = projectname + ifextension[ifchoice.value]\n",
    "output = template.format(singularitymountfolder + projectFile,  singularitymountfolder + orthoFile, ifchoice.value)\n",
    "\n",
    "print('output:', output)\n",
    "\n",
    "with open(commandScript, 'w') as f:\n",
    "    f.write(output)\n"
   ]
  },
  {
   "cell_type": "code",
   "execution_count": 131,
   "metadata": {
    "scrolled": false
   },
   "outputs": [
    {
     "name": "stdout",
     "output_type": "stream",
     "text": [
      " Export the orthomosaic format output:  ['Submitted batch job 3344917']\n",
      "3344917\n"
     ]
    }
   ],
   "source": [
    "out = !sbatch slurmscript.sh   \n",
    "        \n",
    "print (' Export the orthomosaic format output: ', out ) \n",
    "jobId =  out[0].split()[3]\n",
    "print (jobId)  "
   ]
  },
  {
   "cell_type": "code",
   "execution_count": 132,
   "metadata": {},
   "outputs": [
    {
     "name": "stdout",
     "output_type": "stream",
     "text": [
      "             JOBID PARTITION     NAME     USER ST       TIME  NODES NODELIST(REASON)\n",
      "--------------------------------\n",
      "JobId=3344917 JobName=projectname\n",
      "   UserId=myashar(43974) GroupId=ucb(501) MCS_label=N/A\n",
      "   Priority=1001000 Nice=0 Account=ac_scsguest QOS=savio_normal\n",
      "   JobState=COMPLETED Reason=None Dependency=(null)\n",
      "   Requeue=0 Restarts=0 BatchFlag=1 Reboot=0 ExitCode=0:0\n",
      "   RunTime=00:00:08 TimeLimit=00:30:00 TimeMin=N/A\n",
      "   SubmitTime=2018-09-09T22:06:53 EligibleTime=2018-09-09T22:06:53\n",
      "   StartTime=2018-09-09T22:06:53 EndTime=2018-09-09T22:07:01 Deadline=N/A\n",
      "   PreemptTime=None SuspendTime=None SecsPreSuspend=0\n",
      "   LastSchedEval=2018-09-09T22:06:53\n",
      "   Partition=savio AllocNode:Sid=jupyter:271001\n",
      "   ReqNodeList=(null) ExcNodeList=(null)\n",
      "   NodeList=n0108.savio1\n",
      "   BatchHost=n0108.savio1\n",
      "   NumNodes=1 NumCPUs=20 NumTasks=0 CPUs/Task=1 ReqB:S:C:T=0:0:*:*\n",
      "   TRES=cpu=20,mem=62.50G,node=1,billing=20\n",
      "   Socks/Node=* NtasksPerN:B:S:C=0:0:*:* CoreSpec=*\n",
      "   MinCPUsNode=1 MinMemoryNode=62.50G MinTmpDiskNode=0\n",
      "   Features=(null) DelayBoot=00:00:00\n",
      "   Gres=(null) Reservation=(null)\n",
      "   OverSubscribe=NO Contiguous=0 Licenses=(null) Network=(null)\n",
      "   Command=/global/scratch/myashar/projectname/slurmscript.sh\n",
      "   WorkDir=/global/scratch/myashar/projectname\n",
      "   StdErr=/global/scratch/myashar/projectname/slurm-3344917.out\n",
      "   StdIn=/dev/null\n",
      "   StdOut=/global/scratch/myashar/projectname/slurm-3344917.out\n",
      "   Power=\n",
      "\n"
     ]
    }
   ],
   "source": [
    "# print the users queue and the job status by id\n",
    "!squeue -u $username\n",
    "print('--------------------------------')\n",
    "!scontrol show job $jobId"
   ]
  },
  {
   "cell_type": "markdown",
   "metadata": {},
   "source": [
    "## Move the orthomosaic file to Box"
   ]
  },
  {
   "cell_type": "code",
   "execution_count": 134,
   "metadata": {
    "scrolled": false
   },
   "outputs": [
    {
     "name": "stdout",
     "output_type": "stream",
     "text": [
      "find_folder_id folder_name:  myBoxFolderName\n",
      "find_folder_id folderlist:  [<Box Folder - 53223729428 (myBoxFolderName)>, <Box Folder - 52394687398 (myBoxFolderName_Test1)>]\n",
      "orthomosaic file id:  317839145640\n"
     ]
    }
   ],
   "source": [
    "newFolderId = find_folder_id(boxProjectFolder)\n",
    "upload_folder = client.folder(folder_id=newFolderId).get()\n",
    "orthoUploaded = upload_folder.upload( runFolder + orthoFile)  \n",
    "print (\"orthomosaic file id: \", orthoUploaded['id'] )"
   ]
  },
  {
   "cell_type": "markdown",
   "metadata": {},
   "source": [
    "## Generate the Model export\n"
   ]
  },
  {
   "cell_type": "code",
   "execution_count": 135,
   "metadata": {},
   "outputs": [],
   "source": [
    "\n",
    "# QUINN guessing at some of these extensions\n",
    "mfextension = { 'ModelFormatOBJ':'.obj', 'ModelFormat3DS':'.3ds', 'ModelFormatVRML':'.vrml', 'ModelFormatPLY':'.ply', 'ModelFormatCOLLADA':'.col',\n",
    "'ModelFormatU3D':'.u3d', 'ModelFormatPDF':'.pdf', 'ModelFormatDXF':'.dxf', 'ModelFormatFBX':'.fbx', 'ModelFormatKMZ':'.kmz',\n",
    "'ModelFormatCTM':'.ctm', 'ModelFormatSTL':'.stl', 'ModelFormatDXF_3DF':'.3df', 'ModelFormatTLS':'.tls' }\n",
    "\n",
    "mfchoice=widgets.Dropdown(description='Model Format', value='ModelFormatOBJ', options= ['ModelFormatOBJ', 'ModelFormat3DS', 'ModelFormatVRML', 'ModelFormatPLY', 'ModelFormatCOLLADA',\n",
    "'ModelFormatU3D', 'ModelFormatPDF', 'ModelFormatDXF', 'ModelFormatFBX', 'ModelFormatKMZ',\n",
    "'ModelFormatCTM', 'ModelFormatSTL', 'ModelFormatDXF_3DF', 'ModelFormatTLS'] )"
   ]
  },
  {
   "cell_type": "code",
   "execution_count": 136,
   "metadata": {},
   "outputs": [
    {
     "data": {
      "application/vnd.jupyter.widget-view+json": {
       "model_id": "38a3a16a26304414aada650e4986acb7",
       "version_major": 2,
       "version_minor": 0
      },
      "text/plain": [
       "interactive(children=(Dropdown(description='Model Format', options=('ModelFormatOBJ', 'ModelFormat3DS', 'Model…"
      ]
     },
     "metadata": {},
     "output_type": "display_data"
    },
    {
     "data": {
      "text/plain": [
       "<function __main__.chc(txt)>"
      ]
     },
     "execution_count": 136,
     "metadata": {},
     "output_type": "execute_result"
    }
   ],
   "source": [
    "interact(chc, txt=mfchoice)"
   ]
  },
  {
   "cell_type": "code",
   "execution_count": 137,
   "metadata": {
    "scrolled": false
   },
   "outputs": [
    {
     "name": "stdout",
     "output_type": "stream",
     "text": [
      "output: #!/usr/bin/env python3 \n",
      "import PhotoScan \n",
      "doc = PhotoScan.app.document \n",
      "doc.open(\"/scratch//projectname.psx\") \n",
      "chunk = doc.chunk \n",
      "chunk.exportModel(path=\"/scratch/projectname.obj\", format=PhotoScan.ModelFormat.ModelFormatOBJ)  \n",
      "\n"
     ]
    }
   ],
   "source": [
    "template = '#!/usr/bin/env python3 \\n\\\n",
    "import PhotoScan \\n\\\n",
    "doc = PhotoScan.app.document \\n\\\n",
    "doc.open(\\\"{}\\\") \\n\\\n",
    "chunk = doc.chunk \\n\\\n",
    "chunk.exportModel(path=\\\"{}\\\", format=PhotoScan.ModelFormat.{})  \\n' \n",
    "\n",
    "modelFile = projectname + mfextension[mfchoice.value]\n",
    "output = template.format(singularitymountfolder + projectFile, singularitymountfolder + modelFile, mfchoice.value)\n",
    "print('output:', output)\n",
    "\n",
    "with open(commandScript, 'w') as f:\n",
    "    f.write(output)\n"
   ]
  },
  {
   "cell_type": "code",
   "execution_count": 138,
   "metadata": {
    "scrolled": false
   },
   "outputs": [
    {
     "name": "stdout",
     "output_type": "stream",
     "text": [
      " Generate model output:  ['Submitted batch job 3348594']\n",
      "3348594\n"
     ]
    }
   ],
   "source": [
    "out = !sbatch slurmscript.sh   \n",
    "        \n",
    "print (' Generate model output: ', out ) \n",
    "jobId =  out[0].split()[3]\n",
    "print (jobId)         \n"
   ]
  },
  {
   "cell_type": "code",
   "execution_count": 139,
   "metadata": {},
   "outputs": [
    {
     "name": "stdout",
     "output_type": "stream",
     "text": [
      "             JOBID PARTITION     NAME     USER ST       TIME  NODES NODELIST(REASON)\n",
      "--------------------------------\n",
      "slurm_load_jobs error: Invalid job id specified\n"
     ]
    }
   ],
   "source": [
    "# print the users queue and the job status by id\n",
    "!squeue -u $username\n",
    "print('--------------------------------')\n",
    "!scontrol show job $jobId"
   ]
  },
  {
   "cell_type": "markdown",
   "metadata": {},
   "source": [
    "## Move the OBJ and associated JPG to Box\n",
    "You can download the files from Box and preview using http://3dviewer.net/"
   ]
  },
  {
   "cell_type": "code",
   "execution_count": 141,
   "metadata": {
    "scrolled": false
   },
   "outputs": [
    {
     "name": "stdout",
     "output_type": "stream",
     "text": [
      "find_folder_id folder_name:  myBoxFolderName\n",
      "find_folder_id folderlist:  [<Box Folder - 53223729428 (myBoxFolderName)>, <Box Folder - 52394687398 (myBoxFolderName_Test1)>]\n",
      "obj file id:  317983307652\n",
      "jpeg file id:  317986561753\n"
     ]
    }
   ],
   "source": [
    "newFolderId = find_folder_id(boxProjectFolder)\n",
    "upload_folder = client.folder(folder_id=newFolderId).get()\n",
    "objUploaded = upload_folder.upload(runFolder + modelFile)  \n",
    "print (\"obj file id: \", objUploaded['id'] )\n",
    "jpgUploaded = upload_folder.upload(runFolder + jpgFile)  \n",
    "print (\"jpeg file id: \", jpgUploaded['id'] )"
   ]
  },
  {
   "cell_type": "markdown",
   "metadata": {},
   "source": [
    "# Software license\n",
    "This software is available under the terms of the Educational Community License, Version 2.0 (ECL 2.0). This software is Copyright 2016 The Regents of the University of California, Berkeley (\"Berkeley\").\n",
    "\n",
    "The text of the ECL license is reproduced below.\n",
    "\n",
    "Educational Community License, Version 2.0\n",
    "*************************************\n",
    "Copyright 2016 The Regents of the University of California, Berkeley (\"Berkeley\")\n",
    "\n",
    "Educational Community License, Version 2.0, April 2007\n",
    "\n",
    "The Educational Community License version 2.0 (\"ECL\") consists of the\n",
    "Apache 2.0 license, modified to change the scope of the patent grant in\n",
    "section 3 to be specific to the needs of the education communities using\n",
    "this license. The original Apache 2.0 license can be found at:[http://www.apache.org/licenses/LICENSE-2.0]"
   ]
  }
 ],
 "metadata": {
  "celltoolbar": "Edit Metadata",
  "kernelspec": {
   "display_name": "Python 3",
   "language": "python",
   "name": "python3"
  },
  "language_info": {
   "codemirror_mode": {
    "name": "ipython",
    "version": 3
   },
   "file_extension": ".py",
   "mimetype": "text/x-python",
   "name": "python",
   "nbconvert_exporter": "python",
   "pygments_lexer": "ipython3",
   "version": "3.5.5"
  },
  "toc": {
   "colors": {
    "hover_highlight": "#DAA520",
    "running_highlight": "#FF0000",
    "selected_highlight": "#FFD700"
   },
   "moveMenuLeft": true,
   "nav_menu": {
    "height": "512px",
    "width": "252px"
   },
   "navigate_menu": true,
   "number_sections": true,
   "sideBar": true,
   "threshold": "6",
   "toc_cell": false,
   "toc_section_display": "block",
   "toc_window_display": true
  }
 },
 "nbformat": 4,
 "nbformat_minor": 1
}
